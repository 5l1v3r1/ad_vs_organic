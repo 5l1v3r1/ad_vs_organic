{
 "cells": [
  {
   "cell_type": "code",
   "execution_count": 1,
   "metadata": {},
   "outputs": [],
   "source": [
    "import pandas as pd\n",
    "import math\n",
    "import csv\n",
    "import os\n",
    "import seaborn as sns\n",
    "import matplotlib.pyplot as plt\n",
    "import numpy as np"
   ]
  },
  {
   "cell_type": "code",
   "execution_count": 3,
   "metadata": {},
   "outputs": [],
   "source": [
    "dfData = pd.read_csv('/home/archit/Desktop/ad_vs_organic/final_combined_organic_duration2.csv')"
   ]
  },
  {
   "cell_type": "code",
   "execution_count": 4,
   "metadata": {},
   "outputs": [
    {
     "data": {
      "text/plain": [
       "True     118272\n",
       "False      2604\n",
       "Name: licensedContent, dtype: int64"
      ]
     },
     "execution_count": 4,
     "metadata": {},
     "output_type": "execute_result"
    }
   ],
   "source": [
    "pd.value_counts(dfData['licensedContent'])"
   ]
  },
  {
   "cell_type": "code",
   "execution_count": 5,
   "metadata": {},
   "outputs": [
    {
     "data": {
      "text/plain": [
       "str"
      ]
     },
     "execution_count": 5,
     "metadata": {},
     "output_type": "execute_result"
    }
   ],
   "source": [
    "type(dfData['definition'][0])"
   ]
  },
  {
   "cell_type": "code",
   "execution_count": 6,
   "metadata": {},
   "outputs": [
    {
     "data": {
      "text/plain": [
       "IN    60945\n",
       "EG    48994\n",
       "TH     3085\n",
       "VN     2787\n",
       "KR     1551\n",
       "IT     1207\n",
       "NL      597\n",
       "US      439\n",
       "ID      417\n",
       "CA      351\n",
       "AU      203\n",
       "GB      178\n",
       "ES       66\n",
       "MX       56\n",
       "Name: Channel country, dtype: int64"
      ]
     },
     "execution_count": 6,
     "metadata": {},
     "output_type": "execute_result"
    }
   ],
   "source": [
    "pd.value_counts(dfData['Channel country'])"
   ]
  },
  {
   "cell_type": "code",
   "execution_count": 7,
   "metadata": {},
   "outputs": [
    {
     "data": {
      "text/plain": [
       "UCIt3SC3X_6DPGsBa-9_KffA    30521\n",
       "UC3G-45OJY0VyLmlXMeFBOHw    18473\n",
       "UCintIUOJEktQBfhEI9XXpuw    13618\n",
       "UCl1uVuvB6Bam18_BBLGHPBA    11243\n",
       "UCEhnoDvuuEjZ2yi9CxALPxg     9946\n",
       "UClQoNRtJzV7AbyccCTAOUVA     6394\n",
       "UCF1JIbMUs6uqoZEY1Haw0GQ     6341\n",
       "UC7MlKIi4_Rvbhhvk5wiGysw     6236\n",
       "UC8fvuZEXDpKYkgRyR3ihLXg     2680\n",
       "UC7ZivIYRB0fMSGh-THcTYbw     1940\n",
       "UCEzc9HSNLSD4O0YYHVK8iEg     1719\n",
       "UCd4vEfDwg_kzVI-9Eq8sPHA     1551\n",
       "UC9iBBFfq7L3ipvodSLrU8gQ     1303\n",
       "UCJMnwi5o_kFjA_vPgEbQ8Sg     1031\n",
       "UC0PKLLmL8pIJLjOI1gBH_pA      943\n",
       "UC1gdQWjgZQh6J_7Q7KbzgZA      597\n",
       "UCFIDd6HoHgWHBiOEJQcOrCQ      383\n",
       "UCARulCdNvJAj9HX-gmo4Uhg      351\n",
       "UCBpeCqSaVRvIDuOHQ8LZ1Mg      344\n",
       "UCaxDxh_zlTTSVXjrl9D-fDQ      331\n",
       "UCeoczKQcmtP04T7ZFql_VQw      329\n",
       "UCn1ZWLl8wrAmAIjB-L3H_cw      319\n",
       "UC4HASgkb75MnG2kMbC-zQrQ      310\n",
       "UCfqAqFOAcVM9LC27GKZobEw      281\n",
       "UCK6W10JbStSDv03F0mynVTQ      256\n",
       "UC5_MeJPVvUbWRSgy7gj6AYQ      241\n",
       "UCHPEi7SmY-Znvfhu558igrA      210\n",
       "UC2g6hyaN0SfSxOAxDCM1Qgw      203\n",
       "UC5UvlXyHmdpWw7lvp8UJ79A      200\n",
       "UCiL0s4mqzY7dM2t0EqAlTiw      196\n",
       "UCB1ePKDGsCpuQBOh8I_BixA      189\n",
       "UCEdiV0J7IRZjz-mun8c00NQ      178\n",
       "UCgnwAFdFHcC9tTD9texKP0w      152\n",
       "UC5GmbXBufTFr7Ze5X8Gn48Q      149\n",
       "UCh1u64XjGv0wsziVsq8QVjg      143\n",
       "UCDpCa-bGxbXS6CiZ5fOJLsg      128\n",
       "UCL54b9VGj73ux8wp37XtkkA      117\n",
       "UC2u_ZcQeKjDNwSNSqhzPYPQ      116\n",
       "UC6ZwflvNCJYLyvxgnr0Ps0w      109\n",
       "UC7s9QVemmtcBxuRGHF4HHpQ      107\n",
       "UC-4k5iBbLA1Q1qELNvjagCA      103\n",
       "UCfXYgNCKXzJK-Geehkrmr5w       99\n",
       "UC7HbpHElxqr6nBUOtarJCjw       91\n",
       "UCaPq6O2sRrFhmwdUSXrH1eQ       82\n",
       "UCkgnNt7z67kTgPFucMJmqig       81\n",
       "UC5kQg-iuSY1t3jf5eiVDWUw       68\n",
       "UCjYjAgNeR-E2kNvMzB1xcFQ       66\n",
       "UCdt1QKf4ftB3AyiwtC_T8tQ       60\n",
       "UChvmp5SetCQSROOL1GWrPLg       56\n",
       "UCEc4zdbi18ZcHBo6bQwr79A       54\n",
       "UCDiBzJzNaZeUahLYeQ_Xh1Q       46\n",
       "UCdnAswLzqey__zV92alcK9Q       44\n",
       "UC5AJCb_5hI8IEAlSMqronrw       27\n",
       "UC9sqYaSRSPcj2Qb4l1uW8vA       25\n",
       "UCfcGMlIeZHqVA0txrF5wqnA       24\n",
       "UCh_r6mztACFIpVaZdJKlELw       24\n",
       "UC05HXt0G85Q2RFNWP7oArYw       22\n",
       "UChN7D_yZ97Nlrk_NmXRCMAA       11\n",
       "UC06Xy3-Hk91oA9uCYSRKYgg        9\n",
       "UCjwmT5-Te_3sveG8TVhQbuw        6\n",
       "Name: channelId, dtype: int64"
      ]
     },
     "execution_count": 7,
     "metadata": {},
     "output_type": "execute_result"
    }
   ],
   "source": [
    "pd.value_counts(dfData['channelId'])"
   ]
  },
  {
   "cell_type": "markdown",
   "metadata": {},
   "source": [
    "### Categories exploration"
   ]
  },
  {
   "cell_type": "code",
   "execution_count": 8,
   "metadata": {},
   "outputs": [
    {
     "data": {
      "text/html": [
       "<div>\n",
       "<style scoped>\n",
       "    .dataframe tbody tr th:only-of-type {\n",
       "        vertical-align: middle;\n",
       "    }\n",
       "\n",
       "    .dataframe tbody tr th {\n",
       "        vertical-align: top;\n",
       "    }\n",
       "\n",
       "    .dataframe thead th {\n",
       "        text-align: right;\n",
       "    }\n",
       "</style>\n",
       "<table border=\"1\" class=\"dataframe\">\n",
       "  <thead>\n",
       "    <tr style=\"text-align: right;\">\n",
       "      <th></th>\n",
       "      <th>vid</th>\n",
       "      <th>Mean Views</th>\n",
       "    </tr>\n",
       "    <tr>\n",
       "      <th>categoryId</th>\n",
       "      <th></th>\n",
       "      <th></th>\n",
       "    </tr>\n",
       "  </thead>\n",
       "  <tbody>\n",
       "    <tr>\n",
       "      <th>23.0</th>\n",
       "      <td>846</td>\n",
       "      <td>596243</td>\n",
       "    </tr>\n",
       "    <tr>\n",
       "      <th>1.0</th>\n",
       "      <td>3119</td>\n",
       "      <td>181611</td>\n",
       "    </tr>\n",
       "    <tr>\n",
       "      <th>24.0</th>\n",
       "      <td>73517</td>\n",
       "      <td>146219</td>\n",
       "    </tr>\n",
       "    <tr>\n",
       "      <th>22.0</th>\n",
       "      <td>1764</td>\n",
       "      <td>145961</td>\n",
       "    </tr>\n",
       "    <tr>\n",
       "      <th>44.0</th>\n",
       "      <td>19</td>\n",
       "      <td>126540</td>\n",
       "    </tr>\n",
       "    <tr>\n",
       "      <th>28.0</th>\n",
       "      <td>360</td>\n",
       "      <td>100051</td>\n",
       "    </tr>\n",
       "    <tr>\n",
       "      <th>10.0</th>\n",
       "      <td>9516</td>\n",
       "      <td>88295</td>\n",
       "    </tr>\n",
       "    <tr>\n",
       "      <th>19.0</th>\n",
       "      <td>91</td>\n",
       "      <td>88077</td>\n",
       "    </tr>\n",
       "    <tr>\n",
       "      <th>27.0</th>\n",
       "      <td>975</td>\n",
       "      <td>44838</td>\n",
       "    </tr>\n",
       "    <tr>\n",
       "      <th>20.0</th>\n",
       "      <td>2061</td>\n",
       "      <td>37350</td>\n",
       "    </tr>\n",
       "    <tr>\n",
       "      <th>2.0</th>\n",
       "      <td>204</td>\n",
       "      <td>26971</td>\n",
       "    </tr>\n",
       "    <tr>\n",
       "      <th>17.0</th>\n",
       "      <td>1560</td>\n",
       "      <td>22972</td>\n",
       "    </tr>\n",
       "    <tr>\n",
       "      <th>29.0</th>\n",
       "      <td>3</td>\n",
       "      <td>19683</td>\n",
       "    </tr>\n",
       "    <tr>\n",
       "      <th>26.0</th>\n",
       "      <td>235</td>\n",
       "      <td>18310</td>\n",
       "    </tr>\n",
       "    <tr>\n",
       "      <th>43.0</th>\n",
       "      <td>87</td>\n",
       "      <td>8739</td>\n",
       "    </tr>\n",
       "    <tr>\n",
       "      <th>25.0</th>\n",
       "      <td>26519</td>\n",
       "      <td>7833</td>\n",
       "    </tr>\n",
       "  </tbody>\n",
       "</table>\n",
       "</div>"
      ],
      "text/plain": [
       "              vid  Mean Views\n",
       "categoryId                   \n",
       "23.0          846      596243\n",
       "1.0          3119      181611\n",
       "24.0        73517      146219\n",
       "22.0         1764      145961\n",
       "44.0           19      126540\n",
       "28.0          360      100051\n",
       "10.0         9516       88295\n",
       "19.0           91       88077\n",
       "27.0          975       44838\n",
       "20.0         2061       37350\n",
       "2.0           204       26971\n",
       "17.0         1560       22972\n",
       "29.0            3       19683\n",
       "26.0          235       18310\n",
       "43.0           87        8739\n",
       "25.0        26519        7833"
      ]
     },
     "execution_count": 8,
     "metadata": {},
     "output_type": "execute_result"
    },
    {
     "data": {
      "image/png": "[encoded data removed]",
      "text/plain": [
       "<matplotlib.figure.Figure at 0x7f8fc8f1fcc0>"
      ]
     },
     "metadata": {},
     "output_type": "display_data"
    }
   ],
   "source": [
    "dfData.groupby('categoryId').viewCount.mean().plot(kind = 'bar', title = 'Avg views percategory')\n",
    "avVal = dfData.groupby('categoryId').viewCount.mean().fillna(0).astype(dtype = 'int64').sort_values(ascending = False)\n",
    "dfCat = dfData.groupby('categoryId').count()\n",
    "dfCat['Mean Views'] = avVal\n",
    "dfCat = dfCat[['vid', 'Mean Views']]\n",
    "dfCat.sort_values(by = ['Mean Views'], ascending = False)"
   ]
  },
  {
   "cell_type": "markdown",
   "metadata": {},
   "source": [
    "### Channel Ids exploration"
   ]
  },
  {
   "cell_type": "code",
   "execution_count": 9,
   "metadata": {},
   "outputs": [
    {
     "data": {
      "text/html": [
       "<div>\n",
       "<style scoped>\n",
       "    .dataframe tbody tr th:only-of-type {\n",
       "        vertical-align: middle;\n",
       "    }\n",
       "\n",
       "    .dataframe tbody tr th {\n",
       "        vertical-align: top;\n",
       "    }\n",
       "\n",
       "    .dataframe thead th {\n",
       "        text-align: right;\n",
       "    }\n",
       "</style>\n",
       "<table border=\"1\" class=\"dataframe\">\n",
       "  <thead>\n",
       "    <tr style=\"text-align: right;\">\n",
       "      <th></th>\n",
       "      <th>vid</th>\n",
       "      <th>Mean Views</th>\n",
       "    </tr>\n",
       "    <tr>\n",
       "      <th>channelId</th>\n",
       "      <th></th>\n",
       "      <th></th>\n",
       "    </tr>\n",
       "  </thead>\n",
       "  <tbody>\n",
       "    <tr>\n",
       "      <th>UCIt3SC3X_6DPGsBa-9_KffA</th>\n",
       "      <td>30521</td>\n",
       "      <td>10139</td>\n",
       "    </tr>\n",
       "    <tr>\n",
       "      <th>UC3G-45OJY0VyLmlXMeFBOHw</th>\n",
       "      <td>18473</td>\n",
       "      <td>9323</td>\n",
       "    </tr>\n",
       "    <tr>\n",
       "      <th>UCintIUOJEktQBfhEI9XXpuw</th>\n",
       "      <td>13618</td>\n",
       "      <td>174070</td>\n",
       "    </tr>\n",
       "    <tr>\n",
       "      <th>UCl1uVuvB6Bam18_BBLGHPBA</th>\n",
       "      <td>11243</td>\n",
       "      <td>15660</td>\n",
       "    </tr>\n",
       "    <tr>\n",
       "      <th>UCEhnoDvuuEjZ2yi9CxALPxg</th>\n",
       "      <td>9946</td>\n",
       "      <td>49436</td>\n",
       "    </tr>\n",
       "    <tr>\n",
       "      <th>UClQoNRtJzV7AbyccCTAOUVA</th>\n",
       "      <td>6394</td>\n",
       "      <td>15658</td>\n",
       "    </tr>\n",
       "    <tr>\n",
       "      <th>UCF1JIbMUs6uqoZEY1Haw0GQ</th>\n",
       "      <td>6341</td>\n",
       "      <td>935571</td>\n",
       "    </tr>\n",
       "    <tr>\n",
       "      <th>UC7MlKIi4_Rvbhhvk5wiGysw</th>\n",
       "      <td>6236</td>\n",
       "      <td>12838</td>\n",
       "    </tr>\n",
       "    <tr>\n",
       "      <th>UC8fvuZEXDpKYkgRyR3ihLXg</th>\n",
       "      <td>2680</td>\n",
       "      <td>34163</td>\n",
       "    </tr>\n",
       "    <tr>\n",
       "      <th>UC7ZivIYRB0fMSGh-THcTYbw</th>\n",
       "      <td>1940</td>\n",
       "      <td>322226</td>\n",
       "    </tr>\n",
       "    <tr>\n",
       "      <th>UCEzc9HSNLSD4O0YYHVK8iEg</th>\n",
       "      <td>1719</td>\n",
       "      <td>63114</td>\n",
       "    </tr>\n",
       "    <tr>\n",
       "      <th>UCd4vEfDwg_kzVI-9Eq8sPHA</th>\n",
       "      <td>1551</td>\n",
       "      <td>37065</td>\n",
       "    </tr>\n",
       "    <tr>\n",
       "      <th>UC9iBBFfq7L3ipvodSLrU8gQ</th>\n",
       "      <td>1303</td>\n",
       "      <td>732667</td>\n",
       "    </tr>\n",
       "    <tr>\n",
       "      <th>UCJMnwi5o_kFjA_vPgEbQ8Sg</th>\n",
       "      <td>1031</td>\n",
       "      <td>10383</td>\n",
       "    </tr>\n",
       "    <tr>\n",
       "      <th>UC0PKLLmL8pIJLjOI1gBH_pA</th>\n",
       "      <td>943</td>\n",
       "      <td>909268</td>\n",
       "    </tr>\n",
       "    <tr>\n",
       "      <th>UC1gdQWjgZQh6J_7Q7KbzgZA</th>\n",
       "      <td>597</td>\n",
       "      <td>20531</td>\n",
       "    </tr>\n",
       "    <tr>\n",
       "      <th>UCFIDd6HoHgWHBiOEJQcOrCQ</th>\n",
       "      <td>383</td>\n",
       "      <td>664688</td>\n",
       "    </tr>\n",
       "    <tr>\n",
       "      <th>UCARulCdNvJAj9HX-gmo4Uhg</th>\n",
       "      <td>351</td>\n",
       "      <td>10371</td>\n",
       "    </tr>\n",
       "    <tr>\n",
       "      <th>UCBpeCqSaVRvIDuOHQ8LZ1Mg</th>\n",
       "      <td>344</td>\n",
       "      <td>7159</td>\n",
       "    </tr>\n",
       "    <tr>\n",
       "      <th>UCaxDxh_zlTTSVXjrl9D-fDQ</th>\n",
       "      <td>331</td>\n",
       "      <td>32919</td>\n",
       "    </tr>\n",
       "    <tr>\n",
       "      <th>UCeoczKQcmtP04T7ZFql_VQw</th>\n",
       "      <td>329</td>\n",
       "      <td>88867</td>\n",
       "    </tr>\n",
       "    <tr>\n",
       "      <th>UCn1ZWLl8wrAmAIjB-L3H_cw</th>\n",
       "      <td>319</td>\n",
       "      <td>93228</td>\n",
       "    </tr>\n",
       "    <tr>\n",
       "      <th>UC4HASgkb75MnG2kMbC-zQrQ</th>\n",
       "      <td>310</td>\n",
       "      <td>59022</td>\n",
       "    </tr>\n",
       "    <tr>\n",
       "      <th>UCfqAqFOAcVM9LC27GKZobEw</th>\n",
       "      <td>281</td>\n",
       "      <td>26434</td>\n",
       "    </tr>\n",
       "    <tr>\n",
       "      <th>UCK6W10JbStSDv03F0mynVTQ</th>\n",
       "      <td>256</td>\n",
       "      <td>666920</td>\n",
       "    </tr>\n",
       "    <tr>\n",
       "      <th>UC5_MeJPVvUbWRSgy7gj6AYQ</th>\n",
       "      <td>241</td>\n",
       "      <td>60804</td>\n",
       "    </tr>\n",
       "    <tr>\n",
       "      <th>UCHPEi7SmY-Znvfhu558igrA</th>\n",
       "      <td>210</td>\n",
       "      <td>65277</td>\n",
       "    </tr>\n",
       "    <tr>\n",
       "      <th>UC2g6hyaN0SfSxOAxDCM1Qgw</th>\n",
       "      <td>203</td>\n",
       "      <td>169480</td>\n",
       "    </tr>\n",
       "    <tr>\n",
       "      <th>UC5UvlXyHmdpWw7lvp8UJ79A</th>\n",
       "      <td>200</td>\n",
       "      <td>4810</td>\n",
       "    </tr>\n",
       "    <tr>\n",
       "      <th>UCiL0s4mqzY7dM2t0EqAlTiw</th>\n",
       "      <td>196</td>\n",
       "      <td>52319</td>\n",
       "    </tr>\n",
       "    <tr>\n",
       "      <th>UCB1ePKDGsCpuQBOh8I_BixA</th>\n",
       "      <td>189</td>\n",
       "      <td>28988</td>\n",
       "    </tr>\n",
       "    <tr>\n",
       "      <th>UCEdiV0J7IRZjz-mun8c00NQ</th>\n",
       "      <td>178</td>\n",
       "      <td>6230</td>\n",
       "    </tr>\n",
       "    <tr>\n",
       "      <th>UCgnwAFdFHcC9tTD9texKP0w</th>\n",
       "      <td>152</td>\n",
       "      <td>44396</td>\n",
       "    </tr>\n",
       "    <tr>\n",
       "      <th>UC5GmbXBufTFr7Ze5X8Gn48Q</th>\n",
       "      <td>149</td>\n",
       "      <td>791769</td>\n",
       "    </tr>\n",
       "    <tr>\n",
       "      <th>UCh1u64XjGv0wsziVsq8QVjg</th>\n",
       "      <td>143</td>\n",
       "      <td>356629</td>\n",
       "    </tr>\n",
       "    <tr>\n",
       "      <th>UCDpCa-bGxbXS6CiZ5fOJLsg</th>\n",
       "      <td>128</td>\n",
       "      <td>296779</td>\n",
       "    </tr>\n",
       "    <tr>\n",
       "      <th>UCL54b9VGj73ux8wp37XtkkA</th>\n",
       "      <td>117</td>\n",
       "      <td>87147</td>\n",
       "    </tr>\n",
       "    <tr>\n",
       "      <th>UC2u_ZcQeKjDNwSNSqhzPYPQ</th>\n",
       "      <td>116</td>\n",
       "      <td>549738</td>\n",
       "    </tr>\n",
       "    <tr>\n",
       "      <th>UC6ZwflvNCJYLyvxgnr0Ps0w</th>\n",
       "      <td>109</td>\n",
       "      <td>56068</td>\n",
       "    </tr>\n",
       "    <tr>\n",
       "      <th>UC7s9QVemmtcBxuRGHF4HHpQ</th>\n",
       "      <td>107</td>\n",
       "      <td>105091</td>\n",
       "    </tr>\n",
       "    <tr>\n",
       "      <th>UC-4k5iBbLA1Q1qELNvjagCA</th>\n",
       "      <td>103</td>\n",
       "      <td>64654</td>\n",
       "    </tr>\n",
       "    <tr>\n",
       "      <th>UCfXYgNCKXzJK-Geehkrmr5w</th>\n",
       "      <td>99</td>\n",
       "      <td>138082</td>\n",
       "    </tr>\n",
       "    <tr>\n",
       "      <th>UC7HbpHElxqr6nBUOtarJCjw</th>\n",
       "      <td>91</td>\n",
       "      <td>9280</td>\n",
       "    </tr>\n",
       "    <tr>\n",
       "      <th>UCaPq6O2sRrFhmwdUSXrH1eQ</th>\n",
       "      <td>82</td>\n",
       "      <td>7998</td>\n",
       "    </tr>\n",
       "    <tr>\n",
       "      <th>UCkgnNt7z67kTgPFucMJmqig</th>\n",
       "      <td>81</td>\n",
       "      <td>785</td>\n",
       "    </tr>\n",
       "    <tr>\n",
       "      <th>UC5kQg-iuSY1t3jf5eiVDWUw</th>\n",
       "      <td>68</td>\n",
       "      <td>83736</td>\n",
       "    </tr>\n",
       "    <tr>\n",
       "      <th>UCjYjAgNeR-E2kNvMzB1xcFQ</th>\n",
       "      <td>66</td>\n",
       "      <td>64807</td>\n",
       "    </tr>\n",
       "    <tr>\n",
       "      <th>UCdt1QKf4ftB3AyiwtC_T8tQ</th>\n",
       "      <td>60</td>\n",
       "      <td>10486</td>\n",
       "    </tr>\n",
       "    <tr>\n",
       "      <th>UChvmp5SetCQSROOL1GWrPLg</th>\n",
       "      <td>56</td>\n",
       "      <td>111491</td>\n",
       "    </tr>\n",
       "    <tr>\n",
       "      <th>UCEc4zdbi18ZcHBo6bQwr79A</th>\n",
       "      <td>54</td>\n",
       "      <td>235962</td>\n",
       "    </tr>\n",
       "    <tr>\n",
       "      <th>UCDiBzJzNaZeUahLYeQ_Xh1Q</th>\n",
       "      <td>46</td>\n",
       "      <td>3729</td>\n",
       "    </tr>\n",
       "    <tr>\n",
       "      <th>UCdnAswLzqey__zV92alcK9Q</th>\n",
       "      <td>44</td>\n",
       "      <td>2510</td>\n",
       "    </tr>\n",
       "    <tr>\n",
       "      <th>UC5AJCb_5hI8IEAlSMqronrw</th>\n",
       "      <td>27</td>\n",
       "      <td>7762</td>\n",
       "    </tr>\n",
       "    <tr>\n",
       "      <th>UC9sqYaSRSPcj2Qb4l1uW8vA</th>\n",
       "      <td>25</td>\n",
       "      <td>35196</td>\n",
       "    </tr>\n",
       "    <tr>\n",
       "      <th>UCh_r6mztACFIpVaZdJKlELw</th>\n",
       "      <td>24</td>\n",
       "      <td>81920</td>\n",
       "    </tr>\n",
       "    <tr>\n",
       "      <th>UCfcGMlIeZHqVA0txrF5wqnA</th>\n",
       "      <td>24</td>\n",
       "      <td>871177</td>\n",
       "    </tr>\n",
       "    <tr>\n",
       "      <th>UC05HXt0G85Q2RFNWP7oArYw</th>\n",
       "      <td>22</td>\n",
       "      <td>6865</td>\n",
       "    </tr>\n",
       "    <tr>\n",
       "      <th>UChN7D_yZ97Nlrk_NmXRCMAA</th>\n",
       "      <td>11</td>\n",
       "      <td>54857</td>\n",
       "    </tr>\n",
       "    <tr>\n",
       "      <th>UC06Xy3-Hk91oA9uCYSRKYgg</th>\n",
       "      <td>9</td>\n",
       "      <td>3917</td>\n",
       "    </tr>\n",
       "    <tr>\n",
       "      <th>UCjwmT5-Te_3sveG8TVhQbuw</th>\n",
       "      <td>6</td>\n",
       "      <td>161</td>\n",
       "    </tr>\n",
       "  </tbody>\n",
       "</table>\n",
       "</div>"
      ],
      "text/plain": [
       "                            vid  Mean Views\n",
       "channelId                                  \n",
       "UCIt3SC3X_6DPGsBa-9_KffA  30521       10139\n",
       "UC3G-45OJY0VyLmlXMeFBOHw  18473        9323\n",
       "UCintIUOJEktQBfhEI9XXpuw  13618      174070\n",
       "UCl1uVuvB6Bam18_BBLGHPBA  11243       15660\n",
       "UCEhnoDvuuEjZ2yi9CxALPxg   9946       49436\n",
       "UClQoNRtJzV7AbyccCTAOUVA   6394       15658\n",
       "UCF1JIbMUs6uqoZEY1Haw0GQ   6341      935571\n",
       "UC7MlKIi4_Rvbhhvk5wiGysw   6236       12838\n",
       "UC8fvuZEXDpKYkgRyR3ihLXg   2680       34163\n",
       "UC7ZivIYRB0fMSGh-THcTYbw   1940      322226\n",
       "UCEzc9HSNLSD4O0YYHVK8iEg   1719       63114\n",
       "UCd4vEfDwg_kzVI-9Eq8sPHA   1551       37065\n",
       "UC9iBBFfq7L3ipvodSLrU8gQ   1303      732667\n",
       "UCJMnwi5o_kFjA_vPgEbQ8Sg   1031       10383\n",
       "UC0PKLLmL8pIJLjOI1gBH_pA    943      909268\n",
       "UC1gdQWjgZQh6J_7Q7KbzgZA    597       20531\n",
       "UCFIDd6HoHgWHBiOEJQcOrCQ    383      664688\n",
       "UCARulCdNvJAj9HX-gmo4Uhg    351       10371\n",
       "UCBpeCqSaVRvIDuOHQ8LZ1Mg    344        7159\n",
       "UCaxDxh_zlTTSVXjrl9D-fDQ    331       32919\n",
       "UCeoczKQcmtP04T7ZFql_VQw    329       88867\n",
       "UCn1ZWLl8wrAmAIjB-L3H_cw    319       93228\n",
       "UC4HASgkb75MnG2kMbC-zQrQ    310       59022\n",
       "UCfqAqFOAcVM9LC27GKZobEw    281       26434\n",
       "UCK6W10JbStSDv03F0mynVTQ    256      666920\n",
       "UC5_MeJPVvUbWRSgy7gj6AYQ    241       60804\n",
       "UCHPEi7SmY-Znvfhu558igrA    210       65277\n",
       "UC2g6hyaN0SfSxOAxDCM1Qgw    203      169480\n",
       "UC5UvlXyHmdpWw7lvp8UJ79A    200        4810\n",
       "UCiL0s4mqzY7dM2t0EqAlTiw    196       52319\n",
       "UCB1ePKDGsCpuQBOh8I_BixA    189       28988\n",
       "UCEdiV0J7IRZjz-mun8c00NQ    178        6230\n",
       "UCgnwAFdFHcC9tTD9texKP0w    152       44396\n",
       "UC5GmbXBufTFr7Ze5X8Gn48Q    149      791769\n",
       "UCh1u64XjGv0wsziVsq8QVjg    143      356629\n",
       "UCDpCa-bGxbXS6CiZ5fOJLsg    128      296779\n",
       "UCL54b9VGj73ux8wp37XtkkA    117       87147\n",
       "UC2u_ZcQeKjDNwSNSqhzPYPQ    116      549738\n",
       "UC6ZwflvNCJYLyvxgnr0Ps0w    109       56068\n",
       "UC7s9QVemmtcBxuRGHF4HHpQ    107      105091\n",
       "UC-4k5iBbLA1Q1qELNvjagCA    103       64654\n",
       "UCfXYgNCKXzJK-Geehkrmr5w     99      138082\n",
       "UC7HbpHElxqr6nBUOtarJCjw     91        9280\n",
       "UCaPq6O2sRrFhmwdUSXrH1eQ     82        7998\n",
       "UCkgnNt7z67kTgPFucMJmqig     81         785\n",
       "UC5kQg-iuSY1t3jf5eiVDWUw     68       83736\n",
       "UCjYjAgNeR-E2kNvMzB1xcFQ     66       64807\n",
       "UCdt1QKf4ftB3AyiwtC_T8tQ     60       10486\n",
       "UChvmp5SetCQSROOL1GWrPLg     56      111491\n",
       "UCEc4zdbi18ZcHBo6bQwr79A     54      235962\n",
       "UCDiBzJzNaZeUahLYeQ_Xh1Q     46        3729\n",
       "UCdnAswLzqey__zV92alcK9Q     44        2510\n",
       "UC5AJCb_5hI8IEAlSMqronrw     27        7762\n",
       "UC9sqYaSRSPcj2Qb4l1uW8vA     25       35196\n",
       "UCh_r6mztACFIpVaZdJKlELw     24       81920\n",
       "UCfcGMlIeZHqVA0txrF5wqnA     24      871177\n",
       "UC05HXt0G85Q2RFNWP7oArYw     22        6865\n",
       "UChN7D_yZ97Nlrk_NmXRCMAA     11       54857\n",
       "UC06Xy3-Hk91oA9uCYSRKYgg      9        3917\n",
       "UCjwmT5-Te_3sveG8TVhQbuw      6         161"
      ]
     },
     "execution_count": 9,
     "metadata": {},
     "output_type": "execute_result"
    },
    {
     "data": {
      "image/png": "[encoded data removed]",
      "text/plain": [
       "<matplotlib.figure.Figure at 0x7f8fcdba7588>"
      ]
     },
     "metadata": {},
     "output_type": "display_data"
    }
   ],
   "source": [
    "dfData.groupby('channelId').viewCount.mean().plot(kind = 'bar', title = 'Avg views percategory')\n",
    "avVal2 = dfData.groupby('channelId').viewCount.mean().fillna(0).astype(dtype = 'int64').sort_values(ascending = False)\n",
    "dfCha = dfData.groupby('channelId').count()\n",
    "dfCha['Mean Views'] = avVal2\n",
    "dfCha = dfCha[['vid', 'Mean Views']]\n",
    "dfCha.sort_values(by = ['vid'], ascending = False)"
   ]
  },
  {
   "cell_type": "code",
   "execution_count": 10,
   "metadata": {
    "scrolled": true
   },
   "outputs": [
    {
     "data": {
      "text/plain": [
       "Index(['vid', 'channelId', 'duration', 'licensedContent', 'definition',\n",
       "       'dislikeCount', 'commentCount', 'favoriteCount', 'viewCount',\n",
       "       'likeCount', 'relevantTopicIds', 'topicIds', 'topicCategories', 'title',\n",
       "       'description', 'tags', 'categoryId', 'channelTitle', 'publishedAt',\n",
       "       'Channel Title', 'Channel Description', 'Channel Publish date',\n",
       "       ' Channel hiddenSubscriberCount', 'Channel viewCount',\n",
       "       'Channel subscriberCount', 'Channel commentCount', 'Channel videoCount',\n",
       "       'Channel showRelatedChannels', 'Channel featuredChannelsUrls',\n",
       "       'Channel noOfFeaturedChannels', 'Channel country', 'Channel keywords',\n",
       "       'Channel topicIds', 'Channel topicCategories'],\n",
       "      dtype='object')"
      ]
     },
     "execution_count": 10,
     "metadata": {},
     "output_type": "execute_result"
    }
   ],
   "source": [
    "dfData = dfData.drop('Unnamed: 0', axis =1)\n",
    "dfData.columns"
   ]
  },
  {
   "cell_type": "markdown",
   "metadata": {},
   "source": [
    "### Creating final cleaned dataset"
   ]
  },
  {
   "cell_type": "code",
   "execution_count": 11,
   "metadata": {},
   "outputs": [],
   "source": [
    "dfData2 = dfData.drop(['licensedContent', 'definition', 'relevantTopicIds', 'topicIds', 'topicCategories', 'channelTitle', 'Channel Title', 'Channel Description', ' Channel hiddenSubscriberCount', 'Channel showRelatedChannels', 'Channel featuredChannelsUrls',\n",
    "       'Channel noOfFeaturedChannels', 'Channel country', 'Channel keywords',\n",
    "       'Channel topicIds', 'Channel topicCategories'], axis = 1)"
   ]
  },
  {
   "cell_type": "code",
   "execution_count": 12,
   "metadata": {},
   "outputs": [
    {
     "data": {
      "text/plain": [
       "Index(['vid', 'channelId', 'duration', 'dislikeCount', 'commentCount',\n",
       "       'favoriteCount', 'viewCount', 'likeCount', 'title', 'description',\n",
       "       'tags', 'categoryId', 'publishedAt', 'Channel Publish date',\n",
       "       'Channel viewCount', 'Channel subscriberCount', 'Channel commentCount',\n",
       "       'Channel videoCount'],\n",
       "      dtype='object')"
      ]
     },
     "execution_count": 12,
     "metadata": {},
     "output_type": "execute_result"
    }
   ],
   "source": [
    "dfData2.columns"
   ]
  },
  {
   "cell_type": "code",
   "execution_count": 13,
   "metadata": {},
   "outputs": [
    {
     "data": {
      "text/html": [
       "<div>\n",
       "<style scoped>\n",
       "    .dataframe tbody tr th:only-of-type {\n",
       "        vertical-align: middle;\n",
       "    }\n",
       "\n",
       "    .dataframe tbody tr th {\n",
       "        vertical-align: top;\n",
       "    }\n",
       "\n",
       "    .dataframe thead th {\n",
       "        text-align: right;\n",
       "    }\n",
       "</style>\n",
       "<table border=\"1\" class=\"dataframe\">\n",
       "  <thead>\n",
       "    <tr style=\"text-align: right;\">\n",
       "      <th></th>\n",
       "      <th>ad%</th>\n",
       "      <th>vid</th>\n",
       "    </tr>\n",
       "  </thead>\n",
       "  <tbody>\n",
       "    <tr>\n",
       "      <th>0</th>\n",
       "      <td>98.870521</td>\n",
       "      <td>rjxAZLcdiyQ</td>\n",
       "    </tr>\n",
       "    <tr>\n",
       "      <th>1</th>\n",
       "      <td>0.000000</td>\n",
       "      <td>ZZpyNDdBQW0</td>\n",
       "    </tr>\n",
       "    <tr>\n",
       "      <th>2</th>\n",
       "      <td>0.000000</td>\n",
       "      <td>Pi5dS1x2MjU</td>\n",
       "    </tr>\n",
       "    <tr>\n",
       "      <th>3</th>\n",
       "      <td>0.006709</td>\n",
       "      <td>YUtU2FLxsvw</td>\n",
       "    </tr>\n",
       "    <tr>\n",
       "      <th>4</th>\n",
       "      <td>0.000000</td>\n",
       "      <td>r5eixuMy-Vk</td>\n",
       "    </tr>\n",
       "  </tbody>\n",
       "</table>\n",
       "</div>"
      ],
      "text/plain": [
       "         ad%          vid\n",
       "0  98.870521  rjxAZLcdiyQ\n",
       "1   0.000000  ZZpyNDdBQW0\n",
       "2   0.000000  Pi5dS1x2MjU\n",
       "3   0.006709  YUtU2FLxsvw\n",
       "4   0.000000  r5eixuMy-Vk"
      ]
     },
     "execution_count": 13,
     "metadata": {},
     "output_type": "execute_result"
    }
   ],
   "source": [
    "# Loading ad stats dataset\n",
    "dfAdStats = pd.read_csv('/home/archit/Desktop/ad_vs_organic/resultstats.csv')\n",
    "dfAdStats2 = dfAdStats.drop(['ch_id','Unnamed: 0'], axis =1)\n",
    "dfAdStats2.rename(columns = {'video_id':'vid'}, inplace = True)\n",
    "dfAdStats2.head()"
   ]
  },
  {
   "cell_type": "code",
   "execution_count": 14,
   "metadata": {},
   "outputs": [
    {
     "data": {
      "text/html": [
       "<div>\n",
       "<style scoped>\n",
       "    .dataframe tbody tr th:only-of-type {\n",
       "        vertical-align: middle;\n",
       "    }\n",
       "\n",
       "    .dataframe tbody tr th {\n",
       "        vertical-align: top;\n",
       "    }\n",
       "\n",
       "    .dataframe thead th {\n",
       "        text-align: right;\n",
       "    }\n",
       "</style>\n",
       "<table border=\"1\" class=\"dataframe\">\n",
       "  <thead>\n",
       "    <tr style=\"text-align: right;\">\n",
       "      <th></th>\n",
       "      <th>PrevCommentCount</th>\n",
       "      <th>PrevDislikeCount</th>\n",
       "      <th>PrevLikeCount</th>\n",
       "      <th>PrevPublishedAt</th>\n",
       "      <th>PrevViewCount</th>\n",
       "      <th>PrevTitle</th>\n",
       "      <th>vid</th>\n",
       "    </tr>\n",
       "  </thead>\n",
       "  <tbody>\n",
       "    <tr>\n",
       "      <th>0</th>\n",
       "      <td>9.0</td>\n",
       "      <td>5.0</td>\n",
       "      <td>112.0</td>\n",
       "      <td>2016-08-25T03:48:52.000Z</td>\n",
       "      <td>21007.0</td>\n",
       "      <td>Nhỏ To Cùng Mẹ | Nhật Ký Bí Bầu | Tuần 13 - Hà...</td>\n",
       "      <td>NaN</td>\n",
       "    </tr>\n",
       "    <tr>\n",
       "      <th>1</th>\n",
       "      <td>7.0</td>\n",
       "      <td>6.0</td>\n",
       "      <td>77.0</td>\n",
       "      <td>2016-11-15T06:59:55.000Z</td>\n",
       "      <td>19326.0</td>\n",
       "      <td>Nhỏ To Cùng Mẹ | Nhật Ký Bí Bầu | Tuần 14 - Kh...</td>\n",
       "      <td>LPqCSwCNI5w</td>\n",
       "    </tr>\n",
       "    <tr>\n",
       "      <th>2</th>\n",
       "      <td>28.0</td>\n",
       "      <td>12.0</td>\n",
       "      <td>109.0</td>\n",
       "      <td>2016-11-15T07:01:46.000Z</td>\n",
       "      <td>33071.0</td>\n",
       "      <td>Nhỏ To Cùng Mẹ | Nhật Ký Bí Bầu | Tuần 17 - Gi...</td>\n",
       "      <td>0LGl5jbnrlU</td>\n",
       "    </tr>\n",
       "    <tr>\n",
       "      <th>3</th>\n",
       "      <td>8.0</td>\n",
       "      <td>9.0</td>\n",
       "      <td>84.0</td>\n",
       "      <td>2016-11-15T07:01:55.000Z</td>\n",
       "      <td>29516.0</td>\n",
       "      <td>Nhỏ To Cùng Mẹ | Nhật Ký Bí Bầu |  Tuần 18 - C...</td>\n",
       "      <td>jFFSYwdku9M</td>\n",
       "    </tr>\n",
       "    <tr>\n",
       "      <th>4</th>\n",
       "      <td>12.0</td>\n",
       "      <td>18.0</td>\n",
       "      <td>145.0</td>\n",
       "      <td>2016-11-15T07:02:03.000Z</td>\n",
       "      <td>49653.0</td>\n",
       "      <td>Nhỏ To Cùng Mẹ | Nhật Ký Bí Bầu | Tuần 19 - Ăn...</td>\n",
       "      <td>HvFNGb-nrRU</td>\n",
       "    </tr>\n",
       "  </tbody>\n",
       "</table>\n",
       "</div>"
      ],
      "text/plain": [
       "   PrevCommentCount  PrevDislikeCount  PrevLikeCount  \\\n",
       "0               9.0               5.0          112.0   \n",
       "1               7.0               6.0           77.0   \n",
       "2              28.0              12.0          109.0   \n",
       "3               8.0               9.0           84.0   \n",
       "4              12.0              18.0          145.0   \n",
       "\n",
       "            PrevPublishedAt  PrevViewCount  \\\n",
       "0  2016-08-25T03:48:52.000Z        21007.0   \n",
       "1  2016-11-15T06:59:55.000Z        19326.0   \n",
       "2  2016-11-15T07:01:46.000Z        33071.0   \n",
       "3  2016-11-15T07:01:55.000Z        29516.0   \n",
       "4  2016-11-15T07:02:03.000Z        49653.0   \n",
       "\n",
       "                                           PrevTitle          vid  \n",
       "0  Nhỏ To Cùng Mẹ | Nhật Ký Bí Bầu | Tuần 13 - Hà...          NaN  \n",
       "1  Nhỏ To Cùng Mẹ | Nhật Ký Bí Bầu | Tuần 14 - Kh...  LPqCSwCNI5w  \n",
       "2  Nhỏ To Cùng Mẹ | Nhật Ký Bí Bầu | Tuần 17 - Gi...  0LGl5jbnrlU  \n",
       "3  Nhỏ To Cùng Mẹ | Nhật Ký Bí Bầu |  Tuần 18 - C...  jFFSYwdku9M  \n",
       "4  Nhỏ To Cùng Mẹ | Nhật Ký Bí Bầu | Tuần 19 - Ăn...  HvFNGb-nrRU  "
      ]
     },
     "execution_count": 14,
     "metadata": {},
     "output_type": "execute_result"
    }
   ],
   "source": [
    "# Loading perv stats dataset\n",
    "dfPrevStats = pd.read_csv('/home/archit/Desktop/ad_vs_organic/previousVideoStats2.csv')\n",
    "dfPrevStats = dfPrevStats.drop(['Unnamed: 0'], axis =1)\n",
    "dfPrevStats.rename(columns = {'Id':'vid'}, inplace = True)\n",
    "\n",
    "dfPrevStats.head()"
   ]
  },
  {
   "cell_type": "markdown",
   "metadata": {},
   "source": [
    "### Merging Dataset"
   ]
  },
  {
   "cell_type": "code",
   "execution_count": 15,
   "metadata": {},
   "outputs": [],
   "source": [
    "dfMergedData = dfData2.merge(dfPrevStats, on = 'vid', how = 'left')\n",
    "dfMergedData = dfMergedData.merge(dfAdStats2, on = 'vid', how = 'left')"
   ]
  },
  {
   "cell_type": "code",
   "execution_count": 18,
   "metadata": {},
   "outputs": [
    {
     "data": {
      "text/plain": [
       "Index(['vid', 'channelId', 'duration', 'dislikeCount', 'commentCount',\n",
       "       'favoriteCount', 'viewCount', 'likeCount', 'title', 'description',\n",
       "       'tags', 'categoryId', 'publishedAt', 'Channel Publish date',\n",
       "       'Channel viewCount', 'Channel subscriberCount', 'Channel commentCount',\n",
       "       'Channel videoCount', 'PrevCommentCount', 'PrevDislikeCount',\n",
       "       'PrevLikeCount', 'PrevPublishedAt', 'PrevViewCount', 'PrevTitle',\n",
       "       'ad%'],\n",
       "      dtype='object')"
      ]
     },
     "execution_count": 18,
     "metadata": {},
     "output_type": "execute_result"
    }
   ],
   "source": [
    "dfMergedData.columns"
   ]
  },
  {
   "cell_type": "markdown",
   "metadata": {},
   "source": [
    "dfMergedData.to_csv(\"/home/archit/Desktop/ad vs organic/merged_data_ad_vs_org.csv\")"
   ]
  },
  {
   "cell_type": "code",
   "execution_count": 45,
   "metadata": {},
   "outputs": [],
   "source": [
    "dfMergedData = pd.read_csv('/home/archit/Desktop/ad vs organic/merged_data_ad_vs_org.csv')"
   ]
  },
  {
   "cell_type": "markdown",
   "metadata": {},
   "source": [
    "### Picking up traininig set and validation set"
   ]
  },
  {
   "cell_type": "code",
   "execution_count": 19,
   "metadata": {},
   "outputs": [
    {
     "data": {
      "text/plain": [
       "(112873, 25)"
      ]
     },
     "execution_count": 19,
     "metadata": {},
     "output_type": "execute_result"
    }
   ],
   "source": [
    "dfTrainingSet = dfMergedData.loc[dfMergedData['ad%'] == 0,]\n",
    "dfTrainingSet.shape"
   ]
  },
  {
   "cell_type": "code",
   "execution_count": 20,
   "metadata": {},
   "outputs": [
    {
     "data": {
      "text/plain": [
       "(8003, 25)"
      ]
     },
     "execution_count": 20,
     "metadata": {},
     "output_type": "execute_result"
    }
   ],
   "source": [
    "dfValidationSet = dfMergedData.loc[dfMergedData['ad%']>0, ]\n",
    "dfValidationSet.shape"
   ]
  },
  {
   "cell_type": "markdown",
   "metadata": {},
   "source": [
    "dfTrainingSet.to_csv(\"/home/archit/Desktop/ad vs organic/training_data_ad_vs_org3.csv\")\n"
   ]
  },
  {
   "cell_type": "code",
   "execution_count": 48,
   "metadata": {},
   "outputs": [
    {
     "name": "stderr",
     "output_type": "stream",
     "text": [
      "/home/archit/anaconda3/lib/python3.6/site-packages/ipykernel_launcher.py:1: SettingWithCopyWarning: \n",
      "A value is trying to be set on a copy of a slice from a DataFrame.\n",
      "Try using .loc[row_indexer,col_indexer] = value instead\n",
      "\n",
      "See the caveats in the documentation: http://pandas.pydata.org/pandas-docs/stable/indexing.html#indexing-view-versus-copy\n",
      "  \"\"\"Entry point for launching an IPython kernel.\n"
     ]
    }
   ],
   "source": [
    "dfValidationSet['orgViews'] = dfValidationSet['viewCount']*(100-dfValidationSet['ad%'])"
   ]
  },
  {
   "cell_type": "code",
   "execution_count": 49,
   "metadata": {},
   "outputs": [
    {
     "name": "stderr",
     "output_type": "stream",
     "text": [
      "/home/archit/anaconda3/lib/python3.6/site-packages/ipykernel_launcher.py:1: SettingWithCopyWarning: \n",
      "A value is trying to be set on a copy of a slice from a DataFrame\n",
      "\n",
      "See the caveats in the documentation: http://pandas.pydata.org/pandas-docs/stable/indexing.html#indexing-view-versus-copy\n",
      "  \"\"\"Entry point for launching an IPython kernel.\n",
      "/home/archit/anaconda3/lib/python3.6/site-packages/pandas/core/frame.py:3027: SettingWithCopyWarning: \n",
      "A value is trying to be set on a copy of a slice from a DataFrame\n",
      "\n",
      "See the caveats in the documentation: http://pandas.pydata.org/pandas-docs/stable/indexing.html#indexing-view-versus-copy\n",
      "  return super(DataFrame, self).rename(**kwargs)\n"
     ]
    }
   ],
   "source": [
    "dfValidationSet.drop('viewCount', axis=1, inplace= True)\n",
    "dfValidationSet.rename(columns = {'orgViews':'viewCount'}, inplace = True)"
   ]
  },
  {
   "cell_type": "code",
   "execution_count": 23,
   "metadata": {},
   "outputs": [],
   "source": [
    "dfTrainingSet = pd.concat([dfTrainingSet, dfValidationSet], ignore_index = True)"
   ]
  },
  {
   "cell_type": "code",
   "execution_count": 24,
   "metadata": {},
   "outputs": [
    {
     "data": {
      "text/plain": [
       "(36515, 26)"
      ]
     },
     "execution_count": 24,
     "metadata": {},
     "output_type": "execute_result"
    }
   ],
   "source": [
    "dfTrainingSet.shape"
   ]
  },
  {
   "cell_type": "code",
   "execution_count": 25,
   "metadata": {},
   "outputs": [],
   "source": [
    "dfValidationSet.to_csv('/home/archit/Desktop/ad vs organic/validation_data_ad_vs_org3.csv')"
   ]
  },
  {
   "cell_type": "markdown",
   "metadata": {},
   "source": [
    "### Feature engineering\n"
   ]
  },
  {
   "cell_type": "code",
   "execution_count": 21,
   "metadata": {},
   "outputs": [],
   "source": [
    "def feature_engineer(dfData):\n",
    "    dfData =dfData.drop(['favoriteCount', 'PrevTitle', 'PrevPublishedAt', 'Channel commentCount', 'categoryId'],axis =1)\n",
    "    \n",
    "    \n",
    "    dfData['PublishedYear'] = dfData['publishedAt'].apply(lambda x: x[:4])\n",
    "    dfData['ChannelAge'] =  dfData['Channel Publish date'].apply(lambda x: x[:4])\n",
    "    dfData['channelViewCount'] = np.log(dfData['Channel viewCount'])\n",
    "    dfData['LikeDislikeRatio'] = dfData['likeCount']/(dfData['dislikeCount'] + dfData['likeCount'])\n",
    "    dfData['PrevCommentCount'] = dfData['PrevCommentCount'].fillna(0)\n",
    "    dfData['PrevDislikeCount'] = dfData['PrevDislikeCount'].fillna(0)\n",
    "    dfData['PrevLikeCount'] = dfData['PrevLikeCount'].fillna(0)\n",
    "    dfData['PrevViewCount'] = dfData['PrevViewCount'].fillna(0)   \n",
    "    dfData['duration'] = dfData['duration'].fillna(0)\n",
    "    dfData['LikeDislikeRatio'] = dfData['LikeDislikeRatio'].replace(np.inf, np.nan)\n",
    "    dfData['LikeDislikeRatio'] = dfData['LikeDislikeRatio'].fillna(0)\n",
    "    dfData['LikeDislikeRatio'] = dfData['LikeDislikeRatio'].fillna(0)\n",
    "    dfData['Channel subscriberCount'] = dfData['Channel subscriberCount'].fillna(0)\n",
    "    dfData = dfData.drop(['title','description','publishedAt','Channel viewCount','Channel Publish date','channelId','tags', 'ad%'],axis = 1)\n",
    "    \n",
    "    return dfData\n",
    "\n",
    "def drop_obvious_features(dfData):\n",
    "    dfData = dfData.drop(['LikeCount','DislikeCount','CommentCount'],axis = 1)\n",
    "    return dfData"
   ]
  },
  {
   "cell_type": "code",
   "execution_count": 22,
   "metadata": {},
   "outputs": [],
   "source": [
    "def feature_engineer2(dfData):\n",
    "    dfData =dfData.drop(['favoriteCount', 'PrevTitle', 'PrevPublishedAt', 'Channel commentCount'],axis =1)\n",
    "    dfData['is_english'] = dfData['Lang'].apply(lambda x: 1 if x=='en' else 0)\n",
    "    dfData = dfData.drop('Lang', axis=1)\n",
    "    \n",
    "    dfData = dfData.dropna()\n",
    "    dfData['PublishedYear'] = dfData['publishedAt'].apply(lambda x: x[:4])\n",
    "    dfData['ChannelAge'] =  dfData['Channel Publish date'].apply(lambda x: x[:4])\n",
    "    dfData['channelViewCount'] = np.log(dfData['Channel viewCount'])\n",
    "    dfData['LikeDislikeRatio'] = dfData['likeCount']/(dfData['dislikeCount'] + dfData['likeCount'])\n",
    "    dfData['LikeDislikeRatio'] = dfData['LikeDislikeRatio'].replace(np.inf, np.nan)\n",
    "    dfData = dfData.drop(['title','description','publishedAt','','Channel Publish date','channelId','tags', 'ad%'],axis = 1)\n",
    "    \n",
    "    return dfData\n",
    "\n",
    "def drop_obvious_features(dfData):\n",
    "    dfData = dfData.drop(['LikeCount','DislikeCount','CommentCount'],axis = 1)\n",
    "    return dfData"
   ]
  },
  {
   "cell_type": "code",
   "execution_count": 23,
   "metadata": {},
   "outputs": [],
   "source": [
    "df = feature_engineer(dfTrainingSet)\n",
    "#df.to_csv('/home/archit/Desktop/ad vs organic/trainSet2.csv')"
   ]
  },
  {
   "cell_type": "code",
   "execution_count": 25,
   "metadata": {},
   "outputs": [
    {
     "data": {
      "text/plain": [
       "(112873,)"
      ]
     },
     "execution_count": 25,
     "metadata": {},
     "output_type": "execute_result"
    }
   ],
   "source": [
    "X, y = df.drop('viewCount',axis = 1) , np.log(df['viewCount'])\n",
    "y.shape"
   ]
  },
  {
   "cell_type": "code",
   "execution_count": 26,
   "metadata": {},
   "outputs": [
    {
     "data": {
      "text/plain": [
       "Index(['vid', 'duration', 'dislikeCount', 'commentCount', 'likeCount',\n",
       "       'Channel subscriberCount', 'Channel videoCount', 'PrevCommentCount',\n",
       "       'PrevDislikeCount', 'PrevLikeCount', 'PrevViewCount', 'PublishedYear',\n",
       "       'ChannelAge', 'channelViewCount', 'LikeDislikeRatio'],\n",
       "      dtype='object')"
      ]
     },
     "execution_count": 26,
     "metadata": {},
     "output_type": "execute_result"
    }
   ],
   "source": [
    "X.columns"
   ]
  },
  {
   "cell_type": "code",
   "execution_count": 55,
   "metadata": {},
   "outputs": [],
   "source": [
    "#X.to_csv('/home/archit/Desktop/ad vs organic/trainSET.csv')"
   ]
  },
  {
   "cell_type": "markdown",
   "metadata": {},
   "source": [
    "### Modeling"
   ]
  },
  {
   "cell_type": "code",
   "execution_count": 27,
   "metadata": {},
   "outputs": [
    {
     "name": "stderr",
     "output_type": "stream",
     "text": [
      "/home/archit/anaconda3/lib/python3.6/site-packages/sklearn/ensemble/weight_boosting.py:29: DeprecationWarning: numpy.core.umath_tests is an internal NumPy module and should not be imported. It will be removed in a future NumPy release.\n",
      "  from numpy.core.umath_tests import inner1d\n"
     ]
    }
   ],
   "source": [
    "from sklearn.ensemble import GradientBoostingClassifier, GradientBoostingRegressor\n",
    "from sklearn.model_selection import train_test_split\n",
    "#from xgboost import XGBClassifier, XGBRegressor"
   ]
  },
  {
   "cell_type": "code",
   "execution_count": 35,
   "metadata": {},
   "outputs": [],
   "source": [
    "train_X, test_X, train_y, test_y = train_test_split(X, y, train_size = 0.75, test_size = 0.25)\n",
    "\n",
    "#train_X_id, train_X = train_X.vid, train_X.drop('vid', axis = 1)\n",
    "#test_X_id, test_X = test_X.vid, test_X.drop('vid', axis = 1)\n",
    "\n",
    "reg = GradientBoostingRegressor()\n",
    "reg.fit(train_X, train_y)\n",
    "reg.score(test_X, test_y)\n",
    "\n",
    "import pickle\n",
    "pickle.dump(reg, open(\"/home/archit/Desktop/ad_vs_organic/Gbr005.pickle.dat\", \"wb\"))"
   ]
  },
  {
   "cell_type": "code",
   "execution_count": 29,
   "metadata": {},
   "outputs": [],
   "source": [
    "pred = reg.predict(test_X)"
   ]
  },
  {
   "cell_type": "code",
   "execution_count": 30,
   "metadata": {},
   "outputs": [
    {
     "data": {
      "text/html": [
       "<div>\n",
       "<style scoped>\n",
       "    .dataframe tbody tr th:only-of-type {\n",
       "        vertical-align: middle;\n",
       "    }\n",
       "\n",
       "    .dataframe tbody tr th {\n",
       "        vertical-align: top;\n",
       "    }\n",
       "\n",
       "    .dataframe thead th {\n",
       "        text-align: right;\n",
       "    }\n",
       "</style>\n",
       "<table border=\"1\" class=\"dataframe\">\n",
       "  <thead>\n",
       "    <tr style=\"text-align: right;\">\n",
       "      <th></th>\n",
       "      <th>Actual</th>\n",
       "      <th>Diff</th>\n",
       "      <th>Id</th>\n",
       "      <th>Pred</th>\n",
       "    </tr>\n",
       "  </thead>\n",
       "  <tbody>\n",
       "    <tr>\n",
       "      <th>64566</th>\n",
       "      <td>53372.0</td>\n",
       "      <td>-623.559780</td>\n",
       "      <td>uB4CAQyd_fc</td>\n",
       "      <td>53995.559780</td>\n",
       "    </tr>\n",
       "    <tr>\n",
       "      <th>1150</th>\n",
       "      <td>25824.0</td>\n",
       "      <td>306.200560</td>\n",
       "      <td>bE9C0qouXp0</td>\n",
       "      <td>25517.799440</td>\n",
       "    </tr>\n",
       "    <tr>\n",
       "      <th>112580</th>\n",
       "      <td>1442.0</td>\n",
       "      <td>380.575703</td>\n",
       "      <td>LDVwYTOwiXs</td>\n",
       "      <td>1061.424297</td>\n",
       "    </tr>\n",
       "    <tr>\n",
       "      <th>15447</th>\n",
       "      <td>143.0</td>\n",
       "      <td>-286.119363</td>\n",
       "      <td>t-8aENaoTTk</td>\n",
       "      <td>429.119363</td>\n",
       "    </tr>\n",
       "    <tr>\n",
       "      <th>94959</th>\n",
       "      <td>1554.0</td>\n",
       "      <td>-331.489890</td>\n",
       "      <td>v9lg_GDFMdc</td>\n",
       "      <td>1885.489890</td>\n",
       "    </tr>\n",
       "  </tbody>\n",
       "</table>\n",
       "</div>"
      ],
      "text/plain": [
       "         Actual        Diff           Id          Pred\n",
       "64566   53372.0 -623.559780  uB4CAQyd_fc  53995.559780\n",
       "1150    25824.0  306.200560  bE9C0qouXp0  25517.799440\n",
       "112580   1442.0  380.575703  LDVwYTOwiXs   1061.424297\n",
       "15447     143.0 -286.119363  t-8aENaoTTk    429.119363\n",
       "94959    1554.0 -331.489890  v9lg_GDFMdc   1885.489890"
      ]
     },
     "execution_count": 30,
     "metadata": {},
     "output_type": "execute_result"
    }
   ],
   "source": [
    "size = test_y.shape[0]\n",
    "test_yL = test_y.tolist()\n",
    "predL = pred.tolist()\n",
    "exActView = []\n",
    "exPredView = []\n",
    "diff = []\n",
    "sqErr = []\n",
    "mape={}\n",
    "for i in range(0, size):\n",
    "    exActView.append(math.exp(test_yL[i]))\n",
    "    exPredView.append(math.exp(predL[i]))\n",
    "    diff.append(exActView[i] - exPredView[i])\n",
    "    sqErr.append(math.pow(diff[i], 2))\n",
    "rmse = math.sqrt(sum(sqErr) /size)/ (test_y.max() - test_y.min())\n",
    "dfEval = pd.DataFrame({'Id':test_X_id, 'Actual' : exActView, 'Pred': exPredView, 'Diff': diff})\n",
    "dfEval.head()"
   ]
  },
  {
   "cell_type": "code",
   "execution_count": 31,
   "metadata": {},
   "outputs": [
    {
     "name": "stdout",
     "output_type": "stream",
     "text": [
      "Rmse of the regressormodel is:2519.3614769302526\n"
     ]
    }
   ],
   "source": [
    "print(\"Rmse of the regressormodel is:\" + str(rmse))"
   ]
  },
  {
   "cell_type": "code",
   "execution_count": 32,
   "metadata": {},
   "outputs": [
    {
     "data": {
      "text/plain": [
       "0.03910346961150082"
      ]
     },
     "execution_count": 32,
     "metadata": {},
     "output_type": "execute_result"
    }
   ],
   "source": [
    "1011.0650776175543/dfEval['Actual'].mean()"
   ]
  },
  {
   "cell_type": "code",
   "execution_count": 33,
   "metadata": {},
   "outputs": [
    {
     "data": {
      "text/plain": [
       "<matplotlib.axes._subplots.AxesSubplot at 0x7f8fcd98a7b8>"
      ]
     },
     "execution_count": 33,
     "metadata": {},
     "output_type": "execute_result"
    },
    {
     "data": {
      "image/png": "[encoded data removed]",
      "text/plain": [
       "<matplotlib.figure.Figure at 0x7f8faf073ef0>"
      ]
     },
     "metadata": {},
     "output_type": "display_data"
    }
   ],
   "source": [
    "X = X.drop('vid', axis = 1)\n",
    "sns.set_style('darkgrid')\n",
    "plt.figure(figsize=(10,12))\n",
    "sns.barplot(x=reg.feature_importances_, y=X.columns)"
   ]
  },
  {
   "cell_type": "code",
   "execution_count": null,
   "metadata": {},
   "outputs": [],
   "source": []
  },
  {
   "cell_type": "markdown",
   "metadata": {},
   "source": [
    "### Modeling on validation set"
   ]
  },
  {
   "cell_type": "code",
   "execution_count": 91,
   "metadata": {},
   "outputs": [],
   "source": [
    "df = feature_engineer(dfValidationSet)"
   ]
  },
  {
   "cell_type": "code",
   "execution_count": null,
   "metadata": {},
   "outputs": [],
   "source": []
  }
 ],
 "metadata": {
  "kernelspec": {
   "display_name": "Python 3",
   "language": "python",
   "name": "python3"
  },
  "language_info": {
   "codemirror_mode": {
    "name": "ipython",
    "version": 3
   },
   "file_extension": ".py",
   "mimetype": "text/x-python",
   "name": "python",
   "nbconvert_exporter": "python",
   "pygments_lexer": "ipython3",
   "version": "3.6.4"
  }
 },
 "nbformat": 4,
 "nbformat_minor": 2
}
