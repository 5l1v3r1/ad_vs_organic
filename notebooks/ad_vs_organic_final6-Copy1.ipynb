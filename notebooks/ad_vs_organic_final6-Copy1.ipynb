{
 "cells": [
  {
   "cell_type": "code",
   "execution_count": 1,
   "metadata": {},
   "outputs": [],
   "source": [
    "import pandas as pd\n",
    "import math\n",
    "import csv\n",
    "import os\n",
    "import seaborn as sns\n",
    "import matplotlib.pyplot as plt\n",
    "import numpy as np"
   ]
  },
  {
   "cell_type": "code",
   "execution_count": 2,
   "metadata": {},
   "outputs": [
    {
     "data": {
      "text/plain": [
       "Index(['vid', 'channelId', 'duration', 'licensedContent', 'definition',\n",
       "       'dislikeCount', 'commentCount', 'favoriteCount', 'viewCount',\n",
       "       'likeCount', 'relevantTopicIds', 'topicIds', 'topicCategories', 'title',\n",
       "       'description', 'tags', 'categoryId', 'channelTitle', 'publishedAt',\n",
       "       'Channel Title', 'Channel Description', 'Channel Publish date',\n",
       "       ' Channel hiddenSubscriberCount', 'Channel viewCount',\n",
       "       'Channel subscriberCount', 'Channel commentCount', 'Channel videoCount',\n",
       "       'Channel showRelatedChannels', 'Channel featuredChannelsUrls',\n",
       "       'Channel noOfFeaturedChannels', 'Channel country', 'Channel keywords',\n",
       "       'Channel topicIds', 'Channel topicCategories'],\n",
       "      dtype='object')"
      ]
     },
     "execution_count": 2,
     "metadata": {},
     "output_type": "execute_result"
    }
   ],
   "source": [
    "dfData = pd.read_csv('/home/archit/Desktop/ad vs organic/final_combined_organic_duration2.csv').drop('Unnamed: 0', axis =1)\n",
    "dfData.columns"
   ]
  },
  {
   "cell_type": "code",
   "execution_count": 3,
   "metadata": {},
   "outputs": [
    {
     "data": {
      "text/plain": [
       "True     118272\n",
       "False      2604\n",
       "Name: licensedContent, dtype: int64"
      ]
     },
     "execution_count": 3,
     "metadata": {},
     "output_type": "execute_result"
    }
   ],
   "source": [
    "pd.value_counts(dfData['licensedContent'])"
   ]
  },
  {
   "cell_type": "code",
   "execution_count": 4,
   "metadata": {},
   "outputs": [
    {
     "data": {
      "text/plain": [
       "hd    75167\n",
       "sd    45709\n",
       "Name: definition, dtype: int64"
      ]
     },
     "execution_count": 4,
     "metadata": {},
     "output_type": "execute_result"
    }
   ],
   "source": [
    "pd.value_counts(dfData['definition'])"
   ]
  },
  {
   "cell_type": "code",
   "execution_count": 5,
   "metadata": {},
   "outputs": [
    {
     "data": {
      "text/plain": [
       "IN    60945\n",
       "EG    48994\n",
       "TH     3085\n",
       "VN     2787\n",
       "KR     1551\n",
       "IT     1207\n",
       "NL      597\n",
       "US      439\n",
       "ID      417\n",
       "CA      351\n",
       "AU      203\n",
       "GB      178\n",
       "ES       66\n",
       "MX       56\n",
       "Name: Channel country, dtype: int64"
      ]
     },
     "execution_count": 5,
     "metadata": {},
     "output_type": "execute_result"
    }
   ],
   "source": [
    "pd.value_counts(dfData['Channel country'])"
   ]
  },
  {
   "cell_type": "markdown",
   "metadata": {},
   "source": [
    "### Categories exploration\n",
    "graph of categories exploration and views"
   ]
  },
  {
   "cell_type": "code",
   "execution_count": 6,
   "metadata": {},
   "outputs": [
    {
     "data": {
      "text/html": [
       "<div>\n",
       "<style scoped>\n",
       "    .dataframe tbody tr th:only-of-type {\n",
       "        vertical-align: middle;\n",
       "    }\n",
       "\n",
       "    .dataframe tbody tr th {\n",
       "        vertical-align: top;\n",
       "    }\n",
       "\n",
       "    .dataframe thead th {\n",
       "        text-align: right;\n",
       "    }\n",
       "</style>\n",
       "<table border=\"1\" class=\"dataframe\">\n",
       "  <thead>\n",
       "    <tr style=\"text-align: right;\">\n",
       "      <th></th>\n",
       "      <th>vid</th>\n",
       "      <th>Mean Views</th>\n",
       "    </tr>\n",
       "    <tr>\n",
       "      <th>categoryId</th>\n",
       "      <th></th>\n",
       "      <th></th>\n",
       "    </tr>\n",
       "  </thead>\n",
       "  <tbody>\n",
       "    <tr>\n",
       "      <th>23.0</th>\n",
       "      <td>846</td>\n",
       "      <td>596243</td>\n",
       "    </tr>\n",
       "    <tr>\n",
       "      <th>1.0</th>\n",
       "      <td>3119</td>\n",
       "      <td>181611</td>\n",
       "    </tr>\n",
       "    <tr>\n",
       "      <th>24.0</th>\n",
       "      <td>73517</td>\n",
       "      <td>146219</td>\n",
       "    </tr>\n",
       "    <tr>\n",
       "      <th>22.0</th>\n",
       "      <td>1764</td>\n",
       "      <td>145961</td>\n",
       "    </tr>\n",
       "    <tr>\n",
       "      <th>44.0</th>\n",
       "      <td>19</td>\n",
       "      <td>126540</td>\n",
       "    </tr>\n",
       "    <tr>\n",
       "      <th>28.0</th>\n",
       "      <td>360</td>\n",
       "      <td>100051</td>\n",
       "    </tr>\n",
       "    <tr>\n",
       "      <th>10.0</th>\n",
       "      <td>9516</td>\n",
       "      <td>88295</td>\n",
       "    </tr>\n",
       "    <tr>\n",
       "      <th>19.0</th>\n",
       "      <td>91</td>\n",
       "      <td>88077</td>\n",
       "    </tr>\n",
       "    <tr>\n",
       "      <th>27.0</th>\n",
       "      <td>975</td>\n",
       "      <td>44838</td>\n",
       "    </tr>\n",
       "    <tr>\n",
       "      <th>20.0</th>\n",
       "      <td>2061</td>\n",
       "      <td>37350</td>\n",
       "    </tr>\n",
       "    <tr>\n",
       "      <th>2.0</th>\n",
       "      <td>204</td>\n",
       "      <td>26971</td>\n",
       "    </tr>\n",
       "    <tr>\n",
       "      <th>17.0</th>\n",
       "      <td>1560</td>\n",
       "      <td>22972</td>\n",
       "    </tr>\n",
       "    <tr>\n",
       "      <th>29.0</th>\n",
       "      <td>3</td>\n",
       "      <td>19683</td>\n",
       "    </tr>\n",
       "    <tr>\n",
       "      <th>26.0</th>\n",
       "      <td>235</td>\n",
       "      <td>18310</td>\n",
       "    </tr>\n",
       "    <tr>\n",
       "      <th>43.0</th>\n",
       "      <td>87</td>\n",
       "      <td>8739</td>\n",
       "    </tr>\n",
       "    <tr>\n",
       "      <th>25.0</th>\n",
       "      <td>26519</td>\n",
       "      <td>7833</td>\n",
       "    </tr>\n",
       "  </tbody>\n",
       "</table>\n",
       "</div>"
      ],
      "text/plain": [
       "              vid  Mean Views\n",
       "categoryId                   \n",
       "23.0          846      596243\n",
       "1.0          3119      181611\n",
       "24.0        73517      146219\n",
       "22.0         1764      145961\n",
       "44.0           19      126540\n",
       "28.0          360      100051\n",
       "10.0         9516       88295\n",
       "19.0           91       88077\n",
       "27.0          975       44838\n",
       "20.0         2061       37350\n",
       "2.0           204       26971\n",
       "17.0         1560       22972\n",
       "29.0            3       19683\n",
       "26.0          235       18310\n",
       "43.0           87        8739\n",
       "25.0        26519        7833"
      ]
     },
     "execution_count": 6,
     "metadata": {},
     "output_type": "execute_result"
    },
    {
     "data": {
      "image/png": "[encoded data removed]",
      "text/plain": [
       "<matplotlib.figure.Figure at 0x7f9aa52bcf28>"
      ]
     },
     "metadata": {},
     "output_type": "display_data"
    }
   ],
   "source": [
    "dfData.groupby('categoryId').viewCount.mean().plot(kind = 'bar', title = 'Avg views percategory')\n",
    "avVal = dfData.groupby('categoryId').viewCount.mean().fillna(0).astype(dtype = 'int64').sort_values(ascending = False)\n",
    "dfCat = dfData.groupby('categoryId').count()\n",
    "dfCat['Mean Views'] = avVal\n",
    "dfCat = dfCat[['vid', 'Mean Views']]\n",
    "dfCat.sort_values(by = ['Mean Views'], ascending = False)"
   ]
  },
  {
   "cell_type": "markdown",
   "metadata": {},
   "source": [
    "Next we will set up our input dataset and define the function for model training"
   ]
  },
  {
   "cell_type": "code",
   "execution_count": 7,
   "metadata": {},
   "outputs": [],
   "source": [
    "def input_dataset(dfData, views =0, categories =[], country= ['IN']):\n",
    "    \"\"\"manipulates input dataframe according to input parameters.\n",
    "    Args:\n",
    "        dfData: input dataset\n",
    "        views: minimum number of views in dfData.Default = 0.\n",
    "        categories: list of categories to be present in final dataset.Default is empty list(all categories)\n",
    "        country: List of countries whose videos should be present in dataSet. Default is India.\n",
    "    Returns:\n",
    "        dataset to train model on\n",
    "    \"\"\"\n",
    "    # slice dataset with viewCount larger than views\n",
    "    dfData = dfData[dfData['viewCount'] >= views]\n",
    "    # concat dfData according to categories\n",
    "    categoryIds =(dfData['categoryId'].dropna().unique()).tolist()\n",
    "    # create temporary df\n",
    "    tempDf = pd.DataFrame(columns = ['vid', 'channelId', 'duration', 'licensedContent', 'definition',\n",
    "       'dislikeCount', 'commentCount', 'favoriteCount', 'viewCount',\n",
    "       'likeCount', 'relevantTopicIds', 'topicIds', 'topicCategories', 'title',\n",
    "       'description', 'tags', 'categoryId', 'channelTitle', 'publishedAt',\n",
    "       'Channel Title', 'Channel Description', 'Channel Publish date',\n",
    "       ' Channel hiddenSubscriberCount', 'Channel viewCount',\n",
    "       'Channel subscriberCount', 'Channel commentCount', 'Channel videoCount',\n",
    "       'Channel showRelatedChannels', 'Channel featuredChannelsUrls',\n",
    "       'Channel noOfFeaturedChannels', 'Channel country', 'Channel keywords',\n",
    "       'Channel topicIds', 'Channel topicCategories'])\n",
    "    for categoryId in categoryIds:\n",
    "        df = dfData[dfData['categoryId'] == categoryId]\n",
    "        keys = []\n",
    "        keys[0], keys[1] = tempDf['categoryId'][0], df['categoryId'][0]\n",
    "        tempf = pd.concat([tempDf, df], ignore_index = True, keys = keys)\n",
    "        \n",
    "    # select dataframe according to categories\n",
    "    if len(categories) != 0:\n",
    "        dfData = tempDf.loc[categories]\n",
    "    else:\n",
    "        dfData = tempDf\n",
    "    \n",
    "    # choosing countries\n",
    "    if len(country) != 0:\n",
    "            dfData = dfData.loc[dfData['Channel country'] == country, ]\n",
    "    else:\n",
    "        dfData = dfData.loc[dfData['Channel country'] == 'IN']\n",
    "        \n",
    "    return dfData"
   ]
  },
  {
   "cell_type": "code",
   "execution_count": 8,
   "metadata": {},
   "outputs": [],
   "source": [
    "def preprocessing(dfData):\n",
    "    \"\"\"drops irrelevant features, merges adStats and previous video stats\n",
    "    Args:\n",
    "    dfData: input DataSet\n",
    "    Return:\n",
    "    merged DataSet\n",
    "    \"\"\"\n",
    "    # drop irrelevant features\n",
    "    dfData = dfData.drop(['licensedContent', 'relevantTopicIds', 'topicIds', 'topicCategories', 'channelTitle', 'Channel Title', 'Channel Description', ' Channel hiddenSubscriberCount', 'Channel showRelatedChannels', 'Channel featuredChannelsUrls',\n",
    "       'Channel noOfFeaturedChannels', 'Channel country', 'Channel keywords',\n",
    "       'Channel topicIds', 'Channel topicCategories'], axis = 1)\n",
    "    \n",
    "    # load advertisement and previous stats dataset and clean\n",
    "    dfAdStats = pd.read_csv('/home/archit/Desktop/ad vs organic/resultstats.csv').drop(['ch_id','Unnamed: 0'], axis =1).rename(columns = {'video_id':'vid'}, inplace = True)\n",
    "    dfPrevStats = pd.read_csv('/home/archit/Desktop/ad vs organic/previousVideoStats2.csv').drop(['Unnamed: 0'], axis =1).rename(columns = {'Id':'vid'}, inplace = True)\n",
    "\n",
    "    # merge DataSet\n",
    "    dfMergedData = dfData.merge(dfPrevStats, on = 'vid', how = 'left').merge(dfAdStats2, on = 'vid', how = 'left')\n",
    "    return dfMergedData"
   ]
  },
  {
   "cell_type": "code",
   "execution_count": 9,
   "metadata": {},
   "outputs": [],
   "source": [
    "def feature_engineer(dfData):\n",
    "    dfData =dfData.drop(['favoriteCount', 'PrevTitle', 'PrevPublishedAt', 'Channel commentCount', 'categoryId'],axis =1)\n",
    "    \n",
    "    \n",
    "    dfData['PublishedYear'] = dfData['publishedAt'].apply(lambda x: x[:4])\n",
    "    dfData['ChannelAge'] =  dfData['Channel Publish date'].apply(lambda x: x[:4])\n",
    "    dfData['channelViewCount'] = np.log(dfData['Channel viewCount'])\n",
    "    dfData['LikeDislikeRatio'] = dfData['likeCount']/(dfData['dislikeCount'] + dfData['likeCount'])\n",
    "    dfData['PrevCommentCount'] = dfData['PrevCommentCount'].fillna(0)\n",
    "    dfData['PrevDislikeCount'] = dfData['PrevDislikeCount'].fillna(0)\n",
    "    dfData['PrevLikeCount'] = dfData['PrevLikeCount'].fillna(0)\n",
    "    dfData['PrevViewCount'] = dfData['PrevViewCount'].fillna(0)   \n",
    "    dfData['duration'] = dfData['duration'].fillna(0)\n",
    "    dfData['LikeDislikeRatio'] = dfData['LikeDislikeRatio'].replace(np.inf, np.nan)\n",
    "    dfData['LikeDislikeRatio'] = dfData['LikeDislikeRatio'].fillna(0)\n",
    "    dfData['LikeDislikeRatio'] = dfData['LikeDislikeRatio'].fillna(0)\n",
    "    dfData['Channel subscriberCount'] = dfData['Channel subscriberCount'].fillna(0)\n",
    "    dfData['Definition'] = dfData['definition'].apply(lambda x: 1 if x=='hd' else 0)\n",
    "    dfData = dfData.drop(['title','description','publishedAt','Channel viewCount','Channel Publish date','channelId','tags', 'ad%'],axis = 1)\n",
    "    \n",
    "    return dfData\n",
    "\n",
    "def drop_obvious_features(dfData):\n",
    "    dfData = dfData.drop(['LikeCount','DislikeCount','CommentCount'],axis = 1)\n",
    "    return dfData"
   ]
  },
  {
   "cell_type": "code",
   "execution_count": 10,
   "metadata": {},
   "outputs": [],
   "source": [
    "def train_model(model):\n",
    "    \"\"\"Trains the dataSet using Gradient Boosted Regressor\n",
    "    Args:\n",
    "    input_features: input feature set\n",
    "    model: an int. 1 to predict organic views, 2 to predict advertisement views\n",
    "    Returns:\n",
    "    A Pandas \"Dataframe' containing targets and corresponding prediction after training the model.\n",
    "    \"\"\"\n",
    "    "
   ]
  },
  {
   "cell_type": "markdown",
   "metadata": {},
   "source": [
    "Now we will use standard metrics and evaluate our result"
   ]
  },
  {
   "cell_type": "code",
   "execution_count": null,
   "metadata": {},
   "outputs": [],
   "source": [
    "from sklearn.metrics import r2_score,mean_squared_error,mean_absolute_error"
   ]
  },
  {
   "cell_type": "code",
   "execution_count": null,
   "metadata": {},
   "outputs": [],
   "source": [
    "r2_score(dfVal['ad%'],dfVal['Predicted Ad %'])"
   ]
  },
  {
   "cell_type": "code",
   "execution_count": null,
   "metadata": {},
   "outputs": [],
   "source": [
    "np.sqrt(mean_squared_error(dfVal['ad%'],dfVal['Predicted Ad %']))"
   ]
  },
  {
   "cell_type": "code",
   "execution_count": null,
   "metadata": {},
   "outputs": [],
   "source": [
    "mean_absolute_error(dfVal['ad%'],dfVal['Predicted Ad %'])"
   ]
  },
  {
   "cell_type": "code",
   "execution_count": null,
   "metadata": {},
   "outputs": [],
   "source": [
    "bins =int( (dfVal['Diff'].max() - dfVal['Diff'].min())/5)\n",
    "gh = plt.hist(dfVal['Diff'], bins = bins)\n",
    "freq, error = gh[0], gh[1]\n",
    "plt.ylabel('Number of videos')\n",
    "plt.xlabel('error')\n",
    "plt.title('Frequiency table of diff in ad%')\n",
    "plt.show()"
   ]
  },
  {
   "cell_type": "code",
   "execution_count": null,
   "metadata": {},
   "outputs": [],
   "source": [
    "freq = freq.astype('int64')\n",
    "dfErr = pd.DataFrame()\n",
    "dfErr['Error'] = pd.Series(error)\n",
    "dfErr['Frequency'] = pd.Series(freq)\n",
    "dfErr['Frequency Percentage'] = dfErr['Frequency']/ dfErr['Frequency'].sum() * 100\n",
    "dfErr"
   ]
  },
  {
   "cell_type": "markdown",
   "metadata": {},
   "source": [
    "Now we will look for videos with error in prediction > 30 and figure out why."
   ]
  },
  {
   "cell_type": "code",
   "execution_count": null,
   "metadata": {},
   "outputs": [],
   "source": [
    "dfErr[np.abs(dfErr['Error'])>30]"
   ]
  },
  {
   "cell_type": "code",
   "execution_count": 29,
   "metadata": {},
   "outputs": [
    {
     "data": {
      "text/plain": [
       "(246184, 2)"
      ]
     },
     "execution_count": 29,
     "metadata": {},
     "output_type": "execute_result"
    }
   ],
   "source": [
    "# Loading ad stats dataset\n",
    "dfAdStats = pd.read_csv('/home/archit/Desktop/ad vs organic/resultstats.csv')\n",
    "dfAdStats2 = dfAdStats.drop(['ch_id','Unnamed: 0'], axis =1)\n",
    "dfAdStats2.rename(columns = {'video_id':'vid'}, inplace = True)\n",
    "dfAdStats2.shape"
   ]
  },
  {
   "cell_type": "code",
   "execution_count": 41,
   "metadata": {},
   "outputs": [
    {
     "data": {
      "text/html": [
       "<div>\n",
       "<style scoped>\n",
       "    .dataframe tbody tr th:only-of-type {\n",
       "        vertical-align: middle;\n",
       "    }\n",
       "\n",
       "    .dataframe tbody tr th {\n",
       "        vertical-align: top;\n",
       "    }\n",
       "\n",
       "    .dataframe thead th {\n",
       "        text-align: right;\n",
       "    }\n",
       "</style>\n",
       "<table border=\"1\" class=\"dataframe\">\n",
       "  <thead>\n",
       "    <tr style=\"text-align: right;\">\n",
       "      <th></th>\n",
       "      <th>PrevCommentCount</th>\n",
       "      <th>PrevDislikeCount</th>\n",
       "      <th>PrevLikeCount</th>\n",
       "      <th>PrevPublishedAt</th>\n",
       "      <th>PrevViewCount</th>\n",
       "      <th>PrevTitle</th>\n",
       "      <th>vid</th>\n",
       "    </tr>\n",
       "  </thead>\n",
       "  <tbody>\n",
       "    <tr>\n",
       "      <th>0</th>\n",
       "      <td>9.0</td>\n",
       "      <td>5.0</td>\n",
       "      <td>112.0</td>\n",
       "      <td>2016-08-25T03:48:52.000Z</td>\n",
       "      <td>21007.0</td>\n",
       "      <td>Nhỏ To Cùng Mẹ | Nhật Ký Bí Bầu | Tuần 13 - Hà...</td>\n",
       "      <td>NaN</td>\n",
       "    </tr>\n",
       "    <tr>\n",
       "      <th>1</th>\n",
       "      <td>7.0</td>\n",
       "      <td>6.0</td>\n",
       "      <td>77.0</td>\n",
       "      <td>2016-11-15T06:59:55.000Z</td>\n",
       "      <td>19326.0</td>\n",
       "      <td>Nhỏ To Cùng Mẹ | Nhật Ký Bí Bầu | Tuần 14 - Kh...</td>\n",
       "      <td>LPqCSwCNI5w</td>\n",
       "    </tr>\n",
       "    <tr>\n",
       "      <th>2</th>\n",
       "      <td>28.0</td>\n",
       "      <td>12.0</td>\n",
       "      <td>109.0</td>\n",
       "      <td>2016-11-15T07:01:46.000Z</td>\n",
       "      <td>33071.0</td>\n",
       "      <td>Nhỏ To Cùng Mẹ | Nhật Ký Bí Bầu | Tuần 17 - Gi...</td>\n",
       "      <td>0LGl5jbnrlU</td>\n",
       "    </tr>\n",
       "    <tr>\n",
       "      <th>3</th>\n",
       "      <td>8.0</td>\n",
       "      <td>9.0</td>\n",
       "      <td>84.0</td>\n",
       "      <td>2016-11-15T07:01:55.000Z</td>\n",
       "      <td>29516.0</td>\n",
       "      <td>Nhỏ To Cùng Mẹ | Nhật Ký Bí Bầu |  Tuần 18 - C...</td>\n",
       "      <td>jFFSYwdku9M</td>\n",
       "    </tr>\n",
       "    <tr>\n",
       "      <th>4</th>\n",
       "      <td>12.0</td>\n",
       "      <td>18.0</td>\n",
       "      <td>145.0</td>\n",
       "      <td>2016-11-15T07:02:03.000Z</td>\n",
       "      <td>49653.0</td>\n",
       "      <td>Nhỏ To Cùng Mẹ | Nhật Ký Bí Bầu | Tuần 19 - Ăn...</td>\n",
       "      <td>HvFNGb-nrRU</td>\n",
       "    </tr>\n",
       "  </tbody>\n",
       "</table>\n",
       "</div>"
      ],
      "text/plain": [
       "   PrevCommentCount  PrevDislikeCount  PrevLikeCount  \\\n",
       "0               9.0               5.0          112.0   \n",
       "1               7.0               6.0           77.0   \n",
       "2              28.0              12.0          109.0   \n",
       "3               8.0               9.0           84.0   \n",
       "4              12.0              18.0          145.0   \n",
       "\n",
       "            PrevPublishedAt  PrevViewCount  \\\n",
       "0  2016-08-25T03:48:52.000Z        21007.0   \n",
       "1  2016-11-15T06:59:55.000Z        19326.0   \n",
       "2  2016-11-15T07:01:46.000Z        33071.0   \n",
       "3  2016-11-15T07:01:55.000Z        29516.0   \n",
       "4  2016-11-15T07:02:03.000Z        49653.0   \n",
       "\n",
       "                                           PrevTitle          vid  \n",
       "0  Nhỏ To Cùng Mẹ | Nhật Ký Bí Bầu | Tuần 13 - Hà...          NaN  \n",
       "1  Nhỏ To Cùng Mẹ | Nhật Ký Bí Bầu | Tuần 14 - Kh...  LPqCSwCNI5w  \n",
       "2  Nhỏ To Cùng Mẹ | Nhật Ký Bí Bầu | Tuần 17 - Gi...  0LGl5jbnrlU  \n",
       "3  Nhỏ To Cùng Mẹ | Nhật Ký Bí Bầu |  Tuần 18 - C...  jFFSYwdku9M  \n",
       "4  Nhỏ To Cùng Mẹ | Nhật Ký Bí Bầu | Tuần 19 - Ăn...  HvFNGb-nrRU  "
      ]
     },
     "execution_count": 41,
     "metadata": {},
     "output_type": "execute_result"
    }
   ],
   "source": [
    "# Loading perv stats dataset\n",
    "dfPrevStats = pd.read_csv('/home/archit/Desktop/ad vs organic/previousVideoStats2.csv')\n",
    "dfPrevStats = dfPrevStats.drop(['Unnamed: 0'], axis =1)\n",
    "dfPrevStats.rename(columns = {'Id':'vid'}, inplace = True)\n",
    "\n",
    "dfPrevStats.head()"
   ]
  },
  {
   "cell_type": "markdown",
   "metadata": {},
   "source": [
    "### Merging Dataset"
   ]
  },
  {
   "cell_type": "code",
   "execution_count": 42,
   "metadata": {},
   "outputs": [],
   "source": [
    "dfMergedData = dfData2.merge(dfPrevStats, on = 'vid', how = 'left')\n",
    "dfMergedData = dfMergedData.merge(dfAdStats2, on = 'vid', how = 'left')"
   ]
  },
  {
   "cell_type": "code",
   "execution_count": 43,
   "metadata": {},
   "outputs": [
    {
     "data": {
      "text/plain": [
       "Index(['Unnamed: 0', 'vid', 'channelId', 'duration', 'dislikeCount',\n",
       "       'commentCount', 'favoriteCount', 'viewCount', 'likeCount', 'title',\n",
       "       'description', 'tags', 'categoryId', 'publishedAt',\n",
       "       'Channel Publish date', 'Channel viewCount', 'Channel subscriberCount',\n",
       "       'Channel commentCount', 'Channel videoCount', 'PrevCommentCount',\n",
       "       'PrevDislikeCount', 'PrevLikeCount', 'PrevPublishedAt', 'PrevViewCount',\n",
       "       'PrevTitle', 'ad%'],\n",
       "      dtype='object')"
      ]
     },
     "execution_count": 43,
     "metadata": {},
     "output_type": "execute_result"
    }
   ],
   "source": [
    "dfMergedData.columns"
   ]
  },
  {
   "cell_type": "code",
   "execution_count": 44,
   "metadata": {},
   "outputs": [],
   "source": [
    "dfMergedData.to_csv(\"/home/archit/Desktop/ad vs organic/merged_data_ad_vs_org.csv\")"
   ]
  },
  {
   "cell_type": "code",
   "execution_count": 45,
   "metadata": {},
   "outputs": [],
   "source": [
    "dfMergedData = pd.read_csv('/home/archit/Desktop/ad vs organic/merged_data_ad_vs_org.csv')"
   ]
  },
  {
   "cell_type": "markdown",
   "metadata": {},
   "source": [
    "### Picking up traininig set and validation set"
   ]
  },
  {
   "cell_type": "code",
   "execution_count": 46,
   "metadata": {},
   "outputs": [
    {
     "data": {
      "text/plain": [
       "(112873, 27)"
      ]
     },
     "execution_count": 46,
     "metadata": {},
     "output_type": "execute_result"
    }
   ],
   "source": [
    "dfTrainingSet = dfMergedData.loc[dfMergedData['ad%'] == 0,]\n",
    "dfTrainingSet.shape"
   ]
  },
  {
   "cell_type": "code",
   "execution_count": 47,
   "metadata": {},
   "outputs": [
    {
     "data": {
      "text/plain": [
       "(8003, 27)"
      ]
     },
     "execution_count": 47,
     "metadata": {},
     "output_type": "execute_result"
    }
   ],
   "source": [
    "dfValidationSet = dfMergedData.loc[dfMergedData['ad%']>0, ]\n",
    "\n",
    "dfValidationSet.shape"
   ]
  },
  {
   "cell_type": "markdown",
   "metadata": {},
   "source": [
    "dfTrainingSet.to_csv(\"/home/archit/Desktop/ad vs organic/training_data_ad_vs_org3.csv\")\n"
   ]
  },
  {
   "cell_type": "code",
   "execution_count": 48,
   "metadata": {},
   "outputs": [
    {
     "name": "stderr",
     "output_type": "stream",
     "text": [
      "/home/archit/anaconda3/lib/python3.6/site-packages/ipykernel_launcher.py:1: SettingWithCopyWarning: \n",
      "A value is trying to be set on a copy of a slice from a DataFrame.\n",
      "Try using .loc[row_indexer,col_indexer] = value instead\n",
      "\n",
      "See the caveats in the documentation: http://pandas.pydata.org/pandas-docs/stable/indexing.html#indexing-view-versus-copy\n",
      "  \"\"\"Entry point for launching an IPython kernel.\n"
     ]
    }
   ],
   "source": [
    "dfValidationSet['orgViews'] = dfValidationSet['viewCount']*(100-dfValidationSet['ad%'])"
   ]
  },
  {
   "cell_type": "code",
   "execution_count": 49,
   "metadata": {},
   "outputs": [
    {
     "name": "stderr",
     "output_type": "stream",
     "text": [
      "/home/archit/anaconda3/lib/python3.6/site-packages/ipykernel_launcher.py:1: SettingWithCopyWarning: \n",
      "A value is trying to be set on a copy of a slice from a DataFrame\n",
      "\n",
      "See the caveats in the documentation: http://pandas.pydata.org/pandas-docs/stable/indexing.html#indexing-view-versus-copy\n",
      "  \"\"\"Entry point for launching an IPython kernel.\n",
      "/home/archit/anaconda3/lib/python3.6/site-packages/pandas/core/frame.py:3027: SettingWithCopyWarning: \n",
      "A value is trying to be set on a copy of a slice from a DataFrame\n",
      "\n",
      "See the caveats in the documentation: http://pandas.pydata.org/pandas-docs/stable/indexing.html#indexing-view-versus-copy\n",
      "  return super(DataFrame, self).rename(**kwargs)\n"
     ]
    }
   ],
   "source": [
    "dfValidationSet.drop('viewCount', axis=1, inplace= True)\n",
    "dfValidationSet.rename(columns = {'orgViews':'viewCount'}, inplace = True)"
   ]
  },
  {
   "cell_type": "code",
   "execution_count": 23,
   "metadata": {},
   "outputs": [],
   "source": [
    "dfTrainingSet = pd.concat([dfTrainingSet, dfValidationSet], ignore_index = True)"
   ]
  },
  {
   "cell_type": "code",
   "execution_count": 24,
   "metadata": {},
   "outputs": [
    {
     "data": {
      "text/plain": [
       "(36515, 26)"
      ]
     },
     "execution_count": 24,
     "metadata": {},
     "output_type": "execute_result"
    }
   ],
   "source": [
    "dfTrainingSet.shape"
   ]
  },
  {
   "cell_type": "code",
   "execution_count": 25,
   "metadata": {},
   "outputs": [],
   "source": [
    "dfValidationSet.to_csv('/home/archit/Desktop/ad vs organic/validation_data_ad_vs_org3.csv')"
   ]
  },
  {
   "cell_type": "markdown",
   "metadata": {},
   "source": [
    "### Feature engineering\n"
   ]
  },
  {
   "cell_type": "code",
   "execution_count": 50,
   "metadata": {},
   "outputs": [],
   "source": [
    "def feature_engineer(dfData):\n",
    "    dfData =dfData.drop(['favoriteCount', 'PrevTitle', 'PrevPublishedAt', 'Channel commentCount', 'categoryId'],axis =1)\n",
    "    \n",
    "    \n",
    "    dfData['PublishedYear'] = dfData['publishedAt'].apply(lambda x: x[:4])\n",
    "    dfData['ChannelAge'] =  dfData['Channel Publish date'].apply(lambda x: x[:4])\n",
    "    dfData['channelViewCount'] = np.log(dfData['Channel viewCount'])\n",
    "    dfData['LikeDislikeRatio'] = dfData['likeCount']/(dfData['dislikeCount'] + dfData['likeCount'])\n",
    "    dfData['PrevCommentCount'] = dfData['PrevCommentCount'].fillna(0)\n",
    "    dfData['PrevDislikeCount'] = dfData['PrevDislikeCount'].fillna(0)\n",
    "    dfData['PrevLikeCount'] = dfData['PrevLikeCount'].fillna(0)\n",
    "    dfData['PrevViewCount'] = dfData['PrevViewCount'].fillna(0)   \n",
    "    dfData['duration'] = dfData['duration'].fillna(0)\n",
    "    dfData['LikeDislikeRatio'] = dfData['LikeDislikeRatio'].replace(np.inf, np.nan)\n",
    "    dfData['LikeDislikeRatio'] = dfData['LikeDislikeRatio'].fillna(0)\n",
    "    dfData['LikeDislikeRatio'] = dfData['LikeDislikeRatio'].fillna(0)\n",
    "    dfData['Channel subscriberCount'] = dfData['Channel subscriberCount'].fillna(0)\n",
    "    dfData = dfData.drop(['title','description','publishedAt','Channel viewCount','Channel Publish date','channelId','tags', 'ad%'],axis = 1)\n",
    "    \n",
    "    return dfData\n",
    "\n",
    "def drop_obvious_features(dfData):\n",
    "    dfData = dfData.drop(['LikeCount','DislikeCount','CommentCount'],axis = 1)\n",
    "    return dfData"
   ]
  },
  {
   "cell_type": "code",
   "execution_count": 51,
   "metadata": {},
   "outputs": [],
   "source": [
    "def feature_engineer2(dfData):\n",
    "    dfData =dfData.drop(['favoriteCount', 'PrevTitle', 'PrevPublishedAt', 'Channel commentCount'],axis =1)\n",
    "    \n",
    "    dfData = dfData.dropna()\n",
    "    dfData['PublishedYear'] = dfData['publishedAt'].apply(lambda x: x[:4])\n",
    "    dfData['ChannelAge'] =  dfData['Channel Publish date'].apply(lambda x: x[:4])\n",
    "    dfData['channelViewCount'] = np.log(dfData['Channel viewCount'])\n",
    "    dfData['LikeDislikeRatio'] = dfData['likeCount']/(dfData['dislikeCount'] + dfData['likeCount'])\n",
    "    dfData['LikeDislikeRatio'] = dfData['LikeDislikeRatio'].replace(np.inf, np.nan)\n",
    "    dfData = dfData.drop(['title','description','publishedAt','','Channel Publish date','channelId','tags', 'ad%'],axis = 1)\n",
    "    \n",
    "    return dfData\n",
    "\n",
    "def drop_obvious_features(dfData):\n",
    "    dfData = dfData.drop(['LikeCount','DislikeCount','CommentCount'],axis = 1)\n",
    "    return dfData"
   ]
  },
  {
   "cell_type": "code",
   "execution_count": 52,
   "metadata": {},
   "outputs": [],
   "source": [
    "df = feature_engineer(dfTrainingSet)\n",
    "#df.to_csv('/home/archit/Desktop/ad vs organic/trainSet2.csv')"
   ]
  },
  {
   "cell_type": "code",
   "execution_count": 68,
   "metadata": {},
   "outputs": [
    {
     "data": {
      "text/plain": [
       "(112873,)"
      ]
     },
     "execution_count": 68,
     "metadata": {},
     "output_type": "execute_result"
    }
   ],
   "source": [
    "X, y = df.drop('viewCount',axis = 1) , np.log(df['viewCount'])\n",
    "X = X.drop(['Unnamed: 0', 'Unnamed: 0.1'], axis = 1)\n",
    "y.shape"
   ]
  },
  {
   "cell_type": "code",
   "execution_count": 69,
   "metadata": {},
   "outputs": [
    {
     "data": {
      "text/plain": [
       "Index(['vid', 'duration', 'dislikeCount', 'commentCount', 'likeCount',\n",
       "       'Channel subscriberCount', 'Channel videoCount', 'PrevCommentCount',\n",
       "       'PrevDislikeCount', 'PrevLikeCount', 'PrevViewCount', 'PublishedYear',\n",
       "       'ChannelAge', 'channelViewCount', 'LikeDislikeRatio'],\n",
       "      dtype='object')"
      ]
     },
     "execution_count": 69,
     "metadata": {},
     "output_type": "execute_result"
    }
   ],
   "source": [
    "X.columns"
   ]
  },
  {
   "cell_type": "code",
   "execution_count": 55,
   "metadata": {},
   "outputs": [],
   "source": [
    "#X.to_csv('/home/archit/Desktop/ad vs organic/trainSET.csv')"
   ]
  },
  {
   "cell_type": "markdown",
   "metadata": {},
   "source": [
    "### Modeling"
   ]
  },
  {
   "cell_type": "code",
   "execution_count": 70,
   "metadata": {},
   "outputs": [],
   "source": [
    "from sklearn.ensemble import GradientBoostingClassifier, GradientBoostingRegressor\n",
    "from sklearn.model_selection import train_test_split\n",
    "#from xgboost import XGBClassifier, XGBRegressor"
   ]
  },
  {
   "cell_type": "code",
   "execution_count": 71,
   "metadata": {},
   "outputs": [],
   "source": [
    "train_X, test_X, train_y, test_y = train_test_split(X, y, train_size = 0.75, test_size = 0.25)\n",
    "\n",
    "train_X_id, train_X = train_X.vid, train_X.drop('vid', axis = 1)\n",
    "test_X_id, test_X = test_X.vid, test_X.drop('vid', axis = 1)\n",
    "\n",
    "reg = GradientBoostingRegressor()\n",
    "reg.fit(train_X, train_y)\n",
    "reg.score(test_X, test_y)\n",
    "\n",
    "import pickle\n",
    "pickle.dump(reg, open(\"Gbr005.pickle.dat\", \"wb\"))"
   ]
  },
  {
   "cell_type": "code",
   "execution_count": 72,
   "metadata": {},
   "outputs": [],
   "source": [
    "pred = reg.predict(test_X)"
   ]
  },
  {
   "cell_type": "code",
   "execution_count": 73,
   "metadata": {},
   "outputs": [
    {
     "data": {
      "text/html": [
       "<div>\n",
       "<style scoped>\n",
       "    .dataframe tbody tr th:only-of-type {\n",
       "        vertical-align: middle;\n",
       "    }\n",
       "\n",
       "    .dataframe tbody tr th {\n",
       "        vertical-align: top;\n",
       "    }\n",
       "\n",
       "    .dataframe thead th {\n",
       "        text-align: right;\n",
       "    }\n",
       "</style>\n",
       "<table border=\"1\" class=\"dataframe\">\n",
       "  <thead>\n",
       "    <tr style=\"text-align: right;\">\n",
       "      <th></th>\n",
       "      <th>Actual</th>\n",
       "      <th>Diff</th>\n",
       "      <th>Id</th>\n",
       "      <th>Pred</th>\n",
       "    </tr>\n",
       "  </thead>\n",
       "  <tbody>\n",
       "    <tr>\n",
       "      <th>44138</th>\n",
       "      <td>411.0</td>\n",
       "      <td>101.860164</td>\n",
       "      <td>lhpiPhfw8m8</td>\n",
       "      <td>309.139836</td>\n",
       "    </tr>\n",
       "    <tr>\n",
       "      <th>31600</th>\n",
       "      <td>881.0</td>\n",
       "      <td>-105.292991</td>\n",
       "      <td>2DEfSW3e3Hg</td>\n",
       "      <td>986.292991</td>\n",
       "    </tr>\n",
       "    <tr>\n",
       "      <th>27166</th>\n",
       "      <td>533.0</td>\n",
       "      <td>-201.823546</td>\n",
       "      <td>ZlBuyx8qz64</td>\n",
       "      <td>734.823546</td>\n",
       "    </tr>\n",
       "    <tr>\n",
       "      <th>67319</th>\n",
       "      <td>3926.0</td>\n",
       "      <td>1070.292623</td>\n",
       "      <td>fM38i1eHr98</td>\n",
       "      <td>2855.707377</td>\n",
       "    </tr>\n",
       "    <tr>\n",
       "      <th>42187</th>\n",
       "      <td>385.0</td>\n",
       "      <td>200.500859</td>\n",
       "      <td>_R4DWeJhz7Y</td>\n",
       "      <td>184.499141</td>\n",
       "    </tr>\n",
       "  </tbody>\n",
       "</table>\n",
       "</div>"
      ],
      "text/plain": [
       "       Actual         Diff           Id         Pred\n",
       "44138   411.0   101.860164  lhpiPhfw8m8   309.139836\n",
       "31600   881.0  -105.292991  2DEfSW3e3Hg   986.292991\n",
       "27166   533.0  -201.823546  ZlBuyx8qz64   734.823546\n",
       "67319  3926.0  1070.292623  fM38i1eHr98  2855.707377\n",
       "42187   385.0   200.500859  _R4DWeJhz7Y   184.499141"
      ]
     },
     "execution_count": 73,
     "metadata": {},
     "output_type": "execute_result"
    }
   ],
   "source": [
    "size = test_y.shape[0]\n",
    "test_yL = test_y.tolist()\n",
    "predL = pred.tolist()\n",
    "exActView = []\n",
    "exPredView = []\n",
    "diff = []\n",
    "sqErr = []\n",
    "mape={}\n",
    "for i in range(0, size):\n",
    "    exActView.append(math.exp(test_yL[i]))\n",
    "    exPredView.append(math.exp(predL[i]))\n",
    "    diff.append(exActView[i] - exPredView[i])\n",
    "    sqErr.append(math.pow(diff[i], 2))\n",
    "rmse = math.sqrt(sum(sqErr) /size)/ (test_y.max() - test_y.min())\n",
    "dfEval = pd.DataFrame({'Id':test_X_id, 'Actual' : exActView, 'Pred': exPredView, 'Diff': diff})\n",
    "dfEval.head()"
   ]
  },
  {
   "cell_type": "code",
   "execution_count": 74,
   "metadata": {},
   "outputs": [
    {
     "name": "stdout",
     "output_type": "stream",
     "text": [
      "Rmse of the regressormodel is:2387.4454790550158\n"
     ]
    }
   ],
   "source": [
    "print(\"Rmse of the regressormodel is:\" + str(rmse))"
   ]
  },
  {
   "cell_type": "code",
   "execution_count": 75,
   "metadata": {},
   "outputs": [
    {
     "data": {
      "text/plain": [
       "0.04029664809978987"
      ]
     },
     "execution_count": 75,
     "metadata": {},
     "output_type": "execute_result"
    }
   ],
   "source": [
    "1011.0650776175543/dfEval['Actual'].mean()"
   ]
  },
  {
   "cell_type": "code",
   "execution_count": 76,
   "metadata": {},
   "outputs": [
    {
     "data": {
      "text/plain": [
       "<matplotlib.axes._subplots.AxesSubplot at 0x7faecf5a34e0>"
      ]
     },
     "execution_count": 76,
     "metadata": {},
     "output_type": "execute_result"
    },
    {
     "data": {
      "image/png": "[encoded data removed]",
      "text/plain": [
       "<matplotlib.figure.Figure at 0x7faecf5a31d0>"
      ]
     },
     "metadata": {},
     "output_type": "display_data"
    }
   ],
   "source": [
    "X = X.drop('vid', axis = 1)\n",
    "sns.set_style('darkgrid')\n",
    "plt.figure(figsize=(10,12))\n",
    "sns.barplot(x=reg.feature_importances_, y=X.columns)"
   ]
  },
  {
   "cell_type": "code",
   "execution_count": null,
   "metadata": {},
   "outputs": [],
   "source": []
  },
  {
   "cell_type": "markdown",
   "metadata": {},
   "source": [
    "### Modeling on validation set"
   ]
  },
  {
   "cell_type": "code",
   "execution_count": 91,
   "metadata": {},
   "outputs": [],
   "source": [
    "df = feature_engineer(dfValidationSet)"
   ]
  },
  {
   "cell_type": "code",
   "execution_count": null,
   "metadata": {},
   "outputs": [],
   "source": []
  }
 ],
 "metadata": {
  "kernelspec": {
   "display_name": "Python 3",
   "language": "python",
   "name": "python3"
  },
  "language_info": {
   "codemirror_mode": {
    "name": "ipython",
    "version": 3
   },
   "file_extension": ".py",
   "mimetype": "text/x-python",
   "name": "python",
   "nbconvert_exporter": "python",
   "pygments_lexer": "ipython3",
   "version": "3.6.4"
  }
 },
 "nbformat": 4,
 "nbformat_minor": 2
}
