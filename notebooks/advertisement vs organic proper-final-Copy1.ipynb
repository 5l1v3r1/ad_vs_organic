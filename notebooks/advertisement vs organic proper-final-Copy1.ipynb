{
 "cells": [
  {
   "cell_type": "code",
   "execution_count": 268,
   "metadata": {},
   "outputs": [],
   "source": [
    "import pandas as pd\n",
    "import math\n",
    "import csv\n",
    "import os\n",
    "import seaborn as sns\n",
    "import matplotlib.pyplot as plt\n",
    "import numpy as np"
   ]
  },
  {
   "cell_type": "code",
   "execution_count": 269,
   "metadata": {},
   "outputs": [
    {
     "data": {
      "text/plain": [
       "(10682, 13)"
      ]
     },
     "execution_count": 269,
     "metadata": {},
     "output_type": "execute_result"
    }
   ],
   "source": [
    "dfData = pd.read_csv(\"/home/archit/Desktop/ad vs organic/cleaned_subset.csv\", encoding = 'unicode_escape')\n",
    "dfData.shape"
   ]
  },
  {
   "cell_type": "code",
   "execution_count": 270,
   "metadata": {},
   "outputs": [
    {
     "data": {
      "text/plain": [
       "(1670, 9)"
      ]
     },
     "execution_count": 270,
     "metadata": {},
     "output_type": "execute_result"
    }
   ],
   "source": [
    "dfPrev = pd.read_csv(\"/home/archit/Desktop/ad vs organic/prev_vid_stat.csv\")\n",
    "dfPrev.columns = ['Id','PrevCommentCount', 'PrevDislikeCount', 'PrevLikeCount',\n",
    "       'PrevPublishedAt', 'PrevViewCount', 'PrevTitle', 'PublishedYear',\n",
    "       'ChannelAge']\n",
    "dfPrev.to_csv(\"/home/archit/Desktop/ad vs organic/prev_vid_stat.csv\", index=False)\n",
    "dfPrev.shape"
   ]
  },
  {
   "cell_type": "code",
   "execution_count": 271,
   "metadata": {},
   "outputs": [
    {
     "data": {
      "text/html": [
       "<div>\n",
       "<style scoped>\n",
       "    .dataframe tbody tr th:only-of-type {\n",
       "        vertical-align: middle;\n",
       "    }\n",
       "\n",
       "    .dataframe tbody tr th {\n",
       "        vertical-align: top;\n",
       "    }\n",
       "\n",
       "    .dataframe thead th {\n",
       "        text-align: right;\n",
       "    }\n",
       "</style>\n",
       "<table border=\"1\" class=\"dataframe\">\n",
       "  <thead>\n",
       "    <tr style=\"text-align: right;\">\n",
       "      <th></th>\n",
       "      <th>Id</th>\n",
       "      <th>Lang</th>\n",
       "    </tr>\n",
       "  </thead>\n",
       "  <tbody>\n",
       "    <tr>\n",
       "      <th>0</th>\n",
       "      <td>AUzyaHo0QQc</td>\n",
       "      <td>en</td>\n",
       "    </tr>\n",
       "    <tr>\n",
       "      <th>1</th>\n",
       "      <td>1Zgtdb7jp60</td>\n",
       "      <td>en</td>\n",
       "    </tr>\n",
       "    <tr>\n",
       "      <th>2</th>\n",
       "      <td>1Sfii7rnkJQ</td>\n",
       "      <td>en</td>\n",
       "    </tr>\n",
       "    <tr>\n",
       "      <th>3</th>\n",
       "      <td>UUwSKJjx9Go</td>\n",
       "      <td>en</td>\n",
       "    </tr>\n",
       "    <tr>\n",
       "      <th>4</th>\n",
       "      <td>Yl3NGvna2KA</td>\n",
       "      <td>en</td>\n",
       "    </tr>\n",
       "  </tbody>\n",
       "</table>\n",
       "</div>"
      ],
      "text/plain": [
       "            Id Lang\n",
       "0  AUzyaHo0QQc   en\n",
       "1  1Zgtdb7jp60   en\n",
       "2  1Sfii7rnkJQ   en\n",
       "3  UUwSKJjx9Go   en\n",
       "4  Yl3NGvna2KA   en"
      ]
     },
     "execution_count": 271,
     "metadata": {},
     "output_type": "execute_result"
    }
   ],
   "source": [
    "dfLang = pd.read_csv(\"/home/archit/Desktop/ad vs organic/data_and_language.csv\", encoding = 'unicode_escape')\n",
    "dfLang.head()"
   ]
  },
  {
   "cell_type": "code",
   "execution_count": 272,
   "metadata": {},
   "outputs": [],
   "source": [
    "# clickbait.csv have two versions in it .\n",
    "# difference among the two is indexing. Lines from 10684 have inbuilt indexing.\n",
    "# following code was made not considering this\n",
    "# Code uses usecols and concat functioj of pandas libraray"
   ]
  },
  {
   "cell_type": "code",
   "execution_count": 273,
   "metadata": {},
   "outputs": [],
   "source": [
    "#reader = pd.read_csv(\"/home/archit/Desktop/ad vs organic/clickbait.csv\", encoding = 'unicode_escape', usecols = [0, 1], chunksize = 10683)\n",
    "#df5 = pd.concat([chunk.iloc[:10684] for chunk in reader])\n",
    "#df5.head(-1)"
   ]
  },
  {
   "cell_type": "code",
   "execution_count": null,
   "metadata": {},
   "outputs": [],
   "source": [
    "dfClickBait = pd.read_csv(\"/home/archit/Desktop/ad vs organic/clickbait.csv\", encoding = 'unicode_escape', nrows = 10683)\n",
    "dfClickBait.head()"
   ]
  },
  {
   "cell_type": "code",
   "execution_count": 275,
   "metadata": {},
   "outputs": [
    {
     "data": {
      "text/html": [
       "<div>\n",
       "<style scoped>\n",
       "    .dataframe tbody tr th:only-of-type {\n",
       "        vertical-align: middle;\n",
       "    }\n",
       "\n",
       "    .dataframe tbody tr th {\n",
       "        vertical-align: top;\n",
       "    }\n",
       "\n",
       "    .dataframe thead th {\n",
       "        text-align: right;\n",
       "    }\n",
       "</style>\n",
       "<table border=\"1\" class=\"dataframe\">\n",
       "  <thead>\n",
       "    <tr style=\"text-align: right;\">\n",
       "      <th></th>\n",
       "      <th>Channel Id</th>\n",
       "      <th>publishedAt</th>\n",
       "      <th>subscriberCount</th>\n",
       "      <th>channelVideoCount</th>\n",
       "      <th>channelViewCount</th>\n",
       "    </tr>\n",
       "  </thead>\n",
       "  <tbody>\n",
       "    <tr>\n",
       "      <th>0</th>\n",
       "      <td>UCUlTFib0pkPDGBYh7FQfo0A</td>\n",
       "      <td>2011-03-21T19:58:31.000Z</td>\n",
       "      <td>13</td>\n",
       "      <td>16</td>\n",
       "      <td>5803</td>\n",
       "    </tr>\n",
       "    <tr>\n",
       "      <th>1</th>\n",
       "      <td>UCvqHrRPqBw0D9B0wCNVwu8w</td>\n",
       "      <td>2012-01-07T22:35:00.000Z</td>\n",
       "      <td>3682</td>\n",
       "      <td>308</td>\n",
       "      <td>484444</td>\n",
       "    </tr>\n",
       "    <tr>\n",
       "      <th>2</th>\n",
       "      <td>UCatjfgWbdCUxNNAso8z9Usg</td>\n",
       "      <td>2006-10-06T22:31:17.000Z</td>\n",
       "      <td>96</td>\n",
       "      <td>50</td>\n",
       "      <td>143635</td>\n",
       "    </tr>\n",
       "    <tr>\n",
       "      <th>3</th>\n",
       "      <td>UCQa2_4V_9xtLefQGiPXqgNw</td>\n",
       "      <td>2006-10-12T09:10:36.000Z</td>\n",
       "      <td>29</td>\n",
       "      <td>4</td>\n",
       "      <td>11927</td>\n",
       "    </tr>\n",
       "    <tr>\n",
       "      <th>4</th>\n",
       "      <td>UCvzrgT1n8Im2bPogecOOu7A</td>\n",
       "      <td>2006-11-14T23:23:59.000Z</td>\n",
       "      <td>25</td>\n",
       "      <td>118</td>\n",
       "      <td>17209</td>\n",
       "    </tr>\n",
       "  </tbody>\n",
       "</table>\n",
       "</div>"
      ],
      "text/plain": [
       "                 Channel Id               publishedAt  subscriberCount  \\\n",
       "0  UCUlTFib0pkPDGBYh7FQfo0A  2011-03-21T19:58:31.000Z               13   \n",
       "1  UCvqHrRPqBw0D9B0wCNVwu8w  2012-01-07T22:35:00.000Z             3682   \n",
       "2  UCatjfgWbdCUxNNAso8z9Usg  2006-10-06T22:31:17.000Z               96   \n",
       "3  UCQa2_4V_9xtLefQGiPXqgNw  2006-10-12T09:10:36.000Z               29   \n",
       "4  UCvzrgT1n8Im2bPogecOOu7A  2006-11-14T23:23:59.000Z               25   \n",
       "\n",
       "   channelVideoCount  channelViewCount  \n",
       "0                 16              5803  \n",
       "1                308            484444  \n",
       "2                 50            143635  \n",
       "3                  4             11927  \n",
       "4                118             17209  "
      ]
     },
     "execution_count": 275,
     "metadata": {},
     "output_type": "execute_result"
    }
   ],
   "source": [
    "dfChannel = pd.read_csv(\"/home/archit/Desktop/ad vs organic/channelStats.csv\", encoding = 'unicode_escape')\n",
    "dfChannel.head()"
   ]
  },
  {
   "cell_type": "code",
   "execution_count": 276,
   "metadata": {},
   "outputs": [
    {
     "data": {
      "text/html": [
       "<div>\n",
       "<style scoped>\n",
       "    .dataframe tbody tr th:only-of-type {\n",
       "        vertical-align: middle;\n",
       "    }\n",
       "\n",
       "    .dataframe tbody tr th {\n",
       "        vertical-align: top;\n",
       "    }\n",
       "\n",
       "    .dataframe thead th {\n",
       "        text-align: right;\n",
       "    }\n",
       "</style>\n",
       "<table border=\"1\" class=\"dataframe\">\n",
       "  <thead>\n",
       "    <tr style=\"text-align: right;\">\n",
       "      <th></th>\n",
       "      <th>Id</th>\n",
       "      <th>Title</th>\n",
       "      <th>Description</th>\n",
       "      <th>LikeCount</th>\n",
       "      <th>DislikeCount</th>\n",
       "      <th>ViewCount</th>\n",
       "      <th>FavoriteCount</th>\n",
       "      <th>CommentCount</th>\n",
       "      <th>PublishedAt</th>\n",
       "      <th>Channel Id</th>\n",
       "      <th>...</th>\n",
       "      <th>PrevPublishedAt</th>\n",
       "      <th>PrevViewCount</th>\n",
       "      <th>PrevTitle</th>\n",
       "      <th>PublishedYear</th>\n",
       "      <th>ChannelAge</th>\n",
       "      <th>Title-Clickbait</th>\n",
       "      <th>publishedAt</th>\n",
       "      <th>subscriberCount</th>\n",
       "      <th>channelVideoCount</th>\n",
       "      <th>channelViewCount</th>\n",
       "    </tr>\n",
       "  </thead>\n",
       "  <tbody>\n",
       "    <tr>\n",
       "      <th>0</th>\n",
       "      <td>AUzyaHo0QQc</td>\n",
       "      <td>b'300 pushups a day for 20 days!! - Results!!'</td>\n",
       "      <td>b'**NEW** (2016) Abs Workout for 30 Days | htt...</td>\n",
       "      <td>40408</td>\n",
       "      <td>10312</td>\n",
       "      <td>13577683</td>\n",
       "      <td>0</td>\n",
       "      <td>8236</td>\n",
       "      <td>2010-07-22T10:28:30.000Z</td>\n",
       "      <td>UCPE_dNzOtjpP0vUA6papYaw</td>\n",
       "      <td>...</td>\n",
       "      <td>NaN</td>\n",
       "      <td>NaN</td>\n",
       "      <td>NaN</td>\n",
       "      <td>NaN</td>\n",
       "      <td>NaN</td>\n",
       "      <td>0.923196</td>\n",
       "      <td>2009-12-22T03:47:24.000Z</td>\n",
       "      <td>47571</td>\n",
       "      <td>23</td>\n",
       "      <td>16245729</td>\n",
       "    </tr>\n",
       "    <tr>\n",
       "      <th>1</th>\n",
       "      <td>1Zgtdb7jp60</td>\n",
       "      <td>b'John Cena - gym'</td>\n",
       "      <td>b\"Follow John Cena on twitter: http://www.twit...</td>\n",
       "      <td>37867</td>\n",
       "      <td>1486</td>\n",
       "      <td>9986096</td>\n",
       "      <td>0</td>\n",
       "      <td>2563</td>\n",
       "      <td>2012-02-20T13:55:03.000Z</td>\n",
       "      <td>UCpAxDQTpPNgc6kFiBRNO_1A</td>\n",
       "      <td>...</td>\n",
       "      <td>NaN</td>\n",
       "      <td>NaN</td>\n",
       "      <td>NaN</td>\n",
       "      <td>NaN</td>\n",
       "      <td>NaN</td>\n",
       "      <td>0.106193</td>\n",
       "      <td>2011-11-11T20:58:03.000Z</td>\n",
       "      <td>109298</td>\n",
       "      <td>6</td>\n",
       "      <td>47779958</td>\n",
       "    </tr>\n",
       "    <tr>\n",
       "      <th>2</th>\n",
       "      <td>1Sfii7rnkJQ</td>\n",
       "      <td>b'Bodybuilding Motivation - No Time To Waste'</td>\n",
       "      <td>b\"Follow me:\\nhttp://instagram.com/shaqx.bb\\nh...</td>\n",
       "      <td>17688</td>\n",
       "      <td>1291</td>\n",
       "      <td>8532402</td>\n",
       "      <td>0</td>\n",
       "      <td>1515</td>\n",
       "      <td>2012-01-18T15:06:01.000Z</td>\n",
       "      <td>UC3uDucFPe-E0I6CfxtHWZ6w</td>\n",
       "      <td>...</td>\n",
       "      <td>2011-12-27T12:38:06.000Z</td>\n",
       "      <td>11719659.0</td>\n",
       "      <td>Bodybuilding Motivation - Pain is Temporary</td>\n",
       "      <td>2012.0</td>\n",
       "      <td>2011.0</td>\n",
       "      <td>0.155738</td>\n",
       "      <td>2011-07-09T16:13:17.000Z</td>\n",
       "      <td>218558</td>\n",
       "      <td>19</td>\n",
       "      <td>75698414</td>\n",
       "    </tr>\n",
       "    <tr>\n",
       "      <th>3</th>\n",
       "      <td>UUwSKJjx9Go</td>\n",
       "      <td>b'Most Powerful Home Chest Workout Ever : Buil...</td>\n",
       "      <td>b'http://www.6weeksixpack.com This is one of t...</td>\n",
       "      <td>46293</td>\n",
       "      <td>2589</td>\n",
       "      <td>8301027</td>\n",
       "      <td>0</td>\n",
       "      <td>1490</td>\n",
       "      <td>2013-10-17T21:56:53.000Z</td>\n",
       "      <td>UCsiNPbLbwZk43FOCRrdKBlA</td>\n",
       "      <td>...</td>\n",
       "      <td>NaN</td>\n",
       "      <td>NaN</td>\n",
       "      <td>NaN</td>\n",
       "      <td>NaN</td>\n",
       "      <td>NaN</td>\n",
       "      <td>0.075479</td>\n",
       "      <td>2006-08-07T08:12:53.000Z</td>\n",
       "      <td>1145468</td>\n",
       "      <td>585</td>\n",
       "      <td>186804665</td>\n",
       "    </tr>\n",
       "    <tr>\n",
       "      <th>4</th>\n",
       "      <td>Yl3NGvna2KA</td>\n",
       "      <td>b'Greg Plitt Best of The Best Workout Video Pr...</td>\n",
       "      <td>b'SIGN UP TODAY - http://bit.ly/jointheranks\\r...</td>\n",
       "      <td>24784</td>\n",
       "      <td>1134</td>\n",
       "      <td>7141821</td>\n",
       "      <td>0</td>\n",
       "      <td>575</td>\n",
       "      <td>2011-03-30T18:57:57.000Z</td>\n",
       "      <td>UCU6WaCIOCL_eToBcsBYFwAQ</td>\n",
       "      <td>...</td>\n",
       "      <td>NaN</td>\n",
       "      <td>NaN</td>\n",
       "      <td>NaN</td>\n",
       "      <td>NaN</td>\n",
       "      <td>NaN</td>\n",
       "      <td>0.351647</td>\n",
       "      <td>2009-10-24T03:18:10.000Z</td>\n",
       "      <td>158091</td>\n",
       "      <td>22</td>\n",
       "      <td>9908854</td>\n",
       "    </tr>\n",
       "  </tbody>\n",
       "</table>\n",
       "<p>5 rows × 27 columns</p>\n",
       "</div>"
      ],
      "text/plain": [
       "            Id                                              Title  \\\n",
       "0  AUzyaHo0QQc     b'300 pushups a day for 20 days!! - Results!!'   \n",
       "1  1Zgtdb7jp60                                 b'John Cena - gym'   \n",
       "2  1Sfii7rnkJQ      b'Bodybuilding Motivation - No Time To Waste'   \n",
       "3  UUwSKJjx9Go  b'Most Powerful Home Chest Workout Ever : Buil...   \n",
       "4  Yl3NGvna2KA  b'Greg Plitt Best of The Best Workout Video Pr...   \n",
       "\n",
       "                                         Description  LikeCount  DislikeCount  \\\n",
       "0  b'**NEW** (2016) Abs Workout for 30 Days | htt...      40408         10312   \n",
       "1  b\"Follow John Cena on twitter: http://www.twit...      37867          1486   \n",
       "2  b\"Follow me:\\nhttp://instagram.com/shaqx.bb\\nh...      17688          1291   \n",
       "3  b'http://www.6weeksixpack.com This is one of t...      46293          2589   \n",
       "4  b'SIGN UP TODAY - http://bit.ly/jointheranks\\r...      24784          1134   \n",
       "\n",
       "   ViewCount  FavoriteCount  CommentCount               PublishedAt  \\\n",
       "0   13577683              0          8236  2010-07-22T10:28:30.000Z   \n",
       "1    9986096              0          2563  2012-02-20T13:55:03.000Z   \n",
       "2    8532402              0          1515  2012-01-18T15:06:01.000Z   \n",
       "3    8301027              0          1490  2013-10-17T21:56:53.000Z   \n",
       "4    7141821              0           575  2011-03-30T18:57:57.000Z   \n",
       "\n",
       "                 Channel Id       ...                  PrevPublishedAt  \\\n",
       "0  UCPE_dNzOtjpP0vUA6papYaw       ...                              NaN   \n",
       "1  UCpAxDQTpPNgc6kFiBRNO_1A       ...                              NaN   \n",
       "2  UC3uDucFPe-E0I6CfxtHWZ6w       ...         2011-12-27T12:38:06.000Z   \n",
       "3  UCsiNPbLbwZk43FOCRrdKBlA       ...                              NaN   \n",
       "4  UCU6WaCIOCL_eToBcsBYFwAQ       ...                              NaN   \n",
       "\n",
       "  PrevViewCount                                    PrevTitle PublishedYear  \\\n",
       "0           NaN                                          NaN           NaN   \n",
       "1           NaN                                          NaN           NaN   \n",
       "2    11719659.0  Bodybuilding Motivation - Pain is Temporary        2012.0   \n",
       "3           NaN                                          NaN           NaN   \n",
       "4           NaN                                          NaN           NaN   \n",
       "\n",
       "   ChannelAge  Title-Clickbait               publishedAt subscriberCount  \\\n",
       "0         NaN         0.923196  2009-12-22T03:47:24.000Z           47571   \n",
       "1         NaN         0.106193  2011-11-11T20:58:03.000Z          109298   \n",
       "2      2011.0         0.155738  2011-07-09T16:13:17.000Z          218558   \n",
       "3         NaN         0.075479  2006-08-07T08:12:53.000Z         1145468   \n",
       "4         NaN         0.351647  2009-10-24T03:18:10.000Z          158091   \n",
       "\n",
       "   channelVideoCount channelViewCount  \n",
       "0                 23         16245729  \n",
       "1                  6         47779958  \n",
       "2                 19         75698414  \n",
       "3                585        186804665  \n",
       "4                 22          9908854  \n",
       "\n",
       "[5 rows x 27 columns]"
      ]
     },
     "execution_count": 276,
     "metadata": {},
     "output_type": "execute_result"
    }
   ],
   "source": [
    "dfData = dfData.merge(dfLang, on = 'Id', how = 'left')\n",
    "dfData = dfData.merge(dfPrev, on = 'Id', how = 'left')\n",
    "dfData = dfData.merge(dfClickBait, on = 'Id', how = 'left')\n",
    "dfData = dfData.merge(dfChannel, on = 'Channel Id', how = 'left')\n",
    "dfData.head()"
   ]
  },
  {
   "cell_type": "code",
   "execution_count": 277,
   "metadata": {},
   "outputs": [
    {
     "data": {
      "text/plain": [
       "1670"
      ]
     },
     "execution_count": 277,
     "metadata": {},
     "output_type": "execute_result"
    }
   ],
   "source": [
    "indices = list(dfPrev['Id'])\n",
    "len(indices)"
   ]
  },
  {
   "cell_type": "code",
   "execution_count": 278,
   "metadata": {},
   "outputs": [],
   "source": [
    "for index in range(0,len(indices)):\n",
    "    #with open('/home/archit/Desktop/ad vs organic/prev_vid_stat.csv') as f:\n",
    "    dfData.loc[dfData['Id'] == indices[index],].to_csv('/home/archit/Desktop/ad vs organic/cleaned_data2.csv', header=False, mode = 'a', index = False)"
   ]
  },
  {
   "cell_type": "code",
   "execution_count": 279,
   "metadata": {},
   "outputs": [],
   "source": [
    "dfData = pd.read_csv('/home/archit/Desktop/ad vs organic/cleaned_data2.csv')\n",
    "dfData.columns = ['Id', 'Title', 'Description', 'LikeCount', 'DislikeCount', 'ViewCount',\n",
    "       'FavoriteCount', 'CommentCount', 'PublishedAt', 'Channel Id',\n",
    "       'Channel Title', 'Tags', 'Thumbnail Default', 'Lang',\n",
    "       'PrevCommentCount', 'PrevDislikeCount', 'PrevLikeCount',\n",
    "       'PrevPublishedAt', 'PrevViewCount', 'PrevTitle', 'PublishedYear',\n",
    "       'ChannelAge', 'Title-Clickbait', 'publishedAt', 'subscriberCount',\n",
    "       'channelVideoCount', 'channelViewCount']\n",
    "dfData.drop_duplicates(inplace = True)"
   ]
  },
  {
   "cell_type": "code",
   "execution_count": 280,
   "metadata": {},
   "outputs": [
    {
     "data": {
      "text/plain": [
       "Index(['Id', 'Title', 'Description', 'LikeCount', 'DislikeCount', 'ViewCount',\n",
       "       'FavoriteCount', 'CommentCount', 'PublishedAt', 'Channel Id',\n",
       "       'Channel Title', 'Tags', 'Thumbnail Default', 'Lang',\n",
       "       'PrevCommentCount', 'PrevDislikeCount', 'PrevLikeCount',\n",
       "       'PrevPublishedAt', 'PrevViewCount', 'PrevTitle', 'PublishedYear',\n",
       "       'ChannelAge', 'Title-Clickbait', 'publishedAt', 'subscriberCount',\n",
       "       'channelVideoCount', 'channelViewCount'],\n",
       "      dtype='object')"
      ]
     },
     "execution_count": 280,
     "metadata": {},
     "output_type": "execute_result"
    }
   ],
   "source": [
    "dfData.columns"
   ]
  },
  {
   "cell_type": "code",
   "execution_count": 281,
   "metadata": {},
   "outputs": [
    {
     "data": {
      "text/html": [
       "<div>\n",
       "<style scoped>\n",
       "    .dataframe tbody tr th:only-of-type {\n",
       "        vertical-align: middle;\n",
       "    }\n",
       "\n",
       "    .dataframe tbody tr th {\n",
       "        vertical-align: top;\n",
       "    }\n",
       "\n",
       "    .dataframe thead th {\n",
       "        text-align: right;\n",
       "    }\n",
       "</style>\n",
       "<table border=\"1\" class=\"dataframe\">\n",
       "  <thead>\n",
       "    <tr style=\"text-align: right;\">\n",
       "      <th></th>\n",
       "      <th>Id</th>\n",
       "      <th>Title</th>\n",
       "      <th>Description</th>\n",
       "      <th>LikeCount</th>\n",
       "      <th>DislikeCount</th>\n",
       "      <th>ViewCount</th>\n",
       "      <th>FavoriteCount</th>\n",
       "      <th>CommentCount</th>\n",
       "      <th>PublishedAt</th>\n",
       "      <th>Channel Id</th>\n",
       "      <th>...</th>\n",
       "      <th>PrevPublishedAt</th>\n",
       "      <th>PrevViewCount</th>\n",
       "      <th>PrevTitle</th>\n",
       "      <th>PublishedYear</th>\n",
       "      <th>ChannelAge</th>\n",
       "      <th>Title-Clickbait</th>\n",
       "      <th>publishedAt</th>\n",
       "      <th>subscriberCount</th>\n",
       "      <th>channelVideoCount</th>\n",
       "      <th>channelViewCount</th>\n",
       "    </tr>\n",
       "  </thead>\n",
       "  <tbody>\n",
       "    <tr>\n",
       "      <th>0</th>\n",
       "      <td>EBVTMSKY-Cw</td>\n",
       "      <td>b'BODYBUILDING MOTIVATION - How Bad Do You Wan...</td>\n",
       "      <td>b'Subscribe and Stay Tuned! Visit my channel a...</td>\n",
       "      <td>20440</td>\n",
       "      <td>1465</td>\n",
       "      <td>6799110</td>\n",
       "      <td>0</td>\n",
       "      <td>2397</td>\n",
       "      <td>2012-02-19T08:32:48.000Z</td>\n",
       "      <td>UCiWEGEhbwxz9cb0uTbnUepw</td>\n",
       "      <td>...</td>\n",
       "      <td>2012-01-25T13:53:09.000Z</td>\n",
       "      <td>628378.0</td>\n",
       "      <td>BODYBUILDING MOTIVATION - The Power Of Faith</td>\n",
       "      <td>2012.0</td>\n",
       "      <td>2010.0</td>\n",
       "      <td>0.733219</td>\n",
       "      <td>2010-11-10T16:53:31.000Z</td>\n",
       "      <td>54796</td>\n",
       "      <td>17</td>\n",
       "      <td>26195188</td>\n",
       "    </tr>\n",
       "    <tr>\n",
       "      <th>1</th>\n",
       "      <td>VnNH6OMqT9E</td>\n",
       "      <td>b'Jeff Seid Transformation 17 years old'</td>\n",
       "      <td>b\"How ya doin' ;)\\nwww.jeffseid.com\\n\\n\\nLink ...</td>\n",
       "      <td>8807</td>\n",
       "      <td>2094</td>\n",
       "      <td>3669026</td>\n",
       "      <td>0</td>\n",
       "      <td>4598</td>\n",
       "      <td>2012-05-07T23:49:57.000Z</td>\n",
       "      <td>UC5I7lMWWfZQ_RPjyNnh2ntg</td>\n",
       "      <td>...</td>\n",
       "      <td>0</td>\n",
       "      <td>0.0</td>\n",
       "      <td>0</td>\n",
       "      <td>2012.0</td>\n",
       "      <td>2009.0</td>\n",
       "      <td>0.639557</td>\n",
       "      <td>2009-06-16T22:46:28.000Z</td>\n",
       "      <td>7780</td>\n",
       "      <td>1</td>\n",
       "      <td>3670089</td>\n",
       "    </tr>\n",
       "    <tr>\n",
       "      <th>2</th>\n",
       "      <td>isb4txkVPrk</td>\n",
       "      <td>b'Bodybuilding Motivation - Collapse (MPW)'</td>\n",
       "      <td>b'Like/fav/sub! Visit http://www.cutandjacked....</td>\n",
       "      <td>4686</td>\n",
       "      <td>353</td>\n",
       "      <td>3477038</td>\n",
       "      <td>0</td>\n",
       "      <td>901</td>\n",
       "      <td>2011-10-06T03:17:38.000Z</td>\n",
       "      <td>UClWYqSmEaMbHMfAgNHhn7nw</td>\n",
       "      <td>...</td>\n",
       "      <td>2011-09-26T00:33:38.000Z</td>\n",
       "      <td>58192.0</td>\n",
       "      <td>Bodybuilding Motivation - I Choose To Rise (MPW)</td>\n",
       "      <td>2011.0</td>\n",
       "      <td>2011.0</td>\n",
       "      <td>0.197527</td>\n",
       "      <td>2011-08-05T07:24:26.000Z</td>\n",
       "      <td>8963</td>\n",
       "      <td>23</td>\n",
       "      <td>5852831</td>\n",
       "    </tr>\n",
       "    <tr>\n",
       "      <th>3</th>\n",
       "      <td>o-IVVhPrZ0A</td>\n",
       "      <td>b'BODYBUILDING TILL IM DEAD'</td>\n",
       "      <td>b'http://www.professionalmuscle.com - Chat Liv...</td>\n",
       "      <td>15630</td>\n",
       "      <td>496</td>\n",
       "      <td>3191046</td>\n",
       "      <td>0</td>\n",
       "      <td>1928</td>\n",
       "      <td>2012-08-26T11:31:18.000Z</td>\n",
       "      <td>UCyiCdHZb1iNaQojRzRDTjNg</td>\n",
       "      <td>...</td>\n",
       "      <td>2012-04-30T10:02:07.000Z</td>\n",
       "      <td>1710615.0</td>\n",
       "      <td>I can't stop BODYBUILDING</td>\n",
       "      <td>2012.0</td>\n",
       "      <td>2010.0</td>\n",
       "      <td>0.037317</td>\n",
       "      <td>2010-10-22T17:33:31.000Z</td>\n",
       "      <td>157791</td>\n",
       "      <td>47</td>\n",
       "      <td>50255277</td>\n",
       "    </tr>\n",
       "    <tr>\n",
       "      <th>4</th>\n",
       "      <td>L4S7sYup_Rw</td>\n",
       "      <td>b'Stomach Exercises For Sexy Abs'</td>\n",
       "      <td>b'http://www.2losebellyfat.com/ - Visit for mo...</td>\n",
       "      <td>5912</td>\n",
       "      <td>223</td>\n",
       "      <td>2211906</td>\n",
       "      <td>0</td>\n",
       "      <td>456</td>\n",
       "      <td>2009-06-26T23:28:14.000Z</td>\n",
       "      <td>UC271MxMmsFrL6QfDzpk956g</td>\n",
       "      <td>...</td>\n",
       "      <td>0</td>\n",
       "      <td>0.0</td>\n",
       "      <td>0</td>\n",
       "      <td>2009.0</td>\n",
       "      <td>2009.0</td>\n",
       "      <td>0.372491</td>\n",
       "      <td>2009-06-26T23:13:26.000Z</td>\n",
       "      <td>3878</td>\n",
       "      <td>1</td>\n",
       "      <td>2213079</td>\n",
       "    </tr>\n",
       "  </tbody>\n",
       "</table>\n",
       "<p>5 rows × 27 columns</p>\n",
       "</div>"
      ],
      "text/plain": [
       "            Id                                              Title  \\\n",
       "0  EBVTMSKY-Cw  b'BODYBUILDING MOTIVATION - How Bad Do You Wan...   \n",
       "1  VnNH6OMqT9E           b'Jeff Seid Transformation 17 years old'   \n",
       "2  isb4txkVPrk        b'Bodybuilding Motivation - Collapse (MPW)'   \n",
       "3  o-IVVhPrZ0A                       b'BODYBUILDING TILL IM DEAD'   \n",
       "4  L4S7sYup_Rw                  b'Stomach Exercises For Sexy Abs'   \n",
       "\n",
       "                                         Description  LikeCount  DislikeCount  \\\n",
       "0  b'Subscribe and Stay Tuned! Visit my channel a...      20440          1465   \n",
       "1  b\"How ya doin' ;)\\nwww.jeffseid.com\\n\\n\\nLink ...       8807          2094   \n",
       "2  b'Like/fav/sub! Visit http://www.cutandjacked....       4686           353   \n",
       "3  b'http://www.professionalmuscle.com - Chat Liv...      15630           496   \n",
       "4  b'http://www.2losebellyfat.com/ - Visit for mo...       5912           223   \n",
       "\n",
       "   ViewCount  FavoriteCount  CommentCount               PublishedAt  \\\n",
       "0    6799110              0          2397  2012-02-19T08:32:48.000Z   \n",
       "1    3669026              0          4598  2012-05-07T23:49:57.000Z   \n",
       "2    3477038              0           901  2011-10-06T03:17:38.000Z   \n",
       "3    3191046              0          1928  2012-08-26T11:31:18.000Z   \n",
       "4    2211906              0           456  2009-06-26T23:28:14.000Z   \n",
       "\n",
       "                 Channel Id       ...                  PrevPublishedAt  \\\n",
       "0  UCiWEGEhbwxz9cb0uTbnUepw       ...         2012-01-25T13:53:09.000Z   \n",
       "1  UC5I7lMWWfZQ_RPjyNnh2ntg       ...                                0   \n",
       "2  UClWYqSmEaMbHMfAgNHhn7nw       ...         2011-09-26T00:33:38.000Z   \n",
       "3  UCyiCdHZb1iNaQojRzRDTjNg       ...         2012-04-30T10:02:07.000Z   \n",
       "4  UC271MxMmsFrL6QfDzpk956g       ...                                0   \n",
       "\n",
       "  PrevViewCount                                         PrevTitle  \\\n",
       "0      628378.0      BODYBUILDING MOTIVATION - The Power Of Faith   \n",
       "1           0.0                                                 0   \n",
       "2       58192.0  Bodybuilding Motivation - I Choose To Rise (MPW)   \n",
       "3     1710615.0                         I can't stop BODYBUILDING   \n",
       "4           0.0                                                 0   \n",
       "\n",
       "  PublishedYear  ChannelAge  Title-Clickbait               publishedAt  \\\n",
       "0        2012.0      2010.0         0.733219  2010-11-10T16:53:31.000Z   \n",
       "1        2012.0      2009.0         0.639557  2009-06-16T22:46:28.000Z   \n",
       "2        2011.0      2011.0         0.197527  2011-08-05T07:24:26.000Z   \n",
       "3        2012.0      2010.0         0.037317  2010-10-22T17:33:31.000Z   \n",
       "4        2009.0      2009.0         0.372491  2009-06-26T23:13:26.000Z   \n",
       "\n",
       "  subscriberCount  channelVideoCount channelViewCount  \n",
       "0           54796                 17         26195188  \n",
       "1            7780                  1          3670089  \n",
       "2            8963                 23          5852831  \n",
       "3          157791                 47         50255277  \n",
       "4            3878                  1          2213079  \n",
       "\n",
       "[5 rows x 27 columns]"
      ]
     },
     "execution_count": 281,
     "metadata": {},
     "output_type": "execute_result"
    }
   ],
   "source": [
    "dfData.head()"
   ]
  },
  {
   "cell_type": "code",
   "execution_count": 282,
   "metadata": {},
   "outputs": [],
   "source": [
    "dfData = dfData[dfData['channelVideoCount'] < 2000]\n",
    "dfData = dfData[dfData['subscriberCount'] > 0]\n",
    "dfData = dfData[dfData['Lang'] == 'en']"
   ]
  },
  {
   "cell_type": "code",
   "execution_count": 283,
   "metadata": {},
   "outputs": [
    {
     "data": {
      "text/plain": [
       "(1656, 27)"
      ]
     },
     "execution_count": 283,
     "metadata": {},
     "output_type": "execute_result"
    }
   ],
   "source": [
    "dfData.shape"
   ]
  },
  {
   "cell_type": "code",
   "execution_count": 284,
   "metadata": {},
   "outputs": [
    {
     "data": {
      "text/plain": [
       "pandas.core.series.Series"
      ]
     },
     "execution_count": 284,
     "metadata": {},
     "output_type": "execute_result"
    }
   ],
   "source": [
    "type(dfData['Title'])"
   ]
  },
  {
   "cell_type": "code",
   "execution_count": 285,
   "metadata": {},
   "outputs": [],
   "source": [
    "# Conver to lower case \n",
    "dfData['Title'] = dfData['Title'].str.lower()\n",
    "\n",
    "\n",
    "# How To\n",
    "dfData['HowTo'] = (dfData['Title'].str.contains('how')  | \n",
    "                       dfData['Tags'].str.contains('how'))\n",
    "\n",
    "# Motivational\n",
    "dfData['Motivation'] = (dfData['Title'].str.contains('motivation')  | \n",
    "                       dfData['Tags'].str.contains('motivation')  \n",
    "                      )\n",
    "\n",
    "\n",
    "# Transformation\n",
    "dfData['Transform'] = (dfData['Title'].str.contains('transform')  | \n",
    "                       dfData['Tags'].str.contains('transform')  \n",
    "                      )\n",
    "\n",
    "# Abs Workout\n",
    "dfData['Abs Video'] = (dfData['Title'].str.contains('abs')  | \n",
    "                       dfData['Title'].str.contains('six') | \n",
    "                       dfData['Title'].str.contains(' 6') | \n",
    "                       dfData['Title'].str.contains('abdomen') |\n",
    "                       dfData['Tags'].str.contains('abs')  | \n",
    "                       dfData['Tags'].str.contains('six') | \n",
    "                       dfData['Tags'].str.contains(' 6') | \n",
    "                       dfData['Tags'].str.contains('abdomen') \n",
    "                      )\n",
    "        \n",
    "# Chest Workout\n",
    "dfData['Chest Video'] = (dfData['Title'].str.contains('chest')  |\n",
    "                         dfData['Title'].str.contains('pushup') | \n",
    "                         dfData['Title'].str.contains('bench') | \n",
    "                         dfData['Title'].str.contains('bench') | \n",
    "                         dfData['Title'].str.contains('push up') |\n",
    "                         dfData['Title'].str.contains('dumbell press') |\n",
    "                         dfData['Tags'].str.contains('chest')  |\n",
    "                         dfData['Tags'].str.contains('pushup') | \n",
    "                         dfData['Tags'].str.contains('bench') | \n",
    "                         dfData['Tags'].str.contains('bench') | \n",
    "                         dfData['Tags'].str.contains('push up') |\n",
    "                         dfData['Tags'].str.contains('dumbell press'))\n",
    "\n",
    "# Back Workouts \n",
    "dfData['Back Video'] = (dfData['Title'].str.contains('back') | \n",
    "                        dfData['Title'].str.contains('pull up') | \n",
    "                        dfData['Title'].str.contains('chin up')  | \n",
    "                        dfData['Title'].str.contains('deadlift') | \n",
    "                        dfData['Tags'].str.contains('back') | \n",
    "                        dfData['Tags'].str.contains('pull up') | \n",
    "                        dfData['Tags'].str.contains('chin up')  | \n",
    "                        dfData['Tags'].str.contains('deadlift'))\n",
    "\n",
    "# Leg Workouts\n",
    "dfData['Legs Video'] = (dfData['Title'].str.contains('leg') | \n",
    "                        dfData['Title'].str.contains('squat') | \n",
    "                        dfData['Title'].str.contains('butt') | \n",
    "                        dfData['Title'].str.contains('quad') | \n",
    "                        dfData['Title'].str.contains('calve') |\n",
    "                       dfData['Tags'].str.contains('leg') | \n",
    "                        dfData['Tags'].str.contains('squat') | \n",
    "                        dfData['Tags'].str.contains('butt') | \n",
    "                        dfData['Tags'].str.contains('quad') | \n",
    "                        dfData['Tags'].str.contains('calve') )\n",
    "\n",
    "# Arm Workout\n",
    "dfData['Arm Video'] = (dfData['Title'].str.contains('shoulder') | \n",
    "                       dfData['Title'].str.contains('arm') | \n",
    "                       dfData['Title'].str.contains('bicep')  |\n",
    "                       dfData['Title'].str.contains('tricep') | \n",
    "                       dfData['Title'].str.contains('delt') |\n",
    "                       dfData['Tags'].str.contains('shoulder') | \n",
    "                       dfData['Tags'].str.contains('arm') | \n",
    "                       dfData['Tags'].str.contains('bicep')  |\n",
    "                       dfData['Tags'].str.contains('tricep') | \n",
    "                       dfData['Tags'].str.contains('delt'))"
   ]
  },
  {
   "cell_type": "code",
   "execution_count": 286,
   "metadata": {},
   "outputs": [
    {
     "data": {
      "text/html": [
       "<div>\n",
       "<style scoped>\n",
       "    .dataframe tbody tr th:only-of-type {\n",
       "        vertical-align: middle;\n",
       "    }\n",
       "\n",
       "    .dataframe tbody tr th {\n",
       "        vertical-align: top;\n",
       "    }\n",
       "\n",
       "    .dataframe thead th {\n",
       "        text-align: right;\n",
       "    }\n",
       "</style>\n",
       "<table border=\"1\" class=\"dataframe\">\n",
       "  <thead>\n",
       "    <tr style=\"text-align: right;\">\n",
       "      <th></th>\n",
       "      <th>Id</th>\n",
       "      <th>Title</th>\n",
       "      <th>Description</th>\n",
       "      <th>LikeCount</th>\n",
       "      <th>DislikeCount</th>\n",
       "      <th>ViewCount</th>\n",
       "      <th>FavoriteCount</th>\n",
       "      <th>CommentCount</th>\n",
       "      <th>PublishedAt</th>\n",
       "      <th>Channel Id</th>\n",
       "      <th>...</th>\n",
       "      <th>channelVideoCount</th>\n",
       "      <th>channelViewCount</th>\n",
       "      <th>HowTo</th>\n",
       "      <th>Motivation</th>\n",
       "      <th>Transform</th>\n",
       "      <th>Abs Video</th>\n",
       "      <th>Chest Video</th>\n",
       "      <th>Back Video</th>\n",
       "      <th>Legs Video</th>\n",
       "      <th>Arm Video</th>\n",
       "    </tr>\n",
       "  </thead>\n",
       "  <tbody>\n",
       "    <tr>\n",
       "      <th>0</th>\n",
       "      <td>EBVTMSKY-Cw</td>\n",
       "      <td>b'bodybuilding motivation - how bad do you wan...</td>\n",
       "      <td>b'Subscribe and Stay Tuned! Visit my channel a...</td>\n",
       "      <td>20440</td>\n",
       "      <td>1465</td>\n",
       "      <td>6799110</td>\n",
       "      <td>0</td>\n",
       "      <td>2397</td>\n",
       "      <td>2012-02-19T08:32:48.000Z</td>\n",
       "      <td>UCiWEGEhbwxz9cb0uTbnUepw</td>\n",
       "      <td>...</td>\n",
       "      <td>17</td>\n",
       "      <td>26195188</td>\n",
       "      <td>True</td>\n",
       "      <td>True</td>\n",
       "      <td>False</td>\n",
       "      <td>False</td>\n",
       "      <td>True</td>\n",
       "      <td>True</td>\n",
       "      <td>True</td>\n",
       "      <td>True</td>\n",
       "    </tr>\n",
       "    <tr>\n",
       "      <th>1</th>\n",
       "      <td>VnNH6OMqT9E</td>\n",
       "      <td>b'jeff seid transformation 17 years old'</td>\n",
       "      <td>b\"How ya doin' ;)\\nwww.jeffseid.com\\n\\n\\nLink ...</td>\n",
       "      <td>8807</td>\n",
       "      <td>2094</td>\n",
       "      <td>3669026</td>\n",
       "      <td>0</td>\n",
       "      <td>4598</td>\n",
       "      <td>2012-05-07T23:49:57.000Z</td>\n",
       "      <td>UC5I7lMWWfZQ_RPjyNnh2ntg</td>\n",
       "      <td>...</td>\n",
       "      <td>1</td>\n",
       "      <td>3670089</td>\n",
       "      <td>False</td>\n",
       "      <td>False</td>\n",
       "      <td>True</td>\n",
       "      <td>True</td>\n",
       "      <td>False</td>\n",
       "      <td>False</td>\n",
       "      <td>False</td>\n",
       "      <td>False</td>\n",
       "    </tr>\n",
       "    <tr>\n",
       "      <th>2</th>\n",
       "      <td>isb4txkVPrk</td>\n",
       "      <td>b'bodybuilding motivation - collapse (mpw)'</td>\n",
       "      <td>b'Like/fav/sub! Visit http://www.cutandjacked....</td>\n",
       "      <td>4686</td>\n",
       "      <td>353</td>\n",
       "      <td>3477038</td>\n",
       "      <td>0</td>\n",
       "      <td>901</td>\n",
       "      <td>2011-10-06T03:17:38.000Z</td>\n",
       "      <td>UClWYqSmEaMbHMfAgNHhn7nw</td>\n",
       "      <td>...</td>\n",
       "      <td>23</td>\n",
       "      <td>5852831</td>\n",
       "      <td>False</td>\n",
       "      <td>True</td>\n",
       "      <td>False</td>\n",
       "      <td>False</td>\n",
       "      <td>False</td>\n",
       "      <td>False</td>\n",
       "      <td>False</td>\n",
       "      <td>False</td>\n",
       "    </tr>\n",
       "    <tr>\n",
       "      <th>3</th>\n",
       "      <td>o-IVVhPrZ0A</td>\n",
       "      <td>b'bodybuilding till im dead'</td>\n",
       "      <td>b'http://www.professionalmuscle.com - Chat Liv...</td>\n",
       "      <td>15630</td>\n",
       "      <td>496</td>\n",
       "      <td>3191046</td>\n",
       "      <td>0</td>\n",
       "      <td>1928</td>\n",
       "      <td>2012-08-26T11:31:18.000Z</td>\n",
       "      <td>UCyiCdHZb1iNaQojRzRDTjNg</td>\n",
       "      <td>...</td>\n",
       "      <td>47</td>\n",
       "      <td>50255277</td>\n",
       "      <td>False</td>\n",
       "      <td>True</td>\n",
       "      <td>False</td>\n",
       "      <td>False</td>\n",
       "      <td>False</td>\n",
       "      <td>False</td>\n",
       "      <td>False</td>\n",
       "      <td>False</td>\n",
       "    </tr>\n",
       "    <tr>\n",
       "      <th>4</th>\n",
       "      <td>L4S7sYup_Rw</td>\n",
       "      <td>b'stomach exercises for sexy abs'</td>\n",
       "      <td>b'http://www.2losebellyfat.com/ - Visit for mo...</td>\n",
       "      <td>5912</td>\n",
       "      <td>223</td>\n",
       "      <td>2211906</td>\n",
       "      <td>0</td>\n",
       "      <td>456</td>\n",
       "      <td>2009-06-26T23:28:14.000Z</td>\n",
       "      <td>UC271MxMmsFrL6QfDzpk956g</td>\n",
       "      <td>...</td>\n",
       "      <td>1</td>\n",
       "      <td>2213079</td>\n",
       "      <td>False</td>\n",
       "      <td>False</td>\n",
       "      <td>False</td>\n",
       "      <td>True</td>\n",
       "      <td>False</td>\n",
       "      <td>False</td>\n",
       "      <td>False</td>\n",
       "      <td>False</td>\n",
       "    </tr>\n",
       "  </tbody>\n",
       "</table>\n",
       "<p>5 rows × 35 columns</p>\n",
       "</div>"
      ],
      "text/plain": [
       "            Id                                              Title  \\\n",
       "0  EBVTMSKY-Cw  b'bodybuilding motivation - how bad do you wan...   \n",
       "1  VnNH6OMqT9E           b'jeff seid transformation 17 years old'   \n",
       "2  isb4txkVPrk        b'bodybuilding motivation - collapse (mpw)'   \n",
       "3  o-IVVhPrZ0A                       b'bodybuilding till im dead'   \n",
       "4  L4S7sYup_Rw                  b'stomach exercises for sexy abs'   \n",
       "\n",
       "                                         Description  LikeCount  DislikeCount  \\\n",
       "0  b'Subscribe and Stay Tuned! Visit my channel a...      20440          1465   \n",
       "1  b\"How ya doin' ;)\\nwww.jeffseid.com\\n\\n\\nLink ...       8807          2094   \n",
       "2  b'Like/fav/sub! Visit http://www.cutandjacked....       4686           353   \n",
       "3  b'http://www.professionalmuscle.com - Chat Liv...      15630           496   \n",
       "4  b'http://www.2losebellyfat.com/ - Visit for mo...       5912           223   \n",
       "\n",
       "   ViewCount  FavoriteCount  CommentCount               PublishedAt  \\\n",
       "0    6799110              0          2397  2012-02-19T08:32:48.000Z   \n",
       "1    3669026              0          4598  2012-05-07T23:49:57.000Z   \n",
       "2    3477038              0           901  2011-10-06T03:17:38.000Z   \n",
       "3    3191046              0          1928  2012-08-26T11:31:18.000Z   \n",
       "4    2211906              0           456  2009-06-26T23:28:14.000Z   \n",
       "\n",
       "                 Channel Id    ...    channelVideoCount channelViewCount  \\\n",
       "0  UCiWEGEhbwxz9cb0uTbnUepw    ...                   17         26195188   \n",
       "1  UC5I7lMWWfZQ_RPjyNnh2ntg    ...                    1          3670089   \n",
       "2  UClWYqSmEaMbHMfAgNHhn7nw    ...                   23          5852831   \n",
       "3  UCyiCdHZb1iNaQojRzRDTjNg    ...                   47         50255277   \n",
       "4  UC271MxMmsFrL6QfDzpk956g    ...                    1          2213079   \n",
       "\n",
       "   HowTo Motivation  Transform  Abs Video  Chest Video Back Video  Legs Video  \\\n",
       "0   True       True      False      False         True       True        True   \n",
       "1  False      False       True       True        False      False       False   \n",
       "2  False       True      False      False        False      False       False   \n",
       "3  False       True      False      False        False      False       False   \n",
       "4  False      False      False       True        False      False       False   \n",
       "\n",
       "  Arm Video  \n",
       "0      True  \n",
       "1     False  \n",
       "2     False  \n",
       "3     False  \n",
       "4     False  \n",
       "\n",
       "[5 rows x 35 columns]"
      ]
     },
     "execution_count": 286,
     "metadata": {},
     "output_type": "execute_result"
    }
   ],
   "source": [
    "dfData.head()"
   ]
  },
  {
   "cell_type": "code",
   "execution_count": 287,
   "metadata": {},
   "outputs": [
    {
     "data": {
      "text/plain": [
       "(1656, 36)"
      ]
     },
     "execution_count": 287,
     "metadata": {},
     "output_type": "execute_result"
    }
   ],
   "source": [
    "# order of preference in categorizing video in case there are multiple categories to fit\n",
    "# abs < chest < back < legs < arm < motivaton < HowTo < Motivation < Transform\n",
    "dfData.loc[dfData['Abs Video'] == True , 'Category'] = 'Abs'\n",
    "dfData.loc[dfData['Chest Video'] == True , 'Category'] = 'Chest'\n",
    "dfData.loc[dfData['Back Video'] == True, 'Category'] = 'Back'\n",
    "dfData.loc[dfData['Legs Video'] == True, 'Category'] = 'Legs'\n",
    "dfData.loc[dfData['Arm Video'] == True, 'Category'] = 'Arms'\n",
    "#dfData.loc[dfData['Motivation'] == True, 'Category'] = 'Motivation'\n",
    "dfData.loc[dfData['HowTo'] == True, 'Category'] = 'HowTo'\n",
    "dfData.loc[dfData['Motivation'] == True, 'Category'] = 'Motivation'\n",
    "dfData.loc[dfData['Transform'] == True, 'Category'] = 'Transform'\n",
    "dfData.shape"
   ]
  },
  {
   "cell_type": "code",
   "execution_count": 288,
   "metadata": {},
   "outputs": [
    {
     "data": {
      "text/plain": [
       "886"
      ]
     },
     "execution_count": 288,
     "metadata": {},
     "output_type": "execute_result"
    }
   ],
   "source": [
    "otherVid = dfData[dfData['Category'].isnull()]\n",
    "otherVid.shape[0]"
   ]
  },
  {
   "cell_type": "code",
   "execution_count": 289,
   "metadata": {},
   "outputs": [
    {
     "data": {
      "text/plain": [
       "(770, 36)"
      ]
     },
     "execution_count": 289,
     "metadata": {},
     "output_type": "execute_result"
    }
   ],
   "source": [
    "dfData = dfData[dfData['Category'].notnull()]\n",
    "dfData.shape"
   ]
  },
  {
   "cell_type": "code",
   "execution_count": 290,
   "metadata": {},
   "outputs": [
    {
     "name": "stdout",
     "output_type": "stream",
     "text": [
      "Number of Abs Related Videos: 50\n",
      "Number of Chest Related Videos: 60\n",
      "Number of Back Related Videos: 80\n",
      "Number of Leg Related Videos: 123\n",
      "Number of Arm Related Videos: 140\n"
     ]
    }
   ],
   "source": [
    "absVid = dfData[dfData['Category'] == 'Abs']\n",
    "chestVid = dfData[dfData['Category'] == 'Chest']\n",
    "backVid = dfData[dfData['Category'] == 'Back']\n",
    "legsVid = dfData[dfData['Category'] == 'Legs']\n",
    "armsVid = dfData[dfData['Category'] == 'Arms']\n",
    "howToVid = dfData[dfData['Category'] == 'HowTo']\n",
    "motivationVid = dfData[dfData['Category'] == 'Motivation']\n",
    "transformVid = dfData[dfData['Category'] == 'Transform']\n",
    "\n",
    "\n",
    "print(\"Number of Abs Related Videos: \" + str(absVid.shape[0]))\n",
    "print(\"Number of Chest Related Videos: \" + str(chestVid.shape[0]))\n",
    "print(\"Number of Back Related Videos: \" + str(backVid.shape[0]))\n",
    "print(\"Number of Leg Related Videos: \" + str(legsVid.shape[0]))\n",
    "print(\"Number of Arm Related Videos: \" + str(armsVid.shape[0]))"
   ]
  },
  {
   "cell_type": "markdown",
   "metadata": {},
   "source": [
    "### Different categories of fitnesss videos in database"
   ]
  },
  {
   "cell_type": "code",
   "execution_count": 291,
   "metadata": {},
   "outputs": [
    {
     "data": {
      "text/plain": [
       "Text(0.5,1,'Number of Videos for each Muscle Group')"
      ]
     },
     "execution_count": 291,
     "metadata": {},
     "output_type": "execute_result"
    },
    {
     "data": {
      "image/png": "[encoded data removed]",
      "text/plain": [
       "<matplotlib.figure.Figure at 0x7f39aefbe358>"
      ]
     },
     "metadata": {},
     "output_type": "display_data"
    }
   ],
   "source": [
    "yCols = ['Abs', 'Chest', 'Back', 'Legs', 'Arms', 'Other']\n",
    "xCols = [absVid.shape[0], chestVid.shape[0], backVid.shape[0], legsVid.shape[0], armsVid.shape[0], otherVid.shape[0]]\n",
    "y = np.arange(len(yCols))\n",
    "plt.bar(y, xCols,align = 'center')\n",
    "plt.xticks(y,yCols)\n",
    "plt.ylabel(\"Number of Videos\")\n",
    "plt.title(\"Number of Videos for each Muscle Group\")"
   ]
  },
  {
   "cell_type": "markdown",
   "metadata": {},
   "source": [
    "### Understanding view distribution"
   ]
  },
  {
   "cell_type": "code",
   "execution_count": 292,
   "metadata": {},
   "outputs": [
    {
     "name": "stdout",
     "output_type": "stream",
     "text": [
      "Category\n",
      "Motivation    260460.650000\n",
      "Transform     112217.136364\n",
      "Chest          98683.400000\n",
      "Abs            55900.980000\n",
      "HowTo          34247.973856\n",
      "Back           21723.912500\n",
      "Arms           17165.078571\n",
      "Legs            8080.227642\n",
      "Name: ViewCount, dtype: float64\n"
     ]
    },
    {
     "data": {
      "image/png": "[encoded data removed]",
      "text/plain": [
       "<matplotlib.figure.Figure at 0x7f39a41dae48>"
      ]
     },
     "metadata": {},
     "output_type": "display_data"
    }
   ],
   "source": [
    "dfData.groupby('Category').ViewCount.mean().plot(kind = 'bar', title = 'Avg views per category')\n",
    "print(dfData.groupby('Category').ViewCount.mean().sort_values(ascending = False))"
   ]
  },
  {
   "cell_type": "code",
   "execution_count": 293,
   "metadata": {},
   "outputs": [
    {
     "data": {
      "text/plain": [
       "Index(['Id', 'Title', 'Description', 'LikeCount', 'DislikeCount', 'ViewCount',\n",
       "       'FavoriteCount', 'CommentCount', 'PublishedAt', 'Channel Id',\n",
       "       'Channel Title', 'Tags', 'Thumbnail Default', 'Lang',\n",
       "       'PrevCommentCount', 'PrevDislikeCount', 'PrevLikeCount',\n",
       "       'PrevPublishedAt', 'PrevViewCount', 'PrevTitle', 'PublishedYear',\n",
       "       'ChannelAge', 'Title-Clickbait', 'publishedAt', 'subscriberCount',\n",
       "       'channelVideoCount', 'channelViewCount', 'HowTo', 'Motivation',\n",
       "       'Transform', 'Abs Video', 'Chest Video', 'Back Video', 'Legs Video',\n",
       "       'Arm Video', 'Category'],\n",
       "      dtype='object')"
      ]
     },
     "execution_count": 293,
     "metadata": {},
     "output_type": "execute_result"
    }
   ],
   "source": [
    "dfData.columns"
   ]
  },
  {
   "cell_type": "code",
   "execution_count": 294,
   "metadata": {},
   "outputs": [
    {
     "name": "stdout",
     "output_type": "stream",
     "text": [
      "Category\n",
      "Motivation    260460.650000\n",
      "Transform     112217.136364\n",
      "Chest          98683.400000\n",
      "Abs            55900.980000\n",
      "HowTo          34247.973856\n",
      "Back           21723.912500\n",
      "Arms           17165.078571\n",
      "Legs            8080.227642\n",
      "Name: ViewCount, dtype: float64\n"
     ]
    },
    {
     "data": {
      "image/png": "[encoded data removed]",
      "text/plain": [
       "<matplotlib.figure.Figure at 0x7f39a411d4a8>"
      ]
     },
     "metadata": {},
     "output_type": "display_data"
    }
   ],
   "source": [
    "dfData.groupby('Category').CommentCount.mean().plot(kind = 'bar', title = 'Avg comments per category')\n",
    "print(dfData.groupby('Category').ViewCount.mean().sort_values(ascending = False))"
   ]
  },
  {
   "cell_type": "code",
   "execution_count": 295,
   "metadata": {},
   "outputs": [
    {
     "name": "stdout",
     "output_type": "stream",
     "text": [
      "Category\n",
      "Motivation    828.575000\n",
      "Transform     364.863636\n",
      "Chest         224.150000\n",
      "Abs           189.080000\n",
      "HowTo         149.921569\n",
      "Back          119.637500\n",
      "Arms           91.157143\n",
      "Legs           42.536585\n",
      "Name: LikeCount, dtype: float64\n"
     ]
    },
    {
     "data": {
      "image/png": "[encoded data removed]",
      "text/plain": [
       "<matplotlib.figure.Figure at 0x7f39956f8a90>"
      ]
     },
     "metadata": {},
     "output_type": "display_data"
    }
   ],
   "source": [
    "dfData.groupby('Category').LikeCount.mean().plot(kind = 'bar', title = 'Avg likes per category')\n",
    "print(dfData.groupby('Category').LikeCount.mean().sort_values(ascending = False))"
   ]
  },
  {
   "cell_type": "code",
   "execution_count": 296,
   "metadata": {},
   "outputs": [
    {
     "name": "stdout",
     "output_type": "stream",
     "text": [
      "Category\n",
      "Chest         152.100000\n",
      "Transform      59.818182\n",
      "Motivation     55.358333\n",
      "Back           13.862500\n",
      "Abs             9.420000\n",
      "HowTo           9.287582\n",
      "Arms            5.371429\n",
      "Legs            3.333333\n",
      "Name: DislikeCount, dtype: float64\n"
     ]
    },
    {
     "data": {
      "image/png": "[encoded data removed]",
      "text/plain": [
       "<matplotlib.figure.Figure at 0x7f399683f470>"
      ]
     },
     "metadata": {},
     "output_type": "display_data"
    }
   ],
   "source": [
    "dfData.groupby('Category').DislikeCount.mean().plot(kind = 'bar', title = 'Avg Dislikes per category')\n",
    "print(dfData.groupby('Category').DislikeCount.mean().sort_values(ascending = False))"
   ]
  },
  {
   "cell_type": "markdown",
   "metadata": {},
   "source": [
    "### Obseravtions\n",
    "Give proper insight here later using venn diagram"
   ]
  },
  {
   "cell_type": "markdown",
   "metadata": {},
   "source": [
    "### Sponsorship/ discounted videos view distribution"
   ]
  },
  {
   "cell_type": "code",
   "execution_count": 297,
   "metadata": {},
   "outputs": [
    {
     "name": "stdout",
     "output_type": "stream",
     "text": [
      "isSponsored\n",
      "False    72310.131062\n",
      "True     15869.571429\n",
      "Name: ViewCount, dtype: float64\n"
     ]
    },
    {
     "data": {
      "image/png": "[encoded data removed]",
      "text/plain": [
       "<matplotlib.figure.Figure at 0x7f39a41bbcf8>"
      ]
     },
     "metadata": {},
     "output_type": "display_data"
    }
   ],
   "source": [
    "dfData['isSponsored'] = dfData['Description'].str.contains(\"sponsored\") | dfData['Description'].str.contains(\"provided by\")\n",
    "dfData.groupby('isSponsored').ViewCount.mean().plot(kind = 'bar', title = 'Avg views on sponsored videos')\n",
    "print(dfData.groupby('isSponsored').ViewCount.mean())"
   ]
  },
  {
   "cell_type": "code",
   "execution_count": 298,
   "metadata": {},
   "outputs": [
    {
     "name": "stdout",
     "output_type": "stream",
     "text": [
      "hasDiscount\n",
      "False    72421.400788\n",
      "True     19003.444444\n",
      "Name: ViewCount, dtype: float64\n"
     ]
    },
    {
     "data": {
      "image/png": "[encoded data removed]",
      "text/plain": [
       "<matplotlib.figure.Figure at 0x7f39972f0080>"
      ]
     },
     "metadata": {},
     "output_type": "display_data"
    }
   ],
   "source": [
    "dfData['hasDiscount'] = dfData['Description'].str.contains('discount') | dfData['Description'].str.contains('code')\n",
    "dfData.groupby('hasDiscount').ViewCount.mean().plot(kind = 'bar', title = 'Avg views on discounted videos')\n",
    "print(dfData.groupby('hasDiscount').ViewCount.mean())"
   ]
  },
  {
   "cell_type": "code",
   "execution_count": 299,
   "metadata": {},
   "outputs": [],
   "source": [
    "dfData['LikeDislikeRatio'] = dfData['LikeCount']/(dfData['LikeCount'] + dfData['DislikeCount'])"
   ]
  },
  {
   "cell_type": "code",
   "execution_count": 300,
   "metadata": {},
   "outputs": [
    {
     "data": {
      "text/plain": [
       "(770, 39)"
      ]
     },
     "execution_count": 300,
     "metadata": {},
     "output_type": "execute_result"
    }
   ],
   "source": [
    "dfData.shape"
   ]
  },
  {
   "cell_type": "code",
   "execution_count": 301,
   "metadata": {},
   "outputs": [
    {
     "data": {
      "text/plain": [
       "Index(['Id', 'Title', 'Description', 'LikeCount', 'DislikeCount', 'ViewCount',\n",
       "       'FavoriteCount', 'CommentCount', 'PublishedAt', 'Channel Id',\n",
       "       'Channel Title', 'Tags', 'Thumbnail Default', 'Lang',\n",
       "       'PrevCommentCount', 'PrevDislikeCount', 'PrevLikeCount',\n",
       "       'PrevPublishedAt', 'PrevViewCount', 'PrevTitle', 'PublishedYear',\n",
       "       'ChannelAge', 'Title-Clickbait', 'publishedAt', 'subscriberCount',\n",
       "       'channelVideoCount', 'channelViewCount', 'HowTo', 'Motivation',\n",
       "       'Transform', 'Abs Video', 'Chest Video', 'Back Video', 'Legs Video',\n",
       "       'Arm Video', 'Category', 'isSponsored', 'hasDiscount',\n",
       "       'LikeDislikeRatio'],\n",
       "      dtype='object')"
      ]
     },
     "execution_count": 301,
     "metadata": {},
     "output_type": "execute_result"
    }
   ],
   "source": [
    "dfData.columns"
   ]
  },
  {
   "cell_type": "code",
   "execution_count": 302,
   "metadata": {},
   "outputs": [],
   "source": [
    "def feature_engineer(dfData):\n",
    "    dfData =dfData.drop(['Category','FavoriteCount', 'PrevTitle', 'PrevPublishedAt'],axis =1)\n",
    "    dfData['is_english'] = dfData['Lang'].apply(lambda x: 1 if x=='en' else 0)\n",
    "    dfData = dfData.drop('Lang', axis=1)\n",
    "    \n",
    "    dfData['is_Abs'] = dfData['Abs Video'].apply(lambda x: 1 if x==True else 0)\n",
    "    dfData['is_Chest'] = dfData['Chest Video'].apply(lambda x: 1 if x==True else 0)\n",
    "    dfData['is_Back'] = dfData['Back Video'].apply(lambda x: 1 if x==True else 0)\n",
    "    dfData['is_Legs'] = dfData['Legs Video'].apply(lambda x: 1 if x==True else 0)\n",
    "    dfData['is_Arms'] = dfData['Arm Video'].apply(lambda x: 1 if x==True else 0)\n",
    "    dfData['isSponsored'] = dfData['isSponsored'].apply(lambda x: 1 if x==True else 0)\n",
    "    dfData['hasDiscount'] = dfData['hasDiscount'].apply(lambda x: 1 if x==True else 0)\n",
    "    dfData['PublishedYear'] = dfData['PublishedAt'].apply(lambda x: x[:4])\n",
    "    dfData['ChannelAge'] =  dfData['publishedAt'].apply(lambda x: x[:4])\n",
    "    dfData['channelViewCount'] = np.log(dfData['channelViewCount'])\n",
    "    #dfData['nsfw_score'] = dfData['nsfw_score'].fillna(dfData['nsfw_score'].mean())\n",
    "    #dfData['Title-Clickbait'] = dfData['Title-Clickbait'].fillna(dfData['nsfw_score'].mean())\n",
    "    dfData['Title-Clickbait'] = dfData['Title-Clickbait'].fillna(0)\n",
    "    dfData['LikeDislikeRatio'] = dfData['LikeCount']/(dfData['DislikeCount'] + dfData['LikeCount'])\n",
    "    dfData['PrevCommentCount'] = dfData['PrevCommentCount'].fillna(0)\n",
    "    dfData['PrevDislikeCount'] = dfData['PrevDislikeCount'].fillna(0)\n",
    "    dfData['PrevLikeCount'] = dfData['PrevLikeCount'].fillna(0)\n",
    "    dfData['PrevViewCount'] = dfData['PrevViewCount'].fillna(0)\n",
    "    #dfData['PrevPublishedYear'] = dfData['PrevPublishedAt'].apply(lambda x: x[:4])\n",
    "    \n",
    "    \n",
    "    dfData['LikeDislikeRatio'] = dfData['LikeDislikeRatio'].replace(np.inf, np.nan)\n",
    "    dfData['LikeDislikeRatio'] = dfData['LikeDislikeRatio'].fillna(0)\n",
    "    dfData = dfData.drop(['Title','Description','PublishedAt','publishedAt','Channel Id','Channel Title','Tags','Thumbnail Default','Abs Video','Chest Video','Back Video','Legs Video','Arm Video'],axis = 1)\n",
    "    \n",
    "    return dfData\n",
    "\n",
    "def drop_obvious_features(dfData):\n",
    "    dfData = dfData.drop(['LikeCount','DislikeCount','CommentCount'],axis = 1)\n",
    "    return dfData\n",
    "\n",
    "def drop_engineered_features(dfData):\n",
    "    dfData = dfData.drop(['Title-Clickbait'],axis = 1)\n",
    "    return dfData"
   ]
  },
  {
   "cell_type": "code",
   "execution_count": 303,
   "metadata": {},
   "outputs": [
    {
     "data": {
      "text/plain": [
       "Index(['Id', 'LikeCount', 'DislikeCount', 'ViewCount', 'CommentCount',\n",
       "       'PrevCommentCount', 'PrevDislikeCount', 'PrevLikeCount',\n",
       "       'PrevViewCount', 'PublishedYear', 'ChannelAge', 'Title-Clickbait',\n",
       "       'subscriberCount', 'channelVideoCount', 'channelViewCount', 'HowTo',\n",
       "       'Motivation', 'Transform', 'isSponsored', 'hasDiscount',\n",
       "       'LikeDislikeRatio', 'is_english', 'is_Abs', 'is_Chest', 'is_Back',\n",
       "       'is_Legs', 'is_Arms'],\n",
       "      dtype='object')"
      ]
     },
     "execution_count": 303,
     "metadata": {},
     "output_type": "execute_result"
    }
   ],
   "source": [
    "df = feature_engineer(dfData)\n",
    "df.columns"
   ]
  },
  {
   "cell_type": "code",
   "execution_count": 304,
   "metadata": {},
   "outputs": [
    {
     "data": {
      "text/plain": [
       "Index(['Id', 'LikeCount', 'DislikeCount', 'ViewCount', 'CommentCount',\n",
       "       'PrevCommentCount', 'PrevDislikeCount', 'PrevLikeCount',\n",
       "       'PrevViewCount', 'PublishedYear', 'ChannelAge', 'Title-Clickbait',\n",
       "       'subscriberCount', 'channelVideoCount', 'channelViewCount', 'HowTo',\n",
       "       'Motivation', 'Transform', 'isSponsored', 'hasDiscount',\n",
       "       'LikeDislikeRatio', 'is_english', 'is_Abs', 'is_Chest', 'is_Back',\n",
       "       'is_Legs', 'is_Arms'],\n",
       "      dtype='object')"
      ]
     },
     "execution_count": 304,
     "metadata": {},
     "output_type": "execute_result"
    }
   ],
   "source": [
    "df.columns"
   ]
  },
  {
   "cell_type": "code",
   "execution_count": 305,
   "metadata": {},
   "outputs": [
    {
     "data": {
      "text/html": [
       "<div>\n",
       "<style scoped>\n",
       "    .dataframe tbody tr th:only-of-type {\n",
       "        vertical-align: middle;\n",
       "    }\n",
       "\n",
       "    .dataframe tbody tr th {\n",
       "        vertical-align: top;\n",
       "    }\n",
       "\n",
       "    .dataframe thead th {\n",
       "        text-align: right;\n",
       "    }\n",
       "</style>\n",
       "<table border=\"1\" class=\"dataframe\">\n",
       "  <thead>\n",
       "    <tr style=\"text-align: right;\">\n",
       "      <th></th>\n",
       "      <th>Id</th>\n",
       "      <th>LikeCount</th>\n",
       "      <th>DislikeCount</th>\n",
       "      <th>CommentCount</th>\n",
       "      <th>PrevCommentCount</th>\n",
       "      <th>PrevDislikeCount</th>\n",
       "      <th>PrevLikeCount</th>\n",
       "      <th>PrevViewCount</th>\n",
       "      <th>PublishedYear</th>\n",
       "      <th>ChannelAge</th>\n",
       "      <th>...</th>\n",
       "      <th>Transform</th>\n",
       "      <th>isSponsored</th>\n",
       "      <th>hasDiscount</th>\n",
       "      <th>LikeDislikeRatio</th>\n",
       "      <th>is_english</th>\n",
       "      <th>is_Abs</th>\n",
       "      <th>is_Chest</th>\n",
       "      <th>is_Back</th>\n",
       "      <th>is_Legs</th>\n",
       "      <th>is_Arms</th>\n",
       "    </tr>\n",
       "  </thead>\n",
       "  <tbody>\n",
       "    <tr>\n",
       "      <th>0</th>\n",
       "      <td>EBVTMSKY-Cw</td>\n",
       "      <td>20440</td>\n",
       "      <td>1465</td>\n",
       "      <td>2397</td>\n",
       "      <td>159.0</td>\n",
       "      <td>106.0</td>\n",
       "      <td>1964.0</td>\n",
       "      <td>628378.0</td>\n",
       "      <td>2012</td>\n",
       "      <td>2010</td>\n",
       "      <td>...</td>\n",
       "      <td>False</td>\n",
       "      <td>0</td>\n",
       "      <td>0</td>\n",
       "      <td>0.933120</td>\n",
       "      <td>1</td>\n",
       "      <td>0</td>\n",
       "      <td>1</td>\n",
       "      <td>1</td>\n",
       "      <td>1</td>\n",
       "      <td>1</td>\n",
       "    </tr>\n",
       "    <tr>\n",
       "      <th>1</th>\n",
       "      <td>VnNH6OMqT9E</td>\n",
       "      <td>8807</td>\n",
       "      <td>2094</td>\n",
       "      <td>4598</td>\n",
       "      <td>0.0</td>\n",
       "      <td>0.0</td>\n",
       "      <td>0.0</td>\n",
       "      <td>0.0</td>\n",
       "      <td>2012</td>\n",
       "      <td>2009</td>\n",
       "      <td>...</td>\n",
       "      <td>True</td>\n",
       "      <td>0</td>\n",
       "      <td>0</td>\n",
       "      <td>0.807908</td>\n",
       "      <td>1</td>\n",
       "      <td>1</td>\n",
       "      <td>0</td>\n",
       "      <td>0</td>\n",
       "      <td>0</td>\n",
       "      <td>0</td>\n",
       "    </tr>\n",
       "    <tr>\n",
       "      <th>2</th>\n",
       "      <td>isb4txkVPrk</td>\n",
       "      <td>4686</td>\n",
       "      <td>353</td>\n",
       "      <td>901</td>\n",
       "      <td>43.0</td>\n",
       "      <td>3.0</td>\n",
       "      <td>224.0</td>\n",
       "      <td>58192.0</td>\n",
       "      <td>2011</td>\n",
       "      <td>2011</td>\n",
       "      <td>...</td>\n",
       "      <td>False</td>\n",
       "      <td>0</td>\n",
       "      <td>0</td>\n",
       "      <td>0.929946</td>\n",
       "      <td>1</td>\n",
       "      <td>0</td>\n",
       "      <td>0</td>\n",
       "      <td>0</td>\n",
       "      <td>0</td>\n",
       "      <td>0</td>\n",
       "    </tr>\n",
       "    <tr>\n",
       "      <th>3</th>\n",
       "      <td>o-IVVhPrZ0A</td>\n",
       "      <td>15630</td>\n",
       "      <td>496</td>\n",
       "      <td>1928</td>\n",
       "      <td>1037.0</td>\n",
       "      <td>195.0</td>\n",
       "      <td>8181.0</td>\n",
       "      <td>1710615.0</td>\n",
       "      <td>2012</td>\n",
       "      <td>2010</td>\n",
       "      <td>...</td>\n",
       "      <td>False</td>\n",
       "      <td>0</td>\n",
       "      <td>0</td>\n",
       "      <td>0.969242</td>\n",
       "      <td>1</td>\n",
       "      <td>0</td>\n",
       "      <td>0</td>\n",
       "      <td>0</td>\n",
       "      <td>0</td>\n",
       "      <td>0</td>\n",
       "    </tr>\n",
       "    <tr>\n",
       "      <th>4</th>\n",
       "      <td>L4S7sYup_Rw</td>\n",
       "      <td>5912</td>\n",
       "      <td>223</td>\n",
       "      <td>456</td>\n",
       "      <td>0.0</td>\n",
       "      <td>0.0</td>\n",
       "      <td>0.0</td>\n",
       "      <td>0.0</td>\n",
       "      <td>2009</td>\n",
       "      <td>2009</td>\n",
       "      <td>...</td>\n",
       "      <td>False</td>\n",
       "      <td>0</td>\n",
       "      <td>0</td>\n",
       "      <td>0.963651</td>\n",
       "      <td>1</td>\n",
       "      <td>1</td>\n",
       "      <td>0</td>\n",
       "      <td>0</td>\n",
       "      <td>0</td>\n",
       "      <td>0</td>\n",
       "    </tr>\n",
       "  </tbody>\n",
       "</table>\n",
       "<p>5 rows × 26 columns</p>\n",
       "</div>"
      ],
      "text/plain": [
       "            Id  LikeCount  DislikeCount  CommentCount  PrevCommentCount  \\\n",
       "0  EBVTMSKY-Cw      20440          1465          2397             159.0   \n",
       "1  VnNH6OMqT9E       8807          2094          4598               0.0   \n",
       "2  isb4txkVPrk       4686           353           901              43.0   \n",
       "3  o-IVVhPrZ0A      15630           496          1928            1037.0   \n",
       "4  L4S7sYup_Rw       5912           223           456               0.0   \n",
       "\n",
       "   PrevDislikeCount  PrevLikeCount  PrevViewCount PublishedYear ChannelAge  \\\n",
       "0             106.0         1964.0       628378.0          2012       2010   \n",
       "1               0.0            0.0            0.0          2012       2009   \n",
       "2               3.0          224.0        58192.0          2011       2011   \n",
       "3             195.0         8181.0      1710615.0          2012       2010   \n",
       "4               0.0            0.0            0.0          2009       2009   \n",
       "\n",
       "    ...     Transform  isSponsored  hasDiscount  LikeDislikeRatio  is_english  \\\n",
       "0   ...         False            0            0          0.933120           1   \n",
       "1   ...          True            0            0          0.807908           1   \n",
       "2   ...         False            0            0          0.929946           1   \n",
       "3   ...         False            0            0          0.969242           1   \n",
       "4   ...         False            0            0          0.963651           1   \n",
       "\n",
       "   is_Abs  is_Chest  is_Back  is_Legs  is_Arms  \n",
       "0       0         1        1        1        1  \n",
       "1       1         0        0        0        0  \n",
       "2       0         0        0        0        0  \n",
       "3       0         0        0        0        0  \n",
       "4       1         0        0        0        0  \n",
       "\n",
       "[5 rows x 26 columns]"
      ]
     },
     "execution_count": 305,
     "metadata": {},
     "output_type": "execute_result"
    }
   ],
   "source": [
    "X, y = df.drop('ViewCount',axis = 1) , np.log(df['ViewCount'])\n",
    "X.head()"
   ]
  },
  {
   "cell_type": "code",
   "execution_count": 306,
   "metadata": {},
   "outputs": [
    {
     "data": {
      "text/plain": [
       "Index(['Id', 'LikeCount', 'DislikeCount', 'CommentCount', 'PrevCommentCount',\n",
       "       'PrevDislikeCount', 'PrevLikeCount', 'PrevViewCount', 'PublishedYear',\n",
       "       'ChannelAge', 'Title-Clickbait', 'subscriberCount', 'channelVideoCount',\n",
       "       'channelViewCount', 'HowTo', 'Motivation', 'Transform', 'isSponsored',\n",
       "       'hasDiscount', 'LikeDislikeRatio', 'is_english', 'is_Abs', 'is_Chest',\n",
       "       'is_Back', 'is_Legs', 'is_Arms'],\n",
       "      dtype='object')"
      ]
     },
     "execution_count": 306,
     "metadata": {},
     "output_type": "execute_result"
    }
   ],
   "source": [
    "X.columns"
   ]
  },
  {
   "cell_type": "markdown",
   "metadata": {},
   "source": [
    "### Modeling training data with GradientBoostedClassifier\n",
    "linear regression does not work great"
   ]
  },
  {
   "cell_type": "code",
   "execution_count": 307,
   "metadata": {},
   "outputs": [],
   "source": [
    "from sklearn.ensemble import GradientBoostingClassifier, GradientBoostingRegressor\n",
    "from sklearn.model_selection import train_test_split\n",
    "#from xgboost import XGBClassifier, XGBRegressor"
   ]
  },
  {
   "cell_type": "code",
   "execution_count": 308,
   "metadata": {},
   "outputs": [],
   "source": [
    "#train_X, test_X, train_y, test_y = train_test_split(X, y, train_size = 0.75, test_size = 0.25)\n",
    "\n",
    "X_id, X = X.Id, X.drop('Id', axis = 1)\n",
    "\n",
    "reg = GradientBoostingRegressor(alpha=0.9, criterion='friedman_mse', init=None,\n",
    "             learning_rate=0.1, loss='ls', max_depth=3, max_features=None,\n",
    "             max_leaf_nodes=None, min_impurity_decrease=0.0,\n",
    "             min_impurity_split=None, min_samples_leaf=1,\n",
    "             min_samples_split=5, min_weight_fraction_leaf=0.0,\n",
    "             n_estimators=100, presort='auto', random_state=None,\n",
    "             subsample=0.5, verbose=0, warm_start=False)\n",
    "reg.fit(X, y)\n",
    "reg.score(X, y)\n",
    "pred = reg.predict(X)\n",
    "\n",
    "import pickle\n",
    "pickle.dump(reg, open(\"Gbr002.pickle.dat\", \"wb\"))\n"
   ]
  },
  {
   "cell_type": "code",
   "execution_count": 259,
   "metadata": {},
   "outputs": [],
   "source": [
    "# using train test split\n",
    "X, y = df.drop(['ViewCount'], axis = 1), np.log(df['ViewCount'])\n",
    "train_X, test_X, train_y, test_y = train_test_split(X, y, train_size = 0.75, test_size = 0.25)\n",
    "\n",
    "train_X_id, train_X = train_X.Id, train_X.drop('Id', axis = 1)\n",
    "test_X_id, test_X = test_X.Id, test_X.drop('Id', axis = 1)\n",
    "\n",
    "reg = GradientBoostingRegressor()\n",
    "reg.fit(train_X, train_y)\n",
    "reg.score(test_X, test_y)\n",
    "pred = reg.predict(test_X)"
   ]
  },
  {
   "cell_type": "code",
   "execution_count": 257,
   "metadata": {},
   "outputs": [
    {
     "data": {
      "text/html": [
       "<div>\n",
       "<style scoped>\n",
       "    .dataframe tbody tr th:only-of-type {\n",
       "        vertical-align: middle;\n",
       "    }\n",
       "\n",
       "    .dataframe tbody tr th {\n",
       "        vertical-align: top;\n",
       "    }\n",
       "\n",
       "    .dataframe thead th {\n",
       "        text-align: right;\n",
       "    }\n",
       "</style>\n",
       "<table border=\"1\" class=\"dataframe\">\n",
       "  <thead>\n",
       "    <tr style=\"text-align: right;\">\n",
       "      <th></th>\n",
       "      <th>Actual</th>\n",
       "      <th>Diff</th>\n",
       "      <th>Id</th>\n",
       "      <th>Pred</th>\n",
       "    </tr>\n",
       "  </thead>\n",
       "  <tbody>\n",
       "    <tr>\n",
       "      <th>0</th>\n",
       "      <td>6799110.0</td>\n",
       "      <td>3.030793e+06</td>\n",
       "      <td>EBVTMSKY-Cw</td>\n",
       "      <td>3.768317e+06</td>\n",
       "    </tr>\n",
       "    <tr>\n",
       "      <th>1</th>\n",
       "      <td>3669026.0</td>\n",
       "      <td>-1.578291e+05</td>\n",
       "      <td>VnNH6OMqT9E</td>\n",
       "      <td>3.826855e+06</td>\n",
       "    </tr>\n",
       "    <tr>\n",
       "      <th>2</th>\n",
       "      <td>3477038.0</td>\n",
       "      <td>8.347504e+05</td>\n",
       "      <td>isb4txkVPrk</td>\n",
       "      <td>2.642288e+06</td>\n",
       "    </tr>\n",
       "    <tr>\n",
       "      <th>3</th>\n",
       "      <td>3191046.0</td>\n",
       "      <td>6.990374e+05</td>\n",
       "      <td>o-IVVhPrZ0A</td>\n",
       "      <td>2.492009e+06</td>\n",
       "    </tr>\n",
       "    <tr>\n",
       "      <th>4</th>\n",
       "      <td>2211906.0</td>\n",
       "      <td>3.619710e+05</td>\n",
       "      <td>L4S7sYup_Rw</td>\n",
       "      <td>1.849935e+06</td>\n",
       "    </tr>\n",
       "  </tbody>\n",
       "</table>\n",
       "</div>"
      ],
      "text/plain": [
       "      Actual          Diff           Id          Pred\n",
       "0  6799110.0  3.030793e+06  EBVTMSKY-Cw  3.768317e+06\n",
       "1  3669026.0 -1.578291e+05  VnNH6OMqT9E  3.826855e+06\n",
       "2  3477038.0  8.347504e+05  isb4txkVPrk  2.642288e+06\n",
       "3  3191046.0  6.990374e+05  o-IVVhPrZ0A  2.492009e+06\n",
       "4  2211906.0  3.619710e+05  L4S7sYup_Rw  1.849935e+06"
      ]
     },
     "execution_count": 257,
     "metadata": {},
     "output_type": "execute_result"
    }
   ],
   "source": [
    "# function exponentiates values in test_y and pred and\n",
    "# than calulated rmse of actual views\n",
    "size = y.shape[0]\n",
    "test_yL = y.tolist()\n",
    "predL = pred.tolist()\n",
    "X_id = X_id.tolist()\n",
    "exActView = []\n",
    "exPredView = []\n",
    "diff = []\n",
    "mape = {}\n",
    "sqErr = []\n",
    "for i in range(0, size):\n",
    "    exActView.append(math.exp(test_yL[i]))\n",
    "    exPredView.append(math.exp(predL[i]))\n",
    "    diff.append(exActView[i] - exPredView[i])\n",
    "    sqErr.append(math.pow(diff[i], 2))\n",
    "for i in range(0, len(diff)):\n",
    "    try:\n",
    "        mape[X_id[i]] = abs(diff[i]/exActView[i])\n",
    "    except KeyError:\n",
    "        pass\n",
    "#Mape = sum(mape)/len(diff)\n",
    "rmse = math.sqrt(sum(sqErr) /size)/(max(exActView) - min(exActView))\n",
    "dfEval = pd.DataFrame({'Id':X_id, 'Actual' : exActView, 'Pred': exPredView, 'Diff': diff})\n",
    "dfEval.head()"
   ]
  },
  {
   "cell_type": "markdown",
   "metadata": {},
   "source": [
    "dfEval.to_csv('/home/archit/Desktop/ad vs organic/predictions_data2.csv', index = False)"
   ]
  },
  {
   "cell_type": "code",
   "execution_count": 260,
   "metadata": {},
   "outputs": [],
   "source": [
    "size = test_y.shape[0]\n",
    "test_yL = test_y.tolist()\n",
    "predL = pred.tolist()\n",
    "exActView = []\n",
    "exPredView = []\n",
    "diff = []\n",
    "sqErr = []\n",
    "mape={}\n",
    "for i in range(0, size):\n",
    "    exActView.append(math.exp(test_yL[i]))\n",
    "    exPredView.append(math.exp(predL[i]))\n",
    "    diff.append(exActView[i] - exPredView[i])\n",
    "    sqErr.append(math.pow(diff[i], 2))\n",
    "rmse = math.sqrt(sum(sqErr) /size)/ (test_y.max() - test_y.min())\n",
    "dfEval = pd.DataFrame({'Id':test_X_id, 'Actual' : exActView, 'Pred': exPredView, 'Diff': diff})\n",
    "dfEval.head()\n",
    "dfEval.to_csv('/home/archit/Desktop/ad vs organic/predictions_data.csv')"
   ]
  },
  {
   "cell_type": "code",
   "execution_count": 261,
   "metadata": {},
   "outputs": [
    {
     "name": "stdout",
     "output_type": "stream",
     "text": [
      "Rmse of the regressormodel is:16867.914128460587\n"
     ]
    }
   ],
   "source": [
    "print(\"Rmse of the regressormodel is:\" + str(rmse))"
   ]
  },
  {
   "cell_type": "code",
   "execution_count": 263,
   "metadata": {},
   "outputs": [
    {
     "data": {
      "text/plain": [
       "<matplotlib.axes._subplots.AxesSubplot at 0x7f3997a532b0>"
      ]
     },
     "execution_count": 263,
     "metadata": {},
     "output_type": "execute_result"
    },
    {
     "data": {
      "image/png": "[encoded data removed]",
      "text/plain": [
       "<matplotlib.figure.Figure at 0x7f39b05c07f0>"
      ]
     },
     "metadata": {},
     "output_type": "display_data"
    }
   ],
   "source": [
    "X = X.drop('Id', axis = 1)\n",
    "sns.set_style('darkgrid')\n",
    "plt.figure(figsize=(10,12))\n",
    "sns.barplot(x=reg.feature_importances_, y=X.columns)"
   ]
  },
  {
   "cell_type": "code",
   "execution_count": 264,
   "metadata": {},
   "outputs": [
    {
     "name": "stdout",
     "output_type": "stream",
     "text": [
      "Index(['Id', 'LikeCount', 'DislikeCount', 'ViewCount', 'CommentCount',\n",
      "       'PrevCommentCount', 'PrevDislikeCount', 'PrevLikeCount',\n",
      "       'PrevViewCount', 'PublishedYear', 'ChannelAge', 'subscriberCount',\n",
      "       'channelVideoCount', 'channelViewCount', 'HowTo', 'Motivation',\n",
      "       'Transform', 'isSponsored', 'hasDiscount', 'LikeDislikeRatio',\n",
      "       'is_english', 'is_Abs', 'is_Chest', 'is_Back', 'is_Legs', 'is_Arms'],\n",
      "      dtype='object')\n"
     ]
    },
    {
     "data": {
      "text/plain": [
       "0.8736115095600756"
      ]
     },
     "execution_count": 264,
     "metadata": {},
     "output_type": "execute_result"
    }
   ],
   "source": [
    "df = drop_engineered_features(feature_engineer(dfData))\n",
    "print(df.columns)\n",
    "X, y = df.drop(['ViewCount', 'LikeDislikeRatio'], axis = 1), np.log(df['ViewCount'])\n",
    "train_X, test_X, train_y, test_y = train_test_split(X, y, train_size = 0.75, test_size = 0.25)\n",
    "\n",
    "train_X_id, train_X = train_X.Id, train_X.drop('Id', axis = 1)\n",
    "test_X_id, test_X = test_X.Id, test_X.drop('Id', axis = 1)\n",
    "\n",
    "reg = GradientBoostingRegressor()\n",
    "reg.fit(train_X, train_y)\n",
    "reg.score(test_X, test_y)\n",
    "#pred = reg.predict(test_X)"
   ]
  },
  {
   "cell_type": "code",
   "execution_count": null,
   "metadata": {},
   "outputs": [],
   "source": [
    "# function exponentiates values in test_y and pred and\n",
    "# than calulated rmse of actual views\n",
    "size = test_y.shape[0]\n",
    "test_yL = test_y.tolist()\n",
    "predL = pred.tolist()\n",
    "exActView = []\n",
    "exPredView = []\n",
    "diff = []\n",
    "sqErr = []\n",
    "for i in range(0, size):\n",
    "    exActView.append(math.exp(test_yL[i]))\n",
    "    exPredView.append(math.exp(predL[i]))\n",
    "    diff.append(exActView[i] - exPredView[i])\n",
    "    sqErr.append(math.pow(diff[i], 2))\n",
    "rmse = math.sqrt(sum(sqErr) /size)/ (test_y.max() - test_y.min())\n",
    "dfEval = pd.DataFrame({'Actual' : exActView, 'Pred': exPredView, 'Diff': diff})\n",
    "dfEval.head()"
   ]
  },
  {
   "cell_type": "code",
   "execution_count": null,
   "metadata": {},
   "outputs": [],
   "source": [
    "print(\"Rmse of the regressormodel is:\" + str(rmse))"
   ]
  }
 ],
 "metadata": {
  "kernelspec": {
   "display_name": "Python 3",
   "language": "python",
   "name": "python3"
  },
  "language_info": {
   "codemirror_mode": {
    "name": "ipython",
    "version": 3
   },
   "file_extension": ".py",
   "mimetype": "text/x-python",
   "name": "python",
   "nbconvert_exporter": "python",
   "pygments_lexer": "ipython3",
   "version": "3.6.4"
  }
 },
 "nbformat": 4,
 "nbformat_minor": 2
}
