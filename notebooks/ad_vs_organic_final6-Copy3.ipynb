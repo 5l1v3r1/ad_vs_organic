{
 "cells": [
  {
   "cell_type": "markdown",
   "metadata": {},
   "source": [
    "citations:\n",
    "emojifier deep learning.ai"
   ]
  },
  {
   "cell_type": "code",
   "execution_count": 1,
   "metadata": {},
   "outputs": [],
   "source": [
    "import pandas as pd\n",
    "import math\n",
    "import csv\n",
    "import os\n",
    "import seaborn as sns\n",
    "import matplotlib.pyplot as plt\n",
    "import numpy as np\n",
    "import re"
   ]
  },
  {
   "cell_type": "code",
   "execution_count": 2,
   "metadata": {},
   "outputs": [],
   "source": [
    "def read_glove_vecs(glove_file):\n",
    "    with open(glove_file, 'r',encoding='UTF-8') as f:\n",
    "        words = set()\n",
    "        word_to_vec_map = {}\n",
    "        for line in f:\n",
    "            line = line.strip().split()\n",
    "            curr_word = line[0]\n",
    "            words.add(curr_word)\n",
    "            word_to_vec_map[curr_word] = np.array(line[1:], dtype=np.float64)\n",
    "        \n",
    "        i = 1\n",
    "        words_to_index = {}\n",
    "        index_to_words = {}\n",
    "        for w in sorted(words):\n",
    "            words_to_index[w] = i\n",
    "            index_to_words[i] = w\n",
    "            i = i + 1\n",
    "    return words_to_index, index_to_words, word_to_vec_map"
   ]
  },
  {
   "cell_type": "code",
   "execution_count": 3,
   "metadata": {},
   "outputs": [
    {
     "data": {
      "text/plain": [
       "Index(['vid', 'channelId', 'duration', 'licensedContent', 'definition',\n",
       "       'dislikeCount', 'commentCount', 'favoriteCount', 'viewCount',\n",
       "       'likeCount', 'relevantTopicIds', 'topicIds', 'topicCategories', 'title',\n",
       "       'description', 'tags', 'categoryId', 'channelTitle', 'publishedAt',\n",
       "       'Channel Title', 'Channel Description', 'Channel Publish date',\n",
       "       ' Channel hiddenSubscriberCount', 'Channel viewCount',\n",
       "       'Channel subscriberCount', 'Channel commentCount', 'Channel videoCount',\n",
       "       'Channel showRelatedChannels', 'Channel featuredChannelsUrls',\n",
       "       'Channel noOfFeaturedChannels', 'Channel country', 'Channel keywords',\n",
       "       'Channel topicIds', 'Channel topicCategories', 'Lang',\n",
       "       'cleanDescriptions'],\n",
       "      dtype='object')"
      ]
     },
     "execution_count": 3,
     "metadata": {},
     "output_type": "execute_result"
    }
   ],
   "source": [
    "dfDataDump = pd.read_csv('/home/archit/Desktop/ad vs organic/final_combined_lang_organic_duration3.csv').drop('Unnamed: 0', axis =1)\n",
    "dfDataDump.columns"
   ]
  },
  {
   "cell_type": "code",
   "execution_count": 4,
   "metadata": {},
   "outputs": [
    {
     "data": {
      "text/plain": [
       "(62335, 36)"
      ]
     },
     "execution_count": 4,
     "metadata": {},
     "output_type": "execute_result"
    }
   ],
   "source": [
    "dfDataDump.shape"
   ]
  },
  {
   "cell_type": "markdown",
   "metadata": {},
   "source": [
    "Next we will set up our input dataset and define the function for model training"
   ]
  },
  {
   "cell_type": "code",
   "execution_count": 5,
   "metadata": {},
   "outputs": [],
   "source": [
    "def input_dataset(dfData, views =0, categories =[], country= ['IN']):\n",
    "    \"\"\"manipulates input dataframe according to input parameters.\n",
    "    Args:\n",
    "        dfData: input dataset\n",
    "        views: minimum number of views in dfData.Default = 0.\n",
    "        categories: list of categories to be present in final dataset.Default is empty list(all categories)\n",
    "        country: List of countries whose videos should be present in dataSet. Default is India.\n",
    "    Returns:\n",
    "        dataset to train model on\n",
    "    \"\"\"\n",
    "    # slice dataset with viewCount larger than views\n",
    "    dfData = dfData[dfData['viewCount'] >= views]\n",
    "    # concat dfData according to categories\n",
    "    categoryIds =(dfData['categoryId'].dropna().unique()).tolist()\n",
    "    # create temporary df\n",
    "    tempDf = pd.DataFrame(columns = ['vid', 'channelId', 'duration', 'licensedContent', 'definition',\n",
    "       'dislikeCount', 'commentCount', 'favoriteCount', 'viewCount',\n",
    "       'likeCount', 'relevantTopicIds', 'topicIds', 'topicCategories', 'title',\n",
    "       'description', 'tags', 'categoryId', 'channelTitle', 'publishedAt',\n",
    "       'Channel Title', 'Channel Description', 'Channel Publish date',\n",
    "       ' Channel hiddenSubscriberCount', 'Channel viewCount',\n",
    "       'Channel subscriberCount', 'Channel commentCount', 'Channel videoCount',\n",
    "       'Channel showRelatedChannels', 'Channel featuredChannelsUrls',\n",
    "       'Channel noOfFeaturedChannels', 'Channel country', 'Channel keywords',\n",
    "       'Channel topicIds', 'Channel topicCategories'])\n",
    "    for categoryId in categoryIds:\n",
    "        df = dfData[dfData['categoryId'] == categoryId]\n",
    "        keys = []\n",
    "        keys[0], keys[1] = tempDf['categoryId'][0], df['categoryId'][0]\n",
    "        tempf = pd.concat([tempDf, df], ignore_index = True, keys = keys)\n",
    "        \n",
    "    # select dataframe according to categories\n",
    "    if len(categories) != 0:\n",
    "        dfData = tempDf.loc[categories]\n",
    "    else:\n",
    "        dfData = tempDf\n",
    "    \n",
    "    # choosing countries\n",
    "    if len(country) != 0:\n",
    "            dfData = dfData.loc[dfData['Channel country'] == country, ]\n",
    "    else:\n",
    "        dfData = dfData.loc[dfData['Channel country'] == 'IN']\n",
    "        \n",
    "    return dfData"
   ]
  },
  {
   "cell_type": "code",
   "execution_count": 6,
   "metadata": {},
   "outputs": [],
   "source": [
    "def preprocessing(dfData):\n",
    "    \"\"\"drops irrelevant features, merges adStats and previous video stats\n",
    "    Args:\n",
    "    dfData: input DataSet\n",
    "    Return:\n",
    "    merged DataSet\n",
    "    \"\"\"\n",
    "    # drop irrelevant features\n",
    "    dfData = dfData.drop(['licensedContent', 'relevantTopicIds', 'topicIds', 'topicCategories', 'channelTitle', 'Channel Title', 'Channel Description', ' Channel hiddenSubscriberCount', 'Channel showRelatedChannels', 'Channel featuredChannelsUrls',\n",
    "       'Channel noOfFeaturedChannels', 'Channel country', 'Channel keywords',\n",
    "       'Channel topicIds', 'Channel topicCategories'], axis = 1)\n",
    "    \n",
    "    # load advertisement and previous stats dataset and clean\n",
    "    dfAdStats = pd.read_csv('/home/archit/Desktop/ad vs organic/resultstats.csv').drop(['ch_id','Unnamed: 0'], axis =1)\n",
    "    dfAdStats.rename(columns = {'video_id':'vid'}, inplace = True)\n",
    "    dfPrevStats = pd.read_csv('/home/archit/Desktop/ad vs organic/previousVideoStats2.csv').drop(['Unnamed: 0'], axis =1)\n",
    "    dfPrevStats.rename(columns = {'Id':'vid'}, inplace = True)\n",
    "\n",
    "    # merge DataSet\n",
    "    dfMergedData = dfData.merge(dfPrevStats, on = 'vid', how = 'left')\n",
    "    dfMergedData = dfMergedData.merge(dfAdStats, on = 'vid', how = 'left')\n",
    "    return dfMergedData"
   ]
  },
  {
   "cell_type": "code",
   "execution_count": 7,
   "metadata": {},
   "outputs": [],
   "source": [
    "def feature_engineer(dfData):\n",
    "    dfData =dfData.drop(['favoriteCount', 'PrevTitle', 'PrevPublishedAt', 'Channel commentCount', 'categoryId', 'cleanDescriptions'],axis =1)\n",
    "    dfData['is_english'] = dfData['Lang'].apply(lambda x: 1 if x=='en' else 0)\n",
    "    dfData = dfData.drop('Lang', axis=1)\n",
    "    \n",
    "    \n",
    "    dfData['PublishedYear'] = dfData['publishedAt'].apply(lambda x: x[:4])\n",
    "    dfData['ChannelAge'] =  dfData['Channel Publish date'].apply(lambda x: x[:4])\n",
    "    dfData['channelViewCount'] = np.log(dfData['Channel viewCount'])\n",
    "    dfData['LikeDislikeRatio'] = dfData['likeCount']/(dfData['dislikeCount'] + dfData['likeCount'])\n",
    "    dfData['PrevCommentCount'] = dfData['PrevCommentCount'].fillna(0)\n",
    "    dfData['PrevDislikeCount'] = dfData['PrevDislikeCount'].fillna(0)\n",
    "    dfData['PrevLikeCount'] = dfData['PrevLikeCount'].fillna(0)\n",
    "    dfData['PrevViewCount'] = dfData['PrevViewCount'].fillna(0)   \n",
    "    dfData['duration'] = dfData['duration'].fillna(0)\n",
    "    dfData['LikeDislikeRatio'] = dfData['LikeDislikeRatio'].replace(np.inf, np.nan)\n",
    "    dfData['LikeDislikeRatio'] = dfData['LikeDislikeRatio'].fillna(0)\n",
    "    dfData['LikeDislikeRatio'] = dfData['LikeDislikeRatio'].fillna(0)\n",
    "    dfData['Channel subscriberCount'] = dfData['Channel subscriberCount'].fillna(0)\n",
    "    dfData['Definition'] = dfData['definition'].apply(lambda x: 1 if x=='hd' else 0)\n",
    "    dfData = dfData.drop(['title','description','publishedAt','Channel viewCount','Channel Publish date','channelId','tags', 'ad%'],axis = 1)\n",
    "    \n",
    "    return dfData\n",
    "\n",
    "def drop_obvious_features(dfData):\n",
    "    dfData = dfData.drop(['LikeCount','DislikeCount','CommentCount'],axis = 1)\n",
    "    return dfData"
   ]
  },
  {
   "cell_type": "code",
   "execution_count": 8,
   "metadata": {},
   "outputs": [
    {
     "data": {
      "text/html": [
       "<div>\n",
       "<style scoped>\n",
       "    .dataframe tbody tr th:only-of-type {\n",
       "        vertical-align: middle;\n",
       "    }\n",
       "\n",
       "    .dataframe tbody tr th {\n",
       "        vertical-align: top;\n",
       "    }\n",
       "\n",
       "    .dataframe thead th {\n",
       "        text-align: right;\n",
       "    }\n",
       "</style>\n",
       "<table border=\"1\" class=\"dataframe\">\n",
       "  <thead>\n",
       "    <tr style=\"text-align: right;\">\n",
       "      <th></th>\n",
       "      <th>vid</th>\n",
       "      <th>channelId</th>\n",
       "      <th>duration</th>\n",
       "      <th>definition</th>\n",
       "      <th>dislikeCount</th>\n",
       "      <th>commentCount</th>\n",
       "      <th>favoriteCount</th>\n",
       "      <th>viewCount</th>\n",
       "      <th>likeCount</th>\n",
       "      <th>title</th>\n",
       "      <th>...</th>\n",
       "      <th>Channel videoCount</th>\n",
       "      <th>Lang</th>\n",
       "      <th>cleanDescriptions</th>\n",
       "      <th>PrevCommentCount</th>\n",
       "      <th>PrevDislikeCount</th>\n",
       "      <th>PrevLikeCount</th>\n",
       "      <th>PrevPublishedAt</th>\n",
       "      <th>PrevViewCount</th>\n",
       "      <th>PrevTitle</th>\n",
       "      <th>ad%</th>\n",
       "    </tr>\n",
       "  </thead>\n",
       "  <tbody>\n",
       "    <tr>\n",
       "      <th>0</th>\n",
       "      <td>HGUPOfgKZak</td>\n",
       "      <td>UC05HXt0G85Q2RFNWP7oArYw</td>\n",
       "      <td>57.0</td>\n",
       "      <td>hd</td>\n",
       "      <td>0.0</td>\n",
       "      <td>10.0</td>\n",
       "      <td>0.0</td>\n",
       "      <td>884.0</td>\n",
       "      <td>98.0</td>\n",
       "      <td>Jamming with Darshan Raval at RadioMirchi (Ye ...</td>\n",
       "      <td>...</td>\n",
       "      <td>22.0</td>\n",
       "      <td>en</td>\n",
       "      <td>darshanraval subscribe press bell icon videos ...</td>\n",
       "      <td>NaN</td>\n",
       "      <td>NaN</td>\n",
       "      <td>NaN</td>\n",
       "      <td>NaN</td>\n",
       "      <td>NaN</td>\n",
       "      <td>NaN</td>\n",
       "      <td>0.0</td>\n",
       "    </tr>\n",
       "    <tr>\n",
       "      <th>1</th>\n",
       "      <td>j290K0z88o4</td>\n",
       "      <td>UC05HXt0G85Q2RFNWP7oArYw</td>\n",
       "      <td>237.0</td>\n",
       "      <td>hd</td>\n",
       "      <td>2.0</td>\n",
       "      <td>7.0</td>\n",
       "      <td>0.0</td>\n",
       "      <td>487.0</td>\n",
       "      <td>40.0</td>\n",
       "      <td>Ed Sheeran - Shape Of You (Indian Version) | H...</td>\n",
       "      <td>...</td>\n",
       "      <td>22.0</td>\n",
       "      <td>en</td>\n",
       "      <td>completely revived indian version billboard ch...</td>\n",
       "      <td>NaN</td>\n",
       "      <td>NaN</td>\n",
       "      <td>NaN</td>\n",
       "      <td>NaN</td>\n",
       "      <td>NaN</td>\n",
       "      <td>NaN</td>\n",
       "      <td>0.0</td>\n",
       "    </tr>\n",
       "    <tr>\n",
       "      <th>2</th>\n",
       "      <td>Wyha0AHJMCY</td>\n",
       "      <td>UC05HXt0G85Q2RFNWP7oArYw</td>\n",
       "      <td>217.0</td>\n",
       "      <td>hd</td>\n",
       "      <td>0.0</td>\n",
       "      <td>1.0</td>\n",
       "      <td>0.0</td>\n",
       "      <td>263.0</td>\n",
       "      <td>15.0</td>\n",
       "      <td>Pukarata Chala Hun Main | Live Rendition by Ac...</td>\n",
       "      <td>...</td>\n",
       "      <td>22.0</td>\n",
       "      <td>en</td>\n",
       "      <td>live rendition evergreen melody pukarta chala ...</td>\n",
       "      <td>NaN</td>\n",
       "      <td>NaN</td>\n",
       "      <td>NaN</td>\n",
       "      <td>NaN</td>\n",
       "      <td>NaN</td>\n",
       "      <td>NaN</td>\n",
       "      <td>0.0</td>\n",
       "    </tr>\n",
       "    <tr>\n",
       "      <th>3</th>\n",
       "      <td>IZEoofMLF0Q</td>\n",
       "      <td>UC05HXt0G85Q2RFNWP7oArYw</td>\n",
       "      <td>99.0</td>\n",
       "      <td>hd</td>\n",
       "      <td>2.0</td>\n",
       "      <td>3.0</td>\n",
       "      <td>0.0</td>\n",
       "      <td>203.0</td>\n",
       "      <td>18.0</td>\n",
       "      <td>Mann Bharrya | Unplugged | AcousticRishabh | B...</td>\n",
       "      <td>...</td>\n",
       "      <td>22.0</td>\n",
       "      <td>en</td>\n",
       "      <td>unplugged cover mann bharreya originally sung ...</td>\n",
       "      <td>NaN</td>\n",
       "      <td>NaN</td>\n",
       "      <td>NaN</td>\n",
       "      <td>NaN</td>\n",
       "      <td>NaN</td>\n",
       "      <td>NaN</td>\n",
       "      <td>0.0</td>\n",
       "    </tr>\n",
       "    <tr>\n",
       "      <th>4</th>\n",
       "      <td>tIfNeR7J_nQ</td>\n",
       "      <td>UC05HXt0G85Q2RFNWP7oArYw</td>\n",
       "      <td>194.0</td>\n",
       "      <td>hd</td>\n",
       "      <td>4.0</td>\n",
       "      <td>5.0</td>\n",
       "      <td>0.0</td>\n",
       "      <td>1306.0</td>\n",
       "      <td>42.0</td>\n",
       "      <td>Lag Jaa Gale | Live &amp; Unplugged | Rishabh Tiwari</td>\n",
       "      <td>...</td>\n",
       "      <td>22.0</td>\n",
       "      <td>en</td>\n",
       "      <td>original song credits song lag jaa gale singer...</td>\n",
       "      <td>NaN</td>\n",
       "      <td>NaN</td>\n",
       "      <td>NaN</td>\n",
       "      <td>NaN</td>\n",
       "      <td>NaN</td>\n",
       "      <td>NaN</td>\n",
       "      <td>0.0</td>\n",
       "    </tr>\n",
       "  </tbody>\n",
       "</table>\n",
       "<p>5 rows × 28 columns</p>\n",
       "</div>"
      ],
      "text/plain": [
       "           vid                 channelId  duration definition  dislikeCount  \\\n",
       "0  HGUPOfgKZak  UC05HXt0G85Q2RFNWP7oArYw      57.0         hd           0.0   \n",
       "1  j290K0z88o4  UC05HXt0G85Q2RFNWP7oArYw     237.0         hd           2.0   \n",
       "2  Wyha0AHJMCY  UC05HXt0G85Q2RFNWP7oArYw     217.0         hd           0.0   \n",
       "3  IZEoofMLF0Q  UC05HXt0G85Q2RFNWP7oArYw      99.0         hd           2.0   \n",
       "4  tIfNeR7J_nQ  UC05HXt0G85Q2RFNWP7oArYw     194.0         hd           4.0   \n",
       "\n",
       "   commentCount  favoriteCount  viewCount  likeCount  \\\n",
       "0          10.0            0.0      884.0       98.0   \n",
       "1           7.0            0.0      487.0       40.0   \n",
       "2           1.0            0.0      263.0       15.0   \n",
       "3           3.0            0.0      203.0       18.0   \n",
       "4           5.0            0.0     1306.0       42.0   \n",
       "\n",
       "                                               title ...  Channel videoCount  \\\n",
       "0  Jamming with Darshan Raval at RadioMirchi (Ye ... ...                22.0   \n",
       "1  Ed Sheeran - Shape Of You (Indian Version) | H... ...                22.0   \n",
       "2  Pukarata Chala Hun Main | Live Rendition by Ac... ...                22.0   \n",
       "3  Mann Bharrya | Unplugged | AcousticRishabh | B... ...                22.0   \n",
       "4   Lag Jaa Gale | Live & Unplugged | Rishabh Tiwari ...                22.0   \n",
       "\n",
       "  Lang                                  cleanDescriptions PrevCommentCount  \\\n",
       "0   en  darshanraval subscribe press bell icon videos ...              NaN   \n",
       "1   en  completely revived indian version billboard ch...              NaN   \n",
       "2   en  live rendition evergreen melody pukarta chala ...              NaN   \n",
       "3   en  unplugged cover mann bharreya originally sung ...              NaN   \n",
       "4   en  original song credits song lag jaa gale singer...              NaN   \n",
       "\n",
       "  PrevDislikeCount  PrevLikeCount  PrevPublishedAt  PrevViewCount  PrevTitle  \\\n",
       "0              NaN            NaN              NaN            NaN        NaN   \n",
       "1              NaN            NaN              NaN            NaN        NaN   \n",
       "2              NaN            NaN              NaN            NaN        NaN   \n",
       "3              NaN            NaN              NaN            NaN        NaN   \n",
       "4              NaN            NaN              NaN            NaN        NaN   \n",
       "\n",
       "   ad%  \n",
       "0  0.0  \n",
       "1  0.0  \n",
       "2  0.0  \n",
       "3  0.0  \n",
       "4  0.0  \n",
       "\n",
       "[5 rows x 28 columns]"
      ]
     },
     "execution_count": 8,
     "metadata": {},
     "output_type": "execute_result"
    }
   ],
   "source": [
    "dfData = preprocessing(dfDataDump)\n",
    "dfData.head()"
   ]
  },
  {
   "cell_type": "code",
   "execution_count": 9,
   "metadata": {},
   "outputs": [
    {
     "data": {
      "text/plain": [
       "Index(['vid', 'channelId', 'duration', 'definition', 'dislikeCount',\n",
       "       'commentCount', 'favoriteCount', 'viewCount', 'likeCount', 'title',\n",
       "       'description', 'tags', 'categoryId', 'publishedAt',\n",
       "       'Channel Publish date', 'Channel viewCount', 'Channel subscriberCount',\n",
       "       'Channel commentCount', 'Channel videoCount', 'Lang',\n",
       "       'cleanDescriptions', 'PrevCommentCount', 'PrevDislikeCount',\n",
       "       'PrevLikeCount', 'PrevPublishedAt', 'PrevViewCount', 'PrevTitle',\n",
       "       'ad%'],\n",
       "      dtype='object')"
      ]
     },
     "execution_count": 9,
     "metadata": {},
     "output_type": "execute_result"
    }
   ],
   "source": [
    "dfData.columns"
   ]
  },
  {
   "cell_type": "code",
   "execution_count": 10,
   "metadata": {},
   "outputs": [],
   "source": [
    "dfTrainingData = dfData[dfData['ad%'] == 0]\n",
    "dfValidationData = dfData[dfData['ad%'] > 0]"
   ]
  },
  {
   "cell_type": "markdown",
   "metadata": {},
   "source": [
    "dfValidationData.to_csv(\"/home/archit/Desktop/ad vs organic/validationDataEng.csv\", index=False)"
   ]
  },
  {
   "cell_type": "code",
   "execution_count": 11,
   "metadata": {},
   "outputs": [],
   "source": [
    "df = feature_engineer(dfTrainingData)"
   ]
  },
  {
   "cell_type": "code",
   "execution_count": 12,
   "metadata": {},
   "outputs": [
    {
     "data": {
      "text/plain": [
       "Index(['vid', 'duration', 'definition', 'dislikeCount', 'commentCount',\n",
       "       'viewCount', 'likeCount', 'Channel subscriberCount',\n",
       "       'Channel videoCount', 'PrevCommentCount', 'PrevDislikeCount',\n",
       "       'PrevLikeCount', 'PrevViewCount', 'is_english', 'PublishedYear',\n",
       "       'ChannelAge', 'channelViewCount', 'LikeDislikeRatio', 'Definition'],\n",
       "      dtype='object')"
      ]
     },
     "execution_count": 12,
     "metadata": {},
     "output_type": "execute_result"
    }
   ],
   "source": [
    "df.columns"
   ]
  },
  {
   "cell_type": "code",
   "execution_count": 13,
   "metadata": {},
   "outputs": [
    {
     "data": {
      "text/plain": [
       "(56671, 18)"
      ]
     },
     "execution_count": 13,
     "metadata": {},
     "output_type": "execute_result"
    }
   ],
   "source": [
    "X, y = df.drop('viewCount',axis = 1) , np.log(df['viewCount'])\n",
    "X.shape"
   ]
  },
  {
   "cell_type": "code",
   "execution_count": 14,
   "metadata": {},
   "outputs": [],
   "source": [
    "from sklearn.model_selection import train_test_split\n",
    "train_X, test_X, train_y, test_y = train_test_split(X, y, train_size = 0.75, test_size = 0.25)"
   ]
  },
  {
   "cell_type": "markdown",
   "metadata": {},
   "source": [
    "runnning stuff of LSTM"
   ]
  },
  {
   "cell_type": "code",
   "execution_count": 10,
   "metadata": {},
   "outputs": [],
   "source": [
    "# select dfData with english language\n",
    "#dfData = dfData[dfData['Lang'] == 'en'].reset_index()"
   ]
  },
  {
   "cell_type": "code",
   "execution_count": 15,
   "metadata": {},
   "outputs": [],
   "source": [
    "def getVal(dictionary):\n",
    "    \"\"\"get value of single element dictionary\n",
    "    \"\"\"\n",
    "    for key, val in dictionary.items():\n",
    "        return val"
   ]
  },
  {
   "cell_type": "code",
   "execution_count": 26,
   "metadata": {},
   "outputs": [],
   "source": [
    "descriptions = []\n",
    "videos = list(train_X.vid)\n",
    "for vid in videos:\n",
    "    Dict = dfDataDump.loc[dfDataDump['vid'] == vid, 'cleanDescriptions'].to_dict()\n",
    "    descriptions.append(getVal(Dict))"
   ]
  },
  {
   "cell_type": "code",
   "execution_count": null,
   "metadata": {},
   "outputs": [],
   "source": [
    "descriptions2 = descriptions[:]"
   ]
  },
  {
   "cell_type": "code",
   "execution_count": 27,
   "metadata": {},
   "outputs": [],
   "source": [
    "descriptions = pd.Series(descriptions)"
   ]
  },
  {
   "cell_type": "code",
   "execution_count": 16,
   "metadata": {},
   "outputs": [
    {
     "ename": "NameError",
     "evalue": "name 'descriptions' is not defined",
     "output_type": "error",
     "traceback": [
      "\u001b[0;31m---------------------------------------------------------------------------\u001b[0m",
      "\u001b[0;31mNameError\u001b[0m                                 Traceback (most recent call last)",
      "\u001b[0;32m<ipython-input-16-e9be014927ac>\u001b[0m in \u001b[0;36m<module>\u001b[0;34m()\u001b[0m\n\u001b[0;32m----> 1\u001b[0;31m \u001b[0mmaxLen\u001b[0m \u001b[0;34m=\u001b[0m \u001b[0mlen\u001b[0m\u001b[0;34m(\u001b[0m\u001b[0mmax\u001b[0m\u001b[0;34m(\u001b[0m\u001b[0mdescriptions\u001b[0m\u001b[0;34m,\u001b[0m \u001b[0mkey\u001b[0m\u001b[0;34m=\u001b[0m\u001b[0mlen\u001b[0m\u001b[0;34m)\u001b[0m\u001b[0;34m.\u001b[0m\u001b[0msplit\u001b[0m\u001b[0;34m(\u001b[0m\u001b[0;34m)\u001b[0m\u001b[0;34m)\u001b[0m\u001b[0;34m\u001b[0m\u001b[0m\n\u001b[0m\u001b[1;32m      2\u001b[0m \u001b[0mprint\u001b[0m\u001b[0;34m(\u001b[0m\u001b[0mmaxLen\u001b[0m\u001b[0;34m)\u001b[0m\u001b[0;34m\u001b[0m\u001b[0m\n",
      "\u001b[0;31mNameError\u001b[0m: name 'descriptions' is not defined"
     ]
    }
   ],
   "source": [
    "maxLen = len(max(descriptions, key=len).split())\n",
    "print(maxLen)"
   ]
  },
  {
   "cell_type": "code",
   "execution_count": null,
   "metadata": {},
   "outputs": [],
   "source": [
    "# preprocess descriptions for glove embedding\n",
    "import nltk\n",
    "from nltk.tokenize import RegexpTokenizer\n",
    "from nltk.stem import WordNetLemmatizer,PorterStemmer\n",
    "from nltk.corpus import stopwords\n",
    "import re\n",
    "lemmatizer = WordNetLemmatizer()\n",
    "stemmer = PorterStemmer() \n",
    "\n",
    "def preprocess(sentence):\n",
    "    sentence=str(sentence)\n",
    "    sentence = sentence.lower()\n",
    "    sentence=sentence.replace('{html}',\"\") \n",
    "    cleanr = re.compile('<.*?>')\n",
    "    cleantext = re.sub(cleanr, '', sentence)\n",
    "    rem_url=re.sub(r'http\\S+', '',cleantext)\n",
    "    rem_num = re.sub('[0-9]+', '', rem_url)\n",
    "    tokenizer = RegexpTokenizer(r'\\w+')\n",
    "    tokens = tokenizer.tokenize(rem_num)  \n",
    "    filtered_words = [w for w in tokens if len(w) > 2 if not w in stopwords.words('english')]\n",
    "    stem_words=[stemmer.stem(w) for w in filtered_words]\n",
    "    lemma_words=[lemmatizer.lemmatize(w) for w in stem_words]\n",
    "    return \" \".join(filtered_words)\n",
    "\n",
    "\n",
    "dfData['cleanDescriptions']=dfData['description'].map(lambda s:preprocess(s)) "
   ]
  },
  {
   "cell_type": "code",
   "execution_count": 29,
   "metadata": {},
   "outputs": [],
   "source": [
    "word_to_index, index_to_word, word_to_vec_map = read_glove_vecs('/home/archit/Desktop/ad vs organic/glove.6B.50d.txt')"
   ]
  },
  {
   "cell_type": "code",
   "execution_count": 13,
   "metadata": {},
   "outputs": [
    {
     "name": "stdout",
     "output_type": "stream",
     "text": [
      "the index of the in the vocabulary is 357266\n",
      "the 289846th word in the vocabulary is potatos\n"
     ]
    }
   ],
   "source": [
    "word = \"the\"\n",
    "index = 289846\n",
    "print(\"the index of\", word, \"in the vocabulary is\", word_to_index[word])\n",
    "print(\"the\", str(index) + \"th word in the vocabulary is\", index_to_word[index])"
   ]
  },
  {
   "cell_type": "markdown",
   "metadata": {},
   "source": [
    "### Scaling data for applying before to neural nets"
   ]
  },
  {
   "cell_type": "code",
   "execution_count": 151,
   "metadata": {},
   "outputs": [],
   "source": [
    "def linear_scale(series):\n",
    "  min_val = series.min()\n",
    "  max_val = series.max()\n",
    "  scale = (max_val - min_val) / 2.0\n",
    "  return series.apply(lambda x:((x - min_val) / scale) - 1.0)"
   ]
  },
  {
   "cell_type": "code",
   "execution_count": 157,
   "metadata": {},
   "outputs": [],
   "source": [
    "def log_normalize(series):\n",
    "  return series.apply(lambda x:math.log(x+1.0))\n",
    "\n",
    "def clip(series, clip_to_min, clip_to_max):\n",
    "  return series.apply(lambda x:(\n",
    "    min(max(x, clip_to_min), clip_to_max)))\n",
    "\n",
    "def z_score_normalize(series):\n",
    "  mean = series.mean()\n",
    "  std_dv = series.std()\n",
    "  return series.apply(lambda x:(x - mean) / std_dv)\n",
    "\n",
    "def binary_threshold(series, threshold):\n",
    "  return series.apply(lambda x:(1 if x > threshold else 0))"
   ]
  },
  {
   "cell_type": "code",
   "execution_count": 158,
   "metadata": {},
   "outputs": [],
   "source": [
    "def normalize_linear_scale(examples_dataframe):\n",
    "  \"\"\"Returns a version of the input `DataFrame` that has all its features normalized linearly.\"\"\"\n",
    "  processed_features = pd.DataFrame()\n",
    "  processed_features[\"duration\"] = log_normalize(examples_dataframe[\"duration\"])\n",
    "  processed_features[\"dislikeCount\"] = log_normalize(examples_dataframe[\"dislikeCount\"])\n",
    "  processed_features[\"commentCount\"] = log_normalize(examples_dataframe[\"commentCount\"])\n",
    "  processed_features[\"likeCount\"] = log_normalize(examples_dataframe[\"likeCount\"])\n",
    "  processed_features[\"Channel subscriberCount\"] = linear_scale(examples_dataframe[\"Channel subscriberCount\"])\n",
    "  processed_features[\"Channel videoCount\"] = linear_scale(examples_dataframe[\"Channel videoCount\"])\n",
    "  processed_features[\"PrevCommentCount\"] = log_normalize(examples_dataframe[\"PrevCommentCount\"])\n",
    "  processed_features[\"PrevDislikeCount\"] = log_normalize(examples_dataframe[\"PrevDislikeCount\"])\n",
    "  processed_features[\"PrevViewCount\"] = log_normalize(examples_dataframe[\"PrevViewCount\"])\n",
    "  processed_features[\"LikeDislikeRatio\"] = linear_scale(examples_dataframe[\"LikeDislikeRatio\"])\n",
    "  processed_features[\"channelViewCount\"] = log_normalize(examples_dataframe[\"channelViewCount\"])\n",
    "\n",
    "    \n",
    "  return processed_features\n",
    "\n",
    "normalized_dataframe = normalize_linear_scale(train_X)"
   ]
  },
  {
   "cell_type": "code",
   "execution_count": 159,
   "metadata": {
    "scrolled": false
   },
   "outputs": [
    {
     "data": {
      "image/png": "[encoded data removed]",
      "text/plain": [
       "<matplotlib.figure.Figure at 0x7f1d3fa2d0f0>"
      ]
     },
     "metadata": {},
     "output_type": "display_data"
    }
   ],
   "source": [
    "_ = normalized_dataframe.hist(bins=20, figsize=(18, 12), xlabelsize=10)"
   ]
  },
  {
   "cell_type": "code",
   "execution_count": 71,
   "metadata": {
    "scrolled": true
   },
   "outputs": [],
   "source": [
    "import numpy as np\n",
    "np.random.seed(0)\n",
    "from keras.models import Model\n",
    "from keras.layers import Dense, Input, Dropout, LSTM, Activation\n",
    "from keras.layers.embeddings import Embedding\n",
    "from keras.preprocessing import sequence\n",
    "from keras.initializers import glorot_uniform\n",
    "from keras.layers.advanced_activations import LeakyReLU, PReLU\n",
    "from keras.optimizers import Adam\n",
    "from keras.layers import concatenate\n",
    "\n",
    "np.random.seed(1)"
   ]
  },
  {
   "cell_type": "code",
   "execution_count": 15,
   "metadata": {},
   "outputs": [],
   "source": [
    "# sentences_to_indices\n",
    "\n",
    "def sentences_to_indices(X, word_to_index, max_len):\n",
    "    \"\"\"\n",
    "    Converts an array of sentences (strings) into an array of indices corresponding to words in the sentences.\n",
    "    The output shape should be such that it can be given to `Embedding()` (described in Figure 4). \n",
    "    \n",
    "    Arguments:\n",
    "    X -- array of sentences (strings), of shape (m, 1)\n",
    "    word_to_index -- a dictionary containing the each word mapped to its index\n",
    "    max_len -- maximum number of words in a sentence. You can assume every sentence in X is no longer than this. \n",
    "    \n",
    "    Returns:\n",
    "    X_indices -- array of indices corresponding to words in the sentences from X, of shape (m, max_len)\n",
    "    \"\"\"\n",
    "    \n",
    "    m = X.shape[0]                                   # number of training examples\n",
    "    \n",
    "    # Initialize X_indices as a numpy matrix of zeros and the correct shape (≈ 1 line)\n",
    "    X_indices = np.zeros((m, max_len))\n",
    "    \n",
    "    for i in range(m):                               # loop over training examples\n",
    "        \n",
    "        # Convert the ith training sentence in lower case and split is into words. You should get a list of words.\n",
    "        sentence_words = [w.lower() for w in X[i].split()]\n",
    "        \n",
    "        # Initialize j to 0\n",
    "        j = 0\n",
    "        \n",
    "        # Loop over the words of sentence_words\n",
    "        for w in sentence_words:\n",
    "            # Set the (i,j)th entry of X_indices to the index of the correct word.\n",
    "            try:\n",
    "                X_indices[i, j] = word_to_index[w]\n",
    "            except:\n",
    "                X_indices[i, j] = word_to_index['the']\n",
    "            # Increment j to j + 1\n",
    "            j += 1\n",
    "            \n",
    "    \n",
    "    return X_indices"
   ]
  },
  {
   "cell_type": "code",
   "execution_count": 16,
   "metadata": {},
   "outputs": [
    {
     "name": "stdout",
     "output_type": "stream",
     "text": [
      "X1 = ['funny lol' 'lets play baseball' 'food is ready for you']\n",
      "X1_indices = [[155345. 225122.      0.      0.      0.]\n",
      " [220930. 286375.  69714.      0.      0.]\n",
      " [151204. 192973. 302254. 151349. 394475.]]\n"
     ]
    }
   ],
   "source": [
    "X1 = np.array([\"funny lol\", \"lets play baseball\", \"food is ready for you\"])\n",
    "X1_indices = sentences_to_indices(X1,word_to_index, max_len = 5)\n",
    "print(\"X1 =\", X1)\n",
    "print(\"X1_indices =\", X1_indices)"
   ]
  },
  {
   "cell_type": "code",
   "execution_count": 160,
   "metadata": {},
   "outputs": [],
   "source": [
    "# pretrained_embedding_layer\n",
    "\n",
    "def pretrained_embedding_layer(word_to_vec_map, word_to_index):\n",
    "    \"\"\"\n",
    "    Creates a Keras Embedding() layer and loads in pre-trained GloVe 50-dimensional vectors.\n",
    "    \n",
    "    Arguments:\n",
    "    word_to_vec_map -- dictionary mapping words to their GloVe vector representation.\n",
    "    word_to_index -- dictionary mapping from words to their indices in the vocabulary (400,001 words)\n",
    "\n",
    "    Returns:\n",
    "    embedding_layer -- pretrained layer Keras instance\n",
    "    \"\"\"\n",
    "    \n",
    "    vocab_len = len(word_to_index) + 1                  # adding 1 to fit Keras embedding (requirement)\n",
    "    emb_dim = word_to_vec_map[\"cucumber\"].shape[0]      # define dimensionality of your GloVe word vectors (= 50)\n",
    "    \n",
    "    # Initialize the embedding matrix as a numpy array of zeros of shape (vocab_len, dimensions of word vectors = emb_dim)\n",
    "    emb_matrix = np.zeros((vocab_len, emb_dim))\n",
    "    \n",
    "    # Set each row \"index\" of the embedding matrix to be the word vector representation of the \"index\"th word of the vocabulary\n",
    "    for word, index in word_to_index.items():\n",
    "        emb_matrix[index, :] = word_to_vec_map[word]\n",
    "\n",
    "    # Define Keras embedding layer with the correct output/input sizes, make it trainable. Use Embedding(...). Make sure to set trainable=False. \n",
    "    embedding_layer = Embedding(vocab_len, emb_dim, trainable=False)\n",
    "\n",
    "    # Build the embedding layer, it is required before setting the weights of the embedding layer. Do not modify the \"None\".\n",
    "    embedding_layer.build((None,))\n",
    "    \n",
    "    # Set the weights of the embedding layer to the embedding matrix. Your layer is now pretrained.\n",
    "    embedding_layer.set_weights([emb_matrix])\n",
    "    \n",
    "    return embedding_layer"
   ]
  },
  {
   "cell_type": "code",
   "execution_count": 18,
   "metadata": {},
   "outputs": [
    {
     "name": "stdout",
     "output_type": "stream",
     "text": [
      "WARNING:tensorflow:From /home/archit/anaconda3/lib/python3.6/site-packages/tensorflow/python/framework/op_def_library.py:263: colocate_with (from tensorflow.python.framework.ops) is deprecated and will be removed in a future version.\n",
      "Instructions for updating:\n",
      "Colocations handled automatically by placer.\n",
      "weights[0][1][3] = -0.3403\n"
     ]
    }
   ],
   "source": [
    "embedding_layer = pretrained_embedding_layer(word_to_vec_map, word_to_index)\n",
    "print(\"weights[0][1][3] =\", embedding_layer.get_weights()[0][1][3])"
   ]
  },
  {
   "cell_type": "code",
   "execution_count": 191,
   "metadata": {},
   "outputs": [],
   "source": [
    "def PREDICT_USING_TEXT_V2(input_shape, word_to_vec_map, word_to_index):\n",
    "    \"\"\"\n",
    "    Function creating the PREDICT_USING_TEXT-v2 model's graph.\n",
    "    \n",
    "    Arguments:\n",
    "    input_shape -- shape of the input, usually (max_len,)\n",
    "    word_to_vec_map -- dictionary mapping every word in a vocabulary into its 50-dimensional vector representation\n",
    "    word_to_index -- dictionary mapping from words to their indices in the vocabulary (400,001 words)\n",
    "\n",
    "    Returns:\n",
    "    model -- a model instance in Keras\n",
    "    \"\"\"\n",
    "    \n",
    "    # Define sentence_indices as the input of the graph, it should be of shape input_shape and dtype 'int32' (as it contains indices).\n",
    "    sentence_indices = Input(input_shape, dtype='int32', name = 'main_input')\n",
    "    \n",
    "    # Create the embedding layer pretrained with GloVe Vectors (≈1 line)\n",
    "    embedding_layer = pretrained_embedding_layer(word_to_vec_map, word_to_index)\n",
    "    \n",
    "    # Propagate sentence_indices through your embedding layer, you get back the embeddings\n",
    "    embeddings = embedding_layer(sentence_indices)   \n",
    "    \n",
    "    # Propagate the embeddings through an LSTM layer with 128-dimensional hidden state\n",
    "    # Be careful, the returned output should be a batch of sequences.\n",
    "    X = LSTM(128, return_sequences=True)(embeddings)\n",
    "    # Add dropout with a probability of 0.5\n",
    "    X = Dropout(0.5)(X)\n",
    "    # Propagate X trough another LSTM layer with 128-dimensional hidden state\n",
    "    # Be careful, the returned output should be a single hidden state, not a batch of sequences.\n",
    "    lstm_out = LSTM(128, return_sequences=False)(X)\n",
    "    \n",
    "    # Propagate X through a Dense layer with softmax activation to get back a batch of 5-dimensional vectors.\n",
    "    auxiliary_output = Dense(5)(X)\n",
    "    # Add a softmax activation\n",
    "    auxiliary_output = Activation('softmax')(auxiliary_output)\n",
    "    \n",
    "    \n",
    "    # Here we insert the auxiliary loss, allowing the LSTM and Embedding layer to be trained smoothly even though the\n",
    "    # main loss will be much higher in the model\n",
    "    \n",
    "    # at this time we feed our auxillary input data by concatenating it with the Lstm output\n",
    "    auxiliary_input = Input(shape = (16,), name = 'auxiliary_input')\n",
    "    x = concatenate([lstm_out, auxiliary_input])\n",
    "    \n",
    "    # stack a deep densely connected network on top\n",
    "    x = Dense(512, activation='tanh')(x)\n",
    "    x = Dense(512, activation='linear')(x)\n",
    "    \n",
    "    x = LeakyReLU(alpha=0.001)(x)\n",
    "    x = Dense(512, activation='tanh')(x)\n",
    "    \n",
    "    x = Dense(256, activation='relu')(x)\n",
    "    x = Dense(256, activation='linear')(x)\n",
    "    x = Dense(128, activation='linear')(x)\n",
    "\n",
    "    main_output = Dense(1, name = 'main_output')(x)\n",
    "    \n",
    "    \n",
    "    # define model with two inputs and two outputs\n",
    "    model = Model(inputs=[sentence_indices, auxiliary_input], outputs= main_output)\n",
    "    \n",
    "    ### END CODE HERE ###\n",
    "    \n",
    "    return model"
   ]
  },
  {
   "cell_type": "code",
   "execution_count": 192,
   "metadata": {},
   "outputs": [
    {
     "name": "stdout",
     "output_type": "stream",
     "text": [
      "__________________________________________________________________________________________________\n",
      "Layer (type)                    Output Shape         Param #     Connected to                     \n",
      "==================================================================================================\n",
      "main_input (InputLayer)         (None, 632)          0                                            \n",
      "__________________________________________________________________________________________________\n",
      "embedding_7 (Embedding)         (None, 632, 50)      20000050    main_input[0][0]                 \n",
      "__________________________________________________________________________________________________\n",
      "lstm_11 (LSTM)                  (None, 632, 128)     91648       embedding_7[0][0]                \n",
      "__________________________________________________________________________________________________\n",
      "dropout_6 (Dropout)             (None, 632, 128)     0           lstm_11[0][0]                    \n",
      "__________________________________________________________________________________________________\n",
      "lstm_12 (LSTM)                  (None, 128)          131584      dropout_6[0][0]                  \n",
      "__________________________________________________________________________________________________\n",
      "auxiliary_input (InputLayer)    (None, 16)           0                                            \n",
      "__________________________________________________________________________________________________\n",
      "concatenate_4 (Concatenate)     (None, 144)          0           lstm_12[0][0]                    \n",
      "                                                                 auxiliary_input[0][0]            \n",
      "__________________________________________________________________________________________________\n",
      "dense_25 (Dense)                (None, 512)          74240       concatenate_4[0][0]              \n",
      "__________________________________________________________________________________________________\n",
      "dense_26 (Dense)                (None, 512)          262656      dense_25[0][0]                   \n",
      "__________________________________________________________________________________________________\n",
      "leaky_re_lu_4 (LeakyReLU)       (None, 512)          0           dense_26[0][0]                   \n",
      "__________________________________________________________________________________________________\n",
      "dense_27 (Dense)                (None, 512)          262656      leaky_re_lu_4[0][0]              \n",
      "__________________________________________________________________________________________________\n",
      "dense_28 (Dense)                (None, 256)          131328      dense_27[0][0]                   \n",
      "__________________________________________________________________________________________________\n",
      "dense_29 (Dense)                (None, 256)          65792       dense_28[0][0]                   \n",
      "__________________________________________________________________________________________________\n",
      "dense_30 (Dense)                (None, 128)          32896       dense_29[0][0]                   \n",
      "__________________________________________________________________________________________________\n",
      "main_output (Dense)             (None, 1)            129         dense_30[0][0]                   \n",
      "==================================================================================================\n",
      "Total params: 21,052,979\n",
      "Trainable params: 21,052,979\n",
      "Non-trainable params: 0\n",
      "__________________________________________________________________________________________________\n"
     ]
    }
   ],
   "source": [
    "model = PREDICT_USING_TEXT_V2((maxLen,), word_to_vec_map, word_to_index)\n",
    "model.summary()"
   ]
  },
  {
   "cell_type": "code",
   "execution_count": 193,
   "metadata": {},
   "outputs": [],
   "source": [
    "# optimizer for regression stacking\n",
    "adam = Adam(lr=0.0002, decay = 0.00001)"
   ]
  },
  {
   "cell_type": "code",
   "execution_count": 194,
   "metadata": {},
   "outputs": [],
   "source": [
    "model.compile(loss='mean_squared_error', optimizer=adam)"
   ]
  },
  {
   "cell_type": "code",
   "execution_count": 184,
   "metadata": {},
   "outputs": [
    {
     "name": "stderr",
     "output_type": "stream",
     "text": [
      "/home/archit/anaconda3/lib/python3.6/site-packages/ipykernel_launcher.py:1: SettingWithCopyWarning: \n",
      "A value is trying to be set on a copy of a slice from a DataFrame\n",
      "\n",
      "See the caveats in the documentation: http://pandas.pydata.org/pandas-docs/stable/indexing.html#indexing-view-versus-copy\n",
      "  \"\"\"Entry point for launching an IPython kernel.\n"
     ]
    }
   ],
   "source": [
    "train_X.drop('definition', axis=1, inplace=True)"
   ]
  },
  {
   "cell_type": "code",
   "execution_count": 189,
   "metadata": {},
   "outputs": [
    {
     "data": {
      "text/plain": [
       "Index(['duration', 'dislikeCount', 'commentCount', 'likeCount',\n",
       "       'Channel subscriberCount', 'Channel videoCount', 'PrevCommentCount',\n",
       "       'PrevDislikeCount', 'PrevLikeCount', 'PrevViewCount', 'is_english',\n",
       "       'PublishedYear', 'ChannelAge', 'channelViewCount', 'LikeDislikeRatio',\n",
       "       'Definition'],\n",
       "      dtype='object')"
      ]
     },
     "execution_count": 189,
     "metadata": {},
     "output_type": "execute_result"
    }
   ],
   "source": [
    "train_X.columns"
   ]
  },
  {
   "cell_type": "code",
   "execution_count": null,
   "metadata": {},
   "outputs": [
    {
     "name": "stdout",
     "output_type": "stream",
     "text": [
      "Epoch 1/50\n",
      "42503/42503 [==============================] - 3494s 82ms/step - loss: 3.5208\n",
      "Epoch 2/50\n",
      "32480/42503 [=====================>........] - ETA: 11:34 - loss: 3.7734"
     ]
    }
   ],
   "source": [
    "#X_train_indices = sentences_to_indices(descriptions.values, word_to_index, maxLen)\n",
    "model.fit({'main_input':X_train_indices, 'auxiliary_input': train_X}, {'main_output': train_y}, epochs = 50, batch_size = 32, shuffle=True)"
   ]
  },
  {
   "cell_type": "code",
   "execution_count": null,
   "metadata": {},
   "outputs": [],
   "source": [
    "# save the model\n",
    "from keras.models import load_model\n",
    "model.save('/home/archit/Desktop/ad vs organic/ad_vs_organic_keras_model.h5')"
   ]
  },
  {
   "cell_type": "markdown",
   "metadata": {},
   "source": [
    "Now we will use standard metrics and evaluate our result"
   ]
  },
  {
   "cell_type": "code",
   "execution_count": null,
   "metadata": {},
   "outputs": [],
   "source": [
    "from sklearn.metrics import r2_score,mean_squared_error,mean_absolute_error"
   ]
  },
  {
   "cell_type": "code",
   "execution_count": null,
   "metadata": {},
   "outputs": [],
   "source": [
    "r2_score(dfVal['ad%'],dfVal['Predicted Ad %'])"
   ]
  },
  {
   "cell_type": "code",
   "execution_count": null,
   "metadata": {},
   "outputs": [],
   "source": [
    "np.sqrt(mean_squared_error(dfVal['ad%'],dfVal['Predicted Ad %']))"
   ]
  },
  {
   "cell_type": "code",
   "execution_count": null,
   "metadata": {},
   "outputs": [],
   "source": [
    "mean_absolute_error(dfVal['ad%'],dfVal['Predicted Ad %'])"
   ]
  },
  {
   "cell_type": "code",
   "execution_count": null,
   "metadata": {},
   "outputs": [],
   "source": [
    "bins =int( (dfVal['Diff'].max() - dfVal['Diff'].min())/5)\n",
    "gh = plt.hist(dfVal['Diff'], bins = bins)\n",
    "freq, error = gh[0], gh[1]\n",
    "plt.ylabel('Number of videos')\n",
    "plt.xlabel('error')\n",
    "plt.title('Frequiency table of diff in ad%')\n",
    "plt.show()"
   ]
  },
  {
   "cell_type": "code",
   "execution_count": null,
   "metadata": {},
   "outputs": [],
   "source": [
    "freq = freq.astype('int64')\n",
    "dfErr = pd.DataFrame()\n",
    "dfErr['Error'] = pd.Series(error)\n",
    "dfErr['Frequency'] = pd.Series(freq)\n",
    "dfErr['Frequency Percentage'] = dfErr['Frequency']/ dfErr['Frequency'].sum() * 100\n",
    "dfErr"
   ]
  },
  {
   "cell_type": "markdown",
   "metadata": {},
   "source": [
    "Now we will look for videos with error in prediction > 30 and figure out why."
   ]
  },
  {
   "cell_type": "code",
   "execution_count": null,
   "metadata": {},
   "outputs": [],
   "source": [
    "dfErr[np.abs(dfErr['Error'])>30]"
   ]
  },
  {
   "cell_type": "code",
   "execution_count": 29,
   "metadata": {},
   "outputs": [
    {
     "data": {
      "text/plain": [
       "(246184, 2)"
      ]
     },
     "execution_count": 29,
     "metadata": {},
     "output_type": "execute_result"
    }
   ],
   "source": [
    "# Loading ad stats dataset\n",
    "dfAdStats = pd.read_csv('/home/archit/Desktop/ad vs organic/resultstats.csv')\n",
    "dfAdStats2 = dfAdStats.drop(['ch_id','Unnamed: 0'], axis =1)\n",
    "dfAdStats2.rename(columns = {'video_id':'vid'}, inplace = True)\n",
    "dfAdStats2.shape"
   ]
  },
  {
   "cell_type": "code",
   "execution_count": 41,
   "metadata": {},
   "outputs": [
    {
     "data": {
      "text/html": [
       "<div>\n",
       "<style scoped>\n",
       "    .dataframe tbody tr th:only-of-type {\n",
       "        vertical-align: middle;\n",
       "    }\n",
       "\n",
       "    .dataframe tbody tr th {\n",
       "        vertical-align: top;\n",
       "    }\n",
       "\n",
       "    .dataframe thead th {\n",
       "        text-align: right;\n",
       "    }\n",
       "</style>\n",
       "<table border=\"1\" class=\"dataframe\">\n",
       "  <thead>\n",
       "    <tr style=\"text-align: right;\">\n",
       "      <th></th>\n",
       "      <th>PrevCommentCount</th>\n",
       "      <th>PrevDislikeCount</th>\n",
       "      <th>PrevLikeCount</th>\n",
       "      <th>PrevPublishedAt</th>\n",
       "      <th>PrevViewCount</th>\n",
       "      <th>PrevTitle</th>\n",
       "      <th>vid</th>\n",
       "    </tr>\n",
       "  </thead>\n",
       "  <tbody>\n",
       "    <tr>\n",
       "      <th>0</th>\n",
       "      <td>9.0</td>\n",
       "      <td>5.0</td>\n",
       "      <td>112.0</td>\n",
       "      <td>2016-08-25T03:48:52.000Z</td>\n",
       "      <td>21007.0</td>\n",
       "      <td>Nhỏ To Cùng Mẹ | Nhật Ký Bí Bầu | Tuần 13 - Hà...</td>\n",
       "      <td>NaN</td>\n",
       "    </tr>\n",
       "    <tr>\n",
       "      <th>1</th>\n",
       "      <td>7.0</td>\n",
       "      <td>6.0</td>\n",
       "      <td>77.0</td>\n",
       "      <td>2016-11-15T06:59:55.000Z</td>\n",
       "      <td>19326.0</td>\n",
       "      <td>Nhỏ To Cùng Mẹ | Nhật Ký Bí Bầu | Tuần 14 - Kh...</td>\n",
       "      <td>LPqCSwCNI5w</td>\n",
       "    </tr>\n",
       "    <tr>\n",
       "      <th>2</th>\n",
       "      <td>28.0</td>\n",
       "      <td>12.0</td>\n",
       "      <td>109.0</td>\n",
       "      <td>2016-11-15T07:01:46.000Z</td>\n",
       "      <td>33071.0</td>\n",
       "      <td>Nhỏ To Cùng Mẹ | Nhật Ký Bí Bầu | Tuần 17 - Gi...</td>\n",
       "      <td>0LGl5jbnrlU</td>\n",
       "    </tr>\n",
       "    <tr>\n",
       "      <th>3</th>\n",
       "      <td>8.0</td>\n",
       "      <td>9.0</td>\n",
       "      <td>84.0</td>\n",
       "      <td>2016-11-15T07:01:55.000Z</td>\n",
       "      <td>29516.0</td>\n",
       "      <td>Nhỏ To Cùng Mẹ | Nhật Ký Bí Bầu |  Tuần 18 - C...</td>\n",
       "      <td>jFFSYwdku9M</td>\n",
       "    </tr>\n",
       "    <tr>\n",
       "      <th>4</th>\n",
       "      <td>12.0</td>\n",
       "      <td>18.0</td>\n",
       "      <td>145.0</td>\n",
       "      <td>2016-11-15T07:02:03.000Z</td>\n",
       "      <td>49653.0</td>\n",
       "      <td>Nhỏ To Cùng Mẹ | Nhật Ký Bí Bầu | Tuần 19 - Ăn...</td>\n",
       "      <td>HvFNGb-nrRU</td>\n",
       "    </tr>\n",
       "  </tbody>\n",
       "</table>\n",
       "</div>"
      ],
      "text/plain": [
       "   PrevCommentCount  PrevDislikeCount  PrevLikeCount  \\\n",
       "0               9.0               5.0          112.0   \n",
       "1               7.0               6.0           77.0   \n",
       "2              28.0              12.0          109.0   \n",
       "3               8.0               9.0           84.0   \n",
       "4              12.0              18.0          145.0   \n",
       "\n",
       "            PrevPublishedAt  PrevViewCount  \\\n",
       "0  2016-08-25T03:48:52.000Z        21007.0   \n",
       "1  2016-11-15T06:59:55.000Z        19326.0   \n",
       "2  2016-11-15T07:01:46.000Z        33071.0   \n",
       "3  2016-11-15T07:01:55.000Z        29516.0   \n",
       "4  2016-11-15T07:02:03.000Z        49653.0   \n",
       "\n",
       "                                           PrevTitle          vid  \n",
       "0  Nhỏ To Cùng Mẹ | Nhật Ký Bí Bầu | Tuần 13 - Hà...          NaN  \n",
       "1  Nhỏ To Cùng Mẹ | Nhật Ký Bí Bầu | Tuần 14 - Kh...  LPqCSwCNI5w  \n",
       "2  Nhỏ To Cùng Mẹ | Nhật Ký Bí Bầu | Tuần 17 - Gi...  0LGl5jbnrlU  \n",
       "3  Nhỏ To Cùng Mẹ | Nhật Ký Bí Bầu |  Tuần 18 - C...  jFFSYwdku9M  \n",
       "4  Nhỏ To Cùng Mẹ | Nhật Ký Bí Bầu | Tuần 19 - Ăn...  HvFNGb-nrRU  "
      ]
     },
     "execution_count": 41,
     "metadata": {},
     "output_type": "execute_result"
    }
   ],
   "source": [
    "# Loading perv stats dataset\n",
    "dfPrevStats = pd.read_csv('/home/archit/Desktop/ad vs organic/previousVideoStats2.csv')\n",
    "dfPrevStats = dfPrevStats.drop(['Unnamed: 0'], axis =1)\n",
    "dfPrevStats.rename(columns = {'Id':'vid'}, inplace = True)\n",
    "\n",
    "dfPrevStats.head()"
   ]
  },
  {
   "cell_type": "markdown",
   "metadata": {},
   "source": [
    "### Merging Dataset"
   ]
  },
  {
   "cell_type": "code",
   "execution_count": 42,
   "metadata": {},
   "outputs": [],
   "source": [
    "dfMergedData = dfData2.merge(dfPrevStats, on = 'vid', how = 'left')\n",
    "dfMergedData = dfMergedData.merge(dfAdStats2, on = 'vid', how = 'left')"
   ]
  },
  {
   "cell_type": "code",
   "execution_count": 43,
   "metadata": {},
   "outputs": [
    {
     "data": {
      "text/plain": [
       "Index(['Unnamed: 0', 'vid', 'channelId', 'duration', 'dislikeCount',\n",
       "       'commentCount', 'favoriteCount', 'viewCount', 'likeCount', 'title',\n",
       "       'description', 'tags', 'categoryId', 'publishedAt',\n",
       "       'Channel Publish date', 'Channel viewCount', 'Channel subscriberCount',\n",
       "       'Channel commentCount', 'Channel videoCount', 'PrevCommentCount',\n",
       "       'PrevDislikeCount', 'PrevLikeCount', 'PrevPublishedAt', 'PrevViewCount',\n",
       "       'PrevTitle', 'ad%'],\n",
       "      dtype='object')"
      ]
     },
     "execution_count": 43,
     "metadata": {},
     "output_type": "execute_result"
    }
   ],
   "source": [
    "dfMergedData.columns"
   ]
  },
  {
   "cell_type": "code",
   "execution_count": 44,
   "metadata": {},
   "outputs": [],
   "source": [
    "dfMergedData.to_csv(\"/home/archit/Desktop/ad vs organic/merged_data_ad_vs_org.csv\")"
   ]
  },
  {
   "cell_type": "code",
   "execution_count": 45,
   "metadata": {},
   "outputs": [],
   "source": [
    "dfMergedData = pd.read_csv('/home/archit/Desktop/ad vs organic/merged_data_ad_vs_org.csv')"
   ]
  },
  {
   "cell_type": "markdown",
   "metadata": {},
   "source": [
    "### Picking up traininig set and validation set"
   ]
  },
  {
   "cell_type": "code",
   "execution_count": 46,
   "metadata": {},
   "outputs": [
    {
     "data": {
      "text/plain": [
       "(112873, 27)"
      ]
     },
     "execution_count": 46,
     "metadata": {},
     "output_type": "execute_result"
    }
   ],
   "source": [
    "dfTrainingSet = dfMergedData.loc[dfMergedData['ad%'] == 0,]\n",
    "dfTrainingSet.shape"
   ]
  },
  {
   "cell_type": "code",
   "execution_count": 47,
   "metadata": {},
   "outputs": [
    {
     "data": {
      "text/plain": [
       "(8003, 27)"
      ]
     },
     "execution_count": 47,
     "metadata": {},
     "output_type": "execute_result"
    }
   ],
   "source": [
    "dfValidationSet = dfMergedData.loc[dfMergedData['ad%']>0, ]\n",
    "\n",
    "dfValidationSet.shape"
   ]
  },
  {
   "cell_type": "markdown",
   "metadata": {},
   "source": [
    "dfTrainingSet.to_csv(\"/home/archit/Desktop/ad vs organic/training_data_ad_vs_org3.csv\")\n"
   ]
  },
  {
   "cell_type": "code",
   "execution_count": 48,
   "metadata": {},
   "outputs": [
    {
     "name": "stderr",
     "output_type": "stream",
     "text": [
      "/home/archit/anaconda3/lib/python3.6/site-packages/ipykernel_launcher.py:1: SettingWithCopyWarning: \n",
      "A value is trying to be set on a copy of a slice from a DataFrame.\n",
      "Try using .loc[row_indexer,col_indexer] = value instead\n",
      "\n",
      "See the caveats in the documentation: http://pandas.pydata.org/pandas-docs/stable/indexing.html#indexing-view-versus-copy\n",
      "  \"\"\"Entry point for launching an IPython kernel.\n"
     ]
    }
   ],
   "source": [
    "dfValidationSet['orgViews'] = dfValidationSet['viewCount']*(100-dfValidationSet['ad%'])"
   ]
  },
  {
   "cell_type": "code",
   "execution_count": 49,
   "metadata": {},
   "outputs": [
    {
     "name": "stderr",
     "output_type": "stream",
     "text": [
      "/home/archit/anaconda3/lib/python3.6/site-packages/ipykernel_launcher.py:1: SettingWithCopyWarning: \n",
      "A value is trying to be set on a copy of a slice from a DataFrame\n",
      "\n",
      "See the caveats in the documentation: http://pandas.pydata.org/pandas-docs/stable/indexing.html#indexing-view-versus-copy\n",
      "  \"\"\"Entry point for launching an IPython kernel.\n",
      "/home/archit/anaconda3/lib/python3.6/site-packages/pandas/core/frame.py:3027: SettingWithCopyWarning: \n",
      "A value is trying to be set on a copy of a slice from a DataFrame\n",
      "\n",
      "See the caveats in the documentation: http://pandas.pydata.org/pandas-docs/stable/indexing.html#indexing-view-versus-copy\n",
      "  return super(DataFrame, self).rename(**kwargs)\n"
     ]
    }
   ],
   "source": [
    "dfValidationSet.drop('viewCount', axis=1, inplace= True)\n",
    "dfValidationSet.rename(columns = {'orgViews':'viewCount'}, inplace = True)"
   ]
  },
  {
   "cell_type": "code",
   "execution_count": 23,
   "metadata": {},
   "outputs": [],
   "source": [
    "dfTrainingSet = pd.concat([dfTrainingSet, dfValidationSet], ignore_index = True)"
   ]
  },
  {
   "cell_type": "code",
   "execution_count": 24,
   "metadata": {},
   "outputs": [
    {
     "data": {
      "text/plain": [
       "(36515, 26)"
      ]
     },
     "execution_count": 24,
     "metadata": {},
     "output_type": "execute_result"
    }
   ],
   "source": [
    "dfTrainingSet.shape"
   ]
  },
  {
   "cell_type": "code",
   "execution_count": 25,
   "metadata": {},
   "outputs": [],
   "source": [
    "dfValidationSet.to_csv('/home/archit/Desktop/ad vs organic/validation_data_ad_vs_org3.csv')"
   ]
  },
  {
   "cell_type": "markdown",
   "metadata": {},
   "source": [
    "### Feature engineering\n"
   ]
  },
  {
   "cell_type": "code",
   "execution_count": 50,
   "metadata": {},
   "outputs": [],
   "source": [
    "def feature_engineer(dfData):\n",
    "    dfData =dfData.drop(['favoriteCount', 'PrevTitle', 'PrevPublishedAt', 'Channel commentCount', 'categoryId'],axis =1)\n",
    "    \n",
    "    \n",
    "    dfData['PublishedYear'] = dfData['publishedAt'].apply(lambda x: x[:4])\n",
    "    dfData['ChannelAge'] =  dfData['Channel Publish date'].apply(lambda x: x[:4])\n",
    "    dfData['channelViewCount'] = np.log(dfData['Channel viewCount'])\n",
    "    dfData['LikeDislikeRatio'] = dfData['likeCount']/(dfData['dislikeCount'] + dfData['likeCount'])\n",
    "    dfData['PrevCommentCount'] = dfData['PrevCommentCount'].fillna(0)\n",
    "    dfData['PrevDislikeCount'] = dfData['PrevDislikeCount'].fillna(0)\n",
    "    dfData['PrevLikeCount'] = dfData['PrevLikeCount'].fillna(0)\n",
    "    dfData['PrevViewCount'] = dfData['PrevViewCount'].fillna(0)   \n",
    "    dfData['duration'] = dfData['duration'].fillna(0)\n",
    "    dfData['LikeDislikeRatio'] = dfData['LikeDislikeRatio'].replace(np.inf, np.nan)\n",
    "    dfData['LikeDislikeRatio'] = dfData['LikeDislikeRatio'].fillna(0)\n",
    "    dfData['LikeDislikeRatio'] = dfData['LikeDislikeRatio'].fillna(0)\n",
    "    dfData['Channel subscriberCount'] = dfData['Channel subscriberCount'].fillna(0)\n",
    "    dfData = dfData.drop(['title','description','publishedAt','Channel viewCount','Channel Publish date','channelId','tags', 'ad%'],axis = 1)\n",
    "    \n",
    "    return dfData\n",
    "\n",
    "def drop_obvious_features(dfData):\n",
    "    dfData = dfData.drop(['LikeCount','DislikeCount','CommentCount'],axis = 1)\n",
    "    return dfData"
   ]
  },
  {
   "cell_type": "code",
   "execution_count": 51,
   "metadata": {},
   "outputs": [],
   "source": [
    "def feature_engineer2(dfData):\n",
    "    dfData =dfData.drop(['favoriteCount', 'PrevTitle', 'PrevPublishedAt', 'Channel commentCount'],axis =1)\n",
    "    \n",
    "    dfData = dfData.dropna()\n",
    "    dfData['PublishedYear'] = dfData['publishedAt'].apply(lambda x: x[:4])\n",
    "    dfData['ChannelAge'] =  dfData['Channel Publish date'].apply(lambda x: x[:4])\n",
    "    dfData['channelViewCount'] = np.log(dfData['Channel viewCount'])\n",
    "    dfData['LikeDislikeRatio'] = dfData['likeCount']/(dfData['dislikeCount'] + dfData['likeCount'])\n",
    "    dfData['LikeDislikeRatio'] = dfData['LikeDislikeRatio'].replace(np.inf, np.nan)\n",
    "    dfData = dfData.drop(['title','description','publishedAt','','Channel Publish date','channelId','tags', 'ad%'],axis = 1)\n",
    "    \n",
    "    return dfData\n",
    "\n",
    "def drop_obvious_features(dfData):\n",
    "    dfData = dfData.drop(['LikeCount','DislikeCount','CommentCount'],axis = 1)\n",
    "    return dfData"
   ]
  },
  {
   "cell_type": "code",
   "execution_count": 52,
   "metadata": {},
   "outputs": [],
   "source": [
    "df = feature_engineer(dfTrainingSet)\n",
    "#df.to_csv('/home/archit/Desktop/ad vs organic/trainSet2.csv')"
   ]
  },
  {
   "cell_type": "code",
   "execution_count": 61,
   "metadata": {},
   "outputs": [
    {
     "ename": "ValueError",
     "evalue": "labels ['Unnamed: 0' 'Unnamed: 0.1'] not contained in axis",
     "output_type": "error",
     "traceback": [
      "\u001b[0;31m---------------------------------------------------------------------------\u001b[0m",
      "\u001b[0;31mValueError\u001b[0m                                Traceback (most recent call last)",
      "\u001b[0;32m<ipython-input-61-8c3a2ed15455>\u001b[0m in \u001b[0;36m<module>\u001b[0;34m()\u001b[0m\n\u001b[1;32m      1\u001b[0m \u001b[0mX\u001b[0m\u001b[0;34m,\u001b[0m \u001b[0my\u001b[0m \u001b[0;34m=\u001b[0m \u001b[0mdf\u001b[0m\u001b[0;34m.\u001b[0m\u001b[0mdrop\u001b[0m\u001b[0;34m(\u001b[0m\u001b[0;34m'viewCount'\u001b[0m\u001b[0;34m,\u001b[0m\u001b[0maxis\u001b[0m \u001b[0;34m=\u001b[0m \u001b[0;36m1\u001b[0m\u001b[0;34m)\u001b[0m \u001b[0;34m,\u001b[0m \u001b[0mnp\u001b[0m\u001b[0;34m.\u001b[0m\u001b[0mlog\u001b[0m\u001b[0;34m(\u001b[0m\u001b[0mdf\u001b[0m\u001b[0;34m[\u001b[0m\u001b[0;34m'viewCount'\u001b[0m\u001b[0;34m]\u001b[0m\u001b[0;34m)\u001b[0m\u001b[0;34m\u001b[0m\u001b[0m\n\u001b[0;32m----> 2\u001b[0;31m \u001b[0mX\u001b[0m \u001b[0;34m=\u001b[0m \u001b[0mX\u001b[0m\u001b[0;34m.\u001b[0m\u001b[0mdrop\u001b[0m\u001b[0;34m(\u001b[0m\u001b[0;34m[\u001b[0m\u001b[0;34m'Unnamed: 0'\u001b[0m\u001b[0;34m,\u001b[0m \u001b[0;34m'Unnamed: 0.1'\u001b[0m\u001b[0;34m]\u001b[0m\u001b[0;34m,\u001b[0m \u001b[0maxis\u001b[0m \u001b[0;34m=\u001b[0m \u001b[0;36m1\u001b[0m\u001b[0;34m)\u001b[0m\u001b[0;34m\u001b[0m\u001b[0m\n\u001b[0m\u001b[1;32m      3\u001b[0m \u001b[0mX\u001b[0m\u001b[0;34m.\u001b[0m\u001b[0mshape\u001b[0m\u001b[0;34m\u001b[0m\u001b[0m\n",
      "\u001b[0;32m~/anaconda3/lib/python3.6/site-packages/pandas/core/generic.py\u001b[0m in \u001b[0;36mdrop\u001b[0;34m(self, labels, axis, index, columns, level, inplace, errors)\u001b[0m\n\u001b[1;32m   2528\u001b[0m         \u001b[0;32mfor\u001b[0m \u001b[0maxis\u001b[0m\u001b[0;34m,\u001b[0m \u001b[0mlabels\u001b[0m \u001b[0;32min\u001b[0m \u001b[0maxes\u001b[0m\u001b[0;34m.\u001b[0m\u001b[0mitems\u001b[0m\u001b[0;34m(\u001b[0m\u001b[0;34m)\u001b[0m\u001b[0;34m:\u001b[0m\u001b[0;34m\u001b[0m\u001b[0m\n\u001b[1;32m   2529\u001b[0m             \u001b[0;32mif\u001b[0m \u001b[0mlabels\u001b[0m \u001b[0;32mis\u001b[0m \u001b[0;32mnot\u001b[0m \u001b[0;32mNone\u001b[0m\u001b[0;34m:\u001b[0m\u001b[0;34m\u001b[0m\u001b[0m\n\u001b[0;32m-> 2530\u001b[0;31m                 \u001b[0mobj\u001b[0m \u001b[0;34m=\u001b[0m \u001b[0mobj\u001b[0m\u001b[0;34m.\u001b[0m\u001b[0m_drop_axis\u001b[0m\u001b[0;34m(\u001b[0m\u001b[0mlabels\u001b[0m\u001b[0;34m,\u001b[0m \u001b[0maxis\u001b[0m\u001b[0;34m,\u001b[0m \u001b[0mlevel\u001b[0m\u001b[0;34m=\u001b[0m\u001b[0mlevel\u001b[0m\u001b[0;34m,\u001b[0m \u001b[0merrors\u001b[0m\u001b[0;34m=\u001b[0m\u001b[0merrors\u001b[0m\u001b[0;34m)\u001b[0m\u001b[0;34m\u001b[0m\u001b[0m\n\u001b[0m\u001b[1;32m   2531\u001b[0m \u001b[0;34m\u001b[0m\u001b[0m\n\u001b[1;32m   2532\u001b[0m         \u001b[0;32mif\u001b[0m \u001b[0minplace\u001b[0m\u001b[0;34m:\u001b[0m\u001b[0;34m\u001b[0m\u001b[0m\n",
      "\u001b[0;32m~/anaconda3/lib/python3.6/site-packages/pandas/core/generic.py\u001b[0m in \u001b[0;36m_drop_axis\u001b[0;34m(self, labels, axis, level, errors)\u001b[0m\n\u001b[1;32m   2560\u001b[0m                 \u001b[0mnew_axis\u001b[0m \u001b[0;34m=\u001b[0m \u001b[0maxis\u001b[0m\u001b[0;34m.\u001b[0m\u001b[0mdrop\u001b[0m\u001b[0;34m(\u001b[0m\u001b[0mlabels\u001b[0m\u001b[0;34m,\u001b[0m \u001b[0mlevel\u001b[0m\u001b[0;34m=\u001b[0m\u001b[0mlevel\u001b[0m\u001b[0;34m,\u001b[0m \u001b[0merrors\u001b[0m\u001b[0;34m=\u001b[0m\u001b[0merrors\u001b[0m\u001b[0;34m)\u001b[0m\u001b[0;34m\u001b[0m\u001b[0m\n\u001b[1;32m   2561\u001b[0m             \u001b[0;32melse\u001b[0m\u001b[0;34m:\u001b[0m\u001b[0;34m\u001b[0m\u001b[0m\n\u001b[0;32m-> 2562\u001b[0;31m                 \u001b[0mnew_axis\u001b[0m \u001b[0;34m=\u001b[0m \u001b[0maxis\u001b[0m\u001b[0;34m.\u001b[0m\u001b[0mdrop\u001b[0m\u001b[0;34m(\u001b[0m\u001b[0mlabels\u001b[0m\u001b[0;34m,\u001b[0m \u001b[0merrors\u001b[0m\u001b[0;34m=\u001b[0m\u001b[0merrors\u001b[0m\u001b[0;34m)\u001b[0m\u001b[0;34m\u001b[0m\u001b[0m\n\u001b[0m\u001b[1;32m   2563\u001b[0m             \u001b[0mdropped\u001b[0m \u001b[0;34m=\u001b[0m \u001b[0mself\u001b[0m\u001b[0;34m.\u001b[0m\u001b[0mreindex\u001b[0m\u001b[0;34m(\u001b[0m\u001b[0;34m**\u001b[0m\u001b[0;34m{\u001b[0m\u001b[0maxis_name\u001b[0m\u001b[0;34m:\u001b[0m \u001b[0mnew_axis\u001b[0m\u001b[0;34m}\u001b[0m\u001b[0;34m)\u001b[0m\u001b[0;34m\u001b[0m\u001b[0m\n\u001b[1;32m   2564\u001b[0m             \u001b[0;32mtry\u001b[0m\u001b[0;34m:\u001b[0m\u001b[0;34m\u001b[0m\u001b[0m\n",
      "\u001b[0;32m~/anaconda3/lib/python3.6/site-packages/pandas/core/indexes/base.py\u001b[0m in \u001b[0;36mdrop\u001b[0;34m(self, labels, errors)\u001b[0m\n\u001b[1;32m   3742\u001b[0m             \u001b[0;32mif\u001b[0m \u001b[0merrors\u001b[0m \u001b[0;34m!=\u001b[0m \u001b[0;34m'ignore'\u001b[0m\u001b[0;34m:\u001b[0m\u001b[0;34m\u001b[0m\u001b[0m\n\u001b[1;32m   3743\u001b[0m                 raise ValueError('labels %s not contained in axis' %\n\u001b[0;32m-> 3744\u001b[0;31m                                  labels[mask])\n\u001b[0m\u001b[1;32m   3745\u001b[0m             \u001b[0mindexer\u001b[0m \u001b[0;34m=\u001b[0m \u001b[0mindexer\u001b[0m\u001b[0;34m[\u001b[0m\u001b[0;34m~\u001b[0m\u001b[0mmask\u001b[0m\u001b[0;34m]\u001b[0m\u001b[0;34m\u001b[0m\u001b[0m\n\u001b[1;32m   3746\u001b[0m         \u001b[0;32mreturn\u001b[0m \u001b[0mself\u001b[0m\u001b[0;34m.\u001b[0m\u001b[0mdelete\u001b[0m\u001b[0;34m(\u001b[0m\u001b[0mindexer\u001b[0m\u001b[0;34m)\u001b[0m\u001b[0;34m\u001b[0m\u001b[0m\n",
      "\u001b[0;31mValueError\u001b[0m: labels ['Unnamed: 0' 'Unnamed: 0.1'] not contained in axis"
     ]
    }
   ],
   "source": [
    "X, y = df.drop('viewCount',axis = 1) , np.log(df['viewCount'])\n",
    "X = X.drop(['Unnamed: 0', 'Unnamed: 0.1'], axis = 1)\n",
    "X.shape"
   ]
  },
  {
   "cell_type": "code",
   "execution_count": 69,
   "metadata": {},
   "outputs": [
    {
     "data": {
      "text/plain": [
       "Index(['vid', 'duration', 'dislikeCount', 'commentCount', 'likeCount',\n",
       "       'Channel subscriberCount', 'Channel videoCount', 'PrevCommentCount',\n",
       "       'PrevDislikeCount', 'PrevLikeCount', 'PrevViewCount', 'PublishedYear',\n",
       "       'ChannelAge', 'channelViewCount', 'LikeDislikeRatio'],\n",
       "      dtype='object')"
      ]
     },
     "execution_count": 69,
     "metadata": {},
     "output_type": "execute_result"
    }
   ],
   "source": [
    "X.columns"
   ]
  },
  {
   "cell_type": "code",
   "execution_count": 55,
   "metadata": {},
   "outputs": [],
   "source": [
    "#X.to_csv('/home/archit/Desktop/ad vs organic/trainSET.csv')"
   ]
  },
  {
   "cell_type": "markdown",
   "metadata": {},
   "source": [
    "### Modeling"
   ]
  },
  {
   "cell_type": "code",
   "execution_count": 70,
   "metadata": {},
   "outputs": [],
   "source": [
    "from sklearn.ensemble import GradientBoostingClassifier, GradientBoostingRegressor\n",
    "from sklearn.model_selection import train_test_split\n",
    "#from xgboost import XGBClassifier, XGBRegressor"
   ]
  },
  {
   "cell_type": "code",
   "execution_count": 71,
   "metadata": {},
   "outputs": [],
   "source": [
    "train_X, test_X, train_y, test_y = train_test_split(X, y, train_size = 0.75, test_size = 0.25)\n",
    "\n",
    "train_X_id, train_X = train_X.vid, train_X.drop('vid', axis = 1)\n",
    "test_X_id, test_X = test_X.vid, test_X.drop('vid', axis = 1)\n",
    "\n",
    "reg = GradientBoostingRegressor()\n",
    "reg.fit(train_X, train_y)\n",
    "reg.score(test_X, test_y)\n",
    "\n",
    "import pickle\n",
    "pickle.dump(reg, open(\"Gbr005.pickle.dat\", \"wb\"))"
   ]
  },
  {
   "cell_type": "code",
   "execution_count": 72,
   "metadata": {},
   "outputs": [],
   "source": [
    "pred = reg.predict(test_X)"
   ]
  },
  {
   "cell_type": "code",
   "execution_count": 73,
   "metadata": {},
   "outputs": [
    {
     "data": {
      "text/html": [
       "<div>\n",
       "<style scoped>\n",
       "    .dataframe tbody tr th:only-of-type {\n",
       "        vertical-align: middle;\n",
       "    }\n",
       "\n",
       "    .dataframe tbody tr th {\n",
       "        vertical-align: top;\n",
       "    }\n",
       "\n",
       "    .dataframe thead th {\n",
       "        text-align: right;\n",
       "    }\n",
       "</style>\n",
       "<table border=\"1\" class=\"dataframe\">\n",
       "  <thead>\n",
       "    <tr style=\"text-align: right;\">\n",
       "      <th></th>\n",
       "      <th>Actual</th>\n",
       "      <th>Diff</th>\n",
       "      <th>Id</th>\n",
       "      <th>Pred</th>\n",
       "    </tr>\n",
       "  </thead>\n",
       "  <tbody>\n",
       "    <tr>\n",
       "      <th>44138</th>\n",
       "      <td>411.0</td>\n",
       "      <td>101.860164</td>\n",
       "      <td>lhpiPhfw8m8</td>\n",
       "      <td>309.139836</td>\n",
       "    </tr>\n",
       "    <tr>\n",
       "      <th>31600</th>\n",
       "      <td>881.0</td>\n",
       "      <td>-105.292991</td>\n",
       "      <td>2DEfSW3e3Hg</td>\n",
       "      <td>986.292991</td>\n",
       "    </tr>\n",
       "    <tr>\n",
       "      <th>27166</th>\n",
       "      <td>533.0</td>\n",
       "      <td>-201.823546</td>\n",
       "      <td>ZlBuyx8qz64</td>\n",
       "      <td>734.823546</td>\n",
       "    </tr>\n",
       "    <tr>\n",
       "      <th>67319</th>\n",
       "      <td>3926.0</td>\n",
       "      <td>1070.292623</td>\n",
       "      <td>fM38i1eHr98</td>\n",
       "      <td>2855.707377</td>\n",
       "    </tr>\n",
       "    <tr>\n",
       "      <th>42187</th>\n",
       "      <td>385.0</td>\n",
       "      <td>200.500859</td>\n",
       "      <td>_R4DWeJhz7Y</td>\n",
       "      <td>184.499141</td>\n",
       "    </tr>\n",
       "  </tbody>\n",
       "</table>\n",
       "</div>"
      ],
      "text/plain": [
       "       Actual         Diff           Id         Pred\n",
       "44138   411.0   101.860164  lhpiPhfw8m8   309.139836\n",
       "31600   881.0  -105.292991  2DEfSW3e3Hg   986.292991\n",
       "27166   533.0  -201.823546  ZlBuyx8qz64   734.823546\n",
       "67319  3926.0  1070.292623  fM38i1eHr98  2855.707377\n",
       "42187   385.0   200.500859  _R4DWeJhz7Y   184.499141"
      ]
     },
     "execution_count": 73,
     "metadata": {},
     "output_type": "execute_result"
    }
   ],
   "source": [
    "size = test_y.shape[0]\n",
    "test_yL = test_y.tolist()\n",
    "predL = pred.tolist()\n",
    "exActView = []\n",
    "exPredView = []\n",
    "diff = []\n",
    "sqErr = []\n",
    "mape={}\n",
    "for i in range(0, size):\n",
    "    exActView.append(math.exp(test_yL[i]))\n",
    "    exPredView.append(math.exp(predL[i]))\n",
    "    diff.append(exActView[i] - exPredView[i])\n",
    "    sqErr.append(math.pow(diff[i], 2))\n",
    "rmse = math.sqrt(sum(sqErr) /size)/ (test_y.max() - test_y.min())\n",
    "dfEval = pd.DataFrame({'Id':test_X_id, 'Actual' : exActView, 'Pred': exPredView, 'Diff': diff})\n",
    "dfEval.head()"
   ]
  },
  {
   "cell_type": "code",
   "execution_count": 74,
   "metadata": {},
   "outputs": [
    {
     "name": "stdout",
     "output_type": "stream",
     "text": [
      "Rmse of the regressormodel is:2387.4454790550158\n"
     ]
    }
   ],
   "source": [
    "print(\"Rmse of the regressormodel is:\" + str(rmse))"
   ]
  },
  {
   "cell_type": "code",
   "execution_count": 75,
   "metadata": {},
   "outputs": [
    {
     "data": {
      "text/plain": [
       "0.04029664809978987"
      ]
     },
     "execution_count": 75,
     "metadata": {},
     "output_type": "execute_result"
    }
   ],
   "source": [
    "1011.0650776175543/dfEval['Actual'].mean()"
   ]
  },
  {
   "cell_type": "code",
   "execution_count": 76,
   "metadata": {},
   "outputs": [
    {
     "data": {
      "text/plain": [
       "<matplotlib.axes._subplots.AxesSubplot at 0x7faecf5a34e0>"
      ]
     },
     "execution_count": 76,
     "metadata": {},
     "output_type": "execute_result"
    },
    {
     "data": {
      "image/png": "[encoded data removed]",
      "text/plain": [
       "<matplotlib.figure.Figure at 0x7faecf5a31d0>"
      ]
     },
     "metadata": {},
     "output_type": "display_data"
    }
   ],
   "source": [
    "X = X.drop('vid', axis = 1)\n",
    "sns.set_style('darkgrid')\n",
    "plt.figure(figsize=(10,12))\n",
    "sns.barplot(x=reg.feature_importances_, y=X.columns)"
   ]
  },
  {
   "cell_type": "code",
   "execution_count": null,
   "metadata": {},
   "outputs": [],
   "source": []
  },
  {
   "cell_type": "markdown",
   "metadata": {},
   "source": [
    "### Modeling on validation set"
   ]
  },
  {
   "cell_type": "code",
   "execution_count": 91,
   "metadata": {},
   "outputs": [],
   "source": [
    "df = feature_engineer(dfValidationSet)"
   ]
  },
  {
   "cell_type": "code",
   "execution_count": null,
   "metadata": {},
   "outputs": [],
   "source": []
  }
 ],
 "metadata": {
  "kernelspec": {
   "display_name": "Python 3",
   "language": "python",
   "name": "python3"
  },
  "language_info": {
   "codemirror_mode": {
    "name": "ipython",
    "version": 3
   },
   "file_extension": ".py",
   "mimetype": "text/x-python",
   "name": "python",
   "nbconvert_exporter": "python",
   "pygments_lexer": "ipython3",
   "version": "3.6.4"
  }
 },
 "nbformat": 4,
 "nbformat_minor": 2
}
