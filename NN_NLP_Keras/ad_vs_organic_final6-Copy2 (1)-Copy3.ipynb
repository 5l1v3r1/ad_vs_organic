{
 "cells": [
  {
   "cell_type": "markdown",
   "metadata": {},
   "source": [
    "citations:\n",
    "emojifier deep learning.ai"
   ]
  },
  {
   "cell_type": "code",
   "execution_count": 50,
   "metadata": {},
   "outputs": [],
   "source": [
    "import pandas as pd\n",
    "import math\n",
    "import csv\n",
    "import os\n",
    "import seaborn as sns\n",
    "import matplotlib.pyplot as plt\n",
    "import numpy as np\n",
    "import re"
   ]
  },
  {
   "cell_type": "code",
   "execution_count": 51,
   "metadata": {},
   "outputs": [],
   "source": [
    "dfDataDump = pd.read_csv('/home/archit/Desktop/ad_vs_organic/final_combined_organic_duration3.csv')"
   ]
  },
  {
   "cell_type": "code",
   "execution_count": 52,
   "metadata": {},
   "outputs": [],
   "source": [
    "dfDataDump = dfDataDump = dfDataDump[dfDataDump['viewCount'] > 2000]"
   ]
  },
  {
   "cell_type": "code",
   "execution_count": 53,
   "metadata": {},
   "outputs": [],
   "source": [
    "dfDataDump = dfDataDump.sample(n = 2000)"
   ]
  },
  {
   "cell_type": "code",
   "execution_count": 54,
   "metadata": {},
   "outputs": [
    {
     "data": {
      "text/plain": [
       "Index(['vid', 'channelId', 'duration', 'licensedContent', 'definition',\n",
       "       'dislikeCount', 'commentCount', 'favoriteCount', 'viewCount',\n",
       "       'likeCount', 'relevantTopicIds', 'topicIds', 'topicCategories', 'title',\n",
       "       'description', 'tags', 'categoryId', 'channelTitle', 'publishedAt',\n",
       "       'Channel Title', 'Channel Description', 'Channel Publish date',\n",
       "       ' Channel hiddenSubscriberCount', 'Channel viewCount',\n",
       "       'Channel subscriberCount', 'Channel commentCount', 'Channel videoCount',\n",
       "       'Channel showRelatedChannels', 'Channel featuredChannelsUrls',\n",
       "       'Channel noOfFeaturedChannels', 'Channel country', 'Channel keywords',\n",
       "       'Channel topicIds', 'Channel topicCategories', 'cleanDescriptions'],\n",
       "      dtype='object')"
      ]
     },
     "execution_count": 54,
     "metadata": {},
     "output_type": "execute_result"
    }
   ],
   "source": [
    "dfDataDump.columns"
   ]
  },
  {
   "cell_type": "code",
   "execution_count": 55,
   "metadata": {},
   "outputs": [],
   "source": [
    "dfLen = dfDataDump['cleanDescriptions'].apply(lambda x: len(x.split(' ')))"
   ]
  },
  {
   "cell_type": "code",
   "execution_count": 56,
   "metadata": {},
   "outputs": [
    {
     "data": {
      "text/plain": [
       "565"
      ]
     },
     "execution_count": 56,
     "metadata": {},
     "output_type": "execute_result"
    }
   ],
   "source": [
    "np.max(dfLen)"
   ]
  },
  {
   "cell_type": "code",
   "execution_count": 57,
   "metadata": {},
   "outputs": [
    {
     "data": {
      "text/plain": [
       "count    2000.000000\n",
       "mean      126.499000\n",
       "std        59.938988\n",
       "min        10.000000\n",
       "25%        83.000000\n",
       "50%       123.000000\n",
       "75%       159.000000\n",
       "max       565.000000\n",
       "Name: cleanDescriptions, dtype: float64"
      ]
     },
     "execution_count": 57,
     "metadata": {},
     "output_type": "execute_result"
    }
   ],
   "source": [
    "dfLen.describe()"
   ]
  },
  {
   "cell_type": "code",
   "execution_count": 58,
   "metadata": {},
   "outputs": [
    {
     "data": {
      "text/plain": [
       "35327     오버워치 알로직의 플레이 둠피스트 알로직 overwatch fps 처음으로 플레이 ...\n",
       "57121     lagu anak selamat ulang tahun bersama badut di...\n",
       "116527    kunal khemu caught stripping newly wedded coup...\n",
       "32350     shock เดอะช ออกอากาศ มกราคม shock เดอะช อคกดต ...\n",
       "67561     dalapathi movie scenes rajnikanth marries bhan...\n",
       "Name: cleanDescriptions, dtype: object"
      ]
     },
     "execution_count": 58,
     "metadata": {},
     "output_type": "execute_result"
    }
   ],
   "source": [
    "dfDataDump['cleanDescriptions'][0:5]"
   ]
  },
  {
   "cell_type": "markdown",
   "metadata": {},
   "source": [
    "Next we will set up our input dataset and define the function for model training"
   ]
  },
  {
   "cell_type": "code",
   "execution_count": 59,
   "metadata": {},
   "outputs": [],
   "source": [
    "def input_dataset(dfData, views =0, categories =[], country= ['IN']):\n",
    "    \"\"\"manipulates input dataframe according to input parameters.\n",
    "    Args:\n",
    "        dfData: input dataset\n",
    "        views: minimum number of views in dfData.Default = 0.\n",
    "        categories: list of categories to be present in final dataset.Default is empty list(all categories)\n",
    "        country: List of countries whose videos should be present in dataSet. Default is India.\n",
    "    Returns:\n",
    "        dataset to train model on\n",
    "    \"\"\"\n",
    "    # slice dataset with viewCount larger than views\n",
    "    dfData = dfData[dfData['viewCount'] >= views]\n",
    "    # concat dfData according to categories\n",
    "    categoryIds =(dfData['categoryId'].dropna().unique()).tolist()\n",
    "    # create temporary df\n",
    "    tempDf = pd.DataFrame(columns = ['vid', 'channelId', 'duration', 'licensedContent', 'definition',\n",
    "       'dislikeCount', 'commentCount', 'favoriteCount', 'viewCount',\n",
    "       'likeCount', 'relevantTopicIds', 'topicIds', 'topicCategories', 'title',\n",
    "       'description', 'tags', 'categoryId', 'channelTitle', 'publishedAt',\n",
    "       'Channel Title', 'Channel Description', 'Channel Publish date',\n",
    "       ' Channel hiddenSubscriberCount', 'Channel viewCount',\n",
    "       'Channel subscriberCount', 'Channel commentCount', 'Channel videoCount',\n",
    "       'Channel showRelatedChannels', 'Channel featuredChannelsUrls',\n",
    "       'Channel noOfFeaturedChannels', 'Channel country', 'Channel keywords',\n",
    "       'Channel topicIds', 'Channel topicCategories'])\n",
    "    for categoryId in categoryIds:\n",
    "        df = dfData[dfData['categoryId'] == categoryId]\n",
    "        keys = []\n",
    "        keys[0], keys[1] = tempDf['categoryId'][0], df['categoryId'][0]\n",
    "        tempf = pd.concat([tempDf, df], ignore_index = True, keys = keys)\n",
    "        \n",
    "    # select dataframe according to categories\n",
    "    if len(categories) != 0:\n",
    "        dfData = tempDf.loc[categories]\n",
    "    else:\n",
    "        dfData = tempDf\n",
    "    \n",
    "    # choosing countries\n",
    "    if len(country) != 0:\n",
    "            dfData = dfData.loc[dfData['Channel country'] == country, ]\n",
    "    else:\n",
    "        dfData = dfData.loc[dfData['Channel country'] == 'IN']\n",
    "        \n",
    "    return dfData"
   ]
  },
  {
   "cell_type": "code",
   "execution_count": 60,
   "metadata": {},
   "outputs": [],
   "source": [
    "def preprocessing(dfData):\n",
    "    \"\"\"drops irrelevant features, merges adStats and previous video stats\n",
    "    Args:\n",
    "    dfData: input DataSet\n",
    "    Return:\n",
    "    merged DataSet\n",
    "    \"\"\"\n",
    "    # drop irrelevant features\n",
    "    dfData = dfData.drop(['licensedContent', 'relevantTopicIds', 'topicIds', 'topicCategories', 'channelTitle', 'Channel Title', 'Channel Description', ' Channel hiddenSubscriberCount', 'Channel showRelatedChannels', 'Channel featuredChannelsUrls',\n",
    "       'Channel noOfFeaturedChannels', 'Channel country', 'Channel keywords',\n",
    "       'Channel topicIds', 'Channel topicCategories'], axis = 1)\n",
    "    \n",
    "    # load advertisement and previous stats dataset and clean\n",
    "    dfAdStats = pd.read_csv('/home/archit/Desktop/ad_vs_organic/resultstats.csv').drop(['ch_id','Unnamed: 0'], axis =1)\n",
    "    dfAdStats.rename(columns = {'video_id':'vid'}, inplace = True)\n",
    "    dfPrevStats = pd.read_csv('/home/archit/Desktop/ad_vs_organic/previousVideoStats2.csv').drop(['Unnamed: 0'], axis =1)\n",
    "    dfPrevStats.rename(columns = {'Id':'vid'}, inplace = True)\n",
    "\n",
    "    # merge DataSet\n",
    "    dfMergedData = dfData.merge(dfPrevStats, on = 'vid', how = 'left')\n",
    "    dfMergedData = dfMergedData.merge(dfAdStats, on = 'vid', how = 'left')\n",
    "    return dfMergedData"
   ]
  },
  {
   "cell_type": "code",
   "execution_count": 61,
   "metadata": {},
   "outputs": [],
   "source": [
    "def preprocessing2(dfData):\n",
    "    \"\"\"drops irrelevant features, merges adStats and previous video stats\n",
    "    Args:\n",
    "    dfData: input DataSet\n",
    "    Return:\n",
    "    merged DataSet\n",
    "    \"\"\"\n",
    "    # drop irrelevant features\n",
    "    dfData = dfData.drop(['licensedContent', 'relevantTopicIds', 'topicIds', 'topicCategories', 'channelTitle', 'Channel Title', 'Channel Description', ' Channel hiddenSubscriberCount', 'Channel showRelatedChannels', 'Channel featuredChannelsUrls',\n",
    "       'Channel noOfFeaturedChannels', 'Channel country', 'Channel keywords',\n",
    "       'Channel topicIds', 'Channel topicCategories'], axis = 1)\n",
    "    \n",
    "    # load advertisement and previous stats dataset and clean\n",
    "    dfAdStats = pd.read_csv('/home/archit/Desktop/ad_vs_organic/resultstats.csv').drop(['ch_id','Unnamed: 0'], axis =1)\n",
    "    dfAdStats.rename(columns = {'video_id':'vid'}, inplace = True)\n",
    "    dfPrevStats = pd.read_csv('/home/archit/Desktop/ad_vs_organic/previousVideoStats2.csv').drop(['Unnamed: 0'], axis =1)\n",
    "    dfPrevStats.rename(columns = {'Id':'vid'}, inplace = True)\n",
    "\n",
    "    # merge DataSet\n",
    "    dfMergedData = dfData.merge(dfPrevStats, on = 'vid', how = 'left')\n",
    "    dfMergedData = dfMergedData.merge(dfAdStats, on = 'vid', how = 'left')\n",
    "    \n",
    "    dfMergedData['viewCount'] = dfMergedData['ad%'] * dfMergedData['viewCount']\n",
    "    return dfMergedData"
   ]
  },
  {
   "cell_type": "code",
   "execution_count": 62,
   "metadata": {},
   "outputs": [],
   "source": [
    "def feature_engineer(dfData):\n",
    "    dfData =dfData.drop(['favoriteCount', 'PrevTitle', 'PrevPublishedAt', 'Channel commentCount', 'categoryId'],axis =1)\n",
    "    \n",
    "    \n",
    "    dfData['PublishedYear'] = dfData['publishedAt'].apply(lambda x: x[:4])\n",
    "    dfData['ChannelAge'] =  dfData['Channel Publish date'].apply(lambda x: x[:4])\n",
    "    dfData['channelViewCount'] = np.log(dfData['Channel viewCount'])\n",
    "    dfData['LikeDislikeRatio'] = dfData['likeCount']/(dfData['dislikeCount'] + dfData['likeCount'])\n",
    "    dfData['PrevCommentCount'] = dfData['PrevCommentCount'].fillna(0)\n",
    "    dfData['PrevDislikeCount'] = dfData['PrevDislikeCount'].fillna(0)\n",
    "    dfData['PrevLikeCount'] = dfData['PrevLikeCount'].fillna(0)\n",
    "    dfData['PrevViewCount'] = dfData['PrevViewCount'].fillna(0)   \n",
    "    dfData['duration'] = dfData['duration'].fillna(0)\n",
    "    dfData['LikeDislikeRatio'] = dfData['LikeDislikeRatio'].replace(np.inf, np.nan)\n",
    "    dfData['LikeDislikeRatio'] = dfData['LikeDislikeRatio'].fillna(0)\n",
    "    dfData['LikeDislikeRatio'] = dfData['LikeDislikeRatio'].fillna(0)\n",
    "    dfData['Channel subscriberCount'] = dfData['Channel subscriberCount'].fillna(0)\n",
    "    dfData['Definition'] = dfData['definition'].apply(lambda x: 1 if x=='hd' else 0)\n",
    "    dfData = dfData.drop(['title','description','publishedAt','Channel viewCount','Channel Publish date','channelId','tags', 'ad%'],axis = 1)\n",
    "    \n",
    "    return dfData\n",
    "\n",
    "def drop_obvious_features(dfData):\n",
    "    dfData = dfData.drop(['LikeCount','DislikeCount','CommentCount'],axis = 1)\n",
    "    return dfData"
   ]
  },
  {
   "cell_type": "code",
   "execution_count": 63,
   "metadata": {},
   "outputs": [
    {
     "data": {
      "text/plain": [
       "Index(['vid', 'channelId', 'duration', 'definition', 'dislikeCount',\n",
       "       'commentCount', 'favoriteCount', 'viewCount', 'likeCount', 'title',\n",
       "       'description', 'tags', 'categoryId', 'publishedAt',\n",
       "       'Channel Publish date', 'Channel viewCount', 'Channel subscriberCount',\n",
       "       'Channel commentCount', 'Channel videoCount', 'cleanDescriptions',\n",
       "       'PrevCommentCount', 'PrevDislikeCount', 'PrevLikeCount',\n",
       "       'PrevPublishedAt', 'PrevViewCount', 'PrevTitle', 'ad%'],\n",
       "      dtype='object')"
      ]
     },
     "execution_count": 63,
     "metadata": {},
     "output_type": "execute_result"
    }
   ],
   "source": [
    "dfData = preprocessing(dfDataDump)\n",
    "dfData.columns"
   ]
  },
  {
   "cell_type": "code",
   "execution_count": 64,
   "metadata": {},
   "outputs": [],
   "source": [
    "dfTrainingData = dfData[dfData['ad%'] == 0]\n",
    "dfValidationData = dfData[dfData['ad%'] > 0]"
   ]
  },
  {
   "cell_type": "code",
   "execution_count": 65,
   "metadata": {},
   "outputs": [],
   "source": [
    "df = feature_engineer(dfTrainingData)"
   ]
  },
  {
   "cell_type": "code",
   "execution_count": 66,
   "metadata": {},
   "outputs": [
    {
     "data": {
      "text/plain": [
       "Index(['vid', 'duration', 'definition', 'dislikeCount', 'commentCount',\n",
       "       'viewCount', 'likeCount', 'Channel subscriberCount',\n",
       "       'Channel videoCount', 'cleanDescriptions', 'PrevCommentCount',\n",
       "       'PrevDislikeCount', 'PrevLikeCount', 'PrevViewCount', 'PublishedYear',\n",
       "       'ChannelAge', 'channelViewCount', 'LikeDislikeRatio', 'Definition'],\n",
       "      dtype='object')"
      ]
     },
     "execution_count": 66,
     "metadata": {},
     "output_type": "execute_result"
    }
   ],
   "source": [
    "df.columns"
   ]
  },
  {
   "cell_type": "code",
   "execution_count": 67,
   "metadata": {},
   "outputs": [
    {
     "data": {
      "text/plain": [
       "(1659, 18)"
      ]
     },
     "execution_count": 67,
     "metadata": {},
     "output_type": "execute_result"
    }
   ],
   "source": [
    "X, y = df.drop('viewCount',axis = 1) , df['viewCount']\n",
    "X.shape"
   ]
  },
  {
   "cell_type": "markdown",
   "metadata": {},
   "source": [
    "Now we will prepare our cleanDescriptions by encodding and padding them using keras text preprocessing functions"
   ]
  },
  {
   "cell_type": "code",
   "execution_count": 68,
   "metadata": {},
   "outputs": [],
   "source": [
    "from keras.preprocessing.text import one_hot\n",
    "from keras.preprocessing.sequence import pad_sequences\n",
    "\n",
    "cleanDescriptions = list(X['cleanDescriptions'])\n",
    "# len of vocabSize should avoid hashing collisions.It is 3541(75% of len of descriptions * 50(50 options for each word))\n",
    "vocabSize = 3541\n",
    "encoded_descriptions =  [one_hot(description, vocabSize) for description in cleanDescriptions]"
   ]
  },
  {
   "cell_type": "code",
   "execution_count": 69,
   "metadata": {},
   "outputs": [],
   "source": [
    "max_length = 161 # we will pad our sequences for 50% of descriptions length\n",
    "padded_descriptions = pad_sequences(encoded_descriptions, maxlen=max_length, padding='post')"
   ]
  },
  {
   "cell_type": "code",
   "execution_count": 70,
   "metadata": {},
   "outputs": [
    {
     "name": "stdout",
     "output_type": "stream",
     "text": [
      "1659\n"
     ]
    }
   ],
   "source": [
    "print(len(padded_descriptions))"
   ]
  },
  {
   "cell_type": "markdown",
   "metadata": {},
   "source": [
    "### Scaling data for applying before to neural nets"
   ]
  },
  {
   "cell_type": "code",
   "execution_count": 71,
   "metadata": {},
   "outputs": [],
   "source": [
    "def linear_scale(series):\n",
    "  min_val = series.min()\n",
    "  max_val = series.max()\n",
    "  scale = (max_val - min_val) / 2.0\n",
    "  return series.apply(lambda x:((x - min_val) / scale) - 1.0)"
   ]
  },
  {
   "cell_type": "code",
   "execution_count": 72,
   "metadata": {},
   "outputs": [],
   "source": [
    "def log_normalize(series):\n",
    "  return series.apply(lambda x:math.log(x+1.0))\n",
    "\n",
    "def clip(series, clip_to_min, clip_to_max):\n",
    "  return series.apply(lambda x:(\n",
    "    min(max(x, clip_to_min), clip_to_max)))\n",
    "\n",
    "def z_score_normalize(series):\n",
    "  mean = series.mean()\n",
    "  std_dv = series.std()\n",
    "  return series.apply(lambda x:(x - mean) / std_dv)\n",
    "\n",
    "def binary_threshold(series, threshold):\n",
    "  return series.apply(lambda x:(1 if x > threshold else 0))"
   ]
  },
  {
   "cell_type": "code",
   "execution_count": 73,
   "metadata": {},
   "outputs": [],
   "source": [
    "def normalize_linear_scale(examples_dataframe):\n",
    "  \"\"\"Returns a version of the input `DataFrame` that has all its features normalized linearly.\"\"\"\n",
    "  examples_dataframe[\"duration\"] = log_normalize(examples_dataframe[\"duration\"])\n",
    "  examples_dataframe[\"dislikeCount\"] = log_normalize(examples_dataframe[\"dislikeCount\"])\n",
    "  examples_dataframe[\"commentCount\"] = log_normalize(examples_dataframe[\"commentCount\"])\n",
    "  examples_dataframe[\"likeCount\"] = log_normalize(examples_dataframe[\"likeCount\"])\n",
    "  examples_dataframe[\"Channel subscriberCount\"] = linear_scale(examples_dataframe[\"Channel subscriberCount\"])\n",
    "  examples_dataframe[\"Channel videoCount\"] = linear_scale(examples_dataframe[\"Channel videoCount\"])\n",
    "  examples_dataframe[\"PrevCommentCount\"] = log_normalize(examples_dataframe[\"PrevCommentCount\"])\n",
    "  examples_dataframe[\"PrevDislikeCount\"] = log_normalize(examples_dataframe[\"PrevDislikeCount\"])\n",
    "  examples_dataframe[\"PrevViewCount\"] = log_normalize(examples_dataframe[\"PrevViewCount\"])\n",
    "  examples_dataframe[\"LikeDislikeRatio\"] = linear_scale(examples_dataframe[\"LikeDislikeRatio\"])\n",
    "  examples_dataframe[\"channelViewCount\"] = log_normalize(examples_dataframe[\"channelViewCount\"])\n",
    "\n",
    "    \n",
    "  return examples_dataframe\n",
    "\n",
    "normalized_dataframe = normalize_linear_scale(X)"
   ]
  },
  {
   "cell_type": "code",
   "execution_count": 74,
   "metadata": {
    "scrolled": false
   },
   "outputs": [
    {
     "data": {
      "image/png": "[encoded data removed]",
      "text/plain": [
       "<matplotlib.figure.Figure at 0x7f6695f3b240>"
      ]
     },
     "metadata": {},
     "output_type": "display_data"
    }
   ],
   "source": [
    "_ = normalized_dataframe.hist(bins=20, figsize=(18, 12), xlabelsize=10)"
   ]
  },
  {
   "cell_type": "code",
   "execution_count": 75,
   "metadata": {
    "scrolled": true
   },
   "outputs": [],
   "source": [
    "import numpy as np\n",
    "np.random.seed(0)\n",
    "from keras.models import Model, Sequential, load_model\n",
    "from keras.layers import Dense, Input, Dropout, LSTM, Activation, CuDNNLSTM\n",
    "from keras.layers.embeddings import Embedding\n",
    "from keras.preprocessing import sequence\n",
    "from keras.initializers import glorot_uniform\n",
    "from keras.layers.advanced_activations import LeakyReLU, PReLU\n",
    "from keras.optimizers import Adam\n",
    "from keras.layers import concatenate\n",
    "from keras.callbacks import ModelCheckpoint\n",
    "\n",
    "np.random.seed(1)"
   ]
  },
  {
   "cell_type": "code",
   "execution_count": 76,
   "metadata": {},
   "outputs": [],
   "source": [
    "def PREDICT_USING_TEXT_V2(input_shape):\n",
    "    \"\"\"\n",
    "    Function creating the PREDICT_USING_TEXT-v2 model's graph.\n",
    "    \n",
    "    Arguments:\n",
    "    input_shape -- shape of the input, usually (max_len,)\n",
    "    word_to_vec_map -- dictionary mapping every word in a vocabulary into its 50-dimensional vector representation\n",
    "    word_to_index -- dictionary mapping from words to their indices in the vocabulary (400,001 words)\n",
    "\n",
    "    Returns:\n",
    "    model -- a model instance in Keras\n",
    "    \"\"\"\n",
    "    # Define padded_description as the input of the graph, it should be of shape input_shape and dtype 'int32' (as it contains indices).\n",
    "    padded_descriptions = Input(input_shape, dtype='int32', name = 'main_input')\n",
    "    \n",
    "    # Propagate padded_descriptions through embedding layer, you get back the embeddings\n",
    "    embeddings = Embedding(output_dim=256, input_dim=vocabSize, input_length=max_length)(padded_descriptions)\n",
    "    \n",
    "    # Propagate the embeddings through an LSTM layer with 128-dimensional hidden state\n",
    "    lstm_out = LSTM(128, return_sequences=False)(embeddings)\n",
    "            \n",
    "    # at this time we feed our auxilary input data by concatenating it with the Lstm output\n",
    "    auxiliary_input = Input(shape = (15,), name = 'auxiliary_input')\n",
    "    x = concatenate([lstm_out, auxiliary_input])\n",
    "    \n",
    "    # stack a deep densely connected network on top\n",
    "    x = Dense(256, activation='tanh')(x)\n",
    "    x = Dense(128, activation='relu')(x)\n",
    "    x = LeakyReLU(alpha=0.001)(x)\n",
    "    main_output = Dense(1, name = 'main_output')(x)\n",
    "    \n",
    "    \n",
    "    # define model with two inputs and two outputs\n",
    "    model = Model(inputs=[padded_descriptions, auxiliary_input], outputs= main_output)\n",
    "    \n",
    "    ### END CODE HERE ###\n",
    "    \n",
    "    return model"
   ]
  },
  {
   "cell_type": "code",
   "execution_count": 77,
   "metadata": {},
   "outputs": [
    {
     "name": "stdout",
     "output_type": "stream",
     "text": [
      "__________________________________________________________________________________________________\n",
      "Layer (type)                    Output Shape         Param #     Connected to                     \n",
      "==================================================================================================\n",
      "main_input (InputLayer)         (None, 161)          0                                            \n",
      "__________________________________________________________________________________________________\n",
      "embedding_2 (Embedding)         (None, 161, 256)     906496      main_input[0][0]                 \n",
      "__________________________________________________________________________________________________\n",
      "lstm_2 (LSTM)                   (None, 128)          197120      embedding_2[0][0]                \n",
      "__________________________________________________________________________________________________\n",
      "auxiliary_input (InputLayer)    (None, 15)           0                                            \n",
      "__________________________________________________________________________________________________\n",
      "concatenate_2 (Concatenate)     (None, 143)          0           lstm_2[0][0]                     \n",
      "                                                                 auxiliary_input[0][0]            \n",
      "__________________________________________________________________________________________________\n",
      "dense_3 (Dense)                 (None, 256)          36864       concatenate_2[0][0]              \n",
      "__________________________________________________________________________________________________\n",
      "dense_4 (Dense)                 (None, 128)          32896       dense_3[0][0]                    \n",
      "__________________________________________________________________________________________________\n",
      "leaky_re_lu_2 (LeakyReLU)       (None, 128)          0           dense_4[0][0]                    \n",
      "__________________________________________________________________________________________________\n",
      "main_output (Dense)             (None, 1)            129         leaky_re_lu_2[0][0]              \n",
      "==================================================================================================\n",
      "Total params: 1,173,505\n",
      "Trainable params: 1,173,505\n",
      "Non-trainable params: 0\n",
      "__________________________________________________________________________________________________\n"
     ]
    }
   ],
   "source": [
    "model = PREDICT_USING_TEXT_V2((max_length,))\n",
    "model.summary()"
   ]
  },
  {
   "cell_type": "code",
   "execution_count": 78,
   "metadata": {},
   "outputs": [],
   "source": [
    "# optimizer for regression stacking\n",
    "adam = Adam(lr=0.0002, decay = 0.00001)"
   ]
  },
  {
   "cell_type": "code",
   "execution_count": 79,
   "metadata": {},
   "outputs": [],
   "source": [
    "model.compile(loss='mean_squared_error', optimizer=adam)"
   ]
  },
  {
   "cell_type": "code",
   "execution_count": 80,
   "metadata": {},
   "outputs": [],
   "source": [
    "normalized_dataframe.drop(['definition', 'vid', 'cleanDescriptions'], axis=1, inplace=True)"
   ]
  },
  {
   "cell_type": "code",
   "execution_count": 81,
   "metadata": {},
   "outputs": [
    {
     "data": {
      "text/plain": [
       "Index(['duration', 'dislikeCount', 'commentCount', 'likeCount',\n",
       "       'Channel subscriberCount', 'Channel videoCount', 'PrevCommentCount',\n",
       "       'PrevDislikeCount', 'PrevLikeCount', 'PrevViewCount', 'PublishedYear',\n",
       "       'ChannelAge', 'channelViewCount', 'LikeDislikeRatio', 'Definition'],\n",
       "      dtype='object')"
      ]
     },
     "execution_count": 81,
     "metadata": {},
     "output_type": "execute_result"
    }
   ],
   "source": [
    "normalized_dataframe.columns"
   ]
  },
  {
   "cell_type": "code",
   "execution_count": 82,
   "metadata": {},
   "outputs": [
    {
     "name": "stdout",
     "output_type": "stream",
     "text": [
      "Epoch 1/5000\n",
      "1659/1659 [==============================] - 32s 19ms/step - loss: 50130617809.2441\n",
      "\n",
      "Epoch 00001: loss improved from inf to 50130617809.24413, saving model to /home/archit/Desktop/ad_vs_organic/LStM2/organicLoss/weights-improvement-01-50130617809.24.hdf5\n",
      "Epoch 2/5000\n",
      "1659/1659 [==============================] - 28s 17ms/step - loss: 50128839745.7360\n",
      "\n",
      "Epoch 00002: loss improved from 50130617809.24413 to 50128839745.73598, saving model to /home/archit/Desktop/ad_vs_organic/LStM2/organicLoss/weights-improvement-02-50128839745.74.hdf5\n",
      "Epoch 3/5000\n",
      "1659/1659 [==============================] - 27s 16ms/step - loss: 50126376653.8493\n",
      "\n",
      "Epoch 00003: loss improved from 50128839745.73598 to 50126376653.84930, saving model to /home/archit/Desktop/ad_vs_organic/LStM2/organicLoss/weights-improvement-03-50126376653.85.hdf5\n",
      "Epoch 4/5000\n",
      "1659/1659 [==============================] - 29s 17ms/step - loss: 50123174369.4467\n",
      "\n",
      "Epoch 00004: loss improved from 50126376653.84930 to 50123174369.44666, saving model to /home/archit/Desktop/ad_vs_organic/LStM2/organicLoss/weights-improvement-04-50123174369.45.hdf5\n",
      "Epoch 5/5000\n",
      "1659/1659 [==============================] - 32s 19ms/step - loss: 50119176730.7728\n",
      "\n",
      "Epoch 00005: loss improved from 50123174369.44666 to 50119176730.77276, saving model to /home/archit/Desktop/ad_vs_organic/LStM2/organicLoss/weights-improvement-05-50119176730.77.hdf5\n",
      "Epoch 6/5000\n",
      "1659/1659 [==============================] - 28s 17ms/step - loss: 50114459755.3996\n",
      "\n",
      "Epoch 00006: loss improved from 50119176730.77276 to 50114459755.39964, saving model to /home/archit/Desktop/ad_vs_organic/LStM2/organicLoss/weights-improvement-06-50114459755.40.hdf5\n",
      "Epoch 7/5000\n",
      "1659/1659 [==============================] - 27s 16ms/step - loss: 50108890411.3611\n",
      "\n",
      "Epoch 00007: loss improved from 50114459755.39964 to 50108890411.36106, saving model to /home/archit/Desktop/ad_vs_organic/LStM2/organicLoss/weights-improvement-07-50108890411.36.hdf5\n",
      "Epoch 8/5000\n",
      "1216/1659 [====================>.........] - ETA: 7s - loss: 52850871258.9474"
     ]
    },
    {
     "ename": "KeyboardInterrupt",
     "evalue": "",
     "output_type": "error",
     "traceback": [
      "\u001b[0;31m---------------------------------------------------------------------------\u001b[0m",
      "\u001b[0;31mKeyboardInterrupt\u001b[0m                         Traceback (most recent call last)",
      "\u001b[0;32m<ipython-input-82-c064b1889a22>\u001b[0m in \u001b[0;36m<module>\u001b[0;34m()\u001b[0m\n\u001b[1;32m      2\u001b[0m \u001b[0mcheckpoint\u001b[0m \u001b[0;34m=\u001b[0m \u001b[0mModelCheckpoint\u001b[0m\u001b[0;34m(\u001b[0m\u001b[0mfilepath\u001b[0m\u001b[0;34m,\u001b[0m \u001b[0mmonitor\u001b[0m\u001b[0;34m=\u001b[0m\u001b[0;34m'loss'\u001b[0m\u001b[0;34m,\u001b[0m \u001b[0mverbose\u001b[0m\u001b[0;34m=\u001b[0m\u001b[0;36m1\u001b[0m\u001b[0;34m,\u001b[0m \u001b[0msave_best_only\u001b[0m\u001b[0;34m=\u001b[0m\u001b[0;32mTrue\u001b[0m\u001b[0;34m,\u001b[0m \u001b[0mmode\u001b[0m\u001b[0;34m=\u001b[0m\u001b[0;34m'min'\u001b[0m\u001b[0;34m)\u001b[0m\u001b[0;34m\u001b[0m\u001b[0m\n\u001b[1;32m      3\u001b[0m \u001b[0mcallbacks_list\u001b[0m \u001b[0;34m=\u001b[0m \u001b[0;34m[\u001b[0m\u001b[0mcheckpoint\u001b[0m\u001b[0;34m]\u001b[0m\u001b[0;34m\u001b[0m\u001b[0m\n\u001b[0;32m----> 4\u001b[0;31m \u001b[0mmodel\u001b[0m\u001b[0;34m.\u001b[0m\u001b[0mfit\u001b[0m\u001b[0;34m(\u001b[0m\u001b[0;34m{\u001b[0m\u001b[0;34m'main_input'\u001b[0m\u001b[0;34m:\u001b[0m\u001b[0mpadded_descriptions\u001b[0m\u001b[0;34m,\u001b[0m \u001b[0;34m'auxiliary_input'\u001b[0m\u001b[0;34m:\u001b[0m \u001b[0mnormalized_dataframe\u001b[0m\u001b[0;34m}\u001b[0m\u001b[0;34m,\u001b[0m \u001b[0;34m{\u001b[0m\u001b[0;34m'main_output'\u001b[0m\u001b[0;34m:\u001b[0m \u001b[0my\u001b[0m\u001b[0;34m}\u001b[0m\u001b[0;34m,\u001b[0m \u001b[0mepochs\u001b[0m \u001b[0;34m=\u001b[0m \u001b[0;36m5000\u001b[0m\u001b[0;34m,\u001b[0m \u001b[0mbatch_size\u001b[0m \u001b[0;34m=\u001b[0m \u001b[0;36m32\u001b[0m\u001b[0;34m,\u001b[0m \u001b[0mcallbacks\u001b[0m\u001b[0;34m=\u001b[0m\u001b[0mcallbacks_list\u001b[0m\u001b[0;34m,\u001b[0m \u001b[0mshuffle\u001b[0m\u001b[0;34m=\u001b[0m\u001b[0;32mTrue\u001b[0m\u001b[0;34m)\u001b[0m\u001b[0;34m\u001b[0m\u001b[0m\n\u001b[0m",
      "\u001b[0;32m~/anaconda3/lib/python3.6/site-packages/keras/engine/training.py\u001b[0m in \u001b[0;36mfit\u001b[0;34m(self, x, y, batch_size, epochs, verbose, callbacks, validation_split, validation_data, shuffle, class_weight, sample_weight, initial_epoch, steps_per_epoch, validation_steps, **kwargs)\u001b[0m\n\u001b[1;32m   1037\u001b[0m                                         \u001b[0minitial_epoch\u001b[0m\u001b[0;34m=\u001b[0m\u001b[0minitial_epoch\u001b[0m\u001b[0;34m,\u001b[0m\u001b[0;34m\u001b[0m\u001b[0m\n\u001b[1;32m   1038\u001b[0m                                         \u001b[0msteps_per_epoch\u001b[0m\u001b[0;34m=\u001b[0m\u001b[0msteps_per_epoch\u001b[0m\u001b[0;34m,\u001b[0m\u001b[0;34m\u001b[0m\u001b[0m\n\u001b[0;32m-> 1039\u001b[0;31m                                         validation_steps=validation_steps)\n\u001b[0m\u001b[1;32m   1040\u001b[0m \u001b[0;34m\u001b[0m\u001b[0m\n\u001b[1;32m   1041\u001b[0m     def evaluate(self, x=None, y=None,\n",
      "\u001b[0;32m~/anaconda3/lib/python3.6/site-packages/keras/engine/training_arrays.py\u001b[0m in \u001b[0;36mfit_loop\u001b[0;34m(model, f, ins, out_labels, batch_size, epochs, verbose, callbacks, val_f, val_ins, shuffle, callback_metrics, initial_epoch, steps_per_epoch, validation_steps)\u001b[0m\n\u001b[1;32m    197\u001b[0m                     \u001b[0mins_batch\u001b[0m\u001b[0;34m[\u001b[0m\u001b[0mi\u001b[0m\u001b[0;34m]\u001b[0m \u001b[0;34m=\u001b[0m \u001b[0mins_batch\u001b[0m\u001b[0;34m[\u001b[0m\u001b[0mi\u001b[0m\u001b[0;34m]\u001b[0m\u001b[0;34m.\u001b[0m\u001b[0mtoarray\u001b[0m\u001b[0;34m(\u001b[0m\u001b[0;34m)\u001b[0m\u001b[0;34m\u001b[0m\u001b[0m\n\u001b[1;32m    198\u001b[0m \u001b[0;34m\u001b[0m\u001b[0m\n\u001b[0;32m--> 199\u001b[0;31m                 \u001b[0mouts\u001b[0m \u001b[0;34m=\u001b[0m \u001b[0mf\u001b[0m\u001b[0;34m(\u001b[0m\u001b[0mins_batch\u001b[0m\u001b[0;34m)\u001b[0m\u001b[0;34m\u001b[0m\u001b[0m\n\u001b[0m\u001b[1;32m    200\u001b[0m                 \u001b[0mouts\u001b[0m \u001b[0;34m=\u001b[0m \u001b[0mto_list\u001b[0m\u001b[0;34m(\u001b[0m\u001b[0mouts\u001b[0m\u001b[0;34m)\u001b[0m\u001b[0;34m\u001b[0m\u001b[0m\n\u001b[1;32m    201\u001b[0m                 \u001b[0;32mfor\u001b[0m \u001b[0ml\u001b[0m\u001b[0;34m,\u001b[0m \u001b[0mo\u001b[0m \u001b[0;32min\u001b[0m \u001b[0mzip\u001b[0m\u001b[0;34m(\u001b[0m\u001b[0mout_labels\u001b[0m\u001b[0;34m,\u001b[0m \u001b[0mouts\u001b[0m\u001b[0;34m)\u001b[0m\u001b[0;34m:\u001b[0m\u001b[0;34m\u001b[0m\u001b[0m\n",
      "\u001b[0;32m~/anaconda3/lib/python3.6/site-packages/keras/backend/tensorflow_backend.py\u001b[0m in \u001b[0;36m__call__\u001b[0;34m(self, inputs)\u001b[0m\n\u001b[1;32m   2713\u001b[0m                 \u001b[0;32mreturn\u001b[0m \u001b[0mself\u001b[0m\u001b[0;34m.\u001b[0m\u001b[0m_legacy_call\u001b[0m\u001b[0;34m(\u001b[0m\u001b[0minputs\u001b[0m\u001b[0;34m)\u001b[0m\u001b[0;34m\u001b[0m\u001b[0m\n\u001b[1;32m   2714\u001b[0m \u001b[0;34m\u001b[0m\u001b[0m\n\u001b[0;32m-> 2715\u001b[0;31m             \u001b[0;32mreturn\u001b[0m \u001b[0mself\u001b[0m\u001b[0;34m.\u001b[0m\u001b[0m_call\u001b[0m\u001b[0;34m(\u001b[0m\u001b[0minputs\u001b[0m\u001b[0;34m)\u001b[0m\u001b[0;34m\u001b[0m\u001b[0m\n\u001b[0m\u001b[1;32m   2716\u001b[0m         \u001b[0;32melse\u001b[0m\u001b[0;34m:\u001b[0m\u001b[0;34m\u001b[0m\u001b[0m\n\u001b[1;32m   2717\u001b[0m             \u001b[0;32mif\u001b[0m \u001b[0mpy_any\u001b[0m\u001b[0;34m(\u001b[0m\u001b[0mis_tensor\u001b[0m\u001b[0;34m(\u001b[0m\u001b[0mx\u001b[0m\u001b[0;34m)\u001b[0m \u001b[0;32mfor\u001b[0m \u001b[0mx\u001b[0m \u001b[0;32min\u001b[0m \u001b[0minputs\u001b[0m\u001b[0;34m)\u001b[0m\u001b[0;34m:\u001b[0m\u001b[0;34m\u001b[0m\u001b[0m\n",
      "\u001b[0;32m~/anaconda3/lib/python3.6/site-packages/keras/backend/tensorflow_backend.py\u001b[0m in \u001b[0;36m_call\u001b[0;34m(self, inputs)\u001b[0m\n\u001b[1;32m   2673\u001b[0m             \u001b[0mfetched\u001b[0m \u001b[0;34m=\u001b[0m \u001b[0mself\u001b[0m\u001b[0;34m.\u001b[0m\u001b[0m_callable_fn\u001b[0m\u001b[0;34m(\u001b[0m\u001b[0;34m*\u001b[0m\u001b[0marray_vals\u001b[0m\u001b[0;34m,\u001b[0m \u001b[0mrun_metadata\u001b[0m\u001b[0;34m=\u001b[0m\u001b[0mself\u001b[0m\u001b[0;34m.\u001b[0m\u001b[0mrun_metadata\u001b[0m\u001b[0;34m)\u001b[0m\u001b[0;34m\u001b[0m\u001b[0m\n\u001b[1;32m   2674\u001b[0m         \u001b[0;32melse\u001b[0m\u001b[0;34m:\u001b[0m\u001b[0;34m\u001b[0m\u001b[0m\n\u001b[0;32m-> 2675\u001b[0;31m             \u001b[0mfetched\u001b[0m \u001b[0;34m=\u001b[0m \u001b[0mself\u001b[0m\u001b[0;34m.\u001b[0m\u001b[0m_callable_fn\u001b[0m\u001b[0;34m(\u001b[0m\u001b[0;34m*\u001b[0m\u001b[0marray_vals\u001b[0m\u001b[0;34m)\u001b[0m\u001b[0;34m\u001b[0m\u001b[0m\n\u001b[0m\u001b[1;32m   2676\u001b[0m         \u001b[0;32mreturn\u001b[0m \u001b[0mfetched\u001b[0m\u001b[0;34m[\u001b[0m\u001b[0;34m:\u001b[0m\u001b[0mlen\u001b[0m\u001b[0;34m(\u001b[0m\u001b[0mself\u001b[0m\u001b[0;34m.\u001b[0m\u001b[0moutputs\u001b[0m\u001b[0;34m)\u001b[0m\u001b[0;34m]\u001b[0m\u001b[0;34m\u001b[0m\u001b[0m\n\u001b[1;32m   2677\u001b[0m \u001b[0;34m\u001b[0m\u001b[0m\n",
      "\u001b[0;32m~/anaconda3/lib/python3.6/site-packages/tensorflow/python/client/session.py\u001b[0m in \u001b[0;36m__call__\u001b[0;34m(self, *args, **kwargs)\u001b[0m\n\u001b[1;32m   1437\u001b[0m           ret = tf_session.TF_SessionRunCallable(\n\u001b[1;32m   1438\u001b[0m               \u001b[0mself\u001b[0m\u001b[0;34m.\u001b[0m\u001b[0m_session\u001b[0m\u001b[0;34m.\u001b[0m\u001b[0m_session\u001b[0m\u001b[0;34m,\u001b[0m \u001b[0mself\u001b[0m\u001b[0;34m.\u001b[0m\u001b[0m_handle\u001b[0m\u001b[0;34m,\u001b[0m \u001b[0margs\u001b[0m\u001b[0;34m,\u001b[0m \u001b[0mstatus\u001b[0m\u001b[0;34m,\u001b[0m\u001b[0;34m\u001b[0m\u001b[0m\n\u001b[0;32m-> 1439\u001b[0;31m               run_metadata_ptr)\n\u001b[0m\u001b[1;32m   1440\u001b[0m         \u001b[0;32mif\u001b[0m \u001b[0mrun_metadata\u001b[0m\u001b[0;34m:\u001b[0m\u001b[0;34m\u001b[0m\u001b[0m\n\u001b[1;32m   1441\u001b[0m           \u001b[0mproto_data\u001b[0m \u001b[0;34m=\u001b[0m \u001b[0mtf_session\u001b[0m\u001b[0;34m.\u001b[0m\u001b[0mTF_GetBuffer\u001b[0m\u001b[0;34m(\u001b[0m\u001b[0mrun_metadata_ptr\u001b[0m\u001b[0;34m)\u001b[0m\u001b[0;34m\u001b[0m\u001b[0m\n",
      "\u001b[0;31mKeyboardInterrupt\u001b[0m: "
     ]
    }
   ],
   "source": [
    "filepath=\"/home/archit/Desktop/ad_vs_organic/LStM2/organicLoss/weights-improvement-{epoch:02d}-{loss:.2f}.hdf5\"\n",
    "checkpoint = ModelCheckpoint(filepath, monitor='loss', verbose=1, save_best_only=True, mode='min')\n",
    "callbacks_list = [checkpoint]\n",
    "model.fit({'main_input':padded_descriptions, 'auxiliary_input': normalized_dataframe}, {'main_output': y}, epochs = 5000, batch_size = 32, callbacks=callbacks_list, shuffle=True)"
   ]
  },
  {
   "cell_type": "code",
   "execution_count": null,
   "metadata": {},
   "outputs": [],
   "source": [
    "model.load_weights(\"/home/archit/Desktop/ad_vs_organic/LStM/weights-improvement-01-3.68.hdf5\")"
   ]
  },
  {
   "cell_type": "code",
   "execution_count": null,
   "metadata": {},
   "outputs": [],
   "source": [
    "dfVal = feature_engineer(dfValidationData)"
   ]
  },
  {
   "cell_type": "code",
   "execution_count": 60,
   "metadata": {},
   "outputs": [
    {
     "data": {
      "text/plain": [
       "Index(['vid', 'channelId', 'duration', 'definition', 'dislikeCount',\n",
       "       'commentCount', 'favoriteCount', 'viewCount', 'likeCount', 'title',\n",
       "       'description', 'tags', 'categoryId', 'publishedAt',\n",
       "       'Channel Publish date', 'Channel viewCount', 'Channel subscriberCount',\n",
       "       'Channel commentCount', 'Channel videoCount', 'Lang',\n",
       "       'cleanDescriptions', 'PrevCommentCount', 'PrevDislikeCount',\n",
       "       'PrevLikeCount', 'PrevPublishedAt', 'PrevViewCount', 'PrevTitle',\n",
       "       'ad%'],\n",
       "      dtype='object')"
      ]
     },
     "execution_count": 60,
     "metadata": {},
     "output_type": "execute_result"
    }
   ],
   "source": [
    "dfValidationData.columns"
   ]
  },
  {
   "cell_type": "code",
   "execution_count": 48,
   "metadata": {},
   "outputs": [],
   "source": [
    "X_, y = dfVal.drop('viewCount',axis = 1) , np.log(dfVal['viewCount'])\n"
   ]
  },
  {
   "cell_type": "code",
   "execution_count": 49,
   "metadata": {},
   "outputs": [],
   "source": [
    "descriptions2 = []\n",
    "videos = list(X_.vid)\n",
    "for vid in videos:\n",
    "    Dict = dfDataDump.loc[dfDataDump['vid'] == vid, 'cleanDescriptions'].to_dict()\n",
    "    descriptions2.append(getVal(Dict))"
   ]
  },
  {
   "cell_type": "code",
   "execution_count": 50,
   "metadata": {},
   "outputs": [],
   "source": [
    "descriptions2 = pd.Series(descriptions2)"
   ]
  },
  {
   "cell_type": "code",
   "execution_count": 51,
   "metadata": {},
   "outputs": [],
   "source": [
    "X_.drop(['definition', 'vid'], axis=1, inplace=True)"
   ]
  },
  {
   "cell_type": "code",
   "execution_count": 53,
   "metadata": {},
   "outputs": [],
   "source": [
    "X_train_indices2 = sentences_to_indices(descriptions2.values, word_to_index, 703)"
   ]
  },
  {
   "cell_type": "code",
   "execution_count": 55,
   "metadata": {},
   "outputs": [],
   "source": [
    "result = resume_model.predict({'main_input':X_train_indices2, 'auxiliary_input': X_})"
   ]
  },
  {
   "cell_type": "code",
   "execution_count": null,
   "metadata": {},
   "outputs": [],
   "source": []
  },
  {
   "cell_type": "code",
   "execution_count": 58,
   "metadata": {},
   "outputs": [
    {
     "data": {
      "text/plain": [
       "array([[7.1692953],\n",
       "       [7.089959 ],\n",
       "       [7.320867 ],\n",
       "       [7.1694145],\n",
       "       [6.950097 ]], dtype=float32)"
      ]
     },
     "execution_count": 58,
     "metadata": {},
     "output_type": "execute_result"
    }
   ],
   "source": [
    "result[0:5]"
   ]
  },
  {
   "cell_type": "code",
   "execution_count": 63,
   "metadata": {},
   "outputs": [
    {
     "data": {
      "text/html": [
       "<div>\n",
       "<style scoped>\n",
       "    .dataframe tbody tr th:only-of-type {\n",
       "        vertical-align: middle;\n",
       "    }\n",
       "\n",
       "    .dataframe tbody tr th {\n",
       "        vertical-align: top;\n",
       "    }\n",
       "\n",
       "    .dataframe thead th {\n",
       "        text-align: right;\n",
       "    }\n",
       "</style>\n",
       "<table border=\"1\" class=\"dataframe\">\n",
       "  <thead>\n",
       "    <tr style=\"text-align: right;\">\n",
       "      <th></th>\n",
       "      <th>Actual</th>\n",
       "      <th>Diff</th>\n",
       "      <th>Pred</th>\n",
       "      <th>ad%</th>\n",
       "      <th>vid</th>\n",
       "    </tr>\n",
       "  </thead>\n",
       "  <tbody>\n",
       "    <tr>\n",
       "      <th>5</th>\n",
       "      <td>394.0</td>\n",
       "      <td>-904.928939</td>\n",
       "      <td>1298.928939</td>\n",
       "      <td>33.421053</td>\n",
       "      <td>jCnNgHTdbYY</td>\n",
       "    </tr>\n",
       "    <tr>\n",
       "      <th>6</th>\n",
       "      <td>254.0</td>\n",
       "      <td>-945.858779</td>\n",
       "      <td>1199.858779</td>\n",
       "      <td>0.406504</td>\n",
       "      <td>iR_gXXK0Q_Q</td>\n",
       "    </tr>\n",
       "    <tr>\n",
       "      <th>11</th>\n",
       "      <td>4478.0</td>\n",
       "      <td>2966.486022</td>\n",
       "      <td>1511.513978</td>\n",
       "      <td>70.752984</td>\n",
       "      <td>fIPFc687ink</td>\n",
       "    </tr>\n",
       "    <tr>\n",
       "      <th>12</th>\n",
       "      <td>2233.0</td>\n",
       "      <td>933.916207</td>\n",
       "      <td>1299.083793</td>\n",
       "      <td>0.136488</td>\n",
       "      <td>8bLDlaRfp9c</td>\n",
       "    </tr>\n",
       "    <tr>\n",
       "      <th>20</th>\n",
       "      <td>54352.0</td>\n",
       "      <td>53308.748994</td>\n",
       "      <td>1043.251006</td>\n",
       "      <td>0.001860</td>\n",
       "      <td>gYd1wqGqZnk</td>\n",
       "    </tr>\n",
       "  </tbody>\n",
       "</table>\n",
       "</div>"
      ],
      "text/plain": [
       "     Actual          Diff         Pred        ad%          vid\n",
       "5     394.0   -904.928939  1298.928939  33.421053  jCnNgHTdbYY\n",
       "6     254.0   -945.858779  1199.858779   0.406504  iR_gXXK0Q_Q\n",
       "11   4478.0   2966.486022  1511.513978  70.752984  fIPFc687ink\n",
       "12   2233.0    933.916207  1299.083793   0.136488  8bLDlaRfp9c\n",
       "20  54352.0  53308.748994  1043.251006   0.001860  gYd1wqGqZnk"
      ]
     },
     "execution_count": 63,
     "metadata": {},
     "output_type": "execute_result"
    }
   ],
   "source": [
    "# function exponentiates values in test_y and pred and\n",
    "# than calulated rmse of actual views\n",
    "import math\n",
    "size = y.shape[0]\n",
    "test_yL = dfValidationData['viewCount'].tolist()\n",
    "predL = result.tolist()\n",
    "exActView = []\n",
    "exPredView = []\n",
    "diff = []\n",
    "sqErr = []\n",
    "for i in range(0, size):\n",
    "    exActView.append((test_yL[i]))\n",
    "    exPredView.append(math.exp(predL[i][0]))\n",
    "    diff.append(exActView[i] - exPredView[i])\n",
    "    sqErr.append(math.pow(diff[i], 2))\n",
    "\n",
    "rmse = math.sqrt(sum(sqErr) /size)/(max(exActView) - min(exActView))\n",
    "dfEval = pd.DataFrame({'vid': dfValidationData['vid'], 'Actual' : exActView, 'Pred': exPredView, 'Diff': diff, 'ad%':dfValidationData['ad%']})\n",
    "dfEval.head()"
   ]
  },
  {
   "cell_type": "code",
   "execution_count": 64,
   "metadata": {},
   "outputs": [
    {
     "data": {
      "text/html": [
       "<div>\n",
       "<style scoped>\n",
       "    .dataframe tbody tr th:only-of-type {\n",
       "        vertical-align: middle;\n",
       "    }\n",
       "\n",
       "    .dataframe tbody tr th {\n",
       "        vertical-align: top;\n",
       "    }\n",
       "\n",
       "    .dataframe thead th {\n",
       "        text-align: right;\n",
       "    }\n",
       "</style>\n",
       "<table border=\"1\" class=\"dataframe\">\n",
       "  <thead>\n",
       "    <tr style=\"text-align: right;\">\n",
       "      <th></th>\n",
       "      <th>Actual</th>\n",
       "      <th>Diff</th>\n",
       "      <th>Pred</th>\n",
       "      <th>ad%</th>\n",
       "      <th>vid</th>\n",
       "      <th>Predicted Ad %</th>\n",
       "    </tr>\n",
       "  </thead>\n",
       "  <tbody>\n",
       "    <tr>\n",
       "      <th>5</th>\n",
       "      <td>394.0</td>\n",
       "      <td>-904.928939</td>\n",
       "      <td>1298.928939</td>\n",
       "      <td>33.421053</td>\n",
       "      <td>jCnNgHTdbYY</td>\n",
       "      <td>-229.677396</td>\n",
       "    </tr>\n",
       "    <tr>\n",
       "      <th>6</th>\n",
       "      <td>254.0</td>\n",
       "      <td>-945.858779</td>\n",
       "      <td>1199.858779</td>\n",
       "      <td>0.406504</td>\n",
       "      <td>iR_gXXK0Q_Q</td>\n",
       "      <td>-372.385346</td>\n",
       "    </tr>\n",
       "    <tr>\n",
       "      <th>11</th>\n",
       "      <td>4478.0</td>\n",
       "      <td>2966.486022</td>\n",
       "      <td>1511.513978</td>\n",
       "      <td>70.752984</td>\n",
       "      <td>fIPFc687ink</td>\n",
       "      <td>66.245780</td>\n",
       "    </tr>\n",
       "    <tr>\n",
       "      <th>12</th>\n",
       "      <td>2233.0</td>\n",
       "      <td>933.916207</td>\n",
       "      <td>1299.083793</td>\n",
       "      <td>0.136488</td>\n",
       "      <td>8bLDlaRfp9c</td>\n",
       "      <td>41.823386</td>\n",
       "    </tr>\n",
       "    <tr>\n",
       "      <th>20</th>\n",
       "      <td>54352.0</td>\n",
       "      <td>53308.748994</td>\n",
       "      <td>1043.251006</td>\n",
       "      <td>0.001860</td>\n",
       "      <td>gYd1wqGqZnk</td>\n",
       "      <td>98.080566</td>\n",
       "    </tr>\n",
       "  </tbody>\n",
       "</table>\n",
       "</div>"
      ],
      "text/plain": [
       "     Actual          Diff         Pred        ad%          vid  Predicted Ad %\n",
       "5     394.0   -904.928939  1298.928939  33.421053  jCnNgHTdbYY     -229.677396\n",
       "6     254.0   -945.858779  1199.858779   0.406504  iR_gXXK0Q_Q     -372.385346\n",
       "11   4478.0   2966.486022  1511.513978  70.752984  fIPFc687ink       66.245780\n",
       "12   2233.0    933.916207  1299.083793   0.136488  8bLDlaRfp9c       41.823386\n",
       "20  54352.0  53308.748994  1043.251006   0.001860  gYd1wqGqZnk       98.080566"
      ]
     },
     "execution_count": 64,
     "metadata": {},
     "output_type": "execute_result"
    }
   ],
   "source": [
    "dfEval['Predicted Ad %'] = (dfEval['Diff'])/dfEval['Actual']*100\n",
    "dfEval.head()"
   ]
  },
  {
   "cell_type": "code",
   "execution_count": 65,
   "metadata": {},
   "outputs": [
    {
     "data": {
      "text/html": [
       "<div>\n",
       "<style scoped>\n",
       "    .dataframe tbody tr th:only-of-type {\n",
       "        vertical-align: middle;\n",
       "    }\n",
       "\n",
       "    .dataframe tbody tr th {\n",
       "        vertical-align: top;\n",
       "    }\n",
       "\n",
       "    .dataframe thead th {\n",
       "        text-align: right;\n",
       "    }\n",
       "</style>\n",
       "<table border=\"1\" class=\"dataframe\">\n",
       "  <thead>\n",
       "    <tr style=\"text-align: right;\">\n",
       "      <th></th>\n",
       "      <th>Actual</th>\n",
       "      <th>Diff</th>\n",
       "      <th>Pred</th>\n",
       "      <th>ad%</th>\n",
       "      <th>vid</th>\n",
       "      <th>Predicted Ad %</th>\n",
       "    </tr>\n",
       "  </thead>\n",
       "  <tbody>\n",
       "    <tr>\n",
       "      <th>5</th>\n",
       "      <td>0.0</td>\n",
       "      <td>0.000000</td>\n",
       "      <td>0.000000</td>\n",
       "      <td>0.000000</td>\n",
       "      <td>0</td>\n",
       "      <td>0.000000</td>\n",
       "    </tr>\n",
       "    <tr>\n",
       "      <th>6</th>\n",
       "      <td>0.0</td>\n",
       "      <td>0.000000</td>\n",
       "      <td>0.000000</td>\n",
       "      <td>0.000000</td>\n",
       "      <td>0</td>\n",
       "      <td>0.000000</td>\n",
       "    </tr>\n",
       "    <tr>\n",
       "      <th>11</th>\n",
       "      <td>4478.0</td>\n",
       "      <td>2966.486022</td>\n",
       "      <td>1511.513978</td>\n",
       "      <td>70.752984</td>\n",
       "      <td>fIPFc687ink</td>\n",
       "      <td>66.245780</td>\n",
       "    </tr>\n",
       "    <tr>\n",
       "      <th>12</th>\n",
       "      <td>2233.0</td>\n",
       "      <td>933.916207</td>\n",
       "      <td>1299.083793</td>\n",
       "      <td>0.136488</td>\n",
       "      <td>8bLDlaRfp9c</td>\n",
       "      <td>41.823386</td>\n",
       "    </tr>\n",
       "    <tr>\n",
       "      <th>20</th>\n",
       "      <td>54352.0</td>\n",
       "      <td>53308.748994</td>\n",
       "      <td>1043.251006</td>\n",
       "      <td>0.001860</td>\n",
       "      <td>gYd1wqGqZnk</td>\n",
       "      <td>98.080566</td>\n",
       "    </tr>\n",
       "  </tbody>\n",
       "</table>\n",
       "</div>"
      ],
      "text/plain": [
       "     Actual          Diff         Pred        ad%          vid  Predicted Ad %\n",
       "5       0.0      0.000000     0.000000   0.000000            0        0.000000\n",
       "6       0.0      0.000000     0.000000   0.000000            0        0.000000\n",
       "11   4478.0   2966.486022  1511.513978  70.752984  fIPFc687ink       66.245780\n",
       "12   2233.0    933.916207  1299.083793   0.136488  8bLDlaRfp9c       41.823386\n",
       "20  54352.0  53308.748994  1043.251006   0.001860  gYd1wqGqZnk       98.080566"
      ]
     },
     "execution_count": 65,
     "metadata": {},
     "output_type": "execute_result"
    }
   ],
   "source": [
    "dfEval[dfEval['Predicted Ad %']<0]=0\n",
    "dfEval.head()"
   ]
  },
  {
   "cell_type": "code",
   "execution_count": null,
   "metadata": {},
   "outputs": [],
   "source": [
    "# save the model\n",
    "from keras.models import load_model\n",
    "model.save('/home/archit/Desktop/ad vs organic/ad_vs_organic_keras_model.h5')"
   ]
  },
  {
   "cell_type": "markdown",
   "metadata": {},
   "source": [
    "Now we will use standard metrics and evaluate our result"
   ]
  },
  {
   "cell_type": "code",
   "execution_count": 66,
   "metadata": {},
   "outputs": [],
   "source": [
    "from sklearn.metrics import r2_score,mean_squared_error,mean_absolute_error"
   ]
  },
  {
   "cell_type": "code",
   "execution_count": 67,
   "metadata": {},
   "outputs": [
    {
     "data": {
      "text/plain": [
       "-164.78591121628605"
      ]
     },
     "execution_count": 67,
     "metadata": {},
     "output_type": "execute_result"
    }
   ],
   "source": [
    "r2_score(dfEval['ad%'],dfEval['Predicted Ad %'])"
   ]
  },
  {
   "cell_type": "code",
   "execution_count": 70,
   "metadata": {},
   "outputs": [
    {
     "data": {
      "text/plain": [
       "84.83562740807251"
      ]
     },
     "execution_count": 70,
     "metadata": {},
     "output_type": "execute_result"
    }
   ],
   "source": [
    "np.sqrt(mean_squared_error(dfEval['ad%'],dfEval['Predicted Ad %']))"
   ]
  },
  {
   "cell_type": "code",
   "execution_count": 72,
   "metadata": {},
   "outputs": [
    {
     "data": {
      "text/plain": [
       "79.3856331210703"
      ]
     },
     "execution_count": 72,
     "metadata": {},
     "output_type": "execute_result"
    }
   ],
   "source": [
    "mean_absolute_error(dfEval['ad%'],dfEval['Predicted Ad %'])"
   ]
  },
  {
   "cell_type": "code",
   "execution_count": null,
   "metadata": {},
   "outputs": [],
   "source": [
    "bins =int( (dfEval['Diff'].max() - dfEval['Diff'].min())/5)\n",
    "gh = plt.hist(dfEval['Diff'], bins = bins)\n",
    "freq, error = gh[0], gh[1]\n",
    "plt.ylabel('Number of videos')\n",
    "plt.xlabel('error')\n",
    "plt.title('Frequiency table of diff in ad%')\n",
    "plt.show()"
   ]
  },
  {
   "cell_type": "code",
   "execution_count": null,
   "metadata": {},
   "outputs": [],
   "source": [
    "freq = freq.astype('int64')\n",
    "dfErr = pd.DataFrame()\n",
    "dfErr['Error'] = pd.Series(error)\n",
    "dfErr['Frequency'] = pd.Series(freq)\n",
    "dfErr['Frequency Percentage'] = dfErr['Frequency']/ dfErr['Frequency'].sum() * 100\n",
    "dfErr"
   ]
  },
  {
   "cell_type": "markdown",
   "metadata": {},
   "source": [
    "Now we will look for videos with error in prediction > 30 and figure out why."
   ]
  },
  {
   "cell_type": "code",
   "execution_count": null,
   "metadata": {},
   "outputs": [],
   "source": [
    "dfErr[np.abs(dfErr['Error'])>30]"
   ]
  },
  {
   "cell_type": "code",
   "execution_count": 29,
   "metadata": {},
   "outputs": [
    {
     "data": {
      "text/plain": [
       "(246184, 2)"
      ]
     },
     "execution_count": 29,
     "metadata": {},
     "output_type": "execute_result"
    }
   ],
   "source": [
    "# Loading ad stats dataset\n",
    "dfAdStats = pd.read_csv('/home/archit/Desktop/ad vs organic/resultstats.csv')\n",
    "dfAdStats2 = dfAdStats.drop(['ch_id','Unnamed: 0'], axis =1)\n",
    "dfAdStats2.rename(columns = {'video_id':'vid'}, inplace = True)\n",
    "dfAdStats2.shape"
   ]
  },
  {
   "cell_type": "code",
   "execution_count": 41,
   "metadata": {},
   "outputs": [
    {
     "data": {
      "text/html": [
       "<div>\n",
       "<style scoped>\n",
       "    .dataframe tbody tr th:only-of-type {\n",
       "        vertical-align: middle;\n",
       "    }\n",
       "\n",
       "    .dataframe tbody tr th {\n",
       "        vertical-align: top;\n",
       "    }\n",
       "\n",
       "    .dataframe thead th {\n",
       "        text-align: right;\n",
       "    }\n",
       "</style>\n",
       "<table border=\"1\" class=\"dataframe\">\n",
       "  <thead>\n",
       "    <tr style=\"text-align: right;\">\n",
       "      <th></th>\n",
       "      <th>PrevCommentCount</th>\n",
       "      <th>PrevDislikeCount</th>\n",
       "      <th>PrevLikeCount</th>\n",
       "      <th>PrevPublishedAt</th>\n",
       "      <th>PrevViewCount</th>\n",
       "      <th>PrevTitle</th>\n",
       "      <th>vid</th>\n",
       "    </tr>\n",
       "  </thead>\n",
       "  <tbody>\n",
       "    <tr>\n",
       "      <th>0</th>\n",
       "      <td>9.0</td>\n",
       "      <td>5.0</td>\n",
       "      <td>112.0</td>\n",
       "      <td>2016-08-25T03:48:52.000Z</td>\n",
       "      <td>21007.0</td>\n",
       "      <td>Nhỏ To Cùng Mẹ | Nhật Ký Bí Bầu | Tuần 13 - Hà...</td>\n",
       "      <td>NaN</td>\n",
       "    </tr>\n",
       "    <tr>\n",
       "      <th>1</th>\n",
       "      <td>7.0</td>\n",
       "      <td>6.0</td>\n",
       "      <td>77.0</td>\n",
       "      <td>2016-11-15T06:59:55.000Z</td>\n",
       "      <td>19326.0</td>\n",
       "      <td>Nhỏ To Cùng Mẹ | Nhật Ký Bí Bầu | Tuần 14 - Kh...</td>\n",
       "      <td>LPqCSwCNI5w</td>\n",
       "    </tr>\n",
       "    <tr>\n",
       "      <th>2</th>\n",
       "      <td>28.0</td>\n",
       "      <td>12.0</td>\n",
       "      <td>109.0</td>\n",
       "      <td>2016-11-15T07:01:46.000Z</td>\n",
       "      <td>33071.0</td>\n",
       "      <td>Nhỏ To Cùng Mẹ | Nhật Ký Bí Bầu | Tuần 17 - Gi...</td>\n",
       "      <td>0LGl5jbnrlU</td>\n",
       "    </tr>\n",
       "    <tr>\n",
       "      <th>3</th>\n",
       "      <td>8.0</td>\n",
       "      <td>9.0</td>\n",
       "      <td>84.0</td>\n",
       "      <td>2016-11-15T07:01:55.000Z</td>\n",
       "      <td>29516.0</td>\n",
       "      <td>Nhỏ To Cùng Mẹ | Nhật Ký Bí Bầu |  Tuần 18 - C...</td>\n",
       "      <td>jFFSYwdku9M</td>\n",
       "    </tr>\n",
       "    <tr>\n",
       "      <th>4</th>\n",
       "      <td>12.0</td>\n",
       "      <td>18.0</td>\n",
       "      <td>145.0</td>\n",
       "      <td>2016-11-15T07:02:03.000Z</td>\n",
       "      <td>49653.0</td>\n",
       "      <td>Nhỏ To Cùng Mẹ | Nhật Ký Bí Bầu | Tuần 19 - Ăn...</td>\n",
       "      <td>HvFNGb-nrRU</td>\n",
       "    </tr>\n",
       "  </tbody>\n",
       "</table>\n",
       "</div>"
      ],
      "text/plain": [
       "   PrevCommentCount  PrevDislikeCount  PrevLikeCount  \\\n",
       "0               9.0               5.0          112.0   \n",
       "1               7.0               6.0           77.0   \n",
       "2              28.0              12.0          109.0   \n",
       "3               8.0               9.0           84.0   \n",
       "4              12.0              18.0          145.0   \n",
       "\n",
       "            PrevPublishedAt  PrevViewCount  \\\n",
       "0  2016-08-25T03:48:52.000Z        21007.0   \n",
       "1  2016-11-15T06:59:55.000Z        19326.0   \n",
       "2  2016-11-15T07:01:46.000Z        33071.0   \n",
       "3  2016-11-15T07:01:55.000Z        29516.0   \n",
       "4  2016-11-15T07:02:03.000Z        49653.0   \n",
       "\n",
       "                                           PrevTitle          vid  \n",
       "0  Nhỏ To Cùng Mẹ | Nhật Ký Bí Bầu | Tuần 13 - Hà...          NaN  \n",
       "1  Nhỏ To Cùng Mẹ | Nhật Ký Bí Bầu | Tuần 14 - Kh...  LPqCSwCNI5w  \n",
       "2  Nhỏ To Cùng Mẹ | Nhật Ký Bí Bầu | Tuần 17 - Gi...  0LGl5jbnrlU  \n",
       "3  Nhỏ To Cùng Mẹ | Nhật Ký Bí Bầu |  Tuần 18 - C...  jFFSYwdku9M  \n",
       "4  Nhỏ To Cùng Mẹ | Nhật Ký Bí Bầu | Tuần 19 - Ăn...  HvFNGb-nrRU  "
      ]
     },
     "execution_count": 41,
     "metadata": {},
     "output_type": "execute_result"
    }
   ],
   "source": [
    "# Loading perv stats dataset\n",
    "dfPrevStats = pd.read_csv('/home/archit/Desktop/ad vs organic/previousVideoStats2.csv')\n",
    "dfPrevStats = dfPrevStats.drop(['Unnamed: 0'], axis =1)\n",
    "dfPrevStats.rename(columns = {'Id':'vid'}, inplace = True)\n",
    "\n",
    "dfPrevStats.head()"
   ]
  },
  {
   "cell_type": "markdown",
   "metadata": {},
   "source": [
    "### Merging Dataset"
   ]
  },
  {
   "cell_type": "code",
   "execution_count": 42,
   "metadata": {},
   "outputs": [],
   "source": [
    "dfMergedData = dfData2.merge(dfPrevStats, on = 'vid', how = 'left')\n",
    "dfMergedData = dfMergedData.merge(dfAdStats2, on = 'vid', how = 'left')"
   ]
  },
  {
   "cell_type": "code",
   "execution_count": 43,
   "metadata": {},
   "outputs": [
    {
     "data": {
      "text/plain": [
       "Index(['Unnamed: 0', 'vid', 'channelId', 'duration', 'dislikeCount',\n",
       "       'commentCount', 'favoriteCount', 'viewCount', 'likeCount', 'title',\n",
       "       'description', 'tags', 'categoryId', 'publishedAt',\n",
       "       'Channel Publish date', 'Channel viewCount', 'Channel subscriberCount',\n",
       "       'Channel commentCount', 'Channel videoCount', 'PrevCommentCount',\n",
       "       'PrevDislikeCount', 'PrevLikeCount', 'PrevPublishedAt', 'PrevViewCount',\n",
       "       'PrevTitle', 'ad%'],\n",
       "      dtype='object')"
      ]
     },
     "execution_count": 43,
     "metadata": {},
     "output_type": "execute_result"
    }
   ],
   "source": [
    "dfMergedData.columns"
   ]
  },
  {
   "cell_type": "code",
   "execution_count": 44,
   "metadata": {},
   "outputs": [],
   "source": [
    "dfMergedData.to_csv(\"/home/archit/Desktop/ad vs organic/merged_data_ad_vs_org.csv\")"
   ]
  },
  {
   "cell_type": "code",
   "execution_count": 45,
   "metadata": {},
   "outputs": [],
   "source": [
    "dfMergedData = pd.read_csv('/home/archit/Desktop/ad vs organic/merged_data_ad_vs_org.csv')"
   ]
  },
  {
   "cell_type": "markdown",
   "metadata": {},
   "source": [
    "### Picking up traininig set and validation set"
   ]
  },
  {
   "cell_type": "code",
   "execution_count": 46,
   "metadata": {},
   "outputs": [
    {
     "data": {
      "text/plain": [
       "(112873, 27)"
      ]
     },
     "execution_count": 46,
     "metadata": {},
     "output_type": "execute_result"
    }
   ],
   "source": [
    "dfTrainingSet = dfMergedData.loc[dfMergedData['ad%'] == 0,]\n",
    "dfTrainingSet.shape"
   ]
  },
  {
   "cell_type": "code",
   "execution_count": 47,
   "metadata": {},
   "outputs": [
    {
     "data": {
      "text/plain": [
       "(8003, 27)"
      ]
     },
     "execution_count": 47,
     "metadata": {},
     "output_type": "execute_result"
    }
   ],
   "source": [
    "dfValidationSet = dfMergedData.loc[dfMergedData['ad%']>0, ]\n",
    "\n",
    "dfValidationSet.shape"
   ]
  },
  {
   "cell_type": "markdown",
   "metadata": {},
   "source": [
    "dfTrainingSet.to_csv(\"/home/archit/Desktop/ad vs organic/training_data_ad_vs_org3.csv\")\n"
   ]
  },
  {
   "cell_type": "code",
   "execution_count": 48,
   "metadata": {},
   "outputs": [
    {
     "name": "stderr",
     "output_type": "stream",
     "text": [
      "/home/archit/anaconda3/lib/python3.6/site-packages/ipykernel_launcher.py:1: SettingWithCopyWarning: \n",
      "A value is trying to be set on a copy of a slice from a DataFrame.\n",
      "Try using .loc[row_indexer,col_indexer] = value instead\n",
      "\n",
      "See the caveats in the documentation: http://pandas.pydata.org/pandas-docs/stable/indexing.html#indexing-view-versus-copy\n",
      "  \"\"\"Entry point for launching an IPython kernel.\n"
     ]
    }
   ],
   "source": [
    "dfValidationSet['orgViews'] = dfValidationSet['viewCount']*(100-dfValidationSet['ad%'])"
   ]
  },
  {
   "cell_type": "code",
   "execution_count": 49,
   "metadata": {},
   "outputs": [
    {
     "name": "stderr",
     "output_type": "stream",
     "text": [
      "/home/archit/anaconda3/lib/python3.6/site-packages/ipykernel_launcher.py:1: SettingWithCopyWarning: \n",
      "A value is trying to be set on a copy of a slice from a DataFrame\n",
      "\n",
      "See the caveats in the documentation: http://pandas.pydata.org/pandas-docs/stable/indexing.html#indexing-view-versus-copy\n",
      "  \"\"\"Entry point for launching an IPython kernel.\n",
      "/home/archit/anaconda3/lib/python3.6/site-packages/pandas/core/frame.py:3027: SettingWithCopyWarning: \n",
      "A value is trying to be set on a copy of a slice from a DataFrame\n",
      "\n",
      "See the caveats in the documentation: http://pandas.pydata.org/pandas-docs/stable/indexing.html#indexing-view-versus-copy\n",
      "  return super(DataFrame, self).rename(**kwargs)\n"
     ]
    }
   ],
   "source": [
    "dfValidationSet.drop('viewCount', axis=1, inplace= True)\n",
    "dfValidationSet.rename(columns = {'orgViews':'viewCount'}, inplace = True)"
   ]
  },
  {
   "cell_type": "code",
   "execution_count": 23,
   "metadata": {},
   "outputs": [],
   "source": [
    "dfTrainingSet = pd.concat([dfTrainingSet, dfValidationSet], ignore_index = True)"
   ]
  },
  {
   "cell_type": "code",
   "execution_count": 24,
   "metadata": {},
   "outputs": [
    {
     "data": {
      "text/plain": [
       "(36515, 26)"
      ]
     },
     "execution_count": 24,
     "metadata": {},
     "output_type": "execute_result"
    }
   ],
   "source": [
    "dfTrainingSet.shape"
   ]
  },
  {
   "cell_type": "code",
   "execution_count": 25,
   "metadata": {},
   "outputs": [],
   "source": [
    "dfValidationSet.to_csv('/home/archit/Desktop/ad vs organic/validation_data_ad_vs_org3.csv')"
   ]
  },
  {
   "cell_type": "markdown",
   "metadata": {},
   "source": [
    "### Feature engineering\n"
   ]
  },
  {
   "cell_type": "code",
   "execution_count": 50,
   "metadata": {},
   "outputs": [],
   "source": [
    "def feature_engineer(dfData):\n",
    "    dfData =dfData.drop(['favoriteCount', 'PrevTitle', 'PrevPublishedAt', 'Channel commentCount', 'categoryId'],axis =1)\n",
    "    \n",
    "    \n",
    "    dfData['PublishedYear'] = dfData['publishedAt'].apply(lambda x: x[:4])\n",
    "    dfData['ChannelAge'] =  dfData['Channel Publish date'].apply(lambda x: x[:4])\n",
    "    dfData['channelViewCount'] = np.log(dfData['Channel viewCount'])\n",
    "    dfData['LikeDislikeRatio'] = dfData['likeCount']/(dfData['dislikeCount'] + dfData['likeCount'])\n",
    "    dfData['PrevCommentCount'] = dfData['PrevCommentCount'].fillna(0)\n",
    "    dfData['PrevDislikeCount'] = dfData['PrevDislikeCount'].fillna(0)\n",
    "    dfData['PrevLikeCount'] = dfData['PrevLikeCount'].fillna(0)\n",
    "    dfData['PrevViewCount'] = dfData['PrevViewCount'].fillna(0)   \n",
    "    dfData['duration'] = dfData['duration'].fillna(0)\n",
    "    dfData['LikeDislikeRatio'] = dfData['LikeDislikeRatio'].replace(np.inf, np.nan)\n",
    "    dfData['LikeDislikeRatio'] = dfData['LikeDislikeRatio'].fillna(0)\n",
    "    dfData['LikeDislikeRatio'] = dfData['LikeDislikeRatio'].fillna(0)\n",
    "    dfData['Channel subscriberCount'] = dfData['Channel subscriberCount'].fillna(0)\n",
    "    dfData = dfData.drop(['title','description','publishedAt','Channel viewCount','Channel Publish date','channelId','tags', 'ad%'],axis = 1)\n",
    "    \n",
    "    return dfData\n",
    "\n",
    "def drop_obvious_features(dfData):\n",
    "    dfData = dfData.drop(['LikeCount','DislikeCount','CommentCount'],axis = 1)\n",
    "    return dfData"
   ]
  },
  {
   "cell_type": "code",
   "execution_count": 51,
   "metadata": {},
   "outputs": [],
   "source": [
    "def feature_engineer2(dfData):\n",
    "    dfData =dfData.drop(['favoriteCount', 'PrevTitle', 'PrevPublishedAt', 'Channel commentCount'],axis =1)\n",
    "    \n",
    "    dfData = dfData.dropna()\n",
    "    dfData['PublishedYear'] = dfData['publishedAt'].apply(lambda x: x[:4])\n",
    "    dfData['ChannelAge'] =  dfData['Channel Publish date'].apply(lambda x: x[:4])\n",
    "    dfData['channelViewCount'] = np.log(dfData['Channel viewCount'])\n",
    "    dfData['LikeDislikeRatio'] = dfData['likeCount']/(dfData['dislikeCount'] + dfData['likeCount'])\n",
    "    dfData['LikeDislikeRatio'] = dfData['LikeDislikeRatio'].replace(np.inf, np.nan)\n",
    "    dfData = dfData.drop(['title','description','publishedAt','','Channel Publish date','channelId','tags', 'ad%'],axis = 1)\n",
    "    \n",
    "    return dfData\n",
    "\n",
    "def drop_obvious_features(dfData):\n",
    "    dfData = dfData.drop(['LikeCount','DislikeCount','CommentCount'],axis = 1)\n",
    "    return dfData"
   ]
  },
  {
   "cell_type": "code",
   "execution_count": 52,
   "metadata": {},
   "outputs": [],
   "source": [
    "df = feature_engineer(dfTrainingSet)\n",
    "#df.to_csv('/home/archit/Desktop/ad vs organic/trainSet2.csv')"
   ]
  },
  {
   "cell_type": "code",
   "execution_count": 61,
   "metadata": {},
   "outputs": [
    {
     "ename": "ValueError",
     "evalue": "labels ['Unnamed: 0' 'Unnamed: 0.1'] not contained in axis",
     "output_type": "error",
     "traceback": [
      "\u001b[0;31m---------------------------------------------------------------------------\u001b[0m",
      "\u001b[0;31mValueError\u001b[0m                                Traceback (most recent call last)",
      "\u001b[0;32m<ipython-input-61-8c3a2ed15455>\u001b[0m in \u001b[0;36m<module>\u001b[0;34m()\u001b[0m\n\u001b[1;32m      1\u001b[0m \u001b[0mX\u001b[0m\u001b[0;34m,\u001b[0m \u001b[0my\u001b[0m \u001b[0;34m=\u001b[0m \u001b[0mdf\u001b[0m\u001b[0;34m.\u001b[0m\u001b[0mdrop\u001b[0m\u001b[0;34m(\u001b[0m\u001b[0;34m'viewCount'\u001b[0m\u001b[0;34m,\u001b[0m\u001b[0maxis\u001b[0m \u001b[0;34m=\u001b[0m \u001b[0;36m1\u001b[0m\u001b[0;34m)\u001b[0m \u001b[0;34m,\u001b[0m \u001b[0mnp\u001b[0m\u001b[0;34m.\u001b[0m\u001b[0mlog\u001b[0m\u001b[0;34m(\u001b[0m\u001b[0mdf\u001b[0m\u001b[0;34m[\u001b[0m\u001b[0;34m'viewCount'\u001b[0m\u001b[0;34m]\u001b[0m\u001b[0;34m)\u001b[0m\u001b[0;34m\u001b[0m\u001b[0m\n\u001b[0;32m----> 2\u001b[0;31m \u001b[0mX\u001b[0m \u001b[0;34m=\u001b[0m \u001b[0mX\u001b[0m\u001b[0;34m.\u001b[0m\u001b[0mdrop\u001b[0m\u001b[0;34m(\u001b[0m\u001b[0;34m[\u001b[0m\u001b[0;34m'Unnamed: 0'\u001b[0m\u001b[0;34m,\u001b[0m \u001b[0;34m'Unnamed: 0.1'\u001b[0m\u001b[0;34m]\u001b[0m\u001b[0;34m,\u001b[0m \u001b[0maxis\u001b[0m \u001b[0;34m=\u001b[0m \u001b[0;36m1\u001b[0m\u001b[0;34m)\u001b[0m\u001b[0;34m\u001b[0m\u001b[0m\n\u001b[0m\u001b[1;32m      3\u001b[0m \u001b[0mX\u001b[0m\u001b[0;34m.\u001b[0m\u001b[0mshape\u001b[0m\u001b[0;34m\u001b[0m\u001b[0m\n",
      "\u001b[0;32m~/anaconda3/lib/python3.6/site-packages/pandas/core/generic.py\u001b[0m in \u001b[0;36mdrop\u001b[0;34m(self, labels, axis, index, columns, level, inplace, errors)\u001b[0m\n\u001b[1;32m   2528\u001b[0m         \u001b[0;32mfor\u001b[0m \u001b[0maxis\u001b[0m\u001b[0;34m,\u001b[0m \u001b[0mlabels\u001b[0m \u001b[0;32min\u001b[0m \u001b[0maxes\u001b[0m\u001b[0;34m.\u001b[0m\u001b[0mitems\u001b[0m\u001b[0;34m(\u001b[0m\u001b[0;34m)\u001b[0m\u001b[0;34m:\u001b[0m\u001b[0;34m\u001b[0m\u001b[0m\n\u001b[1;32m   2529\u001b[0m             \u001b[0;32mif\u001b[0m \u001b[0mlabels\u001b[0m \u001b[0;32mis\u001b[0m \u001b[0;32mnot\u001b[0m \u001b[0;32mNone\u001b[0m\u001b[0;34m:\u001b[0m\u001b[0;34m\u001b[0m\u001b[0m\n\u001b[0;32m-> 2530\u001b[0;31m                 \u001b[0mobj\u001b[0m \u001b[0;34m=\u001b[0m \u001b[0mobj\u001b[0m\u001b[0;34m.\u001b[0m\u001b[0m_drop_axis\u001b[0m\u001b[0;34m(\u001b[0m\u001b[0mlabels\u001b[0m\u001b[0;34m,\u001b[0m \u001b[0maxis\u001b[0m\u001b[0;34m,\u001b[0m \u001b[0mlevel\u001b[0m\u001b[0;34m=\u001b[0m\u001b[0mlevel\u001b[0m\u001b[0;34m,\u001b[0m \u001b[0merrors\u001b[0m\u001b[0;34m=\u001b[0m\u001b[0merrors\u001b[0m\u001b[0;34m)\u001b[0m\u001b[0;34m\u001b[0m\u001b[0m\n\u001b[0m\u001b[1;32m   2531\u001b[0m \u001b[0;34m\u001b[0m\u001b[0m\n\u001b[1;32m   2532\u001b[0m         \u001b[0;32mif\u001b[0m \u001b[0minplace\u001b[0m\u001b[0;34m:\u001b[0m\u001b[0;34m\u001b[0m\u001b[0m\n",
      "\u001b[0;32m~/anaconda3/lib/python3.6/site-packages/pandas/core/generic.py\u001b[0m in \u001b[0;36m_drop_axis\u001b[0;34m(self, labels, axis, level, errors)\u001b[0m\n\u001b[1;32m   2560\u001b[0m                 \u001b[0mnew_axis\u001b[0m \u001b[0;34m=\u001b[0m \u001b[0maxis\u001b[0m\u001b[0;34m.\u001b[0m\u001b[0mdrop\u001b[0m\u001b[0;34m(\u001b[0m\u001b[0mlabels\u001b[0m\u001b[0;34m,\u001b[0m \u001b[0mlevel\u001b[0m\u001b[0;34m=\u001b[0m\u001b[0mlevel\u001b[0m\u001b[0;34m,\u001b[0m \u001b[0merrors\u001b[0m\u001b[0;34m=\u001b[0m\u001b[0merrors\u001b[0m\u001b[0;34m)\u001b[0m\u001b[0;34m\u001b[0m\u001b[0m\n\u001b[1;32m   2561\u001b[0m             \u001b[0;32melse\u001b[0m\u001b[0;34m:\u001b[0m\u001b[0;34m\u001b[0m\u001b[0m\n\u001b[0;32m-> 2562\u001b[0;31m                 \u001b[0mnew_axis\u001b[0m \u001b[0;34m=\u001b[0m \u001b[0maxis\u001b[0m\u001b[0;34m.\u001b[0m\u001b[0mdrop\u001b[0m\u001b[0;34m(\u001b[0m\u001b[0mlabels\u001b[0m\u001b[0;34m,\u001b[0m \u001b[0merrors\u001b[0m\u001b[0;34m=\u001b[0m\u001b[0merrors\u001b[0m\u001b[0;34m)\u001b[0m\u001b[0;34m\u001b[0m\u001b[0m\n\u001b[0m\u001b[1;32m   2563\u001b[0m             \u001b[0mdropped\u001b[0m \u001b[0;34m=\u001b[0m \u001b[0mself\u001b[0m\u001b[0;34m.\u001b[0m\u001b[0mreindex\u001b[0m\u001b[0;34m(\u001b[0m\u001b[0;34m**\u001b[0m\u001b[0;34m{\u001b[0m\u001b[0maxis_name\u001b[0m\u001b[0;34m:\u001b[0m \u001b[0mnew_axis\u001b[0m\u001b[0;34m}\u001b[0m\u001b[0;34m)\u001b[0m\u001b[0;34m\u001b[0m\u001b[0m\n\u001b[1;32m   2564\u001b[0m             \u001b[0;32mtry\u001b[0m\u001b[0;34m:\u001b[0m\u001b[0;34m\u001b[0m\u001b[0m\n",
      "\u001b[0;32m~/anaconda3/lib/python3.6/site-packages/pandas/core/indexes/base.py\u001b[0m in \u001b[0;36mdrop\u001b[0;34m(self, labels, errors)\u001b[0m\n\u001b[1;32m   3742\u001b[0m             \u001b[0;32mif\u001b[0m \u001b[0merrors\u001b[0m \u001b[0;34m!=\u001b[0m \u001b[0;34m'ignore'\u001b[0m\u001b[0;34m:\u001b[0m\u001b[0;34m\u001b[0m\u001b[0m\n\u001b[1;32m   3743\u001b[0m                 raise ValueError('labels %s not contained in axis' %\n\u001b[0;32m-> 3744\u001b[0;31m                                  labels[mask])\n\u001b[0m\u001b[1;32m   3745\u001b[0m             \u001b[0mindexer\u001b[0m \u001b[0;34m=\u001b[0m \u001b[0mindexer\u001b[0m\u001b[0;34m[\u001b[0m\u001b[0;34m~\u001b[0m\u001b[0mmask\u001b[0m\u001b[0;34m]\u001b[0m\u001b[0;34m\u001b[0m\u001b[0m\n\u001b[1;32m   3746\u001b[0m         \u001b[0;32mreturn\u001b[0m \u001b[0mself\u001b[0m\u001b[0;34m.\u001b[0m\u001b[0mdelete\u001b[0m\u001b[0;34m(\u001b[0m\u001b[0mindexer\u001b[0m\u001b[0;34m)\u001b[0m\u001b[0;34m\u001b[0m\u001b[0m\n",
      "\u001b[0;31mValueError\u001b[0m: labels ['Unnamed: 0' 'Unnamed: 0.1'] not contained in axis"
     ]
    }
   ],
   "source": [
    "X, y = df.drop('viewCount',axis = 1) , np.log(df['viewCount'])\n",
    "X = X.drop(['Unnamed: 0', 'Unnamed: 0.1'], axis = 1)\n",
    "X.shape"
   ]
  },
  {
   "cell_type": "code",
   "execution_count": 69,
   "metadata": {},
   "outputs": [
    {
     "data": {
      "text/plain": [
       "Index(['vid', 'duration', 'dislikeCount', 'commentCount', 'likeCount',\n",
       "       'Channel subscriberCount', 'Channel videoCount', 'PrevCommentCount',\n",
       "       'PrevDislikeCount', 'PrevLikeCount', 'PrevViewCount', 'PublishedYear',\n",
       "       'ChannelAge', 'channelViewCount', 'LikeDislikeRatio'],\n",
       "      dtype='object')"
      ]
     },
     "execution_count": 69,
     "metadata": {},
     "output_type": "execute_result"
    }
   ],
   "source": [
    "X.columns"
   ]
  },
  {
   "cell_type": "code",
   "execution_count": 55,
   "metadata": {},
   "outputs": [],
   "source": [
    "#X.to_csv('/home/archit/Desktop/ad vs organic/trainSET.csv')"
   ]
  },
  {
   "cell_type": "markdown",
   "metadata": {},
   "source": [
    "### Modeling"
   ]
  },
  {
   "cell_type": "code",
   "execution_count": 70,
   "metadata": {},
   "outputs": [],
   "source": [
    "from sklearn.ensemble import GradientBoostingClassifier, GradientBoostingRegressor\n",
    "from sklearn.model_selection import train_test_split\n",
    "#from xgboost import XGBClassifier, XGBRegressor"
   ]
  },
  {
   "cell_type": "code",
   "execution_count": 71,
   "metadata": {},
   "outputs": [],
   "source": [
    "train_X, test_X, train_y, test_y = train_test_split(X, y, train_size = 0.75, test_size = 0.25)\n",
    "\n",
    "train_X_id, train_X = train_X.vid, train_X.drop('vid', axis = 1)\n",
    "test_X_id, test_X = test_X.vid, test_X.drop('vid', axis = 1)\n",
    "\n",
    "reg = GradientBoostingRegressor()\n",
    "reg.fit(train_X, train_y)\n",
    "reg.score(test_X, test_y)\n",
    "\n",
    "import pickle\n",
    "pickle.dump(reg, open(\"Gbr005.pickle.dat\", \"wb\"))"
   ]
  },
  {
   "cell_type": "code",
   "execution_count": 72,
   "metadata": {},
   "outputs": [],
   "source": [
    "pred = reg.predict(test_X)"
   ]
  },
  {
   "cell_type": "code",
   "execution_count": 73,
   "metadata": {},
   "outputs": [
    {
     "data": {
      "text/html": [
       "<div>\n",
       "<style scoped>\n",
       "    .dataframe tbody tr th:only-of-type {\n",
       "        vertical-align: middle;\n",
       "    }\n",
       "\n",
       "    .dataframe tbody tr th {\n",
       "        vertical-align: top;\n",
       "    }\n",
       "\n",
       "    .dataframe thead th {\n",
       "        text-align: right;\n",
       "    }\n",
       "</style>\n",
       "<table border=\"1\" class=\"dataframe\">\n",
       "  <thead>\n",
       "    <tr style=\"text-align: right;\">\n",
       "      <th></th>\n",
       "      <th>Actual</th>\n",
       "      <th>Diff</th>\n",
       "      <th>Id</th>\n",
       "      <th>Pred</th>\n",
       "    </tr>\n",
       "  </thead>\n",
       "  <tbody>\n",
       "    <tr>\n",
       "      <th>44138</th>\n",
       "      <td>411.0</td>\n",
       "      <td>101.860164</td>\n",
       "      <td>lhpiPhfw8m8</td>\n",
       "      <td>309.139836</td>\n",
       "    </tr>\n",
       "    <tr>\n",
       "      <th>31600</th>\n",
       "      <td>881.0</td>\n",
       "      <td>-105.292991</td>\n",
       "      <td>2DEfSW3e3Hg</td>\n",
       "      <td>986.292991</td>\n",
       "    </tr>\n",
       "    <tr>\n",
       "      <th>27166</th>\n",
       "      <td>533.0</td>\n",
       "      <td>-201.823546</td>\n",
       "      <td>ZlBuyx8qz64</td>\n",
       "      <td>734.823546</td>\n",
       "    </tr>\n",
       "    <tr>\n",
       "      <th>67319</th>\n",
       "      <td>3926.0</td>\n",
       "      <td>1070.292623</td>\n",
       "      <td>fM38i1eHr98</td>\n",
       "      <td>2855.707377</td>\n",
       "    </tr>\n",
       "    <tr>\n",
       "      <th>42187</th>\n",
       "      <td>385.0</td>\n",
       "      <td>200.500859</td>\n",
       "      <td>_R4DWeJhz7Y</td>\n",
       "      <td>184.499141</td>\n",
       "    </tr>\n",
       "  </tbody>\n",
       "</table>\n",
       "</div>"
      ],
      "text/plain": [
       "       Actual         Diff           Id         Pred\n",
       "44138   411.0   101.860164  lhpiPhfw8m8   309.139836\n",
       "31600   881.0  -105.292991  2DEfSW3e3Hg   986.292991\n",
       "27166   533.0  -201.823546  ZlBuyx8qz64   734.823546\n",
       "67319  3926.0  1070.292623  fM38i1eHr98  2855.707377\n",
       "42187   385.0   200.500859  _R4DWeJhz7Y   184.499141"
      ]
     },
     "execution_count": 73,
     "metadata": {},
     "output_type": "execute_result"
    }
   ],
   "source": [
    "size = test_y.shape[0]\n",
    "test_yL = test_y.tolist()\n",
    "predL = pred.tolist()\n",
    "exActView = []\n",
    "exPredView = []\n",
    "diff = []\n",
    "sqErr = []\n",
    "mape={}\n",
    "for i in range(0, size):\n",
    "    exActView.append(math.exp(test_yL[i]))\n",
    "    exPredView.append(math.exp(predL[i]))\n",
    "    diff.append(exActView[i] - exPredView[i])\n",
    "    sqErr.append(math.pow(diff[i], 2))\n",
    "rmse = math.sqrt(sum(sqErr) /size)/ (test_y.max() - test_y.min())\n",
    "dfEval = pd.DataFrame({'Id':test_X_id, 'Actual' : exActView, 'Pred': exPredView, 'Diff': diff})\n",
    "dfEval.head()"
   ]
  },
  {
   "cell_type": "code",
   "execution_count": 74,
   "metadata": {},
   "outputs": [
    {
     "name": "stdout",
     "output_type": "stream",
     "text": [
      "Rmse of the regressormodel is:2387.4454790550158\n"
     ]
    }
   ],
   "source": [
    "print(\"Rmse of the regressormodel is:\" + str(rmse))"
   ]
  },
  {
   "cell_type": "code",
   "execution_count": 75,
   "metadata": {},
   "outputs": [
    {
     "data": {
      "text/plain": [
       "0.04029664809978987"
      ]
     },
     "execution_count": 75,
     "metadata": {},
     "output_type": "execute_result"
    }
   ],
   "source": [
    "1011.0650776175543/dfEval['Actual'].mean()"
   ]
  },
  {
   "cell_type": "code",
   "execution_count": 76,
   "metadata": {},
   "outputs": [
    {
     "data": {
      "text/plain": [
       "<matplotlib.axes._subplots.AxesSubplot at 0x7faecf5a34e0>"
      ]
     },
     "execution_count": 76,
     "metadata": {},
     "output_type": "execute_result"
    },
    {
     "data": {
      "image/png": "[encoded data removed]",
      "text/plain": [
       "<matplotlib.figure.Figure at 0x7faecf5a31d0>"
      ]
     },
     "metadata": {},
     "output_type": "display_data"
    }
   ],
   "source": [
    "X = X.drop('vid', axis = 1)\n",
    "sns.set_style('darkgrid')\n",
    "plt.figure(figsize=(10,12))\n",
    "sns.barplot(x=reg.feature_importances_, y=X.columns)"
   ]
  },
  {
   "cell_type": "code",
   "execution_count": null,
   "metadata": {},
   "outputs": [],
   "source": []
  },
  {
   "cell_type": "markdown",
   "metadata": {},
   "source": [
    "### Modeling on validation set"
   ]
  },
  {
   "cell_type": "code",
   "execution_count": 91,
   "metadata": {},
   "outputs": [],
   "source": [
    "df = feature_engineer(dfValidationSet)"
   ]
  },
  {
   "cell_type": "code",
   "execution_count": null,
   "metadata": {},
   "outputs": [],
   "source": []
  }
 ],
 "metadata": {
  "kernelspec": {
   "display_name": "Python 3",
   "language": "python",
   "name": "python3"
  },
  "language_info": {
   "codemirror_mode": {
    "name": "ipython",
    "version": 3
   },
   "file_extension": ".py",
   "mimetype": "text/x-python",
   "name": "python",
   "nbconvert_exporter": "python",
   "pygments_lexer": "ipython3",
   "version": "3.6.4"
  }
 },
 "nbformat": 4,
 "nbformat_minor": 2
}
