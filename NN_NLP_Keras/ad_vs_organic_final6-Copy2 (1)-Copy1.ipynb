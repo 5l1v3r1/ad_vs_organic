{
 "cells": [
  {
   "cell_type": "markdown",
   "metadata": {},
   "source": [
    "\n",
    "citations:\n",
    "emojifier deep learning.ai"
   ]
  },
  {
   "cell_type": "code",
   "execution_count": 1,
   "metadata": {},
   "outputs": [],
   "source": [
    "import pandas as pd\n",
    "import math\n",
    "import csv\n",
    "import os\n",
    "import seaborn as sns\n",
    "import matplotlib.pyplot as plt\n",
    "import numpy as np\n",
    "import re"
   ]
  },
  {
   "cell_type": "code",
   "execution_count": 2,
   "metadata": {},
   "outputs": [],
   "source": [
    "dfDataDump = pd.read_csv('/home/archit/Desktop/ad_vs_organic/final_combined_organic_duration_titleastext.csv')"
   ]
  },
  {
   "cell_type": "code",
   "execution_count": 3,
   "metadata": {},
   "outputs": [],
   "source": [
    "dfDataDump.drop(['Unnamed: 0','textData'], axis = 1, inplace = True)"
   ]
  },
  {
   "cell_type": "code",
   "execution_count": 4,
   "metadata": {},
   "outputs": [],
   "source": [
    "dfDataDump = dfDataDump.sample(n = 40000)"
   ]
  },
  {
   "cell_type": "code",
   "execution_count": 5,
   "metadata": {},
   "outputs": [
    {
     "data": {
      "text/plain": [
       "(40000, 35)"
      ]
     },
     "execution_count": 5,
     "metadata": {},
     "output_type": "execute_result"
    }
   ],
   "source": [
    "dfDataDump.shape"
   ]
  },
  {
   "cell_type": "code",
   "execution_count": 6,
   "metadata": {},
   "outputs": [],
   "source": [
    "dfLen = dfDataDump['cleanDescriptions'].apply(lambda x: len(x.split()))"
   ]
  },
  {
   "cell_type": "code",
   "execution_count": 7,
   "metadata": {},
   "outputs": [
    {
     "data": {
      "text/plain": [
       "107"
      ]
     },
     "execution_count": 7,
     "metadata": {},
     "output_type": "execute_result"
    }
   ],
   "source": [
    "np.max(dfLen)"
   ]
  },
  {
   "cell_type": "code",
   "execution_count": 8,
   "metadata": {},
   "outputs": [
    {
     "data": {
      "text/plain": [
       "count    40000.000000\n",
       "mean        56.238925\n",
       "std         17.798384\n",
       "min          2.000000\n",
       "25%         44.000000\n",
       "50%         59.000000\n",
       "75%         71.000000\n",
       "max        107.000000\n",
       "Name: cleanDescriptions, dtype: float64"
      ]
     },
     "execution_count": 8,
     "metadata": {},
     "output_type": "execute_result"
    }
   ],
   "source": [
    "dfLen.describe()"
   ]
  },
  {
   "cell_type": "code",
   "execution_count": 9,
   "metadata": {},
   "outputs": [
    {
     "data": {
      "text/plain": [
       "92120    صباح الورد حماية المستهلك رصدنا ارتفاع أسعار ا...\n",
       "42998    priyanka chopra inauguration healthcare global...\n",
       "44192    jagapathi babu fight scene crop jaanwar jaanwa...\n",
       "7514     لحظة وصول موكب الرئيس االسيسي لإفتتاح مشروعا خ...\n",
       "90132    فوضى المقدم فوزي عامر يشرح كيف القبض على الشبا...\n",
       "Name: cleanDescriptions, dtype: object"
      ]
     },
     "execution_count": 9,
     "metadata": {},
     "output_type": "execute_result"
    }
   ],
   "source": [
    "dfDataDump['cleanDescriptions'][0:5]"
   ]
  },
  {
   "cell_type": "markdown",
   "metadata": {},
   "source": [
    "Next we will set up our input dataset and define the function for model training"
   ]
  },
  {
   "cell_type": "code",
   "execution_count": 10,
   "metadata": {},
   "outputs": [],
   "source": [
    "def input_dataset(dfData, views =0, categories =[], country= ['IN']):\n",
    "    \"\"\"manipulates input dataframe according to input parameters.\n",
    "    Args:\n",
    "        dfData: input dataset\n",
    "        views: minimum number of views in dfData.Default = 0.\n",
    "        categories: list of categories to be present in final dataset.Default is empty list(all categories)\n",
    "        country: List of countries whose videos should be present in dataSet. Default is India.\n",
    "    Returns:\n",
    "        dataset to train model on\n",
    "    \"\"\"\n",
    "    # slice dataset with viewCount larger than views\n",
    "    dfData = dfData[dfData['viewCount'] >= views]\n",
    "    # concat dfData according to categories\n",
    "    categoryIds =(dfData['categoryId'].dropna().unique()).tolist()\n",
    "    # create temporary df\n",
    "    tempDf = pd.DataFrame(columns = ['vid', 'channelId', 'duration', 'licensedContent', 'definition',\n",
    "       'dislikeCount', 'commentCount', 'favoriteCount', 'viewCount',\n",
    "       'likeCount', 'relevantTopicIds', 'topicIds', 'topicCategories', 'title',\n",
    "       'description', 'tags', 'categoryId', 'channelTitle', 'publishedAt',\n",
    "       'Channel Title', 'Channel Description', 'Channel Publish date',\n",
    "       ' Channel hiddenSubscriberCount', 'Channel viewCount',\n",
    "       'Channel subscriberCount', 'Channel commentCount', 'Channel videoCount',\n",
    "       'Channel showRelatedChannels', 'Channel featuredChannelsUrls',\n",
    "       'Channel noOfFeaturedChannels', 'Channel country', 'Channel keywords',\n",
    "       'Channel topicIds', 'Channel topicCategories'])\n",
    "    for categoryId in categoryIds:\n",
    "        df = dfData[dfData['categoryId'] == categoryId]\n",
    "        keys = []\n",
    "        keys[0], keys[1] = tempDf['categoryId'][0], df['categoryId'][0]\n",
    "        tempf = pd.concat([tempDf, df], ignore_index = True, keys = keys)\n",
    "        \n",
    "    # select dataframe according to categories\n",
    "    if len(categories) != 0:\n",
    "        dfData = tempDf.loc[categories]\n",
    "    else:\n",
    "        dfData = tempDf\n",
    "    \n",
    "    # choosing countries\n",
    "    if len(country) != 0:\n",
    "            dfData = dfData.loc[dfData['Channel country'] == country, ]\n",
    "    else:\n",
    "        dfData = dfData.loc[dfData['Channel country'] == 'IN']\n",
    "        \n",
    "    return dfData"
   ]
  },
  {
   "cell_type": "code",
   "execution_count": null,
   "metadata": {},
   "outputs": [],
   "source": [
    "def preprocessing(dfData):\n",
    "    \"\"\"drops irrelevant features, merges adStats and previous video stats\n",
    "    Args:\n",
    "    dfData: input DataSet\n",
    "    Return:\n",
    "    merged DataSet\n",
    "    \"\"\"\n",
    "    # drop irrelevant features\n",
    "    dfData = dfData.drop(['licensedContent', 'relevantTopicIds', 'topicIds', 'topicCategories', 'channelTitle', 'Channel Title', 'Channel Description', ' Channel hiddenSubscriberCount', 'Channel showRelatedChannels', 'Channel featuredChannelsUrls',\n",
    "       'Channel noOfFeaturedChannels', 'Channel country', 'Channel keywords',\n",
    "       'Channel topicIds', 'Channel topicCategories'], axis = 1)\n",
    "    \n",
    "    # load advertisement and previous stats dataset and clean\n",
    "    dfAdStats = pd.read_csv('/home/archit/Desktop/ad_vs_organic/resultstats.csv').drop(['ch_id','Unnamed: 0'], axis =1)\n",
    "    dfAdStats.rename(columns = {'video_id':'vid'}, inplace = True)\n",
    "    dfPrevStats = pd.read_csv('/home/archit/Desktop/ad_vs_organic/previousVideoStats2.csv').drop(['Unnamed: 0'], axis =1)\n",
    "    dfPrevStats.rename(columns = {'Id':'vid'}, inplace = True)\n",
    "\n",
    "    # merge DataSet\n",
    "    dfMergedData = dfData.merge(dfPrevStats, on = 'vid', how = 'left')\n",
    "    dfMergedData = dfMergedData.merge(dfAdStats, on = 'vid', how = 'left')\n",
    "    return dfMergedData"
   ]
  },
  {
   "cell_type": "code",
   "execution_count": 12,
   "metadata": {},
   "outputs": [],
   "source": [
    "def preprocessing2(dfData):\n",
    "    \"\"\"drops irrelevant features, merges adStats and previous video stats\n",
    "    Args:\n",
    "    dfData: input DataSet\n",
    "    Return:\n",
    "    merged DataSet\n",
    "    \"\"\"\n",
    "    # drop irrelevant features\n",
    "    dfData = dfData.drop(['licensedContent', 'relevantTopicIds', 'topicIds', 'topicCategories', 'channelTitle', 'Channel Title', 'Channel Description', ' Channel hiddenSubscriberCount', 'Channel showRelatedChannels', 'Channel featuredChannelsUrls',\n",
    "       'Channel noOfFeaturedChannels', 'Channel country', 'Channel keywords',\n",
    "       'Channel topicIds', 'Channel topicCategories'], axis = 1)\n",
    "    \n",
    "    # load advertisement and previous stats dataset and clean\n",
    "    dfAdStats = pd.read_csv('/home/archit/Desktop/ad_vs_organic/resultstats.csv').drop(['ch_id','Unnamed: 0'], axis =1)\n",
    "    dfAdStats.rename(columns = {'video_id':'vid'}, inplace = True)\n",
    "    dfPrevStats = pd.read_csv('/home/archit/Desktop/ad_vs_organic/previousVideoStats2.csv').drop(['Unnamed: 0'], axis =1)\n",
    "    dfPrevStats.rename(columns = {'Id':'vid'}, inplace = True)\n",
    "\n",
    "    # merge DataSet\n",
    "    dfMergedData = dfData.merge(dfPrevStats, on = 'vid', how = 'left')\n",
    "    dfMergedData = dfMergedData.merge(dfAdStats, on = 'vid', how = 'left')\n",
    "    \n",
    "    dfMergedData['viewCount'] = dfMergedData['ad%'] * dfMergedData['viewCount']\n",
    "    return dfMergedData"
   ]
  },
  {
   "cell_type": "code",
   "execution_count": 13,
   "metadata": {},
   "outputs": [],
   "source": [
    "def feature_engineer(dfData):\n",
    "    dfData =dfData.drop(['favoriteCount', 'PrevTitle', 'PrevPublishedAt', 'Channel commentCount', 'categoryId'],axis =1)\n",
    "    \n",
    "    \n",
    "    dfData['PublishedYear'] = dfData['publishedAt'].apply(lambda x: x[:4])\n",
    "    dfData['ChannelAge'] =  dfData['Channel Publish date'].apply(lambda x: x[:4])\n",
    "    dfData['channelViewCount'] = np.log(dfData['Channel viewCount'])\n",
    "    dfData['LikeDislikeRatio'] = dfData['likeCount']/(dfData['dislikeCount'] + dfData['likeCount'])\n",
    "    dfData['PrevCommentCount'] = dfData['PrevCommentCount'].fillna(0)\n",
    "    dfData['PrevDislikeCount'] = dfData['PrevDislikeCount'].fillna(0)\n",
    "    dfData['PrevLikeCount'] = dfData['PrevLikeCount'].fillna(0)\n",
    "    dfData['PrevViewCount'] = dfData['PrevViewCount'].fillna(0)   \n",
    "    dfData['duration'] = dfData['duration'].fillna(0)\n",
    "    dfData['LikeDislikeRatio'] = dfData['LikeDislikeRatio'].replace(np.inf, np.nan)\n",
    "    dfData['LikeDislikeRatio'] = dfData['LikeDislikeRatio'].fillna(0)\n",
    "    dfData['LikeDislikeRatio'] = dfData['LikeDislikeRatio'].fillna(0)\n",
    "    dfData['Channel subscriberCount'] = dfData['Channel subscriberCount'].fillna(0)\n",
    "    dfData['Definition'] = dfData['definition'].apply(lambda x: 1 if x=='hd' else 0)\n",
    "    dfData = dfData.drop(['title','description','publishedAt','Channel viewCount','Channel Publish date','channelId','tags', 'ad%'],axis = 1)\n",
    "    \n",
    "    return dfData\n",
    "\n",
    "def drop_obvious_features(dfData):\n",
    "    dfData = dfData.drop(['LikeCount','DislikeCount','CommentCount'],axis = 1)\n",
    "    return dfData"
   ]
  },
  {
   "cell_type": "code",
   "execution_count": 14,
   "metadata": {},
   "outputs": [
    {
     "data": {
      "text/plain": [
       "Index(['vid', 'channelId', 'duration', 'definition', 'dislikeCount',\n",
       "       'commentCount', 'favoriteCount', 'viewCount', 'likeCount', 'title',\n",
       "       'description', 'tags', 'categoryId', 'publishedAt',\n",
       "       'Channel Publish date', 'Channel viewCount', 'Channel subscriberCount',\n",
       "       'Channel commentCount', 'Channel videoCount', 'cleanDescriptions',\n",
       "       'PrevCommentCount', 'PrevDislikeCount', 'PrevLikeCount',\n",
       "       'PrevPublishedAt', 'PrevViewCount', 'PrevTitle', 'ad%'],\n",
       "      dtype='object')"
      ]
     },
     "execution_count": 14,
     "metadata": {},
     "output_type": "execute_result"
    }
   ],
   "source": [
    "dfData = preprocessing(dfDataDump)\n",
    "dfData.columns"
   ]
  },
  {
   "cell_type": "code",
   "execution_count": 15,
   "metadata": {},
   "outputs": [],
   "source": [
    "df = feature_engineer(dfData)"
   ]
  },
  {
   "cell_type": "code",
   "execution_count": 16,
   "metadata": {},
   "outputs": [
    {
     "data": {
      "text/plain": [
       "'화염방사기로 불태워 죽이는 파이어브레이크 게임플레이 게임플레이 콜오브듀티 블랙옵스 알로직 알로직 arelogic 블랙옵스 블랙옵스 콜오브듀티 블랙아우스 블랙옵스 플레이 블랙옵스 파이어브레이크 블랙옵스 스코어스트릭 블랙옵스 스페셜리스트 블랙옵스 블랙옵스 플레이 블랙옵스 오픈베타 블랙옵스 멀티플레이 블랙옵스 블랙옵스 전문가 블랙옵스 블랙옵스 블랙옵스 클래스 블랙옵스 블랙옵스 블랙옵스 게임플레이 블랙옵스 파이어브레이크 플레이 블랙옵스 파이어브레이크 블랙옵스 파이어브레이크'"
      ]
     },
     "execution_count": 16,
     "metadata": {},
     "output_type": "execute_result"
    }
   ],
   "source": [
    "np.max(df['cleanDescriptions'])"
   ]
  },
  {
   "cell_type": "code",
   "execution_count": 17,
   "metadata": {},
   "outputs": [
    {
     "data": {
      "text/plain": [
       "Index(['vid', 'duration', 'definition', 'dislikeCount', 'commentCount',\n",
       "       'viewCount', 'likeCount', 'Channel subscriberCount',\n",
       "       'Channel videoCount', 'cleanDescriptions', 'PrevCommentCount',\n",
       "       'PrevDislikeCount', 'PrevLikeCount', 'PrevViewCount', 'PublishedYear',\n",
       "       'ChannelAge', 'channelViewCount', 'LikeDislikeRatio', 'Definition'],\n",
       "      dtype='object')"
      ]
     },
     "execution_count": 17,
     "metadata": {},
     "output_type": "execute_result"
    }
   ],
   "source": [
    "df.columns"
   ]
  },
  {
   "cell_type": "code",
   "execution_count": 21,
   "metadata": {},
   "outputs": [
    {
     "name": "stderr",
     "output_type": "stream",
     "text": [
      "/home/archit/anaconda3/lib/python3.6/site-packages/sklearn/ensemble/weight_boosting.py:29: DeprecationWarning: numpy.core.umath_tests is an internal NumPy module and should not be imported. It will be removed in a future NumPy release.\n",
      "  from numpy.core.umath_tests import inner1d\n"
     ]
    }
   ],
   "source": [
    "from sklearn.ensemble import GradientBoostingClassifier, GradientBoostingRegressor\n",
    "from sklearn.model_selection import train_test_split\n",
    "\n",
    "train_X, test_X, train_y, test_y = train_test_split(X, y, train_size = 0.75, test_size = 0.25)"
   ]
  },
  {
   "cell_type": "markdown",
   "metadata": {},
   "source": [
    "### Now we will use use genism library implementation of word2vec and parse each sentence to get its vector representation"
   ]
  },
  {
   "cell_type": "code",
   "execution_count": 18,
   "metadata": {},
   "outputs": [
    {
     "name": "stderr",
     "output_type": "stream",
     "text": [
      "/home/archit/anaconda3/lib/python3.6/site-packages/smart_open/ssh.py:34: UserWarning: paramiko missing, opening SSH/SCP/SFTP paths will be disabled.  `pip install paramiko` to suppress\n",
      "  warnings.warn('paramiko missing, opening SSH/SCP/SFTP paths will be disabled.  `pip install paramiko` to suppress')\n"
     ]
    }
   ],
   "source": [
    "from gensim.models import Word2Vec\n",
    "from gensim.models.phrases import Phrases, Phraser"
   ]
  },
  {
   "cell_type": "markdown",
   "metadata": {},
   "source": [
    "As Phrases use list of list of words as input"
   ]
  },
  {
   "cell_type": "code",
   "execution_count": 19,
   "metadata": {},
   "outputs": [],
   "source": [
    "sent = [description.split() for description in df['cleanDescriptions']]"
   ]
  },
  {
   "cell_type": "markdown",
   "metadata": {},
   "source": [
    "Create relevant phrases from a list of sentences"
   ]
  },
  {
   "cell_type": "code",
   "execution_count": 20,
   "metadata": {},
   "outputs": [],
   "source": [
    "phrases = Phrases(sent, min_count=10, progress_per=10000)"
   ]
  },
  {
   "cell_type": "markdown",
   "metadata": {},
   "source": [
    "Goal of the Phraser() is to cut down the memory consumptionn of the Phrases()"
   ]
  },
  {
   "cell_type": "code",
   "execution_count": 21,
   "metadata": {},
   "outputs": [],
   "source": [
    "bigram = Phraser(phrases)"
   ]
  },
  {
   "cell_type": "markdown",
   "metadata": {},
   "source": [
    "Transform the corpus based on the bigrams detected"
   ]
  },
  {
   "cell_type": "code",
   "execution_count": 22,
   "metadata": {},
   "outputs": [],
   "source": [
    "sentences = bigram[sent]"
   ]
  },
  {
   "cell_type": "code",
   "execution_count": 23,
   "metadata": {},
   "outputs": [],
   "source": [
    "import multiprocessing\n",
    "cores = multiprocessing.cpu_count()"
   ]
  },
  {
   "cell_type": "markdown",
   "metadata": {},
   "source": [
    "#### Training the model"
   ]
  },
  {
   "cell_type": "code",
   "execution_count": 24,
   "metadata": {},
   "outputs": [],
   "source": [
    "w2v_model = Word2Vec(min_count = 1,\n",
    "                     window = 2,\n",
    "                     size = 256,\n",
    "                     alpha=0.03, \n",
    "                     min_alpha=0.0007, \n",
    "                     negative=10,\n",
    "                     workers=cores-1)"
   ]
  },
  {
   "cell_type": "markdown",
   "metadata": {},
   "source": [
    "Building the vocabulory.Word2Vec requires us to build the vocabulory table."
   ]
  },
  {
   "cell_type": "code",
   "execution_count": 25,
   "metadata": {},
   "outputs": [],
   "source": [
    "w2v_model.build_vocab(sentences, progress_per=10000)"
   ]
  },
  {
   "cell_type": "markdown",
   "metadata": {},
   "source": [
    "Training word2vec"
   ]
  },
  {
   "cell_type": "code",
   "execution_count": 26,
   "metadata": {},
   "outputs": [
    {
     "name": "stdout",
     "output_type": "stream",
     "text": [
      "Time to train the model: 6.36 mins\n"
     ]
    }
   ],
   "source": [
    "import time\n",
    "t = time.time()\n",
    "\n",
    "w2v_model.train(sentences, total_examples=w2v_model.corpus_count, epochs=30, report_delay=1)\n",
    "print('Time to train the model: {} mins'.format(round((time.time() - t) / 60, 2)))"
   ]
  },
  {
   "cell_type": "code",
   "execution_count": 27,
   "metadata": {},
   "outputs": [],
   "source": [
    "def sentence_to_avg(sentence, word_to_vec):\n",
    "    \"\"\"\n",
    "    Converts a sentence (string) into a list of words (strings). Extracts the word2vec representation of each word\n",
    "    and averages its value into a single vector encoding the meaning of the sentence.\n",
    "    \n",
    "    Arguments:\n",
    "    sentence -- string, one training example from X\n",
    "    word_to_vec -- dictionary mapping every word in a vocabulary into its 256-dimensional vector representation\n",
    "    \n",
    "    Returns:\n",
    "    avg -- average vector encoding information about the sentence, numpy-array of shape (256,)\n",
    "    \"\"\"\n",
    "    \n",
    "    # Split sentence into list of lower case words (≈ 1 line)\n",
    "    words = [i.lower() for i in sentence.split()]\n",
    "\n",
    "    # Initialize the average word vector, should have the same shape as your word vectors.\n",
    "    avg = np.zeros((256,))\n",
    "    \n",
    "    # Step 2: average the word vectors. You can loop over the words in the list \"words\".\n",
    "    for w in words:\n",
    "        try:\n",
    "            avg += word_to_vec[w]\n",
    "        except:\n",
    "            pass\n",
    "        \n",
    "    avg = avg / len(words)\n",
    "        \n",
    "    return avg"
   ]
  },
  {
   "cell_type": "code",
   "execution_count": 28,
   "metadata": {},
   "outputs": [
    {
     "name": "stderr",
     "output_type": "stream",
     "text": [
      "/home/archit/anaconda3/lib/python3.6/site-packages/ipykernel_launcher.py:23: DeprecationWarning: Call to deprecated `__getitem__` (Method will be removed in 4.0.0, use self.wv.__getitem__() instead).\n"
     ]
    }
   ],
   "source": [
    "embedding = []\n",
    "for sentence in list(df['cleanDescriptions']):\n",
    "    embedding.append(sentence_to_avg(sentence, w2v_model))"
   ]
  },
  {
   "cell_type": "code",
   "execution_count": 31,
   "metadata": {},
   "outputs": [
    {
     "name": "stderr",
     "output_type": "stream",
     "text": [
      "/home/archit/anaconda3/lib/python3.6/site-packages/ipykernel_launcher.py:23: DeprecationWarning: Call to deprecated `__getitem__` (Method will be removed in 4.0.0, use self.wv.__getitem__() instead).\n"
     ]
    }
   ],
   "source": [
    "embedding = []\n",
    "for i in range(0, 256):\n",
    "    embedding.append([])\n",
    "for sentence in list(df['cleanDescriptions']):\n",
    "    result = list(sentence_to_avg(sentence, w2v_model))\n",
    "    for j in range(0, 256):\n",
    "        embedding[j].append(result[j])"
   ]
  },
  {
   "cell_type": "code",
   "execution_count": 35,
   "metadata": {},
   "outputs": [],
   "source": [
    "for i in range(0, 256):\n",
    "    df[str(i)] = embedding[i]"
   ]
  },
  {
   "cell_type": "markdown",
   "metadata": {},
   "source": [
    "Training data"
   ]
  },
  {
   "cell_type": "code",
   "execution_count": null,
   "metadata": {},
   "outputs": [],
   "source": [
    "df = feature_engineer(dfTrainingSet)\n"
   ]
  },
  {
   "cell_type": "code",
   "execution_count": 46,
   "metadata": {},
   "outputs": [
    {
     "data": {
      "text/plain": [
       "Index(['vid', 'duration', 'definition', 'dislikeCount', 'commentCount',\n",
       "       'likeCount', 'Channel subscriberCount', 'Channel videoCount',\n",
       "       'cleanDescriptions', 'PrevCommentCount',\n",
       "       ...\n",
       "       '246', '247', '248', '249', '250', '251', '252', '253', '254', '255'],\n",
       "      dtype='object', length=275)"
      ]
     },
     "execution_count": 46,
     "metadata": {},
     "output_type": "execute_result"
    }
   ],
   "source": [
    "X, y = df.drop('viewCount',axis = 1) , np.log(df['viewCount'])\n",
    "X.columns"
   ]
  },
  {
   "cell_type": "code",
   "execution_count": 47,
   "metadata": {},
   "outputs": [],
   "source": [
    "X.drop(['definition', 'cleanDescriptions'], axis = 1, inplace=True)"
   ]
  },
  {
   "cell_type": "code",
   "execution_count": 48,
   "metadata": {},
   "outputs": [],
   "source": [
    "from sklearn.ensemble import GradientBoostingClassifier, GradientBoostingRegressor\n",
    "from sklearn.model_selection import train_test_split\n",
    "\n",
    "train_X, test_X, train_y, test_y = train_test_split(X, y, train_size = 0.75, test_size = 0.25)"
   ]
  },
  {
   "cell_type": "markdown",
   "metadata": {},
   "source": [
    "### Scaling data for applying before to neural nets"
   ]
  },
  {
   "cell_type": "code",
   "execution_count": 49,
   "metadata": {},
   "outputs": [],
   "source": [
    "def linear_scale(series):\n",
    "  min_val = series.min()\n",
    "  max_val = series.max()\n",
    "  scale = (max_val - min_val) / 2.0\n",
    "  return series.apply(lambda x:((x - min_val) / scale) - 1.0)"
   ]
  },
  {
   "cell_type": "code",
   "execution_count": 50,
   "metadata": {},
   "outputs": [],
   "source": [
    "def log_normalize(series):\n",
    "  return series.apply(lambda x:math.log(x+1.0))\n",
    "\n",
    "def clip(series, clip_to_min, clip_to_max):\n",
    "  return series.apply(lambda x:(\n",
    "    min(max(x, clip_to_min), clip_to_max)))\n",
    "\n",
    "def z_score_normalize(series):\n",
    "  mean = series.mean()\n",
    "  std_dv = series.std()\n",
    "  return series.apply(lambda x:(x - mean) / std_dv)\n",
    "\n",
    "def binary_threshold(series, threshold):\n",
    "  return series.apply(lambda x:(1 if x > threshold else 0))"
   ]
  },
  {
   "cell_type": "code",
   "execution_count": 51,
   "metadata": {},
   "outputs": [
    {
     "name": "stderr",
     "output_type": "stream",
     "text": [
      "/home/archit/anaconda3/lib/python3.6/site-packages/ipykernel_launcher.py:4: SettingWithCopyWarning: \n",
      "A value is trying to be set on a copy of a slice from a DataFrame.\n",
      "Try using .loc[row_indexer,col_indexer] = value instead\n",
      "\n",
      "See the caveats in the documentation: http://pandas.pydata.org/pandas-docs/stable/indexing.html#indexing-view-versus-copy\n",
      "  after removing the cwd from sys.path.\n",
      "/home/archit/anaconda3/lib/python3.6/site-packages/ipykernel_launcher.py:5: SettingWithCopyWarning: \n",
      "A value is trying to be set on a copy of a slice from a DataFrame.\n",
      "Try using .loc[row_indexer,col_indexer] = value instead\n",
      "\n",
      "See the caveats in the documentation: http://pandas.pydata.org/pandas-docs/stable/indexing.html#indexing-view-versus-copy\n",
      "  \"\"\"\n",
      "/home/archit/anaconda3/lib/python3.6/site-packages/ipykernel_launcher.py:6: SettingWithCopyWarning: \n",
      "A value is trying to be set on a copy of a slice from a DataFrame.\n",
      "Try using .loc[row_indexer,col_indexer] = value instead\n",
      "\n",
      "See the caveats in the documentation: http://pandas.pydata.org/pandas-docs/stable/indexing.html#indexing-view-versus-copy\n",
      "  \n",
      "/home/archit/anaconda3/lib/python3.6/site-packages/ipykernel_launcher.py:7: SettingWithCopyWarning: \n",
      "A value is trying to be set on a copy of a slice from a DataFrame.\n",
      "Try using .loc[row_indexer,col_indexer] = value instead\n",
      "\n",
      "See the caveats in the documentation: http://pandas.pydata.org/pandas-docs/stable/indexing.html#indexing-view-versus-copy\n",
      "  import sys\n",
      "/home/archit/anaconda3/lib/python3.6/site-packages/ipykernel_launcher.py:8: SettingWithCopyWarning: \n",
      "A value is trying to be set on a copy of a slice from a DataFrame.\n",
      "Try using .loc[row_indexer,col_indexer] = value instead\n",
      "\n",
      "See the caveats in the documentation: http://pandas.pydata.org/pandas-docs/stable/indexing.html#indexing-view-versus-copy\n",
      "  \n",
      "/home/archit/anaconda3/lib/python3.6/site-packages/ipykernel_launcher.py:9: SettingWithCopyWarning: \n",
      "A value is trying to be set on a copy of a slice from a DataFrame.\n",
      "Try using .loc[row_indexer,col_indexer] = value instead\n",
      "\n",
      "See the caveats in the documentation: http://pandas.pydata.org/pandas-docs/stable/indexing.html#indexing-view-versus-copy\n",
      "  if __name__ == '__main__':\n",
      "/home/archit/anaconda3/lib/python3.6/site-packages/ipykernel_launcher.py:10: SettingWithCopyWarning: \n",
      "A value is trying to be set on a copy of a slice from a DataFrame.\n",
      "Try using .loc[row_indexer,col_indexer] = value instead\n",
      "\n",
      "See the caveats in the documentation: http://pandas.pydata.org/pandas-docs/stable/indexing.html#indexing-view-versus-copy\n",
      "  # Remove the CWD from sys.path while we load stuff.\n",
      "/home/archit/anaconda3/lib/python3.6/site-packages/ipykernel_launcher.py:11: SettingWithCopyWarning: \n",
      "A value is trying to be set on a copy of a slice from a DataFrame.\n",
      "Try using .loc[row_indexer,col_indexer] = value instead\n",
      "\n",
      "See the caveats in the documentation: http://pandas.pydata.org/pandas-docs/stable/indexing.html#indexing-view-versus-copy\n",
      "  # This is added back by InteractiveShellApp.init_path()\n",
      "/home/archit/anaconda3/lib/python3.6/site-packages/ipykernel_launcher.py:12: SettingWithCopyWarning: \n",
      "A value is trying to be set on a copy of a slice from a DataFrame.\n",
      "Try using .loc[row_indexer,col_indexer] = value instead\n",
      "\n",
      "See the caveats in the documentation: http://pandas.pydata.org/pandas-docs/stable/indexing.html#indexing-view-versus-copy\n",
      "  if sys.path[0] == '':\n",
      "/home/archit/anaconda3/lib/python3.6/site-packages/ipykernel_launcher.py:13: SettingWithCopyWarning: \n",
      "A value is trying to be set on a copy of a slice from a DataFrame.\n",
      "Try using .loc[row_indexer,col_indexer] = value instead\n",
      "\n",
      "See the caveats in the documentation: http://pandas.pydata.org/pandas-docs/stable/indexing.html#indexing-view-versus-copy\n",
      "  del sys.path[0]\n",
      "/home/archit/anaconda3/lib/python3.6/site-packages/ipykernel_launcher.py:14: SettingWithCopyWarning: \n",
      "A value is trying to be set on a copy of a slice from a DataFrame.\n",
      "Try using .loc[row_indexer,col_indexer] = value instead\n",
      "\n",
      "See the caveats in the documentation: http://pandas.pydata.org/pandas-docs/stable/indexing.html#indexing-view-versus-copy\n",
      "  \n"
     ]
    }
   ],
   "source": [
    "def normalize_scale(examples_dataframe):\n",
    "  \"\"\"Returns a version of the input `DataFrame` that has all its features normalized linearly.\"\"\"\n",
    "  processed_features = pd.DataFrame()\n",
    "  examples_dataframe[\"duration\"] = log_normalize(examples_dataframe[\"duration\"])\n",
    "  examples_dataframe[\"dislikeCount\"] = log_normalize(examples_dataframe[\"dislikeCount\"])\n",
    "  examples_dataframe[\"commentCount\"] = log_normalize(examples_dataframe[\"commentCount\"])\n",
    "  examples_dataframe[\"likeCount\"] = log_normalize(examples_dataframe[\"likeCount\"])\n",
    "  examples_dataframe[\"Channel subscriberCount\"] = linear_scale(examples_dataframe[\"Channel subscriberCount\"])\n",
    "  examples_dataframe[\"Channel videoCount\"] = linear_scale(examples_dataframe[\"Channel videoCount\"])\n",
    "  examples_dataframe[\"PrevCommentCount\"] = log_normalize(examples_dataframe[\"PrevCommentCount\"])\n",
    "  examples_dataframe[\"PrevDislikeCount\"] = log_normalize(examples_dataframe[\"PrevDislikeCount\"])\n",
    "  examples_dataframe[\"PrevViewCount\"] = log_normalize(examples_dataframe[\"PrevViewCount\"])\n",
    "  examples_dataframe[\"LikeDislikeRatio\"] = linear_scale(examples_dataframe[\"LikeDislikeRatio\"])\n",
    "  examples_dataframe[\"channelViewCount\"] = log_normalize(examples_dataframe[\"channelViewCount\"])\n",
    "\n",
    "    \n",
    "  return examples_dataframe\n",
    "\n",
    "normalized_dataframe = normalize_scale(train_X)"
   ]
  },
  {
   "cell_type": "markdown",
   "metadata": {},
   "source": [
    "### Modeling"
   ]
  },
  {
   "cell_type": "code",
   "execution_count": 53,
   "metadata": {},
   "outputs": [
    {
     "data": {
      "text/plain": [
       "-0.7888841316359072"
      ]
     },
     "execution_count": 53,
     "metadata": {},
     "output_type": "execute_result"
    }
   ],
   "source": [
    "train_X_id, train_X = train_X.vid, train_X.drop('vid', axis = 1)\n",
    "test_X_id, test_X = test_X.vid, test_X.drop('vid', axis = 1)\n",
    "\n",
    "reg = GradientBoostingRegressor()\n",
    "reg.fit(train_X, train_y)\n",
    "reg.score(test_X, test_y)"
   ]
  },
  {
   "cell_type": "code",
   "execution_count": 54,
   "metadata": {},
   "outputs": [],
   "source": [
    "pred = reg.predict(test_X)"
   ]
  },
  {
   "cell_type": "code",
   "execution_count": 55,
   "metadata": {},
   "outputs": [
    {
     "data": {
      "text/html": [
       "<div>\n",
       "<style scoped>\n",
       "    .dataframe tbody tr th:only-of-type {\n",
       "        vertical-align: middle;\n",
       "    }\n",
       "\n",
       "    .dataframe tbody tr th {\n",
       "        vertical-align: top;\n",
       "    }\n",
       "\n",
       "    .dataframe thead th {\n",
       "        text-align: right;\n",
       "    }\n",
       "</style>\n",
       "<table border=\"1\" class=\"dataframe\">\n",
       "  <thead>\n",
       "    <tr style=\"text-align: right;\">\n",
       "      <th></th>\n",
       "      <th>Actual</th>\n",
       "      <th>Diff</th>\n",
       "      <th>Id</th>\n",
       "      <th>Pred</th>\n",
       "    </tr>\n",
       "  </thead>\n",
       "  <tbody>\n",
       "    <tr>\n",
       "      <th>13635</th>\n",
       "      <td>1661.0</td>\n",
       "      <td>-5.591534e+03</td>\n",
       "      <td>yqA7Y6mgzJE</td>\n",
       "      <td>7.252534e+03</td>\n",
       "    </tr>\n",
       "    <tr>\n",
       "      <th>27341</th>\n",
       "      <td>9558.0</td>\n",
       "      <td>-1.920659e+07</td>\n",
       "      <td>wTNQ6erYNnI</td>\n",
       "      <td>1.921615e+07</td>\n",
       "    </tr>\n",
       "    <tr>\n",
       "      <th>9491</th>\n",
       "      <td>49635.0</td>\n",
       "      <td>-2.338414e+07</td>\n",
       "      <td>Rx6YQC9TXe8</td>\n",
       "      <td>2.343378e+07</td>\n",
       "    </tr>\n",
       "    <tr>\n",
       "      <th>4066</th>\n",
       "      <td>1262.0</td>\n",
       "      <td>-3.263442e+02</td>\n",
       "      <td>pxay1B6QxvA</td>\n",
       "      <td>1.588344e+03</td>\n",
       "    </tr>\n",
       "    <tr>\n",
       "      <th>33324</th>\n",
       "      <td>759.0</td>\n",
       "      <td>-9.198338e+02</td>\n",
       "      <td>QxbJLcsE6uc</td>\n",
       "      <td>1.678834e+03</td>\n",
       "    </tr>\n",
       "  </tbody>\n",
       "</table>\n",
       "</div>"
      ],
      "text/plain": [
       "        Actual          Diff           Id          Pred\n",
       "13635   1661.0 -5.591534e+03  yqA7Y6mgzJE  7.252534e+03\n",
       "27341   9558.0 -1.920659e+07  wTNQ6erYNnI  1.921615e+07\n",
       "9491   49635.0 -2.338414e+07  Rx6YQC9TXe8  2.343378e+07\n",
       "4066    1262.0 -3.263442e+02  pxay1B6QxvA  1.588344e+03\n",
       "33324    759.0 -9.198338e+02  QxbJLcsE6uc  1.678834e+03"
      ]
     },
     "execution_count": 55,
     "metadata": {},
     "output_type": "execute_result"
    }
   ],
   "source": [
    "size = test_y.shape[0]\n",
    "test_yL = test_y.tolist()\n",
    "predL = pred.tolist()\n",
    "exActView = []\n",
    "exPredView = []\n",
    "diff = []\n",
    "sqErr = []\n",
    "mape={}\n",
    "for i in range(0, size):\n",
    "    exActView.append(math.exp(test_yL[i]))\n",
    "    exPredView.append(math.exp(predL[i]))\n",
    "    diff.append(exActView[i] - exPredView[i])\n",
    "    sqErr.append(math.pow(diff[i], 2))\n",
    "rmse = math.sqrt(sum(sqErr) /size)/ (test_y.max() - test_y.min())\n",
    "dfEval = pd.DataFrame({'Id':test_X_id, 'Actual' : exActView, 'Pred': exPredView, 'Diff': diff})\n",
    "dfEval.head()"
   ]
  },
  {
   "cell_type": "code",
   "execution_count": 56,
   "metadata": {},
   "outputs": [
    {
     "name": "stdout",
     "output_type": "stream",
     "text": [
      "Rmse of the regressormodel is:599196.5262339924\n"
     ]
    }
   ],
   "source": [
    "print(\"Rmse of the regressormodel is:\" + str(rmse))"
   ]
  },
  {
   "cell_type": "code",
   "execution_count": 26,
   "metadata": {
    "scrolled": true
   },
   "outputs": [],
   "source": [
    "import numpy as np\n",
    "np.random.seed(0)\n",
    "from keras.models import Model, Sequential, load_model\n",
    "from keras.layers import Dense, Input, Dropout, LSTM, Activation, CuDNNLSTM\n",
    "from keras.layers.embeddings import Embedding\n",
    "from keras.preprocessing import sequence\n",
    "from keras.initializers import glorot_uniform\n",
    "from keras.layers.advanced_activations import LeakyReLU, PReLU\n",
    "from keras.optimizers import Adam\n",
    "from keras.layers import concatenate\n",
    "from keras.callbacks import ModelCheckpoint\n",
    "\n",
    "np.random.seed(1)"
   ]
  },
  {
   "cell_type": "code",
   "execution_count": 28,
   "metadata": {},
   "outputs": [],
   "source": [
    "def PREDICT_USING_TEXT_V2(input_shape):\n",
    "    \"\"\"\n",
    "    Function creating the PREDICT_USING_TEXT-v2 model's graph.\n",
    "    \n",
    "    Arguments:\n",
    "    input_shape -- shape of the input, usually (max_len,)\n",
    "    word_to_vec_map -- dictionary mapping every word in a vocabulary into its 50-dimensional vector representation\n",
    "    word_to_index -- dictionary mapping from words to their indices in the vocabulary (400,001 words)\n",
    "\n",
    "    Returns:\n",
    "    model -- a model instance in Keras\n",
    "    \"\"\"\n",
    "    # Define padded_description as the input of the graph, it should be of shape input_shape and dtype 'int32' (as it contains indices).\n",
    "    padded_descriptions = Input(input_shape, dtype='int32', name = 'main_input')\n",
    "    \n",
    "    # Propagate padded_descriptions through embedding layer, you get back the embeddings\n",
    "    embeddings = Embedding(output_dim=20, input_dim=vocabSize, input_length=max_length)(padded_descriptions)\n",
    "    \n",
    "    # Propagate the embeddings through an LSTM layer with 128-dimensional hidden state\n",
    "    # Be careful, the returned output should be a batch of sequences.\n",
    "    X = LSTM(128, return_sequences=True)(embeddings)\n",
    "    # Add dropout with a probability of 0.5\n",
    "    X = Dropout(0.5)(X)\n",
    "    # Propagate X trough another LSTM layer with 128-dimensional hidden state\n",
    "    # Be careful, the returned output should be a single hidden state, not a batch of sequences.\n",
    "    lstm_out = LSTM(128, return_sequences=False)(X)\n",
    "    \n",
    "    # Propagate X through a Dense layer with softmax activation to get back a batch of 5-dimensional vectors.\n",
    "    auxiliary_output = Dense(5)(X)\n",
    "    # Add a softmax activation\n",
    "    auxiliary_output = Activation('softmax')(auxiliary_output)\n",
    "    \n",
    "    \n",
    "    # Here we insert the auxiliary loss, allowing the LSTM and Embedding layer to be trained smoothly even though the\n",
    "    # main loss will be much higher in the model\n",
    "    \n",
    "    # at this time we feed our auxillary input data by concatenating it with the Lstm output\n",
    "    auxiliary_input = Input(shape = (15,), name = 'auxiliary_input')\n",
    "    x = concatenate([lstm_out, auxiliary_input])\n",
    "    \n",
    "    # stack a deep densely connected network on top\n",
    "    x = Dense(256, activation='tanh')(x)\n",
    "    x = Dense(256, activation='linear')(x)\n",
    "    \n",
    "    x = LeakyReLU(alpha=0.001)(x)\n",
    "    x = Dense(256, activation='tanh')(x)\n",
    "    \n",
    "    x = Dense(128, activation='relu')(x)\n",
    "    x = Dense(128, activation='linear')(x)\n",
    "\n",
    "    main_output = Dense(1, name = 'main_output')(x)\n",
    "    \n",
    "    \n",
    "    # define model with two inputs and two outputs\n",
    "    model = Model(inputs=[padded_descriptions, auxiliary_input], outputs= main_output)\n",
    "    \n",
    "    ### END CODE HERE ###\n",
    "    \n",
    "    return model"
   ]
  },
  {
   "cell_type": "code",
   "execution_count": 29,
   "metadata": {},
   "outputs": [
    {
     "name": "stdout",
     "output_type": "stream",
     "text": [
      "WARNING:tensorflow:From /home/archit/anaconda3/lib/python3.6/site-packages/tensorflow/python/framework/op_def_library.py:263: colocate_with (from tensorflow.python.framework.ops) is deprecated and will be removed in a future version.\n",
      "Instructions for updating:\n",
      "Colocations handled automatically by placer.\n",
      "WARNING:tensorflow:From /home/archit/anaconda3/lib/python3.6/site-packages/keras/backend/tensorflow_backend.py:3445: calling dropout (from tensorflow.python.ops.nn_ops) with keep_prob is deprecated and will be removed in a future version.\n",
      "Instructions for updating:\n",
      "Please use `rate` instead of `keep_prob`. Rate should be set to `rate = 1 - keep_prob`.\n",
      "__________________________________________________________________________________________________\n",
      "Layer (type)                    Output Shape         Param #     Connected to                     \n",
      "==================================================================================================\n",
      "main_input (InputLayer)         (None, 650)          0                                            \n",
      "__________________________________________________________________________________________________\n",
      "embedding_1 (Embedding)         (None, 650, 20)      3541000     main_input[0][0]                 \n",
      "__________________________________________________________________________________________________\n",
      "lstm_1 (LSTM)                   (None, 650, 128)     76288       embedding_1[0][0]                \n",
      "__________________________________________________________________________________________________\n",
      "dropout_1 (Dropout)             (None, 650, 128)     0           lstm_1[0][0]                     \n",
      "__________________________________________________________________________________________________\n",
      "lstm_2 (LSTM)                   (None, 128)          131584      dropout_1[0][0]                  \n",
      "__________________________________________________________________________________________________\n",
      "auxiliary_input (InputLayer)    (None, 15)           0                                            \n",
      "__________________________________________________________________________________________________\n",
      "concatenate_1 (Concatenate)     (None, 143)          0           lstm_2[0][0]                     \n",
      "                                                                 auxiliary_input[0][0]            \n",
      "__________________________________________________________________________________________________\n",
      "dense_2 (Dense)                 (None, 256)          36864       concatenate_1[0][0]              \n",
      "__________________________________________________________________________________________________\n",
      "dense_3 (Dense)                 (None, 256)          65792       dense_2[0][0]                    \n",
      "__________________________________________________________________________________________________\n",
      "leaky_re_lu_1 (LeakyReLU)       (None, 256)          0           dense_3[0][0]                    \n",
      "__________________________________________________________________________________________________\n",
      "dense_4 (Dense)                 (None, 256)          65792       leaky_re_lu_1[0][0]              \n",
      "__________________________________________________________________________________________________\n",
      "dense_5 (Dense)                 (None, 128)          32896       dense_4[0][0]                    \n",
      "__________________________________________________________________________________________________\n",
      "dense_6 (Dense)                 (None, 128)          16512       dense_5[0][0]                    \n",
      "__________________________________________________________________________________________________\n",
      "main_output (Dense)             (None, 1)            129         dense_6[0][0]                    \n",
      "==================================================================================================\n",
      "Total params: 3,966,857\n",
      "Trainable params: 3,966,857\n",
      "Non-trainable params: 0\n",
      "__________________________________________________________________________________________________\n"
     ]
    }
   ],
   "source": [
    "model = PREDICT_USING_TEXT_V2((max_length,))\n",
    "model.summary()"
   ]
  },
  {
   "cell_type": "code",
   "execution_count": 30,
   "metadata": {},
   "outputs": [],
   "source": [
    "# optimizer for regression stacking\n",
    "adam = Adam(lr=0.002, decay = 0.00001)"
   ]
  },
  {
   "cell_type": "code",
   "execution_count": 31,
   "metadata": {},
   "outputs": [],
   "source": [
    "model.compile(loss='mean_squared_error', optimizer=adam)"
   ]
  },
  {
   "cell_type": "code",
   "execution_count": 32,
   "metadata": {},
   "outputs": [],
   "source": [
    "X.drop(['definition', 'vid', 'cleanDescriptions'], axis=1, inplace=True)"
   ]
  },
  {
   "cell_type": "code",
   "execution_count": 33,
   "metadata": {},
   "outputs": [
    {
     "data": {
      "text/plain": [
       "Index(['duration', 'dislikeCount', 'commentCount', 'likeCount',\n",
       "       'Channel subscriberCount', 'Channel videoCount', 'PrevCommentCount',\n",
       "       'PrevDislikeCount', 'PrevLikeCount', 'PrevViewCount', 'PublishedYear',\n",
       "       'ChannelAge', 'channelViewCount', 'LikeDislikeRatio', 'Definition'],\n",
       "      dtype='object')"
      ]
     },
     "execution_count": 33,
     "metadata": {},
     "output_type": "execute_result"
    }
   ],
   "source": [
    "X.columns"
   ]
  },
  {
   "cell_type": "code",
   "execution_count": 34,
   "metadata": {},
   "outputs": [
    {
     "data": {
      "text/html": [
       "<div>\n",
       "<style scoped>\n",
       "    .dataframe tbody tr th:only-of-type {\n",
       "        vertical-align: middle;\n",
       "    }\n",
       "\n",
       "    .dataframe tbody tr th {\n",
       "        vertical-align: top;\n",
       "    }\n",
       "\n",
       "    .dataframe thead th {\n",
       "        text-align: right;\n",
       "    }\n",
       "</style>\n",
       "<table border=\"1\" class=\"dataframe\">\n",
       "  <thead>\n",
       "    <tr style=\"text-align: right;\">\n",
       "      <th></th>\n",
       "      <th>duration</th>\n",
       "      <th>dislikeCount</th>\n",
       "      <th>commentCount</th>\n",
       "      <th>likeCount</th>\n",
       "      <th>Channel subscriberCount</th>\n",
       "      <th>Channel videoCount</th>\n",
       "      <th>PrevCommentCount</th>\n",
       "      <th>PrevDislikeCount</th>\n",
       "      <th>PrevLikeCount</th>\n",
       "      <th>PrevViewCount</th>\n",
       "      <th>PublishedYear</th>\n",
       "      <th>ChannelAge</th>\n",
       "      <th>channelViewCount</th>\n",
       "      <th>LikeDislikeRatio</th>\n",
       "      <th>Definition</th>\n",
       "    </tr>\n",
       "  </thead>\n",
       "  <tbody>\n",
       "    <tr>\n",
       "      <th>3</th>\n",
       "      <td>607.0</td>\n",
       "      <td>17.0</td>\n",
       "      <td>21.0</td>\n",
       "      <td>130.0</td>\n",
       "      <td>16085.0</td>\n",
       "      <td>118.0</td>\n",
       "      <td>21.0</td>\n",
       "      <td>17.0</td>\n",
       "      <td>130.0</td>\n",
       "      <td>41380.0</td>\n",
       "      <td>2016</td>\n",
       "      <td>2016</td>\n",
       "      <td>15.983476</td>\n",
       "      <td>0.884354</td>\n",
       "      <td>1</td>\n",
       "    </tr>\n",
       "    <tr>\n",
       "      <th>4</th>\n",
       "      <td>552.0</td>\n",
       "      <td>13.0</td>\n",
       "      <td>18.0</td>\n",
       "      <td>129.0</td>\n",
       "      <td>16085.0</td>\n",
       "      <td>118.0</td>\n",
       "      <td>18.0</td>\n",
       "      <td>13.0</td>\n",
       "      <td>129.0</td>\n",
       "      <td>60971.0</td>\n",
       "      <td>2016</td>\n",
       "      <td>2016</td>\n",
       "      <td>15.983476</td>\n",
       "      <td>0.908451</td>\n",
       "      <td>1</td>\n",
       "    </tr>\n",
       "    <tr>\n",
       "      <th>9</th>\n",
       "      <td>520.0</td>\n",
       "      <td>12.0</td>\n",
       "      <td>28.0</td>\n",
       "      <td>109.0</td>\n",
       "      <td>16085.0</td>\n",
       "      <td>118.0</td>\n",
       "      <td>28.0</td>\n",
       "      <td>12.0</td>\n",
       "      <td>109.0</td>\n",
       "      <td>33071.0</td>\n",
       "      <td>2016</td>\n",
       "      <td>2016</td>\n",
       "      <td>15.983476</td>\n",
       "      <td>0.900826</td>\n",
       "      <td>1</td>\n",
       "    </tr>\n",
       "    <tr>\n",
       "      <th>10</th>\n",
       "      <td>756.0</td>\n",
       "      <td>42.0</td>\n",
       "      <td>28.0</td>\n",
       "      <td>187.0</td>\n",
       "      <td>16085.0</td>\n",
       "      <td>118.0</td>\n",
       "      <td>28.0</td>\n",
       "      <td>42.0</td>\n",
       "      <td>187.0</td>\n",
       "      <td>92608.0</td>\n",
       "      <td>2016</td>\n",
       "      <td>2016</td>\n",
       "      <td>15.983476</td>\n",
       "      <td>0.816594</td>\n",
       "      <td>1</td>\n",
       "    </tr>\n",
       "    <tr>\n",
       "      <th>11</th>\n",
       "      <td>592.0</td>\n",
       "      <td>20.0</td>\n",
       "      <td>18.0</td>\n",
       "      <td>115.0</td>\n",
       "      <td>16085.0</td>\n",
       "      <td>118.0</td>\n",
       "      <td>18.0</td>\n",
       "      <td>20.0</td>\n",
       "      <td>115.0</td>\n",
       "      <td>58258.0</td>\n",
       "      <td>2016</td>\n",
       "      <td>2016</td>\n",
       "      <td>15.983476</td>\n",
       "      <td>0.851852</td>\n",
       "      <td>1</td>\n",
       "    </tr>\n",
       "  </tbody>\n",
       "</table>\n",
       "</div>"
      ],
      "text/plain": [
       "    duration  dislikeCount  commentCount  likeCount  Channel subscriberCount  \\\n",
       "3      607.0          17.0          21.0      130.0                  16085.0   \n",
       "4      552.0          13.0          18.0      129.0                  16085.0   \n",
       "9      520.0          12.0          28.0      109.0                  16085.0   \n",
       "10     756.0          42.0          28.0      187.0                  16085.0   \n",
       "11     592.0          20.0          18.0      115.0                  16085.0   \n",
       "\n",
       "    Channel videoCount  PrevCommentCount  PrevDislikeCount  PrevLikeCount  \\\n",
       "3                118.0              21.0              17.0          130.0   \n",
       "4                118.0              18.0              13.0          129.0   \n",
       "9                118.0              28.0              12.0          109.0   \n",
       "10               118.0              28.0              42.0          187.0   \n",
       "11               118.0              18.0              20.0          115.0   \n",
       "\n",
       "    PrevViewCount PublishedYear ChannelAge  channelViewCount  \\\n",
       "3         41380.0          2016       2016         15.983476   \n",
       "4         60971.0          2016       2016         15.983476   \n",
       "9         33071.0          2016       2016         15.983476   \n",
       "10        92608.0          2016       2016         15.983476   \n",
       "11        58258.0          2016       2016         15.983476   \n",
       "\n",
       "    LikeDislikeRatio  Definition  \n",
       "3           0.884354           1  \n",
       "4           0.908451           1  \n",
       "9           0.900826           1  \n",
       "10          0.816594           1  \n",
       "11          0.851852           1  "
      ]
     },
     "execution_count": 34,
     "metadata": {},
     "output_type": "execute_result"
    }
   ],
   "source": [
    "#print((padded_descriptions[0:5]))\n",
    "X.head()"
   ]
  },
  {
   "cell_type": "code",
   "execution_count": null,
   "metadata": {},
   "outputs": [
    {
     "name": "stdout",
     "output_type": "stream",
     "text": [
      "WARNING:tensorflow:From /home/archit/anaconda3/lib/python3.6/site-packages/tensorflow/python/ops/math_ops.py:3066: to_int32 (from tensorflow.python.ops.math_ops) is deprecated and will be removed in a future version.\n",
      "Instructions for updating:\n",
      "Use tf.cast instead.\n",
      "Epoch 1/50\n",
      "40569/40569 [==============================] - 4901s 121ms/step - loss: 63820552472.5026\n",
      "\n",
      "Epoch 00001: loss improved from inf to 63820552472.50265, saving model to /home/archit/Desktop/ad_vs_organic/LStM/organicViews/weights-improvement-01-63820552472.50.hdf5\n",
      "Epoch 2/50\n",
      "40569/40569 [==============================] - 5249s 129ms/step - loss: 60696455905.5405\n",
      "\n",
      "Epoch 00002: loss improved from 63820552472.50265 to 60696455905.54049, saving model to /home/archit/Desktop/ad_vs_organic/LStM/organicViews/weights-improvement-02-60696455905.54.hdf5\n",
      "Epoch 3/50\n",
      "24192/40569 [================>.............] - ETA: 36:25 - loss: 62566541587.9788"
     ]
    }
   ],
   "source": [
    "resume_model = load_model(\"/home/archit/Music/organicViews/weights-improvement-01-25597147126.87.hdf5\")\n",
    "filepath=\"/home/archit/Desktop/ad_vs_organic/LStM/organicViews/weights-improvement-{epoch:02d}-{loss:.2f}.hdf5\"\n",
    "checkpoint = ModelCheckpoint(filepath, monitor='loss', verbose=1, save_best_only=True, mode='min')\n",
    "callbacks_list = [checkpoint]\n",
    "resume_model.fit({'main_input':padded_descriptions, 'auxiliary_input': X}, {'main_output': y}, epochs = 50, batch_size = 32, callbacks=callbacks_list, shuffle=True)"
   ]
  },
  {
   "cell_type": "code",
   "execution_count": null,
   "metadata": {},
   "outputs": [],
   "source": [
    "model.load_weights(\"/home/archit/Desktop/ad_vs_organic/LStM/weights-improvement-01-3.68.hdf5\")"
   ]
  },
  {
   "cell_type": "code",
   "execution_count": null,
   "metadata": {},
   "outputs": [],
   "source": [
    "dfVal = feature_engineer(dfValidationData)"
   ]
  },
  {
   "cell_type": "code",
   "execution_count": 60,
   "metadata": {},
   "outputs": [
    {
     "data": {
      "text/plain": [
       "Index(['vid', 'channelId', 'duration', 'definition', 'dislikeCount',\n",
       "       'commentCount', 'favoriteCount', 'viewCount', 'likeCount', 'title',\n",
       "       'description', 'tags', 'categoryId', 'publishedAt',\n",
       "       'Channel Publish date', 'Channel viewCount', 'Channel subscriberCount',\n",
       "       'Channel commentCount', 'Channel videoCount', 'Lang',\n",
       "       'cleanDescriptions', 'PrevCommentCount', 'PrevDislikeCount',\n",
       "       'PrevLikeCount', 'PrevPublishedAt', 'PrevViewCount', 'PrevTitle',\n",
       "       'ad%'],\n",
       "      dtype='object')"
      ]
     },
     "execution_count": 60,
     "metadata": {},
     "output_type": "execute_result"
    }
   ],
   "source": [
    "dfValidationData.columns"
   ]
  },
  {
   "cell_type": "code",
   "execution_count": 48,
   "metadata": {},
   "outputs": [],
   "source": [
    "X_, y = dfVal.drop('viewCount',axis = 1) , np.log(dfVal['viewCount'])\n"
   ]
  },
  {
   "cell_type": "code",
   "execution_count": 49,
   "metadata": {},
   "outputs": [],
   "source": [
    "descriptions2 = []\n",
    "videos = list(X_.vid)\n",
    "for vid in videos:\n",
    "    Dict = dfDataDump.loc[dfDataDump['vid'] == vid, 'cleanDescriptions'].to_dict()\n",
    "    descriptions2.append(getVal(Dict))"
   ]
  },
  {
   "cell_type": "code",
   "execution_count": 50,
   "metadata": {},
   "outputs": [],
   "source": [
    "descriptions2 = pd.Series(descriptions2)"
   ]
  },
  {
   "cell_type": "code",
   "execution_count": 51,
   "metadata": {},
   "outputs": [],
   "source": [
    "X_.drop(['definition', 'vid'], axis=1, inplace=True)"
   ]
  },
  {
   "cell_type": "code",
   "execution_count": 53,
   "metadata": {},
   "outputs": [],
   "source": [
    "X_train_indices2 = sentences_to_indices(descriptions2.values, word_to_index, 703)"
   ]
  },
  {
   "cell_type": "code",
   "execution_count": 55,
   "metadata": {},
   "outputs": [],
   "source": [
    "result = resume_model.predict({'main_input':X_train_indices2, 'auxiliary_input': X_})"
   ]
  },
  {
   "cell_type": "code",
   "execution_count": null,
   "metadata": {},
   "outputs": [],
   "source": []
  },
  {
   "cell_type": "code",
   "execution_count": 58,
   "metadata": {},
   "outputs": [
    {
     "data": {
      "text/plain": [
       "array([[7.1692953],\n",
       "       [7.089959 ],\n",
       "       [7.320867 ],\n",
       "       [7.1694145],\n",
       "       [6.950097 ]], dtype=float32)"
      ]
     },
     "execution_count": 58,
     "metadata": {},
     "output_type": "execute_result"
    }
   ],
   "source": [
    "result[0:5]"
   ]
  },
  {
   "cell_type": "code",
   "execution_count": 63,
   "metadata": {},
   "outputs": [
    {
     "data": {
      "text/html": [
       "<div>\n",
       "<style scoped>\n",
       "    .dataframe tbody tr th:only-of-type {\n",
       "        vertical-align: middle;\n",
       "    }\n",
       "\n",
       "    .dataframe tbody tr th {\n",
       "        vertical-align: top;\n",
       "    }\n",
       "\n",
       "    .dataframe thead th {\n",
       "        text-align: right;\n",
       "    }\n",
       "</style>\n",
       "<table border=\"1\" class=\"dataframe\">\n",
       "  <thead>\n",
       "    <tr style=\"text-align: right;\">\n",
       "      <th></th>\n",
       "      <th>Actual</th>\n",
       "      <th>Diff</th>\n",
       "      <th>Pred</th>\n",
       "      <th>ad%</th>\n",
       "      <th>vid</th>\n",
       "    </tr>\n",
       "  </thead>\n",
       "  <tbody>\n",
       "    <tr>\n",
       "      <th>5</th>\n",
       "      <td>394.0</td>\n",
       "      <td>-904.928939</td>\n",
       "      <td>1298.928939</td>\n",
       "      <td>33.421053</td>\n",
       "      <td>jCnNgHTdbYY</td>\n",
       "    </tr>\n",
       "    <tr>\n",
       "      <th>6</th>\n",
       "      <td>254.0</td>\n",
       "      <td>-945.858779</td>\n",
       "      <td>1199.858779</td>\n",
       "      <td>0.406504</td>\n",
       "      <td>iR_gXXK0Q_Q</td>\n",
       "    </tr>\n",
       "    <tr>\n",
       "      <th>11</th>\n",
       "      <td>4478.0</td>\n",
       "      <td>2966.486022</td>\n",
       "      <td>1511.513978</td>\n",
       "      <td>70.752984</td>\n",
       "      <td>fIPFc687ink</td>\n",
       "    </tr>\n",
       "    <tr>\n",
       "      <th>12</th>\n",
       "      <td>2233.0</td>\n",
       "      <td>933.916207</td>\n",
       "      <td>1299.083793</td>\n",
       "      <td>0.136488</td>\n",
       "      <td>8bLDlaRfp9c</td>\n",
       "    </tr>\n",
       "    <tr>\n",
       "      <th>20</th>\n",
       "      <td>54352.0</td>\n",
       "      <td>53308.748994</td>\n",
       "      <td>1043.251006</td>\n",
       "      <td>0.001860</td>\n",
       "      <td>gYd1wqGqZnk</td>\n",
       "    </tr>\n",
       "  </tbody>\n",
       "</table>\n",
       "</div>"
      ],
      "text/plain": [
       "     Actual          Diff         Pred        ad%          vid\n",
       "5     394.0   -904.928939  1298.928939  33.421053  jCnNgHTdbYY\n",
       "6     254.0   -945.858779  1199.858779   0.406504  iR_gXXK0Q_Q\n",
       "11   4478.0   2966.486022  1511.513978  70.752984  fIPFc687ink\n",
       "12   2233.0    933.916207  1299.083793   0.136488  8bLDlaRfp9c\n",
       "20  54352.0  53308.748994  1043.251006   0.001860  gYd1wqGqZnk"
      ]
     },
     "execution_count": 63,
     "metadata": {},
     "output_type": "execute_result"
    }
   ],
   "source": [
    "# function exponentiates values in test_y and pred and\n",
    "# than calulated rmse of actual views\n",
    "import math\n",
    "size = y.shape[0]\n",
    "test_yL = dfValidationData['viewCount'].tolist()\n",
    "predL = result.tolist()\n",
    "exActView = []\n",
    "exPredView = []\n",
    "diff = []\n",
    "sqErr = []\n",
    "for i in range(0, size):\n",
    "    exActView.append((test_yL[i]))\n",
    "    exPredView.append(math.exp(predL[i][0]))\n",
    "    diff.append(exActView[i] - exPredView[i])\n",
    "    sqErr.append(math.pow(diff[i], 2))\n",
    "\n",
    "rmse = math.sqrt(sum(sqErr) /size)/(max(exActView) - min(exActView))\n",
    "dfEval = pd.DataFrame({'vid': dfValidationData['vid'], 'Actual' : exActView, 'Pred': exPredView, 'Diff': diff, 'ad%':dfValidationData['ad%']})\n",
    "dfEval.head()"
   ]
  },
  {
   "cell_type": "code",
   "execution_count": 64,
   "metadata": {},
   "outputs": [
    {
     "data": {
      "text/html": [
       "<div>\n",
       "<style scoped>\n",
       "    .dataframe tbody tr th:only-of-type {\n",
       "        vertical-align: middle;\n",
       "    }\n",
       "\n",
       "    .dataframe tbody tr th {\n",
       "        vertical-align: top;\n",
       "    }\n",
       "\n",
       "    .dataframe thead th {\n",
       "        text-align: right;\n",
       "    }\n",
       "</style>\n",
       "<table border=\"1\" class=\"dataframe\">\n",
       "  <thead>\n",
       "    <tr style=\"text-align: right;\">\n",
       "      <th></th>\n",
       "      <th>Actual</th>\n",
       "      <th>Diff</th>\n",
       "      <th>Pred</th>\n",
       "      <th>ad%</th>\n",
       "      <th>vid</th>\n",
       "      <th>Predicted Ad %</th>\n",
       "    </tr>\n",
       "  </thead>\n",
       "  <tbody>\n",
       "    <tr>\n",
       "      <th>5</th>\n",
       "      <td>394.0</td>\n",
       "      <td>-904.928939</td>\n",
       "      <td>1298.928939</td>\n",
       "      <td>33.421053</td>\n",
       "      <td>jCnNgHTdbYY</td>\n",
       "      <td>-229.677396</td>\n",
       "    </tr>\n",
       "    <tr>\n",
       "      <th>6</th>\n",
       "      <td>254.0</td>\n",
       "      <td>-945.858779</td>\n",
       "      <td>1199.858779</td>\n",
       "      <td>0.406504</td>\n",
       "      <td>iR_gXXK0Q_Q</td>\n",
       "      <td>-372.385346</td>\n",
       "    </tr>\n",
       "    <tr>\n",
       "      <th>11</th>\n",
       "      <td>4478.0</td>\n",
       "      <td>2966.486022</td>\n",
       "      <td>1511.513978</td>\n",
       "      <td>70.752984</td>\n",
       "      <td>fIPFc687ink</td>\n",
       "      <td>66.245780</td>\n",
       "    </tr>\n",
       "    <tr>\n",
       "      <th>12</th>\n",
       "      <td>2233.0</td>\n",
       "      <td>933.916207</td>\n",
       "      <td>1299.083793</td>\n",
       "      <td>0.136488</td>\n",
       "      <td>8bLDlaRfp9c</td>\n",
       "      <td>41.823386</td>\n",
       "    </tr>\n",
       "    <tr>\n",
       "      <th>20</th>\n",
       "      <td>54352.0</td>\n",
       "      <td>53308.748994</td>\n",
       "      <td>1043.251006</td>\n",
       "      <td>0.001860</td>\n",
       "      <td>gYd1wqGqZnk</td>\n",
       "      <td>98.080566</td>\n",
       "    </tr>\n",
       "  </tbody>\n",
       "</table>\n",
       "</div>"
      ],
      "text/plain": [
       "     Actual          Diff         Pred        ad%          vid  Predicted Ad %\n",
       "5     394.0   -904.928939  1298.928939  33.421053  jCnNgHTdbYY     -229.677396\n",
       "6     254.0   -945.858779  1199.858779   0.406504  iR_gXXK0Q_Q     -372.385346\n",
       "11   4478.0   2966.486022  1511.513978  70.752984  fIPFc687ink       66.245780\n",
       "12   2233.0    933.916207  1299.083793   0.136488  8bLDlaRfp9c       41.823386\n",
       "20  54352.0  53308.748994  1043.251006   0.001860  gYd1wqGqZnk       98.080566"
      ]
     },
     "execution_count": 64,
     "metadata": {},
     "output_type": "execute_result"
    }
   ],
   "source": [
    "dfEval['Predicted Ad %'] = (dfEval['Diff'])/dfEval['Actual']*100\n",
    "dfEval.head()"
   ]
  },
  {
   "cell_type": "code",
   "execution_count": 65,
   "metadata": {},
   "outputs": [
    {
     "data": {
      "text/html": [
       "<div>\n",
       "<style scoped>\n",
       "    .dataframe tbody tr th:only-of-type {\n",
       "        vertical-align: middle;\n",
       "    }\n",
       "\n",
       "    .dataframe tbody tr th {\n",
       "        vertical-align: top;\n",
       "    }\n",
       "\n",
       "    .dataframe thead th {\n",
       "        text-align: right;\n",
       "    }\n",
       "</style>\n",
       "<table border=\"1\" class=\"dataframe\">\n",
       "  <thead>\n",
       "    <tr style=\"text-align: right;\">\n",
       "      <th></th>\n",
       "      <th>Actual</th>\n",
       "      <th>Diff</th>\n",
       "      <th>Pred</th>\n",
       "      <th>ad%</th>\n",
       "      <th>vid</th>\n",
       "      <th>Predicted Ad %</th>\n",
       "    </tr>\n",
       "  </thead>\n",
       "  <tbody>\n",
       "    <tr>\n",
       "      <th>5</th>\n",
       "      <td>0.0</td>\n",
       "      <td>0.000000</td>\n",
       "      <td>0.000000</td>\n",
       "      <td>0.000000</td>\n",
       "      <td>0</td>\n",
       "      <td>0.000000</td>\n",
       "    </tr>\n",
       "    <tr>\n",
       "      <th>6</th>\n",
       "      <td>0.0</td>\n",
       "      <td>0.000000</td>\n",
       "      <td>0.000000</td>\n",
       "      <td>0.000000</td>\n",
       "      <td>0</td>\n",
       "      <td>0.000000</td>\n",
       "    </tr>\n",
       "    <tr>\n",
       "      <th>11</th>\n",
       "      <td>4478.0</td>\n",
       "      <td>2966.486022</td>\n",
       "      <td>1511.513978</td>\n",
       "      <td>70.752984</td>\n",
       "      <td>fIPFc687ink</td>\n",
       "      <td>66.245780</td>\n",
       "    </tr>\n",
       "    <tr>\n",
       "      <th>12</th>\n",
       "      <td>2233.0</td>\n",
       "      <td>933.916207</td>\n",
       "      <td>1299.083793</td>\n",
       "      <td>0.136488</td>\n",
       "      <td>8bLDlaRfp9c</td>\n",
       "      <td>41.823386</td>\n",
       "    </tr>\n",
       "    <tr>\n",
       "      <th>20</th>\n",
       "      <td>54352.0</td>\n",
       "      <td>53308.748994</td>\n",
       "      <td>1043.251006</td>\n",
       "      <td>0.001860</td>\n",
       "      <td>gYd1wqGqZnk</td>\n",
       "      <td>98.080566</td>\n",
       "    </tr>\n",
       "  </tbody>\n",
       "</table>\n",
       "</div>"
      ],
      "text/plain": [
       "     Actual          Diff         Pred        ad%          vid  Predicted Ad %\n",
       "5       0.0      0.000000     0.000000   0.000000            0        0.000000\n",
       "6       0.0      0.000000     0.000000   0.000000            0        0.000000\n",
       "11   4478.0   2966.486022  1511.513978  70.752984  fIPFc687ink       66.245780\n",
       "12   2233.0    933.916207  1299.083793   0.136488  8bLDlaRfp9c       41.823386\n",
       "20  54352.0  53308.748994  1043.251006   0.001860  gYd1wqGqZnk       98.080566"
      ]
     },
     "execution_count": 65,
     "metadata": {},
     "output_type": "execute_result"
    }
   ],
   "source": [
    "dfEval[dfEval['Predicted Ad %']<0]=0\n",
    "dfEval.head()"
   ]
  },
  {
   "cell_type": "code",
   "execution_count": null,
   "metadata": {},
   "outputs": [],
   "source": [
    "# save the model\n",
    "from keras.models import load_model\n",
    "model.save('/home/archit/Desktop/ad vs organic/ad_vs_organic_keras_model.h5')"
   ]
  },
  {
   "cell_type": "markdown",
   "metadata": {},
   "source": [
    "Now we will use standard metrics and evaluate our result"
   ]
  },
  {
   "cell_type": "code",
   "execution_count": 66,
   "metadata": {},
   "outputs": [],
   "source": [
    "from sklearn.metrics import r2_score,mean_squared_error,mean_absolute_error"
   ]
  },
  {
   "cell_type": "code",
   "execution_count": 67,
   "metadata": {},
   "outputs": [
    {
     "data": {
      "text/plain": [
       "-164.78591121628605"
      ]
     },
     "execution_count": 67,
     "metadata": {},
     "output_type": "execute_result"
    }
   ],
   "source": [
    "r2_score(dfEval['ad%'],dfEval['Predicted Ad %'])"
   ]
  },
  {
   "cell_type": "code",
   "execution_count": 70,
   "metadata": {},
   "outputs": [
    {
     "data": {
      "text/plain": [
       "84.83562740807251"
      ]
     },
     "execution_count": 70,
     "metadata": {},
     "output_type": "execute_result"
    }
   ],
   "source": [
    "np.sqrt(mean_squared_error(dfEval['ad%'],dfEval['Predicted Ad %']))"
   ]
  },
  {
   "cell_type": "code",
   "execution_count": 72,
   "metadata": {},
   "outputs": [
    {
     "data": {
      "text/plain": [
       "79.3856331210703"
      ]
     },
     "execution_count": 72,
     "metadata": {},
     "output_type": "execute_result"
    }
   ],
   "source": [
    "mean_absolute_error(dfEval['ad%'],dfEval['Predicted Ad %'])"
   ]
  },
  {
   "cell_type": "code",
   "execution_count": null,
   "metadata": {},
   "outputs": [],
   "source": [
    "bins =int( (dfEval['Diff'].max() - dfEval['Diff'].min())/5)\n",
    "gh = plt.hist(dfEval['Diff'], bins = bins)\n",
    "freq, error = gh[0], gh[1]\n",
    "plt.ylabel('Number of videos')\n",
    "plt.xlabel('error')\n",
    "plt.title('Frequiency table of diff in ad%')\n",
    "plt.show()"
   ]
  },
  {
   "cell_type": "code",
   "execution_count": null,
   "metadata": {},
   "outputs": [],
   "source": [
    "freq = freq.astype('int64')\n",
    "dfErr = pd.DataFrame()\n",
    "dfErr['Error'] = pd.Series(error)\n",
    "dfErr['Frequency'] = pd.Series(freq)\n",
    "dfErr['Frequency Percentage'] = dfErr['Frequency']/ dfErr['Frequency'].sum() * 100\n",
    "dfErr"
   ]
  },
  {
   "cell_type": "markdown",
   "metadata": {},
   "source": [
    "Now we will look for videos with error in prediction > 30 and figure out why."
   ]
  },
  {
   "cell_type": "code",
   "execution_count": null,
   "metadata": {},
   "outputs": [],
   "source": [
    "dfErr[np.abs(dfErr['Error'])>30]"
   ]
  },
  {
   "cell_type": "code",
   "execution_count": 29,
   "metadata": {},
   "outputs": [
    {
     "data": {
      "text/plain": [
       "(246184, 2)"
      ]
     },
     "execution_count": 29,
     "metadata": {},
     "output_type": "execute_result"
    }
   ],
   "source": [
    "# Loading ad stats dataset\n",
    "dfAdStats = pd.read_csv('/home/archit/Desktop/ad vs organic/resultstats.csv')\n",
    "dfAdStats2 = dfAdStats.drop(['ch_id','Unnamed: 0'], axis =1)\n",
    "dfAdStats2.rename(columns = {'video_id':'vid'}, inplace = True)\n",
    "dfAdStats2.shape"
   ]
  },
  {
   "cell_type": "code",
   "execution_count": 41,
   "metadata": {},
   "outputs": [
    {
     "data": {
      "text/html": [
       "<div>\n",
       "<style scoped>\n",
       "    .dataframe tbody tr th:only-of-type {\n",
       "        vertical-align: middle;\n",
       "    }\n",
       "\n",
       "    .dataframe tbody tr th {\n",
       "        vertical-align: top;\n",
       "    }\n",
       "\n",
       "    .dataframe thead th {\n",
       "        text-align: right;\n",
       "    }\n",
       "</style>\n",
       "<table border=\"1\" class=\"dataframe\">\n",
       "  <thead>\n",
       "    <tr style=\"text-align: right;\">\n",
       "      <th></th>\n",
       "      <th>PrevCommentCount</th>\n",
       "      <th>PrevDislikeCount</th>\n",
       "      <th>PrevLikeCount</th>\n",
       "      <th>PrevPublishedAt</th>\n",
       "      <th>PrevViewCount</th>\n",
       "      <th>PrevTitle</th>\n",
       "      <th>vid</th>\n",
       "    </tr>\n",
       "  </thead>\n",
       "  <tbody>\n",
       "    <tr>\n",
       "      <th>0</th>\n",
       "      <td>9.0</td>\n",
       "      <td>5.0</td>\n",
       "      <td>112.0</td>\n",
       "      <td>2016-08-25T03:48:52.000Z</td>\n",
       "      <td>21007.0</td>\n",
       "      <td>Nhỏ To Cùng Mẹ | Nhật Ký Bí Bầu | Tuần 13 - Hà...</td>\n",
       "      <td>NaN</td>\n",
       "    </tr>\n",
       "    <tr>\n",
       "      <th>1</th>\n",
       "      <td>7.0</td>\n",
       "      <td>6.0</td>\n",
       "      <td>77.0</td>\n",
       "      <td>2016-11-15T06:59:55.000Z</td>\n",
       "      <td>19326.0</td>\n",
       "      <td>Nhỏ To Cùng Mẹ | Nhật Ký Bí Bầu | Tuần 14 - Kh...</td>\n",
       "      <td>LPqCSwCNI5w</td>\n",
       "    </tr>\n",
       "    <tr>\n",
       "      <th>2</th>\n",
       "      <td>28.0</td>\n",
       "      <td>12.0</td>\n",
       "      <td>109.0</td>\n",
       "      <td>2016-11-15T07:01:46.000Z</td>\n",
       "      <td>33071.0</td>\n",
       "      <td>Nhỏ To Cùng Mẹ | Nhật Ký Bí Bầu | Tuần 17 - Gi...</td>\n",
       "      <td>0LGl5jbnrlU</td>\n",
       "    </tr>\n",
       "    <tr>\n",
       "      <th>3</th>\n",
       "      <td>8.0</td>\n",
       "      <td>9.0</td>\n",
       "      <td>84.0</td>\n",
       "      <td>2016-11-15T07:01:55.000Z</td>\n",
       "      <td>29516.0</td>\n",
       "      <td>Nhỏ To Cùng Mẹ | Nhật Ký Bí Bầu |  Tuần 18 - C...</td>\n",
       "      <td>jFFSYwdku9M</td>\n",
       "    </tr>\n",
       "    <tr>\n",
       "      <th>4</th>\n",
       "      <td>12.0</td>\n",
       "      <td>18.0</td>\n",
       "      <td>145.0</td>\n",
       "      <td>2016-11-15T07:02:03.000Z</td>\n",
       "      <td>49653.0</td>\n",
       "      <td>Nhỏ To Cùng Mẹ | Nhật Ký Bí Bầu | Tuần 19 - Ăn...</td>\n",
       "      <td>HvFNGb-nrRU</td>\n",
       "    </tr>\n",
       "  </tbody>\n",
       "</table>\n",
       "</div>"
      ],
      "text/plain": [
       "   PrevCommentCount  PrevDislikeCount  PrevLikeCount  \\\n",
       "0               9.0               5.0          112.0   \n",
       "1               7.0               6.0           77.0   \n",
       "2              28.0              12.0          109.0   \n",
       "3               8.0               9.0           84.0   \n",
       "4              12.0              18.0          145.0   \n",
       "\n",
       "            PrevPublishedAt  PrevViewCount  \\\n",
       "0  2016-08-25T03:48:52.000Z        21007.0   \n",
       "1  2016-11-15T06:59:55.000Z        19326.0   \n",
       "2  2016-11-15T07:01:46.000Z        33071.0   \n",
       "3  2016-11-15T07:01:55.000Z        29516.0   \n",
       "4  2016-11-15T07:02:03.000Z        49653.0   \n",
       "\n",
       "                                           PrevTitle          vid  \n",
       "0  Nhỏ To Cùng Mẹ | Nhật Ký Bí Bầu | Tuần 13 - Hà...          NaN  \n",
       "1  Nhỏ To Cùng Mẹ | Nhật Ký Bí Bầu | Tuần 14 - Kh...  LPqCSwCNI5w  \n",
       "2  Nhỏ To Cùng Mẹ | Nhật Ký Bí Bầu | Tuần 17 - Gi...  0LGl5jbnrlU  \n",
       "3  Nhỏ To Cùng Mẹ | Nhật Ký Bí Bầu |  Tuần 18 - C...  jFFSYwdku9M  \n",
       "4  Nhỏ To Cùng Mẹ | Nhật Ký Bí Bầu | Tuần 19 - Ăn...  HvFNGb-nrRU  "
      ]
     },
     "execution_count": 41,
     "metadata": {},
     "output_type": "execute_result"
    }
   ],
   "source": [
    "# Loading perv stats dataset\n",
    "dfPrevStats = pd.read_csv('/home/archit/Desktop/ad vs organic/previousVideoStats2.csv')\n",
    "dfPrevStats = dfPrevStats.drop(['Unnamed: 0'], axis =1)\n",
    "dfPrevStats.rename(columns = {'Id':'vid'}, inplace = True)\n",
    "\n",
    "dfPrevStats.head()"
   ]
  },
  {
   "cell_type": "markdown",
   "metadata": {},
   "source": [
    "### Merging Dataset"
   ]
  },
  {
   "cell_type": "code",
   "execution_count": 42,
   "metadata": {},
   "outputs": [],
   "source": [
    "dfMergedData = dfData2.merge(dfPrevStats, on = 'vid', how = 'left')\n",
    "dfMergedData = dfMergedData.merge(dfAdStats2, on = 'vid', how = 'left')"
   ]
  },
  {
   "cell_type": "code",
   "execution_count": 43,
   "metadata": {},
   "outputs": [
    {
     "data": {
      "text/plain": [
       "Index(['Unnamed: 0', 'vid', 'channelId', 'duration', 'dislikeCount',\n",
       "       'commentCount', 'favoriteCount', 'viewCount', 'likeCount', 'title',\n",
       "       'description', 'tags', 'categoryId', 'publishedAt',\n",
       "       'Channel Publish date', 'Channel viewCount', 'Channel subscriberCount',\n",
       "       'Channel commentCount', 'Channel videoCount', 'PrevCommentCount',\n",
       "       'PrevDislikeCount', 'PrevLikeCount', 'PrevPublishedAt', 'PrevViewCount',\n",
       "       'PrevTitle', 'ad%'],\n",
       "      dtype='object')"
      ]
     },
     "execution_count": 43,
     "metadata": {},
     "output_type": "execute_result"
    }
   ],
   "source": [
    "dfMergedData.columns"
   ]
  },
  {
   "cell_type": "code",
   "execution_count": 44,
   "metadata": {},
   "outputs": [],
   "source": [
    "dfMergedData.to_csv(\"/home/archit/Desktop/ad vs organic/merged_data_ad_vs_org.csv\")"
   ]
  },
  {
   "cell_type": "code",
   "execution_count": 45,
   "metadata": {},
   "outputs": [],
   "source": [
    "dfMergedData = pd.read_csv('/home/archit/Desktop/ad vs organic/merged_data_ad_vs_org.csv')"
   ]
  },
  {
   "cell_type": "markdown",
   "metadata": {},
   "source": [
    "### Picking up traininig set and validation set"
   ]
  },
  {
   "cell_type": "code",
   "execution_count": 46,
   "metadata": {},
   "outputs": [
    {
     "data": {
      "text/plain": [
       "(112873, 27)"
      ]
     },
     "execution_count": 46,
     "metadata": {},
     "output_type": "execute_result"
    }
   ],
   "source": [
    "dfTrainingSet = dfMergedData.loc[dfMergedData['ad%'] == 0,]\n",
    "dfTrainingSet.shape"
   ]
  },
  {
   "cell_type": "code",
   "execution_count": 47,
   "metadata": {},
   "outputs": [
    {
     "data": {
      "text/plain": [
       "(8003, 27)"
      ]
     },
     "execution_count": 47,
     "metadata": {},
     "output_type": "execute_result"
    }
   ],
   "source": [
    "dfValidationSet = dfMergedData.loc[dfMergedData['ad%']>0, ]\n",
    "\n",
    "dfValidationSet.shape"
   ]
  },
  {
   "cell_type": "markdown",
   "metadata": {},
   "source": [
    "dfTrainingSet.to_csv(\"/home/archit/Desktop/ad vs organic/training_data_ad_vs_org3.csv\")\n"
   ]
  },
  {
   "cell_type": "code",
   "execution_count": 48,
   "metadata": {},
   "outputs": [
    {
     "name": "stderr",
     "output_type": "stream",
     "text": [
      "/home/archit/anaconda3/lib/python3.6/site-packages/ipykernel_launcher.py:1: SettingWithCopyWarning: \n",
      "A value is trying to be set on a copy of a slice from a DataFrame.\n",
      "Try using .loc[row_indexer,col_indexer] = value instead\n",
      "\n",
      "See the caveats in the documentation: http://pandas.pydata.org/pandas-docs/stable/indexing.html#indexing-view-versus-copy\n",
      "  \"\"\"Entry point for launching an IPython kernel.\n"
     ]
    }
   ],
   "source": [
    "dfValidationSet['orgViews'] = dfValidationSet['viewCount']*(100-dfValidationSet['ad%'])"
   ]
  },
  {
   "cell_type": "code",
   "execution_count": 49,
   "metadata": {},
   "outputs": [
    {
     "name": "stderr",
     "output_type": "stream",
     "text": [
      "/home/archit/anaconda3/lib/python3.6/site-packages/ipykernel_launcher.py:1: SettingWithCopyWarning: \n",
      "A value is trying to be set on a copy of a slice from a DataFrame\n",
      "\n",
      "See the caveats in the documentation: http://pandas.pydata.org/pandas-docs/stable/indexing.html#indexing-view-versus-copy\n",
      "  \"\"\"Entry point for launching an IPython kernel.\n",
      "/home/archit/anaconda3/lib/python3.6/site-packages/pandas/core/frame.py:3027: SettingWithCopyWarning: \n",
      "A value is trying to be set on a copy of a slice from a DataFrame\n",
      "\n",
      "See the caveats in the documentation: http://pandas.pydata.org/pandas-docs/stable/indexing.html#indexing-view-versus-copy\n",
      "  return super(DataFrame, self).rename(**kwargs)\n"
     ]
    }
   ],
   "source": [
    "dfValidationSet.drop('viewCount', axis=1, inplace= True)\n",
    "dfValidationSet.rename(columns = {'orgViews':'viewCount'}, inplace = True)"
   ]
  },
  {
   "cell_type": "code",
   "execution_count": 23,
   "metadata": {},
   "outputs": [],
   "source": [
    "dfTrainingSet = pd.concat([dfTrainingSet, dfValidationSet], ignore_index = True)"
   ]
  },
  {
   "cell_type": "code",
   "execution_count": 24,
   "metadata": {},
   "outputs": [
    {
     "data": {
      "text/plain": [
       "(36515, 26)"
      ]
     },
     "execution_count": 24,
     "metadata": {},
     "output_type": "execute_result"
    }
   ],
   "source": [
    "dfTrainingSet.shape"
   ]
  },
  {
   "cell_type": "code",
   "execution_count": 25,
   "metadata": {},
   "outputs": [],
   "source": [
    "dfValidationSet.to_csv('/home/archit/Desktop/ad vs organic/validation_data_ad_vs_org3.csv')"
   ]
  },
  {
   "cell_type": "markdown",
   "metadata": {},
   "source": [
    "### Feature engineering\n"
   ]
  },
  {
   "cell_type": "code",
   "execution_count": 50,
   "metadata": {},
   "outputs": [],
   "source": [
    "def feature_engineer(dfData):\n",
    "    dfData =dfData.drop(['favoriteCount', 'PrevTitle', 'PrevPublishedAt', 'Channel commentCount', 'categoryId'],axis =1)\n",
    "    \n",
    "    \n",
    "    dfData['PublishedYear'] = dfData['publishedAt'].apply(lambda x: x[:4])\n",
    "    dfData['ChannelAge'] =  dfData['Channel Publish date'].apply(lambda x: x[:4])\n",
    "    dfData['channelViewCount'] = np.log(dfData['Channel viewCount'])\n",
    "    dfData['LikeDislikeRatio'] = dfData['likeCount']/(dfData['dislikeCount'] + dfData['likeCount'])\n",
    "    dfData['PrevCommentCount'] = dfData['PrevCommentCount'].fillna(0)\n",
    "    dfData['PrevDislikeCount'] = dfData['PrevDislikeCount'].fillna(0)\n",
    "    dfData['PrevLikeCount'] = dfData['PrevLikeCount'].fillna(0)\n",
    "    dfData['PrevViewCount'] = dfData['PrevViewCount'].fillna(0)   \n",
    "    dfData['duration'] = dfData['duration'].fillna(0)\n",
    "    dfData['LikeDislikeRatio'] = dfData['LikeDislikeRatio'].replace(np.inf, np.nan)\n",
    "    dfData['LikeDislikeRatio'] = dfData['LikeDislikeRatio'].fillna(0)\n",
    "    dfData['LikeDislikeRatio'] = dfData['LikeDislikeRatio'].fillna(0)\n",
    "    dfData['Channel subscriberCount'] = dfData['Channel subscriberCount'].fillna(0)\n",
    "    dfData = dfData.drop(['title','description','publishedAt','Channel viewCount','Channel Publish date','channelId','tags', 'ad%'],axis = 1)\n",
    "    \n",
    "    return dfData\n",
    "\n",
    "def drop_obvious_features(dfData):\n",
    "    dfData = dfData.drop(['LikeCount','DislikeCount','CommentCount'],axis = 1)\n",
    "    return dfData"
   ]
  },
  {
   "cell_type": "code",
   "execution_count": 51,
   "metadata": {},
   "outputs": [],
   "source": [
    "def feature_engineer2(dfData):\n",
    "    dfData =dfData.drop(['favoriteCount', 'PrevTitle', 'PrevPublishedAt', 'Channel commentCount'],axis =1)\n",
    "    \n",
    "    dfData = dfData.dropna()\n",
    "    dfData['PublishedYear'] = dfData['publishedAt'].apply(lambda x: x[:4])\n",
    "    dfData['ChannelAge'] =  dfData['Channel Publish date'].apply(lambda x: x[:4])\n",
    "    dfData['channelViewCount'] = np.log(dfData['Channel viewCount'])\n",
    "    dfData['LikeDislikeRatio'] = dfData['likeCount']/(dfData['dislikeCount'] + dfData['likeCount'])\n",
    "    dfData['LikeDislikeRatio'] = dfData['LikeDislikeRatio'].replace(np.inf, np.nan)\n",
    "    dfData = dfData.drop(['title','description','publishedAt','','Channel Publish date','channelId','tags', 'ad%'],axis = 1)\n",
    "    \n",
    "    return dfData\n",
    "\n",
    "def drop_obvious_features(dfData):\n",
    "    dfData = dfData.drop(['LikeCount','DislikeCount','CommentCount'],axis = 1)\n",
    "    return dfData"
   ]
  },
  {
   "cell_type": "code",
   "execution_count": 52,
   "metadata": {},
   "outputs": [],
   "source": [
    "df = feature_engineer(dfTrainingSet)\n",
    "#df.to_csv('/home/archit/Desktop/ad vs organic/trainSet2.csv')"
   ]
  },
  {
   "cell_type": "code",
   "execution_count": 61,
   "metadata": {},
   "outputs": [
    {
     "ename": "ValueError",
     "evalue": "labels ['Unnamed: 0' 'Unnamed: 0.1'] not contained in axis",
     "output_type": "error",
     "traceback": [
      "\u001b[0;31m---------------------------------------------------------------------------\u001b[0m",
      "\u001b[0;31mValueError\u001b[0m                                Traceback (most recent call last)",
      "\u001b[0;32m<ipython-input-61-8c3a2ed15455>\u001b[0m in \u001b[0;36m<module>\u001b[0;34m()\u001b[0m\n\u001b[1;32m      1\u001b[0m \u001b[0mX\u001b[0m\u001b[0;34m,\u001b[0m \u001b[0my\u001b[0m \u001b[0;34m=\u001b[0m \u001b[0mdf\u001b[0m\u001b[0;34m.\u001b[0m\u001b[0mdrop\u001b[0m\u001b[0;34m(\u001b[0m\u001b[0;34m'viewCount'\u001b[0m\u001b[0;34m,\u001b[0m\u001b[0maxis\u001b[0m \u001b[0;34m=\u001b[0m \u001b[0;36m1\u001b[0m\u001b[0;34m)\u001b[0m \u001b[0;34m,\u001b[0m \u001b[0mnp\u001b[0m\u001b[0;34m.\u001b[0m\u001b[0mlog\u001b[0m\u001b[0;34m(\u001b[0m\u001b[0mdf\u001b[0m\u001b[0;34m[\u001b[0m\u001b[0;34m'viewCount'\u001b[0m\u001b[0;34m]\u001b[0m\u001b[0;34m)\u001b[0m\u001b[0;34m\u001b[0m\u001b[0m\n\u001b[0;32m----> 2\u001b[0;31m \u001b[0mX\u001b[0m \u001b[0;34m=\u001b[0m \u001b[0mX\u001b[0m\u001b[0;34m.\u001b[0m\u001b[0mdrop\u001b[0m\u001b[0;34m(\u001b[0m\u001b[0;34m[\u001b[0m\u001b[0;34m'Unnamed: 0'\u001b[0m\u001b[0;34m,\u001b[0m \u001b[0;34m'Unnamed: 0.1'\u001b[0m\u001b[0;34m]\u001b[0m\u001b[0;34m,\u001b[0m \u001b[0maxis\u001b[0m \u001b[0;34m=\u001b[0m \u001b[0;36m1\u001b[0m\u001b[0;34m)\u001b[0m\u001b[0;34m\u001b[0m\u001b[0m\n\u001b[0m\u001b[1;32m      3\u001b[0m \u001b[0mX\u001b[0m\u001b[0;34m.\u001b[0m\u001b[0mshape\u001b[0m\u001b[0;34m\u001b[0m\u001b[0m\n",
      "\u001b[0;32m~/anaconda3/lib/python3.6/site-packages/pandas/core/generic.py\u001b[0m in \u001b[0;36mdrop\u001b[0;34m(self, labels, axis, index, columns, level, inplace, errors)\u001b[0m\n\u001b[1;32m   2528\u001b[0m         \u001b[0;32mfor\u001b[0m \u001b[0maxis\u001b[0m\u001b[0;34m,\u001b[0m \u001b[0mlabels\u001b[0m \u001b[0;32min\u001b[0m \u001b[0maxes\u001b[0m\u001b[0;34m.\u001b[0m\u001b[0mitems\u001b[0m\u001b[0;34m(\u001b[0m\u001b[0;34m)\u001b[0m\u001b[0;34m:\u001b[0m\u001b[0;34m\u001b[0m\u001b[0m\n\u001b[1;32m   2529\u001b[0m             \u001b[0;32mif\u001b[0m \u001b[0mlabels\u001b[0m \u001b[0;32mis\u001b[0m \u001b[0;32mnot\u001b[0m \u001b[0;32mNone\u001b[0m\u001b[0;34m:\u001b[0m\u001b[0;34m\u001b[0m\u001b[0m\n\u001b[0;32m-> 2530\u001b[0;31m                 \u001b[0mobj\u001b[0m \u001b[0;34m=\u001b[0m \u001b[0mobj\u001b[0m\u001b[0;34m.\u001b[0m\u001b[0m_drop_axis\u001b[0m\u001b[0;34m(\u001b[0m\u001b[0mlabels\u001b[0m\u001b[0;34m,\u001b[0m \u001b[0maxis\u001b[0m\u001b[0;34m,\u001b[0m \u001b[0mlevel\u001b[0m\u001b[0;34m=\u001b[0m\u001b[0mlevel\u001b[0m\u001b[0;34m,\u001b[0m \u001b[0merrors\u001b[0m\u001b[0;34m=\u001b[0m\u001b[0merrors\u001b[0m\u001b[0;34m)\u001b[0m\u001b[0;34m\u001b[0m\u001b[0m\n\u001b[0m\u001b[1;32m   2531\u001b[0m \u001b[0;34m\u001b[0m\u001b[0m\n\u001b[1;32m   2532\u001b[0m         \u001b[0;32mif\u001b[0m \u001b[0minplace\u001b[0m\u001b[0;34m:\u001b[0m\u001b[0;34m\u001b[0m\u001b[0m\n",
      "\u001b[0;32m~/anaconda3/lib/python3.6/site-packages/pandas/core/generic.py\u001b[0m in \u001b[0;36m_drop_axis\u001b[0;34m(self, labels, axis, level, errors)\u001b[0m\n\u001b[1;32m   2560\u001b[0m                 \u001b[0mnew_axis\u001b[0m \u001b[0;34m=\u001b[0m \u001b[0maxis\u001b[0m\u001b[0;34m.\u001b[0m\u001b[0mdrop\u001b[0m\u001b[0;34m(\u001b[0m\u001b[0mlabels\u001b[0m\u001b[0;34m,\u001b[0m \u001b[0mlevel\u001b[0m\u001b[0;34m=\u001b[0m\u001b[0mlevel\u001b[0m\u001b[0;34m,\u001b[0m \u001b[0merrors\u001b[0m\u001b[0;34m=\u001b[0m\u001b[0merrors\u001b[0m\u001b[0;34m)\u001b[0m\u001b[0;34m\u001b[0m\u001b[0m\n\u001b[1;32m   2561\u001b[0m             \u001b[0;32melse\u001b[0m\u001b[0;34m:\u001b[0m\u001b[0;34m\u001b[0m\u001b[0m\n\u001b[0;32m-> 2562\u001b[0;31m                 \u001b[0mnew_axis\u001b[0m \u001b[0;34m=\u001b[0m \u001b[0maxis\u001b[0m\u001b[0;34m.\u001b[0m\u001b[0mdrop\u001b[0m\u001b[0;34m(\u001b[0m\u001b[0mlabels\u001b[0m\u001b[0;34m,\u001b[0m \u001b[0merrors\u001b[0m\u001b[0;34m=\u001b[0m\u001b[0merrors\u001b[0m\u001b[0;34m)\u001b[0m\u001b[0;34m\u001b[0m\u001b[0m\n\u001b[0m\u001b[1;32m   2563\u001b[0m             \u001b[0mdropped\u001b[0m \u001b[0;34m=\u001b[0m \u001b[0mself\u001b[0m\u001b[0;34m.\u001b[0m\u001b[0mreindex\u001b[0m\u001b[0;34m(\u001b[0m\u001b[0;34m**\u001b[0m\u001b[0;34m{\u001b[0m\u001b[0maxis_name\u001b[0m\u001b[0;34m:\u001b[0m \u001b[0mnew_axis\u001b[0m\u001b[0;34m}\u001b[0m\u001b[0;34m)\u001b[0m\u001b[0;34m\u001b[0m\u001b[0m\n\u001b[1;32m   2564\u001b[0m             \u001b[0;32mtry\u001b[0m\u001b[0;34m:\u001b[0m\u001b[0;34m\u001b[0m\u001b[0m\n",
      "\u001b[0;32m~/anaconda3/lib/python3.6/site-packages/pandas/core/indexes/base.py\u001b[0m in \u001b[0;36mdrop\u001b[0;34m(self, labels, errors)\u001b[0m\n\u001b[1;32m   3742\u001b[0m             \u001b[0;32mif\u001b[0m \u001b[0merrors\u001b[0m \u001b[0;34m!=\u001b[0m \u001b[0;34m'ignore'\u001b[0m\u001b[0;34m:\u001b[0m\u001b[0;34m\u001b[0m\u001b[0m\n\u001b[1;32m   3743\u001b[0m                 raise ValueError('labels %s not contained in axis' %\n\u001b[0;32m-> 3744\u001b[0;31m                                  labels[mask])\n\u001b[0m\u001b[1;32m   3745\u001b[0m             \u001b[0mindexer\u001b[0m \u001b[0;34m=\u001b[0m \u001b[0mindexer\u001b[0m\u001b[0;34m[\u001b[0m\u001b[0;34m~\u001b[0m\u001b[0mmask\u001b[0m\u001b[0;34m]\u001b[0m\u001b[0;34m\u001b[0m\u001b[0m\n\u001b[1;32m   3746\u001b[0m         \u001b[0;32mreturn\u001b[0m \u001b[0mself\u001b[0m\u001b[0;34m.\u001b[0m\u001b[0mdelete\u001b[0m\u001b[0;34m(\u001b[0m\u001b[0mindexer\u001b[0m\u001b[0;34m)\u001b[0m\u001b[0;34m\u001b[0m\u001b[0m\n",
      "\u001b[0;31mValueError\u001b[0m: labels ['Unnamed: 0' 'Unnamed: 0.1'] not contained in axis"
     ]
    }
   ],
   "source": [
    "X, y = df.drop('viewCount',axis = 1) , np.log(df['viewCount'])\n",
    "X = X.drop(['Unnamed: 0', 'Unnamed: 0.1'], axis = 1)\n",
    "X.shape"
   ]
  },
  {
   "cell_type": "code",
   "execution_count": 69,
   "metadata": {},
   "outputs": [
    {
     "data": {
      "text/plain": [
       "Index(['vid', 'duration', 'dislikeCount', 'commentCount', 'likeCount',\n",
       "       'Channel subscriberCount', 'Channel videoCount', 'PrevCommentCount',\n",
       "       'PrevDislikeCount', 'PrevLikeCount', 'PrevViewCount', 'PublishedYear',\n",
       "       'ChannelAge', 'channelViewCount', 'LikeDislikeRatio'],\n",
       "      dtype='object')"
      ]
     },
     "execution_count": 69,
     "metadata": {},
     "output_type": "execute_result"
    }
   ],
   "source": [
    "X.columns"
   ]
  },
  {
   "cell_type": "code",
   "execution_count": 55,
   "metadata": {},
   "outputs": [],
   "source": [
    "#X.to_csv('/home/archit/Desktop/ad vs organic/trainSET.csv')"
   ]
  },
  {
   "cell_type": "markdown",
   "metadata": {},
   "source": [
    "### Modeling"
   ]
  },
  {
   "cell_type": "code",
   "execution_count": 70,
   "metadata": {},
   "outputs": [],
   "source": [
    "from sklearn.ensemble import GradientBoostingClassifier, GradientBoostingRegressor\n",
    "from sklearn.model_selection import train_test_split\n",
    "#from xgboost import XGBClassifier, XGBRegressor"
   ]
  },
  {
   "cell_type": "code",
   "execution_count": 71,
   "metadata": {},
   "outputs": [],
   "source": [
    "train_X, test_X, train_y, test_y = train_test_split(X, y, train_size = 0.75, test_size = 0.25)\n",
    "\n",
    "train_X_id, train_X = train_X.vid, train_X.drop('vid', axis = 1)\n",
    "test_X_id, test_X = test_X.vid, test_X.drop('vid', axis = 1)\n",
    "\n",
    "reg = GradientBoostingRegressor()\n",
    "reg.fit(train_X, train_y)\n",
    "reg.score(test_X, test_y)\n",
    "\n",
    "import pickle\n",
    "pickle.dump(reg, open(\"Gbr005.pickle.dat\", \"wb\"))"
   ]
  },
  {
   "cell_type": "code",
   "execution_count": 72,
   "metadata": {},
   "outputs": [],
   "source": [
    "pred = reg.predict(test_X)"
   ]
  },
  {
   "cell_type": "code",
   "execution_count": 73,
   "metadata": {},
   "outputs": [
    {
     "data": {
      "text/html": [
       "<div>\n",
       "<style scoped>\n",
       "    .dataframe tbody tr th:only-of-type {\n",
       "        vertical-align: middle;\n",
       "    }\n",
       "\n",
       "    .dataframe tbody tr th {\n",
       "        vertical-align: top;\n",
       "    }\n",
       "\n",
       "    .dataframe thead th {\n",
       "        text-align: right;\n",
       "    }\n",
       "</style>\n",
       "<table border=\"1\" class=\"dataframe\">\n",
       "  <thead>\n",
       "    <tr style=\"text-align: right;\">\n",
       "      <th></th>\n",
       "      <th>Actual</th>\n",
       "      <th>Diff</th>\n",
       "      <th>Id</th>\n",
       "      <th>Pred</th>\n",
       "    </tr>\n",
       "  </thead>\n",
       "  <tbody>\n",
       "    <tr>\n",
       "      <th>44138</th>\n",
       "      <td>411.0</td>\n",
       "      <td>101.860164</td>\n",
       "      <td>lhpiPhfw8m8</td>\n",
       "      <td>309.139836</td>\n",
       "    </tr>\n",
       "    <tr>\n",
       "      <th>31600</th>\n",
       "      <td>881.0</td>\n",
       "      <td>-105.292991</td>\n",
       "      <td>2DEfSW3e3Hg</td>\n",
       "      <td>986.292991</td>\n",
       "    </tr>\n",
       "    <tr>\n",
       "      <th>27166</th>\n",
       "      <td>533.0</td>\n",
       "      <td>-201.823546</td>\n",
       "      <td>ZlBuyx8qz64</td>\n",
       "      <td>734.823546</td>\n",
       "    </tr>\n",
       "    <tr>\n",
       "      <th>67319</th>\n",
       "      <td>3926.0</td>\n",
       "      <td>1070.292623</td>\n",
       "      <td>fM38i1eHr98</td>\n",
       "      <td>2855.707377</td>\n",
       "    </tr>\n",
       "    <tr>\n",
       "      <th>42187</th>\n",
       "      <td>385.0</td>\n",
       "      <td>200.500859</td>\n",
       "      <td>_R4DWeJhz7Y</td>\n",
       "      <td>184.499141</td>\n",
       "    </tr>\n",
       "  </tbody>\n",
       "</table>\n",
       "</div>"
      ],
      "text/plain": [
       "       Actual         Diff           Id         Pred\n",
       "44138   411.0   101.860164  lhpiPhfw8m8   309.139836\n",
       "31600   881.0  -105.292991  2DEfSW3e3Hg   986.292991\n",
       "27166   533.0  -201.823546  ZlBuyx8qz64   734.823546\n",
       "67319  3926.0  1070.292623  fM38i1eHr98  2855.707377\n",
       "42187   385.0   200.500859  _R4DWeJhz7Y   184.499141"
      ]
     },
     "execution_count": 73,
     "metadata": {},
     "output_type": "execute_result"
    }
   ],
   "source": [
    "size = test_y.shape[0]\n",
    "test_yL = test_y.tolist()\n",
    "predL = pred.tolist()\n",
    "exActView = []\n",
    "exPredView = []\n",
    "diff = []\n",
    "sqErr = []\n",
    "mape={}\n",
    "for i in range(0, size):\n",
    "    exActView.append(math.exp(test_yL[i]))\n",
    "    exPredView.append(math.exp(predL[i]))\n",
    "    diff.append(exActView[i] - exPredView[i])\n",
    "    sqErr.append(math.pow(diff[i], 2))\n",
    "rmse = math.sqrt(sum(sqErr) /size)/ (test_y.max() - test_y.min())\n",
    "dfEval = pd.DataFrame({'Id':test_X_id, 'Actual' : exActView, 'Pred': exPredView, 'Diff': diff})\n",
    "dfEval.head()"
   ]
  },
  {
   "cell_type": "code",
   "execution_count": 74,
   "metadata": {},
   "outputs": [
    {
     "name": "stdout",
     "output_type": "stream",
     "text": [
      "Rmse of the regressormodel is:2387.4454790550158\n"
     ]
    }
   ],
   "source": [
    "print(\"Rmse of the regressormodel is:\" + str(rmse))"
   ]
  },
  {
   "cell_type": "code",
   "execution_count": 75,
   "metadata": {},
   "outputs": [
    {
     "data": {
      "text/plain": [
       "0.04029664809978987"
      ]
     },
     "execution_count": 75,
     "metadata": {},
     "output_type": "execute_result"
    }
   ],
   "source": [
    "1011.0650776175543/dfEval['Actual'].mean()"
   ]
  },
  {
   "cell_type": "code",
   "execution_count": 76,
   "metadata": {},
   "outputs": [
    {
     "data": {
      "text/plain": [
       "<matplotlib.axes._subplots.AxesSubplot at 0x7faecf5a34e0>"
      ]
     },
     "execution_count": 76,
     "metadata": {},
     "output_type": "execute_result"
    },
    {
     "data": {
      "image/png": "[encoded data removed]",
      "text/plain": [
       "<matplotlib.figure.Figure at 0x7faecf5a31d0>"
      ]
     },
     "metadata": {},
     "output_type": "display_data"
    }
   ],
   "source": [
    "X = X.drop('vid', axis = 1)\n",
    "sns.set_style('darkgrid')\n",
    "plt.figure(figsize=(10,12))\n",
    "sns.barplot(x=reg.feature_importances_, y=X.columns)"
   ]
  },
  {
   "cell_type": "code",
   "execution_count": null,
   "metadata": {},
   "outputs": [],
   "source": []
  },
  {
   "cell_type": "markdown",
   "metadata": {},
   "source": [
    "### Modeling on validation set"
   ]
  },
  {
   "cell_type": "code",
   "execution_count": 91,
   "metadata": {},
   "outputs": [],
   "source": [
    "df = feature_engineer(dfValidationSet)"
   ]
  },
  {
   "cell_type": "code",
   "execution_count": null,
   "metadata": {},
   "outputs": [],
   "source": []
  }
 ],
 "metadata": {
  "kernelspec": {
   "display_name": "Python 3",
   "language": "python",
   "name": "python3"
  },
  "language_info": {
   "codemirror_mode": {
    "name": "ipython",
    "version": 3
   },
   "file_extension": ".py",
   "mimetype": "text/x-python",
   "name": "python",
   "nbconvert_exporter": "python",
   "pygments_lexer": "ipython3",
   "version": "3.6.4"
  }
 },
 "nbformat": 4,
 "nbformat_minor": 2
}
