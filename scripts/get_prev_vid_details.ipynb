{
 "cells": [
  {
   "cell_type": "code",
   "execution_count": 1,
   "metadata": {},
   "outputs": [],
   "source": [
    "import pandas as pd\n",
    "import math\n",
    "import csv\n",
    "import os\n",
    "import seaborn as sns\n",
    "import matplotlib.pyplot as plt\n",
    "import numpy as np"
   ]
  },
  {
   "cell_type": "code",
   "execution_count": 2,
   "metadata": {},
   "outputs": [],
   "source": [
    "dfData = pd.read_csv('/home/archit/Desktop/ad vs organic/final_combined_organic_duration3.csv')"
   ]
  },
  {
   "cell_type": "code",
   "execution_count": 3,
   "metadata": {},
   "outputs": [
    {
     "data": {
      "text/plain": [
       "Index(['Unnamed: 0', 'vid', 'channelId', 'duration', 'licensedContent',\n",
       "       'definition', 'dislikeCount', 'commentCount', 'favoriteCount',\n",
       "       'viewCount', 'likeCount', 'relevantTopicIds', 'topicIds',\n",
       "       'topicCategories', 'title', 'description', 'tags', 'categoryId',\n",
       "       'channelTitle', 'publishedAt', 'Channel Title', 'Channel Description',\n",
       "       'Channel Publish date', ' Channel hiddenSubscriberCount',\n",
       "       'Channel viewCount', 'Channel subscriberCount', 'Channel commentCount',\n",
       "       'Channel videoCount', 'Channel showRelatedChannels',\n",
       "       'Channel featuredChannelsUrls', 'Channel noOfFeaturedChannels',\n",
       "       'Channel country', 'Channel keywords', 'Channel topicIds',\n",
       "       'Channel topicCategories'],\n",
       "      dtype='object')"
      ]
     },
     "execution_count": 3,
     "metadata": {},
     "output_type": "execute_result"
    }
   ],
   "source": [
    "dfData.columns"
   ]
  },
  {
   "cell_type": "code",
   "execution_count": 4,
   "metadata": {},
   "outputs": [],
   "source": [
    "dfData = dfData.drop(['Unnamed: 0','duration', 'licensedContent', 'definition', 'relevantTopicIds', 'topicIds', 'topicCategories', 'channelTitle', 'Channel Title', 'Channel Description', ' Channel hiddenSubscriberCount', 'Channel showRelatedChannels', 'Channel featuredChannelsUrls',\n",
    "       'Channel noOfFeaturedChannels', 'Channel keywords',\n",
    "       'Channel topicIds', 'Channel topicCategories'], axis = 1)"
   ]
  },
  {
   "cell_type": "code",
   "execution_count": 5,
   "metadata": {},
   "outputs": [
    {
     "data": {
      "text/plain": [
       "(36515, 18)"
      ]
     },
     "execution_count": 5,
     "metadata": {},
     "output_type": "execute_result"
    }
   ],
   "source": [
    "dfData.shape"
   ]
  },
  {
   "cell_type": "code",
   "execution_count": 6,
   "metadata": {},
   "outputs": [],
   "source": [
    "channelIds =(dfData['channelId'].dropna().unique()).tolist()\n",
    "len(channelIds)\n",
    "count=0"
   ]
  },
  {
   "cell_type": "code",
   "execution_count": 19,
   "metadata": {},
   "outputs": [],
   "source": [
    "def Merge(a, b):\n",
    "    \"\"\"\n",
    "    for each key in a and b, val is append\n",
    "    returns mergedDict\n",
    "    \"\"\"\n",
    "    mergedDict = {}\n",
    "    for key, val in a:\n",
    "        mergedDict[key] = a[key]+b[key]\n",
    "    print(mergedDict)\n",
    "    return mergedDict"
   ]
  },
  {
   "cell_type": "code",
   "execution_count": 7,
   "metadata": {},
   "outputs": [],
   "source": [
    "tempDF = pd.DataFrame(columns = ['PrevCommentCount', 'PrevDislikeCount', 'PrevLikeCount','PrevPublishedAt', 'PrevViewCount', 'PrevTitle', 'Id'])\n",
    "for channelId in channelIds:\n",
    "    dfTemp = dfData.loc[dfData['channelId'] == channelId,].sort_values(by = 'publishedAt', ascending = True)\n",
    "    Ids, dfPrev = dfTemp['vid'][1:], dfTemp[:-1].drop('vid', axis = 1)\n",
    "    dfPrev = dfPrev[['commentCount', 'dislikeCount', 'likeCount', 'publishedAt', 'viewCount', 'title']]\n",
    "    dfPrev.columns = ['PrevCommentCount', 'PrevDislikeCount', 'PrevLikeCount','PrevPublishedAt', 'PrevViewCount', 'PrevTitle']\n",
    "    dfPrev['Id'] = Ids\n",
    "    tempDF = pd.concat([tempDF, dfPrev], ignore_index = True)\n",
    "    "
   ]
  },
  {
   "cell_type": "code",
   "execution_count": 8,
   "metadata": {},
   "outputs": [
    {
     "data": {
      "text/plain": [
       "(36456, 7)"
      ]
     },
     "execution_count": 8,
     "metadata": {},
     "output_type": "execute_result"
    }
   ],
   "source": [
    "tempDF.shape"
   ]
  },
  {
   "cell_type": "code",
   "execution_count": 9,
   "metadata": {},
   "outputs": [],
   "source": [
    "tempDF.to_csv('/home/archit/Desktop/ad vs organic/previousVideoStats2.csv')"
   ]
  }
 ],
 "metadata": {
  "kernelspec": {
   "display_name": "Python 3",
   "language": "python",
   "name": "python3"
  },
  "language_info": {
   "codemirror_mode": {
    "name": "ipython",
    "version": 3
   },
   "file_extension": ".py",
   "mimetype": "text/x-python",
   "name": "python",
   "nbconvert_exporter": "python",
   "pygments_lexer": "ipython3",
   "version": "3.6.4"
  }
 },
 "nbformat": 4,
 "nbformat_minor": 2
}
